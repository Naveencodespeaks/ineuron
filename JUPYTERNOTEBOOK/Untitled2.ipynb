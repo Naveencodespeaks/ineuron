{
 "cells": [
  {
   "cell_type": "code",
   "execution_count": null,
   "id": "ae0b90ae",
   "metadata": {},
   "outputs": [
    {
     "ename": "",
     "evalue": "",
     "output_type": "error",
     "traceback": [
      "\u001b[1;31mRunning cells with 'Python 3.10.4 ('test': conda)' requires ipykernel package.\n",
      "Run the following command to install 'ipykernel' into the Python environment. \n",
      "Command: 'conda install -n test ipykernel --update-deps --force-reinstall'"
     ]
    }
   ],
   "source": [
    "a=10\n",
    "if a==10\n"
   ]
  },
  {
   "cell_type": "code",
   "execution_count": null,
   "id": "4f062f5a",
   "metadata": {},
   "outputs": [],
   "source": [
    "a"
   ]
  },
  {
   "cell_type": "code",
   "execution_count": null,
   "id": "b08255e7",
   "metadata": {},
   "outputs": [
    {
     "ename": "",
     "evalue": "",
     "output_type": "error",
     "traceback": [
      "\u001b[1;31mRunning cells with 'Python 3.10.4 ('test': conda)' requires ipykernel package.\n",
      "Run the following command to install 'ipykernel' into the Python environment. \n",
      "Command: 'conda install -n test ipykernel --update-deps --force-reinstall'"
     ]
    }
   ],
   "source": [
    "a=10\n",
    "if a==10:\n",
    "print(\"This is my first condition\")"
   ]
  },
  {
   "cell_type": "code",
   "execution_count": null,
   "id": "2775a244",
   "metadata": {},
   "outputs": [],
   "source": [
    "a=10\n",
    "if a==10:\n",
    "    print(\"This is my first Condition\")"
   ]
  },
  {
   "cell_type": "code",
   "execution_count": null,
   "id": "721e1cbe",
   "metadata": {},
   "outputs": [],
   "source": [
    "a= 10\n",
    "if a>5:\n",
    "    pass\n",
    "    "
   ]
  },
  {
   "cell_type": "code",
   "execution_count": null,
   "id": "b66deb9c",
   "metadata": {},
   "outputs": [],
   "source": [
    "a= 10\n",
    "if a<10:\n",
    "    print(\"Print this if condition is true\")"
   ]
  },
  {
   "cell_type": "code",
   "execution_count": null,
   "id": "e07bfae6",
   "metadata": {},
   "outputs": [],
   "source": [
    "a= 10\n",
    "if a<8:\n",
    "    print(\"Print this if condition is true\")"
   ]
  },
  {
   "cell_type": "code",
   "execution_count": null,
   "id": "28e374a5",
   "metadata": {},
   "outputs": [],
   "source": [
    "a= 10\n",
    "if a>5:\n",
    "    print(\"Print this if condition is true\")"
   ]
  },
  {
   "cell_type": "code",
   "execution_count": null,
   "id": "c2bff1fd",
   "metadata": {},
   "outputs": [],
   "source": [
    "a=10\n",
    "if a !=11:\n",
    "    print(\"My consition is false\")\n",
    "    else:\n",
    "        print(\"print this\")"
   ]
  },
  {
   "cell_type": "code",
   "execution_count": null,
   "id": "ab5194a3",
   "metadata": {},
   "outputs": [],
   "source": [
    "a=10\n",
    "if a !=11:\n",
    "    print(\"My consition is false\")\n",
    "else:\n",
    "        print(\"print this\")"
   ]
  },
  {
   "cell_type": "code",
   "execution_count": null,
   "id": "58b6eb56",
   "metadata": {},
   "outputs": [],
   "source": [
    "a=10\n",
    "if a ==11:\n",
    "    print(\"My consition is false\")\n",
    "else:\n",
    "        print(\"print this\")"
   ]
  },
  {
   "cell_type": "code",
   "execution_count": 1,
   "id": "4506147b",
   "metadata": {},
   "outputs": [
    {
     "name": "stdout",
     "output_type": "stream",
     "text": [
      "we are trying to compare 10 with the 11\n"
     ]
    }
   ],
   "source": [
    "a=10\n",
    "if a==12:\n",
    "    print(\"Here we are trying to compare 10 with 12\")\n",
    "elif a==10:\n",
    "    print(\"we are trying to compare 10 with the 11\")\n",
    "else :\n",
    "    print(\"if all the blocks will fail then do this\")"
   ]
  },
  {
   "cell_type": "code",
   "execution_count": null,
   "id": "f38b5d41",
   "metadata": {},
   "outputs": [],
   "source": [
    "price =500\n",
    "if price>500:\n",
    "    print(\"May be i wont able to buy  a jacket\")\n",
    "elif price<500:\n",
    "    print(\"i will be able to buy a jacket\")\n",
    "elif price==500:\n",
    "    print(\"For sure i am able to buy\")\n",
    "else :\n",
    "    print(\"I dont know\")"
   ]
  },
  {
   "cell_type": "code",
   "execution_count": null,
   "id": "34e0ea26",
   "metadata": {},
   "outputs": [],
   "source": [
    "price>500"
   ]
  },
  {
   "cell_type": "code",
   "execution_count": 2,
   "id": "15c7ac91",
   "metadata": {},
   "outputs": [
    {
     "ename": "NameError",
     "evalue": "name 'price' is not defined",
     "output_type": "error",
     "traceback": [
      "\u001b[1;31m---------------------------------------------------------------------------\u001b[0m",
      "\u001b[1;31mNameError\u001b[0m                                 Traceback (most recent call last)",
      "Input \u001b[1;32mIn [2]\u001b[0m, in \u001b[0;36m<cell line: 1>\u001b[1;34m()\u001b[0m\n\u001b[1;32m----> 1\u001b[0m \u001b[43mprice\u001b[49m\u001b[38;5;241m<\u001b[39m\u001b[38;5;241m500\u001b[39m\n",
      "\u001b[1;31mNameError\u001b[0m: name 'price' is not defined"
     ]
    }
   ],
   "source": [
    "price<500"
   ]
  },
  {
   "cell_type": "code",
   "execution_count": null,
   "id": "f5e5259c",
   "metadata": {},
   "outputs": [],
   "source": [
    "price==500"
   ]
  },
  {
   "cell_type": "code",
   "execution_count": null,
   "id": "4c9f8f40",
   "metadata": {},
   "outputs": [],
   "source": [
    "l =[1,2,3,4,5,6]\n",
    "2 in 1"
   ]
  },
  {
   "cell_type": "code",
   "execution_count": null,
   "id": "504244b8",
   "metadata": {},
   "outputs": [],
   "source": [
    "l =[1,2,3,4,5,6]\n",
    " 2 in 1"
   ]
  },
  {
   "cell_type": "code",
   "execution_count": null,
   "id": "e8dcafea",
   "metadata": {},
   "outputs": [],
   "source": [
    "l = [1,2,3,4,5,6]\n",
    "2 in 1"
   ]
  },
  {
   "cell_type": "code",
   "execution_count": null,
   "id": "ca872523",
   "metadata": {},
   "outputs": [],
   "source": [
    "l = [1,2,3,4,5,6]\n",
    "2 in 1"
   ]
  },
  {
   "cell_type": "code",
   "execution_count": null,
   "id": "3b8eb3ab",
   "metadata": {},
   "outputs": [],
   "source": []
  },
  {
   "cell_type": "code",
   "execution_count": null,
   "id": "4fdd5e56",
   "metadata": {},
   "outputs": [],
   "source": [
    "l =[1,2,3,4,5,6]\n",
    "2 in l"
   ]
  },
  {
   "cell_type": "code",
   "execution_count": null,
   "id": "f2e7e97f",
   "metadata": {},
   "outputs": [],
   "source": [
    "if 60 in l:\n",
    "    print(\"Try to perform a task\")\n",
    "else:\n",
    "    print(\"yes\")"
   ]
  },
  {
   "cell_type": "code",
   "execution_count": null,
   "id": "6588d33b",
   "metadata": {},
   "outputs": [],
   "source": [
    "if 1 in l:\n",
    "    print(\"Try to do addition\")\n",
    "elif 2 in l:\n",
    "    print(\"Try to sub\")\n",
    "else:\n",
    "    print(\"Try to do mul\")"
   ]
  },
  {
   "cell_type": "code",
   "execution_count": null,
   "id": "ea7eb062",
   "metadata": {},
   "outputs": [],
   "source": [
    "if 10 in l:\n",
    "    print(\"Then to do addition\")\n",
    "elif 2 in l:\n",
    "    print(\"try to sub\")\n",
    "elif 3 in l:\n",
    "    print(\"try to mul\")\n",
    "if 4 in l:\n",
    "    print(\"this is a new statement\")\n",
    "    "
   ]
  },
  {
   "cell_type": "code",
   "execution_count": null,
   "id": "c11b3dde",
   "metadata": {},
   "outputs": [],
   "source": [
    "a= 400"
   ]
  },
  {
   "cell_type": "code",
   "execution_count": null,
   "id": "058b3798",
   "metadata": {},
   "outputs": [],
   "source": [
    "b = input()\n",
    "\n"
   ]
  },
  {
   "cell_type": "code",
   "execution_count": null,
   "id": "c7573b25",
   "metadata": {},
   "outputs": [],
   "source": [
    "type(b)"
   ]
  },
  {
   "cell_type": "code",
   "execution_count": null,
   "id": "ba75b204",
   "metadata": {},
   "outputs": [],
   "source": [
    "c= int(input())"
   ]
  },
  {
   "cell_type": "code",
   "execution_count": 2,
   "id": "3cdb7fa8",
   "metadata": {},
   "outputs": [
    {
     "name": "stdout",
     "output_type": "stream",
     "text": [
      "600\n",
      "i wont be able to buy anything with this tag\n",
      "lets try somthing else\n"
     ]
    }
   ],
   "source": [
    "price = int(input())\n",
    "if price <500:\n",
    "    print(\"i will be able to buy something\")\n",
    "    if price <400:\n",
    "        print(\"i will be able to buy a jacket\")\n",
    "    elif price<300:\n",
    "        print(\"i will be able to buy a shirt\")\n",
    "    else:\n",
    "        print(\"i wont be able to buy anything\")\n",
    "else:\n",
    "    print(\"i wont be able to buy anything with this tag\")\n",
    "    if price >500:\n",
    "        print(\"lets try somthing else\")\n",
    "    \n",
    "    "
   ]
  },
  {
   "cell_type": "code",
   "execution_count": 8,
   "id": "4431da2d",
   "metadata": {},
   "outputs": [
    {
     "name": "stdout",
     "output_type": "stream",
     "text": [
      "enter a number 600\n",
      "you got gre congo!\n"
     ]
    }
   ],
   "source": [
    "marks = int(input(\"enter a number \"))\n",
    "if marks <600:\n",
    "    print(\"you can write gre\")\n",
    "    if marks>500:\n",
    "        print(\"no gre\")\n",
    "    else:\n",
    "        print(\"tofl\")\n",
    "    if marks <400:\n",
    "        print(\"try somthing else\")\n",
    "    else:\n",
    "        print(\"you got Tofel\")\n",
    "else:\n",
    "    print(\"you got gre congo!\")"
   ]
  },
  {
   "cell_type": "code",
   "execution_count": 15,
   "id": "8415b4a1",
   "metadata": {},
   "outputs": [
    {
     "name": "stdout",
     "output_type": "stream",
     "text": [
      "enter a floating point number-200\n",
      "entered number is a negative number\n"
     ]
    }
   ],
   "source": [
    "val =float(input(\"enter a floating point number\"))\n",
    "if val>=0:\n",
    "    if val==0:\n",
    "        print(\"entered value is zero\")\n",
    "    else:\n",
    "        print(\"enter value is a positive number\")\n",
    "else:\n",
    "    print(\"entered number is a negative number\")"
   ]
  },
  {
   "cell_type": "code",
   "execution_count": 23,
   "id": "c2efa244",
   "metadata": {},
   "outputs": [
    {
     "name": "stdout",
     "output_type": "stream",
     "text": [
      "try to do somthing\n"
     ]
    }
   ],
   "source": [
    "a = 10\n",
    "if a == 10 and a == 10 : \n",
    "    print(\"try to do somthing\")\n",
    "    "
   ]
  },
  {
   "cell_type": "code",
   "execution_count": 27,
   "id": "98dde064",
   "metadata": {},
   "outputs": [
    {
     "name": "stdout",
     "output_type": "stream",
     "text": [
      "this is hare\n"
     ]
    }
   ],
   "source": [
    "a = \"hare\"\n",
    "if a == \"hare\" or a == \"Hare\":\n",
    "    print(\"this is hare\")"
   ]
  },
  {
   "cell_type": "code",
   "execution_count": 32,
   "id": "5b54fc5c",
   "metadata": {},
   "outputs": [
    {
     "name": "stdout",
     "output_type": "stream",
     "text": [
      "lets do somthing\n"
     ]
    }
   ],
   "source": [
    "a = 10\n",
    "b = 11\n",
    "c = 12\n",
    "d = 13\n",
    "if a == 9 or b == 11  and c == 12  and d == 13:\n",
    "     print(\"lets do somthing\")\n"
   ]
  },
  {
   "cell_type": "code",
   "execution_count": null,
   "id": "b3b6aa4e",
   "metadata": {},
   "outputs": [],
   "source": [
    "d = {'key1' : 'value', 'key2' : 'hare', 'key3' : 'harekrishna'}"
   ]
  },
  {
   "cell_type": "code",
   "execution_count": 1,
   "id": "6f47f7c6",
   "metadata": {},
   "outputs": [
    {
     "ename": "NameError",
     "evalue": "name 'd' is not defined",
     "output_type": "error",
     "traceback": [
      "\u001b[1;31m---------------------------------------------------------------------------\u001b[0m",
      "\u001b[1;31mNameError\u001b[0m                                 Traceback (most recent call last)",
      "Input \u001b[1;32mIn [1]\u001b[0m, in \u001b[0;36m<cell line: 1>\u001b[1;34m()\u001b[0m\n\u001b[1;32m----> 1\u001b[0m \u001b[38;5;28;01mif\u001b[39;00m \u001b[43md\u001b[49m[\u001b[38;5;124m'\u001b[39m\u001b[38;5;124mkey1\u001b[39m\u001b[38;5;124m'\u001b[39m] \u001b[38;5;241m==\u001b[39m \u001b[38;5;124m'\u001b[39m\u001b[38;5;124mvalue\u001b[39m\u001b[38;5;124m'\u001b[39m \u001b[38;5;129;01mand\u001b[39;00m d[\u001b[38;5;124m'\u001b[39m\u001b[38;5;124mkey2\u001b[39m\u001b[38;5;124m'\u001b[39m] \u001b[38;5;241m==\u001b[39m \u001b[38;5;124m'\u001b[39m\u001b[38;5;124mhare\u001b[39m\u001b[38;5;124m'\u001b[39m \u001b[38;5;129;01mand\u001b[39;00m d[\u001b[38;5;124m'\u001b[39m\u001b[38;5;124mkey3\u001b[39m\u001b[38;5;124m'\u001b[39m] \u001b[38;5;241m==\u001b[39m \u001b[38;5;124m'\u001b[39m\u001b[38;5;124mharekrishna\u001b[39m\u001b[38;5;124m'\u001b[39m:\n\u001b[0;32m      2\u001b[0m     \u001b[38;5;28mprint\u001b[39m(\u001b[38;5;124m\"\u001b[39m\u001b[38;5;124mhare\u001b[39m\u001b[38;5;124m\"\u001b[39m)\n\u001b[0;32m      3\u001b[0m \u001b[38;5;28;01melse\u001b[39;00m:\n",
      "\u001b[1;31mNameError\u001b[0m: name 'd' is not defined"
     ]
    }
   ],
   "source": [
    "if d['key1'] == 'value' and d['key2'] == 'hare' and d['key3'] == 'harekrishna':\n",
    "    print(\"hare\")\n",
    "else:\n",
    "    print(\"all the values are not verified\")"
   ]
  },
  {
   "cell_type": "code",
   "execution_count": 2,
   "id": "df89a583",
   "metadata": {},
   "outputs": [
    {
     "ename": "NameError",
     "evalue": "name 'd' is not defined",
     "output_type": "error",
     "traceback": [
      "\u001b[1;31m---------------------------------------------------------------------------\u001b[0m",
      "\u001b[1;31mNameError\u001b[0m                                 Traceback (most recent call last)",
      "Input \u001b[1;32mIn [2]\u001b[0m, in \u001b[0;36m<cell line: 1>\u001b[1;34m()\u001b[0m\n\u001b[1;32m----> 1\u001b[0m \u001b[43md\u001b[49m\n",
      "\u001b[1;31mNameError\u001b[0m: name 'd' is not defined"
     ]
    }
   ],
   "source": [
    "d"
   ]
  },
  {
   "cell_type": "code",
   "execution_count": 3,
   "id": "03bd40a6",
   "metadata": {},
   "outputs": [],
   "source": [
    "d = {'key1' : 'value', 'key2' : 'hare', 'key3' : 'harekrishna'}"
   ]
  },
  {
   "cell_type": "code",
   "execution_count": 9,
   "id": "d5a4f9eb",
   "metadata": {},
   "outputs": [
    {
     "name": "stdout",
     "output_type": "stream",
     "text": [
      "dict_values(['value', 'hare', 'harekrishna'])\n"
     ]
    }
   ],
   "source": [
    "if d['key1'] == 'value' and d['key2'] == 'hare' and d['key3'] == 'harekrishna':\n",
    "    print(d.values())\n",
    "else:\n",
    "    print(\"all the values are not verified\")"
   ]
  },
  {
   "cell_type": "code",
   "execution_count": 5,
   "id": "4e2722b8",
   "metadata": {},
   "outputs": [
    {
     "data": {
      "text/plain": [
       "{'key1': 'value', 'key2': 'hare', 'key3': 'harekrishna'}"
      ]
     },
     "execution_count": 5,
     "metadata": {},
     "output_type": "execute_result"
    }
   ],
   "source": [
    "d\n"
   ]
  },
  {
   "cell_type": "code",
   "execution_count": null,
   "id": "14ffa293",
   "metadata": {},
   "outputs": [],
   "source": []
  },
  {
   "cell_type": "code",
   "execution_count": null,
   "id": "978eb01e",
   "metadata": {},
   "outputs": [],
   "source": []
  }
 ],
 "metadata": {
  "interpreter": {
   "hash": "0dcf2f214d2eaa2becbb3be369083fb8ed26e04205df700e067b48ef3634445d"
  },
  "kernelspec": {
   "display_name": "Python 3.10.4 ('test': conda)",
   "language": "python",
   "name": "python3"
  },
  "language_info": {
   "codemirror_mode": {
    "name": "ipython",
    "version": 3
   },
   "file_extension": ".py",
   "mimetype": "text/x-python",
   "name": "python",
   "nbconvert_exporter": "python",
   "pygments_lexer": "ipython3",
   "version": "3.10.4"
  }
 },
 "nbformat": 4,
 "nbformat_minor": 5
}
