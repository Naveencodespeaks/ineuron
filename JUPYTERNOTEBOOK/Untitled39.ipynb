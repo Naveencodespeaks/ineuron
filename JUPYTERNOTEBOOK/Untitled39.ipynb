{
 "cells": [
  {
   "cell_type": "markdown",
   "id": "30f165a6",
   "metadata": {},
   "source": [
    "#  ineuron_python_basic_programming_Assignment-5"
   ]
  },
  {
   "cell_type": "code",
   "execution_count": 6,
   "id": "f35ffaa8",
   "metadata": {},
   "outputs": [
    {
     "name": "stdout",
     "output_type": "stream",
     "text": [
      "Enter  number1: 32\n",
      "Enter  number2: 3\n",
      "The LCM of 32 and 3 is 96\n"
     ]
    }
   ],
   "source": [
    "# 1. Write a Python Program to Find LCM?\n",
    "\n",
    "\n",
    "\n",
    "x = int(input(\"Enter  number1: \" ))\n",
    "y = int(input(\"Enter  number2: \"))\n",
    "\n",
    "\n",
    "if x >y:\n",
    "    big = x\n",
    "else:\n",
    "    big = y\n",
    "\n",
    "while(True):\n",
    "    if big %x == 0 and big %y == 0:\n",
    "        lcm = big\n",
    "        break\n",
    "    big = big +1\n",
    "    \n",
    "print(\"The LCM of {} and {} is {}\".format(x,y,lcm))\n",
    "    \n",
    "    \n"
   ]
  },
  {
   "cell_type": "code",
   "execution_count": null,
   "id": "cbb821df",
   "metadata": {},
   "outputs": [],
   "source": []
  },
  {
   "cell_type": "code",
   "execution_count": null,
   "id": "c0f4357c",
   "metadata": {},
   "outputs": [],
   "source": []
  },
  {
   "cell_type": "code",
   "execution_count": null,
   "id": "e194477a",
   "metadata": {},
   "outputs": [],
   "source": []
  }
 ],
 "metadata": {
  "kernelspec": {
   "display_name": "Python 3 (ipykernel)",
   "language": "python",
   "name": "python3"
  },
  "language_info": {
   "codemirror_mode": {
    "name": "ipython",
    "version": 3
   },
   "file_extension": ".py",
   "mimetype": "text/x-python",
   "name": "python",
   "nbconvert_exporter": "python",
   "pygments_lexer": "ipython3",
   "version": "3.9.12"
  }
 },
 "nbformat": 4,
 "nbformat_minor": 5
}
