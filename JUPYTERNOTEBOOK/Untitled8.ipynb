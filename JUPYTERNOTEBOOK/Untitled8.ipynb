{
 "cells": [
  {
   "cell_type": "code",
   "execution_count": 1,
   "id": "4e40ea73",
   "metadata": {},
   "outputs": [],
   "source": [
    "a = 10"
   ]
  },
  {
   "cell_type": "code",
   "execution_count": 2,
   "id": "240790a3",
   "metadata": {},
   "outputs": [
    {
     "data": {
      "text/plain": [
       "10"
      ]
     },
     "execution_count": 2,
     "metadata": {},
     "output_type": "execute_result"
    }
   ],
   "source": [
    "a"
   ]
  },
  {
   "cell_type": "code",
   "execution_count": 3,
   "id": "9e012dbc",
   "metadata": {},
   "outputs": [],
   "source": [
    "a = 10\n",
    "if a == 11 :\n",
    "    print(\"this my first condition\")\n",
    "    "
   ]
  },
  {
   "cell_type": "code",
   "execution_count": 4,
   "id": "3efabf98",
   "metadata": {},
   "outputs": [],
   "source": [
    "a = 10\n",
    "if a > 5 :\n",
    "    pass"
   ]
  },
  {
   "cell_type": "code",
   "execution_count": 5,
   "id": "bffe74d6",
   "metadata": {},
   "outputs": [
    {
     "name": "stdout",
     "output_type": "stream",
     "text": [
      "Print this if condition id true\n"
     ]
    }
   ],
   "source": [
    "a = 10\n",
    "if a > 8:\n",
    "    print(\"Print this if condition id true\")\n",
    "    "
   ]
  },
  {
   "cell_type": "code",
   "execution_count": 6,
   "id": "8712ff7a",
   "metadata": {},
   "outputs": [
    {
     "name": "stdout",
     "output_type": "stream",
     "text": [
      "print this\n"
     ]
    }
   ],
   "source": [
    "a = 10 \n",
    "if a == 11:\n",
    "    print(\"My condition is flase\")\n",
    "else :\n",
    "    print(\"print this\")\n"
   ]
  },
  {
   "cell_type": "code",
   "execution_count": 7,
   "id": "3114690c",
   "metadata": {},
   "outputs": [
    {
     "name": "stdout",
     "output_type": "stream",
     "text": [
      "if all the blocks will fail then do this\n"
     ]
    }
   ],
   "source": [
    "a = 17 \n",
    "if a == 10 :\n",
    "    print(\"Here we are trying to compair 10 with 12\")\n",
    "elif a == 11:\n",
    "    print(\"We are tryong to compair 10 with the 11\")\n",
    "else :\n",
    "    print(\"if all the blocks will fail then do this\")"
   ]
  },
  {
   "cell_type": "code",
   "execution_count": 8,
   "id": "621948d7",
   "metadata": {},
   "outputs": [
    {
     "ename": "SyntaxError",
     "evalue": "invalid syntax (4238435239.py, line 6)",
     "output_type": "error",
     "traceback": [
      "\u001b[1;36m  Input \u001b[1;32mIn [8]\u001b[1;36m\u001b[0m\n\u001b[1;33m    else price == 500:\u001b[0m\n\u001b[1;37m         ^\u001b[0m\n\u001b[1;31mSyntaxError\u001b[0m\u001b[1;31m:\u001b[0m invalid syntax\n"
     ]
    }
   ],
   "source": [
    "price = 500\n",
    "if price > 500:\n",
    "    print(\"May be i wont be able to buy a jacket\")\n",
    "elif price < 500:\n",
    "    print(\" I will be able to buy a jacket\")\n",
    "else price == 500:\n",
    "    print(\"i dont know\")"
   ]
  },
  {
   "cell_type": "code",
   "execution_count": null,
   "id": "b1953570",
   "metadata": {},
   "outputs": [],
   "source": [
    "price = 500\n",
    "if price > 500:\n",
    "    print(\"May be i wont be able to buy a jacket\")\n",
    "elif price < 500:\n",
    "    print(\" I will be able to buy a jacket\")\n",
    "elif price == 500:\n",
    "    print(\"for sure i am able to buy\")\n",
    "else :\n",
    "    print(\"i dont know\")"
   ]
  },
  {
   "cell_type": "code",
   "execution_count": null,
   "id": "ea4f57b6",
   "metadata": {},
   "outputs": [],
   "source": [
    "price = 500"
   ]
  },
  {
   "cell_type": "code",
   "execution_count": null,
   "id": "14172100",
   "metadata": {},
   "outputs": [],
   "source": [
    "price > 500"
   ]
  },
  {
   "cell_type": "code",
   "execution_count": null,
   "id": "614422fb",
   "metadata": {},
   "outputs": [],
   "source": [
    "price < 500"
   ]
  },
  {
   "cell_type": "code",
   "execution_count": null,
   "id": "e0314d49",
   "metadata": {},
   "outputs": [],
   "source": [
    "price == 500"
   ]
  },
  {
   "cell_type": "code",
   "execution_count": null,
   "id": "1915169b",
   "metadata": {},
   "outputs": [],
   "source": [
    "l = [1,2,3,4,5,6]\n",
    "2 in l"
   ]
  },
  {
   "cell_type": "code",
   "execution_count": null,
   "id": "8aece76c",
   "metadata": {},
   "outputs": [],
   "source": [
    "if 60 in l :\n",
    "    print(\"try to perform a task\")\n",
    "else:\n",
    "    print(\"do not perform this task\")"
   ]
  },
  {
   "cell_type": "code",
   "execution_count": null,
   "id": "1c128866",
   "metadata": {},
   "outputs": [],
   "source": [
    "60 in l\n"
   ]
  },
  {
   "cell_type": "code",
   "execution_count": null,
   "id": "eb085801",
   "metadata": {},
   "outputs": [],
   "source": [
    "l"
   ]
  },
  {
   "cell_type": "code",
   "execution_count": null,
   "id": "0cf8a32c",
   "metadata": {},
   "outputs": [],
   "source": [
    "if 10 in l:\n",
    "    print(\"Try to do a addition\")\n",
    "elif 2 in l:\n",
    "    print(\"try to do substraction\")\n",
    "elif 3 in l:\n",
    "    print(\"ry to do multiplication\")\n",
    "if 4 in l:\n",
    "    print(\"This is new statement\")"
   ]
  },
  {
   "cell_type": "code",
   "execution_count": null,
   "id": "9afab4d1",
   "metadata": {},
   "outputs": [],
   "source": [
    "a = 400"
   ]
  },
  {
   "cell_type": "code",
   "execution_count": null,
   "id": "56805752",
   "metadata": {},
   "outputs": [],
   "source": [
    "b = int(input())"
   ]
  },
  {
   "cell_type": "code",
   "execution_count": null,
   "id": "d5fe92a1",
   "metadata": {},
   "outputs": [],
   "source": [
    "b"
   ]
  },
  {
   "cell_type": "code",
   "execution_count": null,
   "id": "1fbbb3b1",
   "metadata": {},
   "outputs": [],
   "source": [
    "type(b)"
   ]
  },
  {
   "cell_type": "code",
   "execution_count": null,
   "id": "a9562e94",
   "metadata": {},
   "outputs": [],
   "source": [
    "price = int(input())\n",
    "if price < 500 :\n",
    "    print(\"i will be able to buy somthing\")\n",
    "    if price < 400:\n",
    "        print(\"i will be able to buy a jacket\")\n",
    "    elif price < 300:\n",
    "        print(\"i will be able to buy a shirt\")\n",
    "        if price < 200 :\n",
    "            print(\"i would able to buy anything\")\n",
    "        else :\n",
    "            print(\"i wont be able to buy any thing\")\n",
    "    else :\n",
    "        print(\"i wont able to buy anything\")\n",
    "else :\n",
    "    print(\"i wont able to buy anything with this price tag\")\n",
    "    if price > 500:\n",
    "        print(\"Lets try somthing else\")"
   ]
  },
  {
   "cell_type": "code",
   "execution_count": null,
   "id": "56b0d482",
   "metadata": {},
   "outputs": [],
   "source": [
    "marks = int(input())\n",
    "if marks < 600:\n",
    "    print(\"no gre\")\n",
    "    if marks < 500:\n",
    "        print(\"tofel\")\n",
    "    if marks < 400:\n",
    "        print(\"try somthing else\")\n",
    "    else:\n",
    "        print(\"you got tofel\")\n",
    "else:\n",
    "    print(\"you got gre congo\")\n",
    "        \n",
    " "
   ]
  },
  {
   "cell_type": "code",
   "execution_count": null,
   "id": "c33a0597",
   "metadata": {},
   "outputs": [],
   "source": [
    "val = float(input(\"enter a floating point number\"))\n",
    "if val >= 0:\n",
    "    if val == 0:\n",
    "        print(\"enter value is a zero\")\n",
    "    else:\n",
    "        print(\"enter value is a positive number\")\n",
    "else:\n",
    "    print(\"entered number is a negative number\")"
   ]
  },
  {
   "cell_type": "code",
   "execution_count": null,
   "id": "f7524b51",
   "metadata": {},
   "outputs": [],
   "source": [
    "a = 10\n",
    "if a < 10 and a == 10:\n",
    "    print(\"try to do somthing\")"
   ]
  },
  {
   "cell_type": "code",
   "execution_count": null,
   "id": "64a5fb5e",
   "metadata": {},
   "outputs": [],
   "source": [
    "a = \"sudh\"\n",
    "if a== \"sudh\" or a== \"Sudh\":\n",
    "    print(\"this is sudh\")"
   ]
  },
  {
   "cell_type": "code",
   "execution_count": null,
   "id": "60546171",
   "metadata": {},
   "outputs": [],
   "source": [
    "a = 10\n",
    "b = 11\n",
    "c = 12\n",
    "d = 13\n",
    "if a == 9 or b == 11 and c== 12 and d ==13:\n",
    "    print(\"lets do somthing\")"
   ]
  },
  {
   "cell_type": "code",
   "execution_count": null,
   "id": "583711e1",
   "metadata": {},
   "outputs": [],
   "source": [
    "d = {\"key1\" : \"value\", \"key2\":\"sudh\", \"key3\":\"ineuron\"}"
   ]
  },
  {
   "cell_type": "code",
   "execution_count": null,
   "id": "f55594f2",
   "metadata": {},
   "outputs": [],
   "source": [
    "d[\"key2\"]"
   ]
  },
  {
   "cell_type": "code",
   "execution_count": null,
   "id": "b869471f",
   "metadata": {},
   "outputs": [],
   "source": [
    "if d[\"key1\"] == \"value\" and d[\"key2\"] == \"sudh\" and d[\"key3\"] == \"ineuron\":\n",
    "    print(\"all the values are verified\")\n",
    "else:\n",
    "    print(\"all the values are not verified\")\n",
    "    print(d.values())"
   ]
  },
  {
   "cell_type": "code",
   "execution_count": null,
   "id": "7fecd8f3",
   "metadata": {},
   "outputs": [],
   "source": [
    "d = {\"key1\" : \"values\", \"key2\":\"sudh\", \"key3\":\"ineuron\"}\n",
    "if d[\"key1\"] == \"value\" and d[\"key2\"] == \"sudh\" and d[\"key3\"] == \"ineuron\":\n",
    "    print(\"all the values are verified\")\n",
    "    print(\"all the values are not verified\")\n",
    "    print(d.values())\n",
    "else : \n",
    "    print(\"all the values are missmatch\")"
   ]
  },
  {
   "cell_type": "code",
   "execution_count": 10,
   "id": "5df868c3",
   "metadata": {},
   "outputs": [],
   "source": [
    "l = [1,2,3,4,5,\"sudha\",324.4]\n"
   ]
  },
  {
   "cell_type": "code",
   "execution_count": 11,
   "id": "9330fc37",
   "metadata": {},
   "outputs": [
    {
     "data": {
      "text/plain": [
       "[]"
      ]
     },
     "execution_count": 11,
     "metadata": {},
     "output_type": "execute_result"
    }
   ],
   "source": [
    "l[6:4]"
   ]
  },
  {
   "cell_type": "code",
   "execution_count": 12,
   "id": "35553545",
   "metadata": {},
   "outputs": [
    {
     "data": {
      "text/plain": [
       "[3, 4, 5]"
      ]
     },
     "execution_count": 12,
     "metadata": {},
     "output_type": "execute_result"
    }
   ],
   "source": [
    "l[2:5]"
   ]
  },
  {
   "cell_type": "code",
   "execution_count": 24,
   "id": "8ddf19f5",
   "metadata": {},
   "outputs": [
    {
     "name": "stdout",
     "output_type": "stream",
     "text": [
      "2\n",
      "3\n",
      "4\n",
      "5\n",
      "6\n",
      "sudha\n",
      "325.4\n"
     ]
    }
   ],
   "source": [
    "for i in l:\n",
    "    if type(i)==int or type(i)==float:\n",
    "        print(i+1)\n",
    "    elif type(i) == str:\n",
    "        print(i + str())\n"
   ]
  },
  {
   "cell_type": "code",
   "execution_count": 25,
   "id": "30609af0",
   "metadata": {},
   "outputs": [],
   "source": [
    "l=[1,2,3,4,5,5,6,\"hare\",56.74]\n"
   ]
  },
  {
   "cell_type": "code",
   "execution_count": 26,
   "id": "d1537084",
   "metadata": {},
   "outputs": [
    {
     "data": {
      "text/plain": [
       "[1, 2, 3, 4, 5, 5, 6, 'hare', 56.74]"
      ]
     },
     "execution_count": 26,
     "metadata": {},
     "output_type": "execute_result"
    }
   ],
   "source": [
    "l"
   ]
  },
  {
   "cell_type": "code",
   "execution_count": 45,
   "id": "46dbe075",
   "metadata": {},
   "outputs": [
    {
     "name": "stdout",
     "output_type": "stream",
     "text": [
      "2\n",
      "3\n",
      "4\n",
      "5\n",
      "6\n",
      "6\n",
      "7\n",
      "hare rama krishna\n",
      "56.74\n"
     ]
    }
   ],
   "source": [
    "for i in l:\n",
    "    if type(i)==int:\n",
    "        print(i+1)\n",
    "    elif type(i)==str:\n",
    "        print(i+ str( \" rama\" + \" krishna\"))\n",
    "else:\n",
    "    print(i)\n"
   ]
  },
  {
   "cell_type": "code",
   "execution_count": 46,
   "id": "e1852f90",
   "metadata": {},
   "outputs": [
    {
     "name": "stdout",
     "output_type": "stream",
     "text": [
      "1\n",
      "2\n",
      "3\n",
      "4\n",
      "5\n",
      "5\n",
      "6\n",
      "hare\n",
      "56.74\n"
     ]
    }
   ],
   "source": [
    "for i in l:\n",
    "    print(i)"
   ]
  },
  {
   "cell_type": "code",
   "execution_count": null,
   "id": "ab81a9d1",
   "metadata": {},
   "outputs": [],
   "source": []
  },
  {
   "cell_type": "code",
   "execution_count": null,
   "id": "f5214c69",
   "metadata": {},
   "outputs": [],
   "source": []
  },
  {
   "cell_type": "code",
   "execution_count": null,
   "id": "88f7cd5b",
   "metadata": {},
   "outputs": [],
   "source": []
  },
  {
   "cell_type": "code",
   "execution_count": null,
   "id": "35faf9e9",
   "metadata": {},
   "outputs": [],
   "source": []
  },
  {
   "cell_type": "code",
   "execution_count": null,
   "id": "38afbec4",
   "metadata": {},
   "outputs": [],
   "source": []
  },
  {
   "cell_type": "code",
   "execution_count": null,
   "id": "080afd2c",
   "metadata": {},
   "outputs": [],
   "source": []
  },
  {
   "cell_type": "code",
   "execution_count": null,
   "id": "1b806fa6",
   "metadata": {},
   "outputs": [],
   "source": []
  },
  {
   "cell_type": "code",
   "execution_count": null,
   "id": "a2f56755",
   "metadata": {},
   "outputs": [],
   "source": []
  },
  {
   "cell_type": "code",
   "execution_count": null,
   "id": "ff7c6557",
   "metadata": {},
   "outputs": [],
   "source": []
  },
  {
   "cell_type": "code",
   "execution_count": null,
   "id": "c56a4833",
   "metadata": {},
   "outputs": [],
   "source": []
  }
 ],
 "metadata": {
  "kernelspec": {
   "display_name": "Python 3 (ipykernel)",
   "language": "python",
   "name": "python3"
  },
  "language_info": {
   "codemirror_mode": {
    "name": "ipython",
    "version": 3
   },
   "file_extension": ".py",
   "mimetype": "text/x-python",
   "name": "python",
   "nbconvert_exporter": "python",
   "pygments_lexer": "ipython3",
   "version": "3.9.12"
  }
 },
 "nbformat": 4,
 "nbformat_minor": 5
}
