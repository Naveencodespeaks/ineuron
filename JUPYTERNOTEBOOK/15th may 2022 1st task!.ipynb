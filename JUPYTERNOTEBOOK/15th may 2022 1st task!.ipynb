{
 "cells": [
  {
   "cell_type": "code",
   "execution_count": null,
   "id": "3c673c8d",
   "metadata": {},
   "outputs": [],
   "source": [
    "# 1 . Try to extract data from index one to index 300 with a jump of 3 \n",
    "\n",
    "s = \"this is My First Python programming class and i am learNING python string and its function\"\n",
    "s[0:300:3]"
   ]
  },
  {
   "cell_type": "code",
   "execution_count": 3,
   "id": "ef0f2e69",
   "metadata": {},
   "outputs": [
    {
     "data": {
      "text/plain": [
       "'noitcnuf sti dna gnirts nohtyp GNINrael ma i dna ssalc gnimmargorp nohtyP tsriF yM si siht'"
      ]
     },
     "execution_count": 3,
     "metadata": {},
     "output_type": "execute_result"
    }
   ],
   "source": [
    "# 2. Try to reverse a string without using reverse function \n",
    "s[::-1]"
   ]
  },
  {
   "cell_type": "code",
   "execution_count": 4,
   "id": "8260675e",
   "metadata": {},
   "outputs": [],
   "source": [
    "# 3. Try to split a string after conversion of entire string in uppercase \n",
    "s1=s.upper()"
   ]
  },
  {
   "cell_type": "code",
   "execution_count": 5,
   "id": "46391c3b",
   "metadata": {},
   "outputs": [
    {
     "data": {
      "text/plain": [
       "'THIS IS MY FIRST PYTHON PROGRAMMING CLASS AND I AM LEARNING PYTHON STRING AND ITS FUNCTION'"
      ]
     },
     "execution_count": 5,
     "metadata": {},
     "output_type": "execute_result"
    }
   ],
   "source": [
    "s1"
   ]
  },
  {
   "cell_type": "code",
   "execution_count": 6,
   "id": "13e8dfa4",
   "metadata": {},
   "outputs": [
    {
     "data": {
      "text/plain": [
       "['THIS',\n",
       " 'IS',\n",
       " 'MY',\n",
       " 'FIRST',\n",
       " 'PYTHON',\n",
       " 'PROGRAMMING',\n",
       " 'CLASS',\n",
       " 'AND',\n",
       " 'I',\n",
       " 'AM',\n",
       " 'LEARNING',\n",
       " 'PYTHON',\n",
       " 'STRING',\n",
       " 'AND',\n",
       " 'ITS',\n",
       " 'FUNCTION']"
      ]
     },
     "execution_count": 6,
     "metadata": {},
     "output_type": "execute_result"
    }
   ],
   "source": [
    "s1.split()"
   ]
  },
  {
   "cell_type": "code",
   "execution_count": 7,
   "id": "e0ab6d5d",
   "metadata": {},
   "outputs": [
    {
     "data": {
      "text/plain": [
       "'this is my first python programming class and i am learning python string and its function'"
      ]
     },
     "execution_count": 7,
     "metadata": {},
     "output_type": "execute_result"
    }
   ],
   "source": [
    "#4 4. try to convert the whole string into lower case \n",
    "s1.lower()"
   ]
  },
  {
   "cell_type": "code",
   "execution_count": 8,
   "id": "03dad917",
   "metadata": {},
   "outputs": [
    {
     "data": {
      "text/plain": [
       "'THIS IS MY FIRST PYTHON PROGRAMMING CLASS AND I AM LEARNING PYTHON STRING AND ITS FUNCTION'"
      ]
     },
     "execution_count": 8,
     "metadata": {},
     "output_type": "execute_result"
    }
   ],
   "source": [
    "# 5 . Try to capitalize the whole string \n",
    "s1.upper()"
   ]
  },
  {
   "cell_type": "code",
   "execution_count": 9,
   "id": "56413a6b",
   "metadata": {},
   "outputs": [],
   "source": [
    "# 6 . Write a diference between isalnum() and isalpha()\n",
    "# ANS- isalnum checkes weather the strings contains numaric values or not in a string, if numbers are present it returns \"True\" otherwise \"False\", if the string has combination of numbers and alphabets it returns \"False\" ex:s=\"gty675539jk\"\n",
    "# ANS- isalpha checkes weather the strings contains alphabets or not in a string, if alphabets are present it returns \"True\" otherwise \"False\",if the string has combination of alphabets and numbers it returns \"False\" ex:g=\"hgyug7649273ohyu\""
   ]
  },
  {
   "cell_type": "code",
   "execution_count": 10,
   "id": "70153602",
   "metadata": {},
   "outputs": [
    {
     "data": {
      "text/plain": [
       "'Hare     Krishna         Hare    Rama'"
      ]
     },
     "execution_count": 10,
     "metadata": {},
     "output_type": "execute_result"
    }
   ],
   "source": [
    "#7. Try to give an example of expand tab\n",
    "s2=(\"Hare\\t Krishna\\t Hare\\t Rama\")\n",
    "s2.expandtabs()"
   ]
  },
  {
   "cell_type": "code",
   "execution_count": 13,
   "id": "8a3866e9",
   "metadata": {},
   "outputs": [
    {
     "data": {
      "text/plain": [
       "'harekrishna'"
      ]
     },
     "execution_count": 13,
     "metadata": {},
     "output_type": "execute_result"
    }
   ],
   "source": [
    "# 8 . Give an example of strip , lstrip and rstrip \n",
    "s3=\"     harekrishna        \"\n",
    "s3.strip()"
   ]
  },
  {
   "cell_type": "code",
   "execution_count": 14,
   "id": "dd36e06b",
   "metadata": {},
   "outputs": [
    {
     "data": {
      "text/plain": [
       "'harekrishna        '"
      ]
     },
     "execution_count": 14,
     "metadata": {},
     "output_type": "execute_result"
    }
   ],
   "source": [
    "s3.lstrip()"
   ]
  },
  {
   "cell_type": "code",
   "execution_count": 15,
   "id": "3ca13ef1",
   "metadata": {},
   "outputs": [
    {
     "data": {
      "text/plain": [
       "'     harekrishna'"
      ]
     },
     "execution_count": 15,
     "metadata": {},
     "output_type": "execute_result"
    }
   ],
   "source": [
    "s3.rstrip()"
   ]
  },
  {
   "cell_type": "code",
   "execution_count": 16,
   "id": "66889c48",
   "metadata": {},
   "outputs": [
    {
     "data": {
      "text/plain": [
       "'zudhanzhu'"
      ]
     },
     "execution_count": 16,
     "metadata": {},
     "output_type": "execute_result"
    }
   ],
   "source": [
    "# 9.  Replace a string charecter by another charector by taking your own example \"sudhanshu\" \n",
    "\n",
    "a=\"sudhanshu\"\n",
    "a.replace('s','z')"
   ]
  },
  {
   "cell_type": "code",
   "execution_count": 18,
   "id": "7ed94363",
   "metadata": {},
   "outputs": [
    {
     "data": {
      "text/plain": [
       "'$$$$$$$$$$$$$$$$$$ Hare Krishna $$$$$$$$$$$$$$$$$$'"
      ]
     },
     "execution_count": 18,
     "metadata": {},
     "output_type": "execute_result"
    }
   ],
   "source": [
    "# 10 . Try  to give a defination of string center function with and exmple \n",
    "#ANS- srting center function makes the string to appeare in the middel with respective number of spaces that you give to the string\n",
    "b = \" Hare Krishna \"\n",
    "b.center(50,\"$\")\n",
    "\n",
    "# here \"50\" is the string length or size \"$\" is the notation that will appere on bothe sizes of the string"
   ]
  },
  {
   "cell_type": "code",
   "execution_count": 19,
   "id": "f131bf85",
   "metadata": {},
   "outputs": [],
   "source": [
    "# 11 . Write your own definition of compiler and interpretor without copy paste form internet in your own language\n",
    "#COMPILER- converts code into object code like.exe file and data is taken to that .exe file and run the program \"Real Life EX\"- watching a movie with english subtiles which means its already compiled and read to see.\n",
    "#Interpreter - check line by line and convert into object code and run the program, \"Real Life EX\"-Translator with translate the message line by line, in this case if we speack the translater would be translate."
   ]
  },
  {
   "cell_type": "code",
   "execution_count": 20,
   "id": "52f19861",
   "metadata": {},
   "outputs": [],
   "source": [
    "# 12 . Python is a interpreted of compiled language give a clear ans with your understanding \n",
    "# in my understanding python is both compiler and interpreter\n",
    "\n",
    "#Ex:-python is a platform independence, python compile its self and give us bite code, that bite code can run on pvm(python virtual machine)"
   ]
  },
  {
   "cell_type": "code",
   "execution_count": null,
   "id": "530b7e27",
   "metadata": {},
   "outputs": [],
   "source": [
    "#13 . Try to write a usecase of python with your understanding .\n",
    "\n",
    "# Python can be used in developing Web applications. Ex:-Netflex,google,uber\n",
    "# Python programming language are  used  Software development.\n",
    "# Python language is used  Data science.\n",
    "#Python is used  AI applications. Ex:lenskart\n",
    "#Python used for developing Game. Ex:-Battlefield 2,World of Tanks."
   ]
  },
  {
   "cell_type": "code",
   "execution_count": 1,
   "id": "a66f190b",
   "metadata": {},
   "outputs": [
    {
     "ename": "NameError",
     "evalue": "name 'LS' is not defined",
     "output_type": "error",
     "traceback": [
      "\u001b[1;31m---------------------------------------------------------------------------\u001b[0m",
      "\u001b[1;31mNameError\u001b[0m                                 Traceback (most recent call last)",
      "\u001b[1;32m~\\AppData\\Local\\Temp\\ipykernel_708\\3568877033.py\u001b[0m in \u001b[0;36m<module>\u001b[1;34m\u001b[0m\n\u001b[1;32m----> 1\u001b[1;33m \u001b[0mLS\u001b[0m\u001b[1;33m\u001b[0m\u001b[1;33m\u001b[0m\u001b[0m\n\u001b[0m",
      "\u001b[1;31mNameError\u001b[0m: name 'LS' is not defined"
     ]
    }
   ],
   "source": [
    "LS"
   ]
  },
  {
   "cell_type": "code",
   "execution_count": 2,
   "id": "e0962b22",
   "metadata": {},
   "outputs": [
    {
     "name": "stdout",
     "output_type": "stream",
     "text": [
      " Volume in drive C has no label.\n",
      " Volume Serial Number is 0412-9EE3\n",
      "\n",
      " Directory of C:\\Users\\Naveen\n",
      "\n",
      "31-03-2023  10:24 AM    <DIR>          .\n",
      "31-03-2023  10:24 AM    <DIR>          ..\n",
      "25-02-2023  03:29 PM    <DIR>          .astropy\n",
      "12-01-2023  08:06 PM             6,818 .bash_history\n",
      "24-02-2023  02:22 PM    <DIR>          .conda\n",
      "20-05-2022  07:35 PM                25 .condarc\n",
      "24-02-2023  12:49 AM    <DIR>          .continuum\n",
      "05-08-2022  11:53 AM                87 .gitconfig\n",
      "31-03-2023  10:24 AM    <DIR>          .ipynb_checkpoints\n",
      "24-02-2023  01:36 PM    <DIR>          .ipython\n",
      "24-02-2023  01:31 PM    <DIR>          .jupyter\n",
      "07-12-2022  08:22 PM                20 .lesshst\n",
      "25-02-2023  03:48 PM    <DIR>          .matplotlib\n",
      "17-08-2022  02:43 PM                25 .node_repl_history\n",
      "24-02-2023  01:54 PM    <DIR>          .thumbnails\n",
      "04-05-2022  02:19 PM               121 .yarnrc\n",
      "10-08-2022  04:11 PM    <DIR>          __pycache__\n",
      "13-08-2021  09:49 PM             6,882 -1.14-windows.xml\n",
      "25-05-2022  08:04 PM             8,973 15th may 2022 1st task!.ipynb\n",
      "30-09-2021  10:56 AM             1,349 30Sep2021.zip\n",
      "23-02-2023  12:01 PM    <DIR>          3D Objects\n",
      "25-08-2021  06:57 PM        31,665,306 all together lift.mp4\n",
      "25-08-2021  06:59 PM           212,651 all together lift.osp\n",
      "25-08-2021  06:56 PM    <DIR>          all together lift_assets\n",
      "25-10-2022  10:24 AM    <DIR>          anaconda3\n",
      "25-10-2022  09:55 AM    <DIR>          Api\n",
      "13-07-2022  11:07 PM                 0 b\n",
      "12-09-2022  11:44 AM            94,421 babblu.json\n",
      "21-02-2023  05:11 PM                47 babblu.txt\n",
      "21-02-2023  08:54 PM                60 Babblu1.txt\n",
      "21-02-2023  08:58 PM                19 babblu12.txt\n",
      "30-06-2022  07:19 PM            16,821 Basic functions.ipynb\n",
      "20-10-2022  02:06 PM             4,725 Basic_numpy.py\n",
      "21-10-2022  01:03 PM         2,269,255 basic_plots.ipynb\n",
      "04-11-2022  05:14 PM    <DIR>          BasicPythonProjects\n",
      "13-08-2022  12:07 PM               207 books.csv\n",
      "13-08-2022  12:07 PM             8,192 books.db\n",
      "13-08-2022  12:08 PM             8,192 books1.db\n",
      "07-07-2022  03:39 PM         2,910,985 class iteration,generator,map,redue,filter,basic file operartion.ipynb\n",
      "28-01-2023  02:06 PM            72,331 Class list,tuples,Dict,set.ipynb\n",
      "30-01-2023  12:00 PM            21,604 conditional Statement_if,elif,else.ipynb\n",
      "23-02-2023  12:22 PM    <DIR>          Contacts\n",
      "09-08-2022  11:09 AM           127,184 cropped.png\n",
      "27-01-2023  11:01 PM             5,958 Data types of python.ipynb\n",
      "21-02-2023  09:16 PM                91 DataScience.txt\n",
      "21-02-2023  09:20 PM             1,805 DataScienceIneuron.txt\n",
      "21-02-2023  10:09 PM                91 DataScienceIneuron1\n",
      "31-03-2023  10:23 AM    <DIR>          Desktop\n",
      "27-03-2023  11:05 AM    <DIR>          Documents\n",
      "25-08-2021  05:58 PM            17,686 download.jpg\n",
      "28-03-2023  09:46 PM    <DIR>          Downloads\n",
      "18-02-2023  10:27 PM            46,704 Exception Handiling.ipynb\n",
      "30-06-2022  10:20 PM            12,409 Exception Handling by Sudhanshu sir.ipynb\n",
      "05-07-2022  07:38 PM            19,510 Exception Handling.ipynb\n",
      "23-02-2023  12:24 PM    <DIR>          Favorites\n",
      "06-07-2022  10:42 PM                67 file.text\n",
      "31-01-2023  03:46 PM            20,189 for_loops.ipynb\n",
      "13-11-2022  08:26 PM    <DIR>          freecodecampbyJIM\n",
      "30-06-2022  07:19 PM            16,821 functions.ipynb\n",
      "01-02-2023  04:10 PM            31,609 Functions@important.ipynb\n",
      "25-08-2021  06:29 PM        14,171,749 Govardhan_Skit.osp\n",
      "05-08-2021  04:03 PM    <DIR>          Govardhan_Skit_assets\n",
      "25-08-2021  05:53 PM       117,966,291 govardhana lift.mp4\n",
      "25-08-2021  05:53 PM           286,816 govardhana lift.osp\n",
      "25-08-2021  05:50 PM    <DIR>          govardhana lift_assets\n",
      "18-06-2022  05:52 PM                31 hare.text\n",
      "10-08-2022  01:16 PM                41 harekrishna.py\n",
      "21-07-2022  02:09 PM                91 harekrishna.txt\n",
      "21-07-2022  01:19 PM            36,587 hellothere.docx\n",
      "30-11-2022  06:32 PM    <DIR>          ImageScrapper\n",
      "04-01-2023  12:17 PM    <DIR>          ineuron_python_basic_concepts\n",
      "05-09-2022  10:59 AM             5,723 ineuron_python_basic_programming_Assignment-1.ipynb\n",
      "05-09-2022  12:12 PM             4,373 ineuron_python_basic_programming_Assignment-2.ipynb\n",
      "05-09-2022  01:17 PM         2,581,219 ineuron_python_basic_programming_Assignment-3.ipynb\n",
      "05-09-2022  03:19 PM             6,059 ineuron_python_basic_programming_Assignment-4.ipynb\n",
      "05-09-2022  07:04 PM             4,617 ineuron_python_basic_programming_Assignment-5.ipynb\n",
      "08-11-2022  03:51 PM    <DIR>          ineuronprojectreviewFlack\n",
      "21-07-2022  02:18 PM               126 innovators.csv\n",
      "22-02-2023  12:32 PM           166,570 iterator, map,genertor,map,reduce,filter.ipynb\n",
      "25-10-2022  11:03 AM    <DIR>          JustToChek\n",
      "18-06-2022  05:52 PM                12 krish.txt\n",
      "09-08-2022  11:14 AM           127,184 krishna&Arjun.png\n",
      "18-06-2022  05:54 PM                12 krishna.text\n",
      "23-02-2023  12:24 PM    <DIR>          Links\n",
      "31-01-2023  03:46 PM            28,874 Live Class while loop and basic of function.ipynb\n",
      "23-02-2023  12:24 PM    <DIR>          Music\n",
      "19-10-2022  06:09 PM    <DIR>          mysql_basics\n",
      "21-02-2023  09:06 PM               702 naveenTest.txt\n",
      "20-10-2022  02:00 PM    <DIR>          NUMPY\n",
      "15-09-2022  12:41 PM           501,909 numpy 13_aug_2022.ipynb\n",
      "16-09-2022  11:50 AM         2,105,683 numpy,seborn,matplot,cufflinks.ipynb\n",
      "23-02-2023  12:24 PM    <DIR>          OneDrive\n",
      "06-07-2022  10:44 PM                67 open_fileFromJupyterNoteBook.text\n",
      "08-09-2022  01:36 PM           428,858 pandas class 2 (1).ipynb\n",
      "31-03-2023  10:24 AM           428,918 pandas class 2 (2).ipynb\n",
      "08-09-2022  02:00 PM            10,848 pandas.ipynb\n",
      "03-08-2022  04:43 PM           235,301 pandas_class.ipynb\n",
      "12-09-2022  12:10 PM           310,185 pandas_class_11th_sep_2022.ipynb\n",
      "13-09-2022  03:26 PM           752,613 pandas_exploratory data analysis.ipynb\n",
      "14-09-2022  05:11 PM           195,481 pandas_exploratory data analysis-1.ipynb\n",
      "05-08-2022  11:19 PM            79,188 pandas_practice2.ipynb\n",
      "09-08-2022  12:02 PM           127,184 pasted.png\n",
      "27-02-2023  01:21 AM    <DIR>          Pictures\n",
      "16-09-2022  05:55 PM    <DIR>          Postman\n",
      "09-12-2022  04:35 PM    <DIR>          project_basic_on_youtube\n",
      "25-02-2023  04:16 PM    <DIR>          PycharmProjects\n",
      "13-07-2022  07:58 PM             8,228 Python basic Assigment_1.ipynb\n",
      "18-07-2022  01:20 PM             8,527 python basic Assigment_10.ipynb\n",
      "21-07-2022  01:23 PM             7,453 python basic Assigment_12.ipynb\n",
      "21-07-2022  02:43 PM            17,373 python basic Assigment_13.ipynb\n",
      "09-08-2022  12:23 PM         6,044,593 Python basic Assigment_14.ipynb\n",
      "09-08-2022  01:29 PM             7,095 Python basic Assigment_15.ipynb\n",
      "09-08-2022  05:42 PM            14,002 Python basic Assigment_16.ipynb\n",
      "09-08-2022  07:30 PM             8,526 Python basic Assigment_17.ipynb\n",
      "10-08-2022  04:21 PM             4,305 Python basic Assigment_18.ipynb\n",
      "13-08-2022  10:55 AM            10,969 Python basic Assigment_19.ipynb\n",
      "14-07-2022  12:59 AM            13,994 Python basic Assigment_2.ipynb\n",
      "13-08-2022  03:13 PM            10,791 Python basic Assigment_20.ipynb\n",
      "02-09-2022  01:25 PM            11,963 Python basic Assigment_21.ipynb\n",
      "02-09-2022  01:41 PM             6,155 python basic Assigment_22.ipynb\n",
      "02-09-2022  01:50 PM             5,669 python basic Assigment_23.ipynb\n",
      "02-09-2022  02:06 PM             8,919 python basic Assigment_24.ipynb\n",
      "02-09-2022  02:30 PM             7,955 python basic Assigment_25.ipynb\n",
      "14-07-2022  01:07 PM             7,605 python basic Assigment_3.ipynb\n",
      "14-07-2022  02:48 PM            11,711 python basic Assigment_4.ipynb\n",
      "14-07-2022  03:18 PM             5,720 python basic Assigment_5.ipynb\n",
      "14-07-2022  03:55 PM             7,017 python basic Assigment_6.ipynb\n",
      "15-07-2022  06:21 PM            24,936 python basic Assigment_7.ipynb\n",
      "15-07-2022  08:22 PM            19,050 python basic Assigment_8.ipynb\n",
      "18-07-2022  11:48 AM             7,282 python basic Assigment_9.ipynb\n",
      "21-12-2022  06:07 PM    <DIR>          Python_concepts\n",
      "21-09-2022  12:27 PM         1,672,493 python_image_scrapper.ipynb\n",
      "06-10-2022  05:33 PM             1,135 Python_Programming _Basic_Assignment_10.ipynb\n",
      "07-10-2022  12:11 PM             1,564 Python_Programming _Basic_Assignment_11.ipynb\n",
      "06-10-2022  10:52 AM             4,959 Python_Programming _Basic_Assignment_7.ipynb\n",
      "06-10-2022  05:02 PM             6,487 Python_Programming _Basic_Assignment_8.ipynb\n",
      "06-10-2022  05:25 PM             7,019 Python_Programming _Basic_Assignment_9.ipynb\n",
      "16-12-2022  04:48 PM             7,606 Python_programming_11.ipynb\n",
      "04-10-2022  12:58 PM             4,793 python_programming_Assignements-6.ipynb\n",
      "18-10-2022  08:49 PM    <DIR>          python_total_basics\n",
      "16-12-2022  01:49 PM            14,627 PythonBasic_programming_10.ipynb\n",
      "14-11-2022  12:22 PM    <DIR>          pythonProject&Challange\n",
      "04-11-2022  05:23 PM    <DIR>          PythonProjectWebScrapping\n",
      "13-11-2022  10:40 PM    <DIR>          PythonwithTIM\n",
      "21-07-2022  02:29 PM               182 quotes.csv\n",
      "10-08-2022  01:22 PM                73 Rathan Tata\n",
      "03-10-2022  11:56 AM           612,181 Review scrapper  (1) (1).ipynb\n",
      "07-11-2022  10:14 PM    <DIR>          Reviewproject\n",
      "09-08-2022  11:52 AM           127,331 rotated180.png\n",
      "09-08-2022  11:52 AM           120,765 rotated270.png\n",
      "09-08-2022  11:52 AM           120,747 rotated90.png\n",
      "14-08-2021  11:07 PM             1,148 SAMPLE.osp\n",
      "14-08-2021  11:07 PM    <DIR>          SAMPLE_assets\n",
      "23-02-2023  12:24 PM    <DIR>          Saved Games\n",
      "21-10-2022  12:02 PM    <DIR>          seaborn-data\n",
      "23-02-2023  12:24 PM    <DIR>          Searches\n",
      "06-08-2021  10:12 PM            94,384 slokas.osp\n",
      "05-08-2021  09:56 PM    <DIR>          slokas_assets\n",
      "07-08-2021  12:43 PM           271,073 slokas_skit.osp\n",
      "07-08-2021  12:33 AM    <DIR>          slokas_skit_assets\n",
      "06-07-2022  09:23 PM                36 sudh.txt\n",
      "07-07-2022  12:10 AM                 0 test.100.txt\n",
      "12-09-2022  11:43 AM            94,421 test.json\n",
      "13-08-2022  12:06 PM                43 test.txt\n",
      "21-02-2023  08:50 PM                60 test1.txt\n",
      "03-08-2022  04:08 PM            94,421 test123.json\n",
      "06-07-2022  10:36 PM                91 test2.text\n",
      "06-07-2022  10:38 PM                91 test3.text\n",
      "07-07-2022  03:39 PM                65 test5.txt\n",
      "07-07-2022  03:39 PM             1,005 test9.text\n",
      "21-02-2023  08:59 PM                12 text.Naveen\n",
      "13-08-2022  12:00 PM                43 text.txt\n",
      "07-07-2022  12:00 AM               267 text10.txt\n",
      "18-02-2023  01:54 PM                 0 text2.txt\n",
      "07-07-2022  12:28 AM                52 text3.txt\n",
      "06-07-2022  11:13 PM                39 text6.txt\n",
      "21-07-2022  02:00 PM               100 textfile.txt\n",
      "09-08-2022  11:43 AM           127,184 tiled.png\n",
      "17-08-2022  05:28 PM                10 today.txt\n",
      "09-08-2022  11:04 AM         1,448,139 TW1GSrT.png\n",
      "21-05-2022  06:09 PM             1,076 Untitled.ipynb\n",
      "28-01-2023  02:24 PM                 0 untitled.txt\n",
      "21-05-2022  06:24 PM               900 Untitled1.ipynb\n",
      "29-05-2022  05:33 PM             2,191 Untitled10.ipynb\n",
      "30-05-2022  04:32 PM            17,051 Untitled11.ipynb\n",
      "31-05-2022  08:35 PM             8,822 Untitled12.ipynb\n",
      "31-05-2022  10:28 PM             1,040 Untitled13.ipynb\n",
      "02-06-2022  01:40 PM            27,421 Untitled14.ipynb\n",
      "02-06-2022  12:06 PM                72 Untitled15.ipynb\n",
      "02-06-2022  09:09 PM            13,473 Untitled16.ipynb\n",
      "03-06-2022  01:49 PM             1,799 Untitled17.ipynb\n",
      "03-06-2022  02:18 PM                72 Untitled18.ipynb\n",
      "03-06-2022  07:07 PM            11,592 Untitled19.ipynb\n",
      "06-07-2022  10:17 PM            15,878 Untitled2.ipynb\n",
      "04-06-2022  06:12 PM            11,328 Untitled20.ipynb\n",
      "05-06-2022  04:36 PM            14,557 Untitled21.ipynb\n",
      "06-06-2022  07:34 PM             7,532 Untitled22.ipynb\n",
      "09-06-2022  04:47 PM            19,185 Untitled23.ipynb\n",
      "17-06-2022  01:43 PM               589 Untitled24.ipynb\n",
      "18-06-2022  05:58 PM            19,874 Untitled25.ipynb\n",
      "19-06-2022  03:04 PM               589 Untitled26.ipynb\n",
      "27-06-2022  07:38 PM            12,457 Untitled27.ipynb\n",
      "28-06-2022  04:36 PM             7,633 Untitled28.ipynb\n",
      "28-06-2022  08:45 PM            20,622 Untitled29.ipynb\n",
      "23-05-2022  04:31 PM            14,010 Untitled3.ipynb\n",
      "29-06-2022  07:07 PM               589 Untitled30.ipynb\n",
      "04-07-2022  01:13 PM               589 Untitled31.ipynb\n",
      "08-07-2022  12:48 PM               589 Untitled32.ipynb\n",
      "15-07-2022  11:45 AM               589 Untitled33.ipynb\n",
      "18-07-2022  11:49 AM                72 Untitled34.ipynb\n",
      "22-07-2022  12:30 PM               589 Untitled35.ipynb\n",
      "24-07-2022  03:41 PM             1,129 Untitled36.ipynb\n",
      "24-07-2022  04:04 PM             9,485 Untitled37.ipynb\n",
      "24-07-2022  04:45 PM            73,486 Untitled38.ipynb\n",
      "05-09-2022  03:35 PM             1,858 Untitled39.ipynb\n",
      "24-05-2022  02:11 PM            11,613 Untitled4.ipynb\n",
      "04-10-2022  01:06 PM               740 Untitled40.ipynb\n",
      "20-10-2022  04:14 PM           739,937 Untitled41.ipynb\n",
      "03-11-2022  02:09 PM            43,542 Untitled42.ipynb\n",
      "15-11-2022  06:45 PM             1,692 Untitled43.ipynb\n",
      "27-12-2022  12:31 PM               589 Untitled44.ipynb\n",
      "04-01-2023  01:40 PM               589 Untitled45.ipynb\n",
      "28-01-2023  10:10 AM                72 Untitled46.ipynb\n",
      "24-02-2023  01:35 PM                72 Untitled47.ipynb\n",
      "24-02-2023  01:35 PM                72 Untitled48.ipynb\n",
      "24-02-2023  01:51 PM             1,381 Untitled49.ipynb\n",
      "25-05-2022  08:59 PM           134,367 Untitled5.ipynb\n",
      "29-03-2023  12:15 PM            39,463 Untitled50.ipynb\n",
      "25-05-2022  06:53 PM            20,764 Untitled6.ipynb\n",
      "26-05-2022  10:01 PM            80,113 Untitled7.ipynb\n",
      "27-05-2022  03:43 PM            14,242 Untitled8.ipynb\n",
      "28-05-2022  05:26 PM             6,602 Untitled9.ipynb\n",
      "23-02-2023  10:11 PM    <DIR>          Videos\n",
      "27-10-2022  02:43 PM         3,217,970 Web_scrapping_basic.ipynb\n",
      "27-01-2023  01:55 PM            45,842 Youtube  DataTypes.ipynb\n",
      "09-12-2022  03:31 PM    <DIR>          youtubePython\n",
      "21-07-2022  12:19 PM             8,652 ython basic Assigment_11.ipynb\n",
      "10-08-2022  04:11 PM                52 zoo.py\n",
      "             187 File(s)    193,974,140 bytes\n",
      "              51 Dir(s)  102,043,357,184 bytes free\n"
     ]
    }
   ],
   "source": [
    "ls"
   ]
  },
  {
   "cell_type": "code",
   "execution_count": 3,
   "id": "5be710f2",
   "metadata": {},
   "outputs": [],
   "source": [
    "c= \"\"\"Data science is an interdisciplinary academic field [1] that uses statistics, scientific computing, scientific methods, processes, algorithms and systems to extract or extrapolate knowledge and insights from noisy, structured, and unstructured data.[2]\n",
    "\n",
    "Data science also integrates domain knowledge from the underlying application domain (e.g., natural sciences, information technology, and medicine).[3] Data science is multifaceted and can be described as a science, a research paradigm, a research method, a discipline, a workflow, and a profession.[4]\n",
    "\n",
    "Data science is a \"concept to unify statistics, data analysis, informatics, and their related methods\" in order to \"understand and analyse actual phenomena\" with data.[5] It uses techniques and theories drawn from many fields within the context of mathematics, statistics, computer science, information science, and domain knowledge.[6] However, data science is different from computer science and information science. Turing Award winner Jim Gray imagined data science as a \"fourth paradigm\" of science (empirical, theoretical, computational, and now data-driven) and asserted that \"everything about science is changing because of the impact of information technology\" and the data deluge.[7][8]\"\"\""
   ]
  },
  {
   "cell_type": "code",
   "execution_count": 4,
   "id": "7ab891c6",
   "metadata": {},
   "outputs": [
    {
     "data": {
      "text/plain": [
       "'Data science is an interdisciplinary academic field [1] that uses statistics, scientific computing, scientific methods, processes, algorithms and systems to extract or extrapolate knowledge and insights from noisy, structured, and unstructured data.[2]\\n\\nData science also integrates domain knowledge from the underlying application domain (e.g., natural sciences, information technology, and medicine).[3] Data science is multifaceted and can be described as a science, a research paradigm, a research method, a discipline, a workflow, and a profession.[4]\\n\\nData science is a \"concept to unify statistics, data analysis, informatics, and their related methods\" in order to \"understand and analyse actual phenomena\" with data.[5] It uses techniques and theories drawn from many fields within the context of mathematics, statistics, computer science, information science, and domain knowledge.[6] However, data science is different from computer science and information science. Turing Award winner Jim Gray imagined data science as a \"fourth paradigm\" of science (empirical, theoretical, computational, and now data-driven) and asserted that \"everything about science is changing because of the impact of information technology\" and the data deluge.[7][8]'"
      ]
     },
     "execution_count": 4,
     "metadata": {},
     "output_type": "execute_result"
    }
   ],
   "source": [
    "c"
   ]
  },
  {
   "cell_type": "code",
   "execution_count": 5,
   "id": "0fdbd611",
   "metadata": {},
   "outputs": [
    {
     "data": {
      "text/plain": [
       "'D'"
      ]
     },
     "execution_count": 5,
     "metadata": {},
     "output_type": "execute_result"
    }
   ],
   "source": [
    "c[0]"
   ]
  },
  {
   "cell_type": "code",
   "execution_count": 6,
   "id": "a388c067",
   "metadata": {},
   "outputs": [
    {
     "data": {
      "text/plain": [
       "'Data science is an interdisciplinary academic field [1] that uses statistics, scientific computing, '"
      ]
     },
     "execution_count": 6,
     "metadata": {},
     "output_type": "execute_result"
    }
   ],
   "source": [
    "c[0:100:1]"
   ]
  },
  {
   "cell_type": "code",
   "execution_count": 7,
   "id": "936819b4",
   "metadata": {},
   "outputs": [
    {
     "data": {
      "text/plain": [
       "'t'"
      ]
     },
     "execution_count": 7,
     "metadata": {},
     "output_type": "execute_result"
    }
   ],
   "source": [
    "c[2]"
   ]
  },
  {
   "cell_type": "code",
   "execution_count": 8,
   "id": "b1b0a353",
   "metadata": {},
   "outputs": [],
   "source": [
    "c = \"naveen\""
   ]
  },
  {
   "cell_type": "code",
   "execution_count": 9,
   "id": "b535da75",
   "metadata": {},
   "outputs": [
    {
     "data": {
      "text/plain": [
       "'n'"
      ]
     },
     "execution_count": 9,
     "metadata": {},
     "output_type": "execute_result"
    }
   ],
   "source": [
    "c[0]"
   ]
  },
  {
   "cell_type": "code",
   "execution_count": 10,
   "id": "4ab4812d",
   "metadata": {},
   "outputs": [
    {
     "data": {
      "text/plain": [
       "'a'"
      ]
     },
     "execution_count": 10,
     "metadata": {},
     "output_type": "execute_result"
    }
   ],
   "source": [
    "c[1]"
   ]
  },
  {
   "cell_type": "code",
   "execution_count": 11,
   "id": "18ea827c",
   "metadata": {},
   "outputs": [
    {
     "data": {
      "text/plain": [
       "'e'"
      ]
     },
     "execution_count": 11,
     "metadata": {},
     "output_type": "execute_result"
    }
   ],
   "source": [
    "c[3]"
   ]
  },
  {
   "cell_type": "code",
   "execution_count": 12,
   "id": "15f2e4e3",
   "metadata": {},
   "outputs": [
    {
     "name": "stdout",
     "output_type": "stream",
     "text": [
      "naveen\n"
     ]
    }
   ],
   "source": [
    "print(c)"
   ]
  },
  {
   "cell_type": "code",
   "execution_count": 16,
   "id": "84e440b9",
   "metadata": {},
   "outputs": [
    {
     "data": {
      "text/plain": [
       "'naveen'"
      ]
     },
     "execution_count": 16,
     "metadata": {},
     "output_type": "execute_result"
    }
   ],
   "source": [
    "c[0:100:1]"
   ]
  },
  {
   "cell_type": "code",
   "execution_count": 19,
   "id": "e22487b5",
   "metadata": {},
   "outputs": [
    {
     "data": {
      "text/plain": [
       "1"
      ]
     },
     "execution_count": 19,
     "metadata": {},
     "output_type": "execute_result"
    }
   ],
   "source": [
    "c.count(\"naveen\")"
   ]
  },
  {
   "cell_type": "code",
   "execution_count": 31,
   "id": "6d130bb9",
   "metadata": {},
   "outputs": [],
   "source": [
    "c = (\"naveen\",\"babblu\",\"rahul\",\"ramaKrishna\",\"sita\")"
   ]
  },
  {
   "cell_type": "code",
   "execution_count": 32,
   "id": "058ec78f",
   "metadata": {},
   "outputs": [
    {
     "data": {
      "text/plain": [
       "'naveen'"
      ]
     },
     "execution_count": 32,
     "metadata": {},
     "output_type": "execute_result"
    }
   ],
   "source": [
    "c[0]"
   ]
  },
  {
   "cell_type": "code",
   "execution_count": 33,
   "id": "2085d715",
   "metadata": {},
   "outputs": [
    {
     "data": {
      "text/plain": [
       "'naveen'"
      ]
     },
     "execution_count": 33,
     "metadata": {},
     "output_type": "execute_result"
    }
   ],
   "source": [
    "c[0]"
   ]
  },
  {
   "cell_type": "code",
   "execution_count": 41,
   "id": "22cb2fa7",
   "metadata": {},
   "outputs": [],
   "source": [
    "c = [10]"
   ]
  },
  {
   "cell_type": "code",
   "execution_count": 42,
   "id": "279b01b9",
   "metadata": {},
   "outputs": [
    {
     "data": {
      "text/plain": [
       "[10]"
      ]
     },
     "execution_count": 42,
     "metadata": {},
     "output_type": "execute_result"
    }
   ],
   "source": [
    "c"
   ]
  },
  {
   "cell_type": "code",
   "execution_count": 45,
   "id": "aba331a4",
   "metadata": {},
   "outputs": [
    {
     "data": {
      "text/plain": [
       "range(0, 10)"
      ]
     },
     "execution_count": 45,
     "metadata": {},
     "output_type": "execute_result"
    }
   ],
   "source": [
    "range(10)"
   ]
  },
  {
   "cell_type": "code",
   "execution_count": 46,
   "id": "1798a237",
   "metadata": {},
   "outputs": [],
   "source": [
    "list = range(10)"
   ]
  },
  {
   "cell_type": "code",
   "execution_count": 47,
   "id": "273e5b16",
   "metadata": {},
   "outputs": [
    {
     "name": "stdout",
     "output_type": "stream",
     "text": [
      "range(0, 10)\n"
     ]
    }
   ],
   "source": [
    "print(list)"
   ]
  },
  {
   "cell_type": "code",
   "execution_count": 57,
   "id": "da49cd8c",
   "metadata": {},
   "outputs": [],
   "source": [
    "c = \"Adepu_sai_naveen\""
   ]
  },
  {
   "cell_type": "code",
   "execution_count": 58,
   "id": "031e1eaa",
   "metadata": {},
   "outputs": [
    {
     "data": {
      "text/plain": [
       "'Adepu_sai_naveen'"
      ]
     },
     "execution_count": 58,
     "metadata": {},
     "output_type": "execute_result"
    }
   ],
   "source": [
    "c"
   ]
  },
  {
   "cell_type": "code",
   "execution_count": 59,
   "id": "74dfb862",
   "metadata": {},
   "outputs": [
    {
     "data": {
      "text/plain": [
       "'A'"
      ]
     },
     "execution_count": 59,
     "metadata": {},
     "output_type": "execute_result"
    }
   ],
   "source": [
    "c[0]"
   ]
  },
  {
   "cell_type": "code",
   "execution_count": 60,
   "id": "e3c33b88",
   "metadata": {},
   "outputs": [
    {
     "data": {
      "text/plain": [
       "'n'"
      ]
     },
     "execution_count": 60,
     "metadata": {},
     "output_type": "execute_result"
    }
   ],
   "source": [
    "c[10]"
   ]
  },
  {
   "cell_type": "code",
   "execution_count": 61,
   "id": "a4b4925f",
   "metadata": {},
   "outputs": [
    {
     "ename": "IndexError",
     "evalue": "string index out of range",
     "output_type": "error",
     "traceback": [
      "\u001b[1;31m---------------------------------------------------------------------------\u001b[0m",
      "\u001b[1;31mIndexError\u001b[0m                                Traceback (most recent call last)",
      "\u001b[1;32m~\\AppData\\Local\\Temp\\ipykernel_708\\2687931364.py\u001b[0m in \u001b[0;36m<module>\u001b[1;34m\u001b[0m\n\u001b[1;32m----> 1\u001b[1;33m \u001b[0mc\u001b[0m\u001b[1;33m[\u001b[0m\u001b[1;36m100\u001b[0m\u001b[1;33m]\u001b[0m\u001b[1;33m\u001b[0m\u001b[1;33m\u001b[0m\u001b[0m\n\u001b[0m",
      "\u001b[1;31mIndexError\u001b[0m: string index out of range"
     ]
    }
   ],
   "source": [
    "c[100]"
   ]
  },
  {
   "cell_type": "code",
   "execution_count": 62,
   "id": "b2907696",
   "metadata": {},
   "outputs": [
    {
     "data": {
      "text/plain": [
       "range(0, 100)"
      ]
     },
     "execution_count": 62,
     "metadata": {},
     "output_type": "execute_result"
    }
   ],
   "source": [
    "range(0,100)"
   ]
  },
  {
   "cell_type": "code",
   "execution_count": 64,
   "id": "4e326d5e",
   "metadata": {},
   "outputs": [
    {
     "name": "stdout",
     "output_type": "stream",
     "text": [
      "0\n",
      "1\n",
      "2\n",
      "3\n",
      "4\n",
      "5\n",
      "6\n",
      "7\n",
      "8\n",
      "9\n"
     ]
    }
   ],
   "source": [
    "for i in range(0,10):\n",
    "    print(i)"
   ]
  },
  {
   "cell_type": "code",
   "execution_count": 65,
   "id": "2432d772",
   "metadata": {},
   "outputs": [
    {
     "name": "stdout",
     "output_type": "stream",
     "text": [
      "1\n",
      "2\n",
      "3\n",
      "4\n",
      "5\n",
      "6\n",
      "7\n",
      "8\n",
      "9\n"
     ]
    }
   ],
   "source": [
    "for i in range(1,10):\n",
    "    print(i)"
   ]
  },
  {
   "cell_type": "code",
   "execution_count": 73,
   "id": "3310b633",
   "metadata": {},
   "outputs": [
    {
     "ename": "SyntaxError",
     "evalue": "'yield' outside function (2219288776.py, line 2)",
     "output_type": "error",
     "traceback": [
      "\u001b[1;36m  File \u001b[1;32m\"C:\\Users\\Naveen\\AppData\\Local\\Temp\\ipykernel_708\\2219288776.py\"\u001b[1;36m, line \u001b[1;32m2\u001b[0m\n\u001b[1;33m    yield(i)\u001b[0m\n\u001b[1;37m    ^\u001b[0m\n\u001b[1;31mSyntaxError\u001b[0m\u001b[1;31m:\u001b[0m 'yield' outside function\n"
     ]
    }
   ],
   "source": [
    "for i in range(1,10):\n",
    "    yield(i)"
   ]
  },
  {
   "cell_type": "code",
   "execution_count": 78,
   "id": "27c37195",
   "metadata": {},
   "outputs": [],
   "source": [
    "for i in range(1,200):\n",
    "    continue\n"
   ]
  },
  {
   "cell_type": "code",
   "execution_count": 79,
   "id": "4e6c34cd",
   "metadata": {},
   "outputs": [
    {
     "ename": "SyntaxError",
     "evalue": "'yield' outside function (2283680279.py, line 1)",
     "output_type": "error",
     "traceback": [
      "\u001b[1;36m  File \u001b[1;32m\"C:\\Users\\Naveen\\AppData\\Local\\Temp\\ipykernel_708\\2283680279.py\"\u001b[1;36m, line \u001b[1;32m1\u001b[0m\n\u001b[1;33m    yield(i)\u001b[0m\n\u001b[1;37m    ^\u001b[0m\n\u001b[1;31mSyntaxError\u001b[0m\u001b[1;31m:\u001b[0m 'yield' outside function\n"
     ]
    }
   ],
   "source": [
    "yield(i)"
   ]
  },
  {
   "cell_type": "code",
   "execution_count": 80,
   "id": "1bad1039",
   "metadata": {},
   "outputs": [],
   "source": [
    "def fun_generator():\n",
    "    yield \"Hello world!!\"\n",
    "    yield \"Geeksforgeeks\""
   ]
  },
  {
   "cell_type": "code",
   "execution_count": 81,
   "id": "bdc46ea1",
   "metadata": {},
   "outputs": [
    {
     "data": {
      "text/plain": [
       "<generator object fun_generator at 0x0000020B13578040>"
      ]
     },
     "execution_count": 81,
     "metadata": {},
     "output_type": "execute_result"
    }
   ],
   "source": [
    "fun_generator()"
   ]
  },
  {
   "cell_type": "code",
   "execution_count": 82,
   "id": "b6fbee4e",
   "metadata": {},
   "outputs": [],
   "source": [
    "s =\"\"\"Data science is an interdisciplinary academic field [1] that uses statistics, scientific computing, scientific methods, processes, algorithms and systems to extract or extrapolate knowledge and insights from noisy, structured, and unstructured data.[2]\\n\\nData science also integrates domain knowledge from the underlying application domain (e.g., natural sciences, information technology, and medicine).[3] Data science is multifaceted and can be described as a science, a research paradigm, a research method, a discipline, a workflow, and a profession.[4]\\n\\nData science is a \"concept to unify statistics, data analysis, informatics, and their related methods\" in order to \"understand and analyse actual phenomena\" with data.[5] It uses techniques and theories drawn from many fields within the context of mathematics, statistics, computer science, information science, and domain knowledge.[6] However, data science is different from computer science and information science. Turing Award winner Jim Gray imagined data science as a \"fourth paradigm\" of science (empirical, theoretical, computational, and now data-driven) and asserted that \"everything about science is changing because of the impact of information technology\" and the data deluge.[7][8]'\"\"\""
   ]
  },
  {
   "cell_type": "code",
   "execution_count": 83,
   "id": "d0c9f275",
   "metadata": {},
   "outputs": [
    {
     "data": {
      "text/plain": [
       "'Data science is an interdisciplinary academic field [1] that uses statistics, scientific computing, scientific methods, processes, algorithms and systems to extract or extrapolate knowledge and insights from noisy, structured, and unstructured data.[2]\\n\\nData science also integrates domain knowledge from the underlying application domain (e.g., natural sciences, information technology, and medicine).[3] Data science is multifaceted and can be described as a science, a research paradigm, a research method, a discipline, a workflow, and a profession.[4]\\n\\nData science is a \"concept to unify statistics, data analysis, informatics, and their related methods\" in order to \"understand and analyse actual phenomena\" with data.[5] It uses techniques and theories drawn from many fields within the context of mathematics, statistics, computer science, information science, and domain knowledge.[6] However, data science is different from computer science and information science. Turing Award winner Jim Gray imagined data science as a \"fourth paradigm\" of science (empirical, theoretical, computational, and now data-driven) and asserted that \"everything about science is changing because of the impact of information technology\" and the data deluge.[7][8]\\''"
      ]
     },
     "execution_count": 83,
     "metadata": {},
     "output_type": "execute_result"
    }
   ],
   "source": [
    "s"
   ]
  },
  {
   "cell_type": "code",
   "execution_count": 84,
   "id": "1fc6c663",
   "metadata": {},
   "outputs": [
    {
     "data": {
      "text/plain": [
       "'DATA SCIENCE IS AN INTERDISCIPLINARY ACADEMIC FIELD [1] THAT USES STATISTICS, SCIENTIFIC COMPUTING, SCIENTIFIC METHODS, PROCESSES, ALGORITHMS AND SYSTEMS TO EXTRACT OR EXTRAPOLATE KNOWLEDGE AND INSIGHTS FROM NOISY, STRUCTURED, AND UNSTRUCTURED DATA.[2]\\n\\nDATA SCIENCE ALSO INTEGRATES DOMAIN KNOWLEDGE FROM THE UNDERLYING APPLICATION DOMAIN (E.G., NATURAL SCIENCES, INFORMATION TECHNOLOGY, AND MEDICINE).[3] DATA SCIENCE IS MULTIFACETED AND CAN BE DESCRIBED AS A SCIENCE, A RESEARCH PARADIGM, A RESEARCH METHOD, A DISCIPLINE, A WORKFLOW, AND A PROFESSION.[4]\\n\\nDATA SCIENCE IS A \"CONCEPT TO UNIFY STATISTICS, DATA ANALYSIS, INFORMATICS, AND THEIR RELATED METHODS\" IN ORDER TO \"UNDERSTAND AND ANALYSE ACTUAL PHENOMENA\" WITH DATA.[5] IT USES TECHNIQUES AND THEORIES DRAWN FROM MANY FIELDS WITHIN THE CONTEXT OF MATHEMATICS, STATISTICS, COMPUTER SCIENCE, INFORMATION SCIENCE, AND DOMAIN KNOWLEDGE.[6] HOWEVER, DATA SCIENCE IS DIFFERENT FROM COMPUTER SCIENCE AND INFORMATION SCIENCE. TURING AWARD WINNER JIM GRAY IMAGINED DATA SCIENCE AS A \"FOURTH PARADIGM\" OF SCIENCE (EMPIRICAL, THEORETICAL, COMPUTATIONAL, AND NOW DATA-DRIVEN) AND ASSERTED THAT \"EVERYTHING ABOUT SCIENCE IS CHANGING BECAUSE OF THE IMPACT OF INFORMATION TECHNOLOGY\" AND THE DATA DELUGE.[7][8]\\''"
      ]
     },
     "execution_count": 84,
     "metadata": {},
     "output_type": "execute_result"
    }
   ],
   "source": [
    "s.upper()"
   ]
  },
  {
   "cell_type": "code",
   "execution_count": 87,
   "id": "9ae03a74",
   "metadata": {},
   "outputs": [
    {
     "data": {
      "text/plain": [
       "'data science is an interdisciplinary academic field [1] that uses statistics, scientific computing, scientific methods, processes, algorithms and systems to extract or extrapolate knowledge and insights from noisy, structured, and unstructured data.[2]\\n\\ndata science also integrates domain knowledge from the underlying application domain (e.g., natural sciences, information technology, and medicine).[3] data science is multifaceted and can be described as a science, a research paradigm, a research method, a discipline, a workflow, and a profession.[4]\\n\\ndata science is a \"concept to unify statistics, data analysis, informatics, and their related methods\" in order to \"understand and analyse actual phenomena\" with data.[5] it uses techniques and theories drawn from many fields within the context of mathematics, statistics, computer science, information science, and domain knowledge.[6] however, data science is different from computer science and information science. turing award winner jim gray imagined data science as a \"fourth paradigm\" of science (empirical, theoretical, computational, and now data-driven) and asserted that \"everything about science is changing because of the impact of information technology\" and the data deluge.[7][8]\\''"
      ]
     },
     "execution_count": 87,
     "metadata": {},
     "output_type": "execute_result"
    }
   ],
   "source": [
    "s.lower()"
   ]
  },
  {
   "cell_type": "code",
   "execution_count": 88,
   "id": "17f5d352",
   "metadata": {},
   "outputs": [
    {
     "data": {
      "text/plain": [
       "'data science is an interdisciplinary academic field [1] that uses statistics, scientific computing, scientific methods, processes, algorithms and systems to extract or extrapolate knowledge and insights from noisy, structured, and unstructured data.[2]\\n\\ndata science also integrates domain knowledge from the underlying application domain (e.g., natural sciences, information technology, and medicine).[3] data science is multifaceted and can be described as a science, a research paradigm, a research method, a discipline, a workflow, and a profession.[4]\\n\\ndata science is a \"concept to unify statistics, data analysis, informatics, and their related methods\" in order to \"understand and analyse actual phenomena\" with data.[5] it uses techniques and theories drawn from many fields within the context of mathematics, statistics, computer science, information science, and domain knowledge.[6] however, data science is different from computer science and information science. turing award winner jim gray imagined data science as a \"fourth paradigm\" of science (empirical, theoretical, computational, and now data-driven) and asserted that \"everything about science is changing because of the impact of information technology\" and the data deluge.[7][8]\\''"
      ]
     },
     "execution_count": 88,
     "metadata": {},
     "output_type": "execute_result"
    }
   ],
   "source": [
    "s.casefold()"
   ]
  },
  {
   "cell_type": "code",
   "execution_count": 94,
   "id": "47ced33c",
   "metadata": {},
   "outputs": [
    {
     "ename": "NameError",
     "evalue": "name 'science' is not defined",
     "output_type": "error",
     "traceback": [
      "\u001b[1;31m---------------------------------------------------------------------------\u001b[0m",
      "\u001b[1;31mNameError\u001b[0m                                 Traceback (most recent call last)",
      "\u001b[1;32m~\\AppData\\Local\\Temp\\ipykernel_708\\3568978915.py\u001b[0m in \u001b[0;36m<module>\u001b[1;34m\u001b[0m\n\u001b[1;32m----> 1\u001b[1;33m \u001b[0ms\u001b[0m\u001b[1;33m.\u001b[0m\u001b[0mcenter\u001b[0m\u001b[1;33m(\u001b[0m\u001b[0mscience\u001b[0m\u001b[1;33m)\u001b[0m\u001b[1;33m\u001b[0m\u001b[1;33m\u001b[0m\u001b[0m\n\u001b[0m",
      "\u001b[1;31mNameError\u001b[0m: name 'science' is not defined"
     ]
    }
   ],
   "source": [
    "s.center()"
   ]
  },
  {
   "cell_type": "code",
   "execution_count": 107,
   "id": "6bb559c1",
   "metadata": {},
   "outputs": [],
   "source": [
    "s1 = \"_naveen_\""
   ]
  },
  {
   "cell_type": "code",
   "execution_count": 108,
   "id": "7f64919c",
   "metadata": {},
   "outputs": [
    {
     "data": {
      "text/plain": [
       "'@@@@@@_naveen_@@@@@@'"
      ]
     },
     "execution_count": 108,
     "metadata": {},
     "output_type": "execute_result"
    }
   ],
   "source": [
    "s1.center(20,\"@\")"
   ]
  },
  {
   "cell_type": "code",
   "execution_count": 109,
   "id": "359d626e",
   "metadata": {},
   "outputs": [
    {
     "data": {
      "text/plain": [
       "'######_naveen_######'"
      ]
     },
     "execution_count": 109,
     "metadata": {},
     "output_type": "execute_result"
    }
   ],
   "source": [
    "s1.center(20,\"#\")"
   ]
  },
  {
   "cell_type": "code",
   "execution_count": 115,
   "id": "b30cf29d",
   "metadata": {},
   "outputs": [
    {
     "data": {
      "text/plain": [
       "3"
      ]
     },
     "execution_count": 115,
     "metadata": {},
     "output_type": "execute_result"
    }
   ],
   "source": [
    "s.count(\"knowledge\")"
   ]
  },
  {
   "cell_type": "code",
   "execution_count": 118,
   "id": "8c7439ff",
   "metadata": {},
   "outputs": [
    {
     "data": {
      "text/plain": [
       "b'Data science is an interdisciplinary academic field [1] that uses statistics, scientific computing, scientific methods, processes, algorithms and systems to extract or extrapolate knowledge and insights from noisy, structured, and unstructured data.[2]\\n\\nData science also integrates domain knowledge from the underlying application domain (e.g., natural sciences, information technology, and medicine).[3] Data science is multifaceted and can be described as a science, a research paradigm, a research method, a discipline, a workflow, and a profession.[4]\\n\\nData science is a \"concept to unify statistics, data analysis, informatics, and their related methods\" in order to \"understand and analyse actual phenomena\" with data.[5] It uses techniques and theories drawn from many fields within the context of mathematics, statistics, computer science, information science, and domain knowledge.[6] However, data science is different from computer science and information science. Turing Award winner Jim Gray imagined data science as a \"fourth paradigm\" of science (empirical, theoretical, computational, and now data-driven) and asserted that \"everything about science is changing because of the impact of information technology\" and the data deluge.[7][8]\\''"
      ]
     },
     "execution_count": 118,
     "metadata": {},
     "output_type": "execute_result"
    }
   ],
   "source": [
    "s.encode()"
   ]
  },
  {
   "cell_type": "code",
   "execution_count": 122,
   "id": "0d8d07cf",
   "metadata": {},
   "outputs": [],
   "source": [
    "s = (\"naveen\", \"krishna\", \"rama\",\"godavari\",\"car\")"
   ]
  },
  {
   "cell_type": "code",
   "execution_count": 123,
   "id": "56dc2dfa",
   "metadata": {},
   "outputs": [
    {
     "data": {
      "text/plain": [
       "('naveen', 'krishna', 'rama', 'godavari', 'car')"
      ]
     },
     "execution_count": 123,
     "metadata": {},
     "output_type": "execute_result"
    }
   ],
   "source": [
    "s"
   ]
  },
  {
   "cell_type": "code",
   "execution_count": 124,
   "id": "07add0e4",
   "metadata": {},
   "outputs": [
    {
     "ename": "TypeError",
     "evalue": "'tuple' object does not support item assignment",
     "output_type": "error",
     "traceback": [
      "\u001b[1;31m---------------------------------------------------------------------------\u001b[0m",
      "\u001b[1;31mTypeError\u001b[0m                                 Traceback (most recent call last)",
      "\u001b[1;32m~\\AppData\\Local\\Temp\\ipykernel_708\\2187691538.py\u001b[0m in \u001b[0;36m<module>\u001b[1;34m\u001b[0m\n\u001b[1;32m----> 1\u001b[1;33m \u001b[0ms\u001b[0m\u001b[1;33m[\u001b[0m\u001b[1;36m0\u001b[0m\u001b[1;33m]\u001b[0m\u001b[1;33m=\u001b[0m\u001b[1;34m\"babblu\"\u001b[0m\u001b[1;33m\u001b[0m\u001b[1;33m\u001b[0m\u001b[0m\n\u001b[0m",
      "\u001b[1;31mTypeError\u001b[0m: 'tuple' object does not support item assignment"
     ]
    }
   ],
   "source": [
    "s[0]=\"babblu\""
   ]
  },
  {
   "cell_type": "code",
   "execution_count": 125,
   "id": "a9634697",
   "metadata": {},
   "outputs": [],
   "source": [
    "s1 = [1,2,3,4,5,6,7,8]"
   ]
  },
  {
   "cell_type": "code",
   "execution_count": 126,
   "id": "bfb12dfd",
   "metadata": {},
   "outputs": [],
   "source": [
    "s1[0]=\"naveen\""
   ]
  },
  {
   "cell_type": "code",
   "execution_count": 127,
   "id": "912fbda4",
   "metadata": {},
   "outputs": [
    {
     "data": {
      "text/plain": [
       "['naveen', 2, 3, 4, 5, 6, 7, 8]"
      ]
     },
     "execution_count": 127,
     "metadata": {},
     "output_type": "execute_result"
    }
   ],
   "source": [
    "s1"
   ]
  },
  {
   "cell_type": "code",
   "execution_count": 128,
   "id": "f4d1be7d",
   "metadata": {},
   "outputs": [],
   "source": [
    "s1.append(\"rama\")"
   ]
  },
  {
   "cell_type": "code",
   "execution_count": 129,
   "id": "acf134c7",
   "metadata": {},
   "outputs": [
    {
     "data": {
      "text/plain": [
       "['naveen', 2, 3, 4, 5, 6, 7, 8, 'rama']"
      ]
     },
     "execution_count": 129,
     "metadata": {},
     "output_type": "execute_result"
    }
   ],
   "source": [
    "s1"
   ]
  },
  {
   "cell_type": "code",
   "execution_count": 135,
   "id": "cbc4100a",
   "metadata": {},
   "outputs": [],
   "source": [
    "s1.append(\"rama1\")"
   ]
  },
  {
   "cell_type": "code",
   "execution_count": 136,
   "id": "3991e6c4",
   "metadata": {},
   "outputs": [
    {
     "data": {
      "text/plain": [
       "['naveen', 2, 3, 4, 5, 6, 7, 8, 'rama', 'rama', 'rama1', 'rama1']"
      ]
     },
     "execution_count": 136,
     "metadata": {},
     "output_type": "execute_result"
    }
   ],
   "source": [
    "s1"
   ]
  },
  {
   "cell_type": "code",
   "execution_count": 137,
   "id": "cb3bbc6e",
   "metadata": {},
   "outputs": [],
   "source": [
    "s1.append(abs)"
   ]
  },
  {
   "cell_type": "code",
   "execution_count": 138,
   "id": "567d6baf",
   "metadata": {},
   "outputs": [
    {
     "data": {
      "text/plain": [
       "['naveen',\n",
       " 2,\n",
       " 3,\n",
       " 4,\n",
       " 5,\n",
       " 6,\n",
       " 7,\n",
       " 8,\n",
       " 'rama',\n",
       " 'rama',\n",
       " 'rama1',\n",
       " 'rama1',\n",
       " <function abs(x, /)>]"
      ]
     },
     "execution_count": 138,
     "metadata": {},
     "output_type": "execute_result"
    }
   ],
   "source": [
    "s1"
   ]
  },
  {
   "cell_type": "code",
   "execution_count": 139,
   "id": "e2ec9214",
   "metadata": {},
   "outputs": [],
   "source": [
    "s1.append(all)"
   ]
  },
  {
   "cell_type": "code",
   "execution_count": 140,
   "id": "ce730952",
   "metadata": {},
   "outputs": [
    {
     "data": {
      "text/plain": [
       "['naveen',\n",
       " 2,\n",
       " 3,\n",
       " 4,\n",
       " 5,\n",
       " 6,\n",
       " 7,\n",
       " 8,\n",
       " 'rama',\n",
       " 'rama',\n",
       " 'rama1',\n",
       " 'rama1',\n",
       " <function abs(x, /)>,\n",
       " <function all(iterable, /)>]"
      ]
     },
     "execution_count": 140,
     "metadata": {},
     "output_type": "execute_result"
    }
   ],
   "source": [
    "s1"
   ]
  },
  {
   "cell_type": "code",
   "execution_count": 141,
   "id": "3ed4d8d0",
   "metadata": {},
   "outputs": [],
   "source": [
    "s1.append(ArithmeticError)"
   ]
  },
  {
   "cell_type": "code",
   "execution_count": 142,
   "id": "341d68a7",
   "metadata": {},
   "outputs": [
    {
     "data": {
      "text/plain": [
       "['naveen',\n",
       " 2,\n",
       " 3,\n",
       " 4,\n",
       " 5,\n",
       " 6,\n",
       " 7,\n",
       " 8,\n",
       " 'rama',\n",
       " 'rama',\n",
       " 'rama1',\n",
       " 'rama1',\n",
       " <function abs(x, /)>,\n",
       " <function all(iterable, /)>,\n",
       " ArithmeticError]"
      ]
     },
     "execution_count": 142,
     "metadata": {},
     "output_type": "execute_result"
    }
   ],
   "source": [
    "s1"
   ]
  },
  {
   "cell_type": "code",
   "execution_count": 143,
   "id": "2e79cfba",
   "metadata": {},
   "outputs": [
    {
     "data": {
      "text/plain": [
       "['naveen',\n",
       " 2,\n",
       " 3,\n",
       " 4,\n",
       " 5,\n",
       " 6,\n",
       " 7,\n",
       " 8,\n",
       " 'rama',\n",
       " 'rama',\n",
       " 'rama1',\n",
       " 'rama1',\n",
       " <function abs(x, /)>,\n",
       " <function all(iterable, /)>,\n",
       " ArithmeticError]"
      ]
     },
     "execution_count": 143,
     "metadata": {},
     "output_type": "execute_result"
    }
   ],
   "source": [
    "s1"
   ]
  },
  {
   "cell_type": "code",
   "execution_count": 144,
   "id": "829ca39f",
   "metadata": {},
   "outputs": [],
   "source": [
    "s1.reverse()"
   ]
  },
  {
   "cell_type": "code",
   "execution_count": 145,
   "id": "229dc595",
   "metadata": {},
   "outputs": [
    {
     "data": {
      "text/plain": [
       "[ArithmeticError,\n",
       " <function all(iterable, /)>,\n",
       " <function abs(x, /)>,\n",
       " 'rama1',\n",
       " 'rama1',\n",
       " 'rama',\n",
       " 'rama',\n",
       " 8,\n",
       " 7,\n",
       " 6,\n",
       " 5,\n",
       " 4,\n",
       " 3,\n",
       " 2,\n",
       " 'naveen']"
      ]
     },
     "execution_count": 145,
     "metadata": {},
     "output_type": "execute_result"
    }
   ],
   "source": [
    "s1"
   ]
  },
  {
   "cell_type": "code",
   "execution_count": 146,
   "id": "7c30c3dc",
   "metadata": {},
   "outputs": [],
   "source": [
    "s1.reverse()"
   ]
  },
  {
   "cell_type": "code",
   "execution_count": 147,
   "id": "e5666d51",
   "metadata": {},
   "outputs": [
    {
     "data": {
      "text/plain": [
       "['naveen',\n",
       " 2,\n",
       " 3,\n",
       " 4,\n",
       " 5,\n",
       " 6,\n",
       " 7,\n",
       " 8,\n",
       " 'rama',\n",
       " 'rama',\n",
       " 'rama1',\n",
       " 'rama1',\n",
       " <function abs(x, /)>,\n",
       " <function all(iterable, /)>,\n",
       " ArithmeticError]"
      ]
     },
     "execution_count": 147,
     "metadata": {},
     "output_type": "execute_result"
    }
   ],
   "source": [
    "s1"
   ]
  },
  {
   "cell_type": "code",
   "execution_count": 156,
   "id": "f7fb12b7",
   "metadata": {},
   "outputs": [
    {
     "ename": "TypeError",
     "evalue": "insert expected 2 arguments, got 0",
     "output_type": "error",
     "traceback": [
      "\u001b[1;31m---------------------------------------------------------------------------\u001b[0m",
      "\u001b[1;31mTypeError\u001b[0m                                 Traceback (most recent call last)",
      "\u001b[1;32m~\\AppData\\Local\\Temp\\ipykernel_708\\2933463230.py\u001b[0m in \u001b[0;36m<module>\u001b[1;34m\u001b[0m\n\u001b[1;32m----> 1\u001b[1;33m \u001b[0ms1\u001b[0m\u001b[1;33m.\u001b[0m\u001b[0minsert\u001b[0m\u001b[1;33m(\u001b[0m\u001b[1;33m)\u001b[0m\u001b[1;33m\u001b[0m\u001b[1;33m\u001b[0m\u001b[0m\n\u001b[0m",
      "\u001b[1;31mTypeError\u001b[0m: insert expected 2 arguments, got 0"
     ]
    }
   ],
   "source": [
    "s1.insert()"
   ]
  },
  {
   "cell_type": "code",
   "execution_count": 157,
   "id": "403dff2a",
   "metadata": {},
   "outputs": [],
   "source": [
    "s1.insert(0,\"babblu\")"
   ]
  },
  {
   "cell_type": "code",
   "execution_count": 158,
   "id": "8a6700bb",
   "metadata": {},
   "outputs": [
    {
     "data": {
      "text/plain": [
       "['babblu',\n",
       " 'naveen',\n",
       " 2,\n",
       " 3,\n",
       " 4,\n",
       " 5,\n",
       " 6,\n",
       " 7,\n",
       " 8,\n",
       " 'rama',\n",
       " 'rama',\n",
       " 'rama1',\n",
       " 'rama1',\n",
       " <function abs(x, /)>,\n",
       " <function all(iterable, /)>,\n",
       " ArithmeticError]"
      ]
     },
     "execution_count": 158,
     "metadata": {},
     "output_type": "execute_result"
    }
   ],
   "source": [
    "s1"
   ]
  },
  {
   "cell_type": "code",
   "execution_count": 160,
   "id": "bc37d24f",
   "metadata": {},
   "outputs": [],
   "source": [
    "s1.extend(\"naveen\")"
   ]
  },
  {
   "cell_type": "code",
   "execution_count": 161,
   "id": "e90852c8",
   "metadata": {},
   "outputs": [
    {
     "data": {
      "text/plain": [
       "['babblu',\n",
       " 'naveen',\n",
       " 2,\n",
       " 3,\n",
       " 4,\n",
       " 5,\n",
       " 6,\n",
       " 7,\n",
       " 8,\n",
       " 'rama',\n",
       " 'rama',\n",
       " 'rama1',\n",
       " 'rama1',\n",
       " <function abs(x, /)>,\n",
       " <function all(iterable, /)>,\n",
       " ArithmeticError,\n",
       " 'n',\n",
       " 'a',\n",
       " 'v',\n",
       " 'e',\n",
       " 'e',\n",
       " 'n']"
      ]
     },
     "execution_count": 161,
     "metadata": {},
     "output_type": "execute_result"
    }
   ],
   "source": [
    "s1"
   ]
  },
  {
   "cell_type": "code",
   "execution_count": 162,
   "id": "a523c6e8",
   "metadata": {},
   "outputs": [
    {
     "data": {
      "text/plain": [
       "1"
      ]
     },
     "execution_count": 162,
     "metadata": {},
     "output_type": "execute_result"
    }
   ],
   "source": [
    "s1.count(\"naveen\")"
   ]
  },
  {
   "cell_type": "code",
   "execution_count": 163,
   "id": "9f661443",
   "metadata": {},
   "outputs": [
    {
     "data": {
      "text/plain": [
       "1"
      ]
     },
     "execution_count": 163,
     "metadata": {},
     "output_type": "execute_result"
    }
   ],
   "source": [
    "s1.index(\"naveen\")"
   ]
  },
  {
   "cell_type": "code",
   "execution_count": 166,
   "id": "806f901b",
   "metadata": {},
   "outputs": [
    {
     "data": {
      "text/plain": [
       "['babblu',\n",
       " 'naveen',\n",
       " 2,\n",
       " 3,\n",
       " 4,\n",
       " 5,\n",
       " 6,\n",
       " 7,\n",
       " 8,\n",
       " 'rama',\n",
       " 'rama',\n",
       " 'rama1',\n",
       " 'rama1',\n",
       " <function abs(x, /)>,\n",
       " <function all(iterable, /)>,\n",
       " ArithmeticError,\n",
       " 'n',\n",
       " 'a',\n",
       " 'v',\n",
       " 'e',\n",
       " 'e',\n",
       " 'n']"
      ]
     },
     "execution_count": 166,
     "metadata": {},
     "output_type": "execute_result"
    }
   ],
   "source": [
    "s1"
   ]
  },
  {
   "cell_type": "code",
   "execution_count": 167,
   "id": "1089f1c9",
   "metadata": {},
   "outputs": [
    {
     "data": {
      "text/plain": [
       "'n'"
      ]
     },
     "execution_count": 167,
     "metadata": {},
     "output_type": "execute_result"
    }
   ],
   "source": [
    "s1.pop()"
   ]
  },
  {
   "cell_type": "code",
   "execution_count": 168,
   "id": "5bb5ef6c",
   "metadata": {},
   "outputs": [
    {
     "data": {
      "text/plain": [
       "'e'"
      ]
     },
     "execution_count": 168,
     "metadata": {},
     "output_type": "execute_result"
    }
   ],
   "source": [
    "s1.pop()"
   ]
  },
  {
   "cell_type": "code",
   "execution_count": 170,
   "id": "36b68099",
   "metadata": {},
   "outputs": [],
   "source": [
    "s1.remove(\"babblu\")"
   ]
  },
  {
   "cell_type": "code",
   "execution_count": 171,
   "id": "1e4f23bf",
   "metadata": {},
   "outputs": [
    {
     "data": {
      "text/plain": [
       "['naveen',\n",
       " 2,\n",
       " 3,\n",
       " 4,\n",
       " 5,\n",
       " 6,\n",
       " 7,\n",
       " 8,\n",
       " 'rama',\n",
       " 'rama',\n",
       " 'rama1',\n",
       " 'rama1',\n",
       " <function abs(x, /)>,\n",
       " <function all(iterable, /)>,\n",
       " ArithmeticError,\n",
       " 'n',\n",
       " 'a',\n",
       " 'v',\n",
       " 'e']"
      ]
     },
     "execution_count": 171,
     "metadata": {},
     "output_type": "execute_result"
    }
   ],
   "source": [
    "s1"
   ]
  },
  {
   "cell_type": "code",
   "execution_count": 172,
   "id": "81a6323b",
   "metadata": {},
   "outputs": [],
   "source": [
    "s1.reverse()"
   ]
  },
  {
   "cell_type": "code",
   "execution_count": 173,
   "id": "1e481522",
   "metadata": {},
   "outputs": [
    {
     "data": {
      "text/plain": [
       "['e',\n",
       " 'v',\n",
       " 'a',\n",
       " 'n',\n",
       " ArithmeticError,\n",
       " <function all(iterable, /)>,\n",
       " <function abs(x, /)>,\n",
       " 'rama1',\n",
       " 'rama1',\n",
       " 'rama',\n",
       " 'rama',\n",
       " 8,\n",
       " 7,\n",
       " 6,\n",
       " 5,\n",
       " 4,\n",
       " 3,\n",
       " 2,\n",
       " 'naveen']"
      ]
     },
     "execution_count": 173,
     "metadata": {},
     "output_type": "execute_result"
    }
   ],
   "source": [
    "s1"
   ]
  },
  {
   "cell_type": "code",
   "execution_count": 178,
   "id": "67ebf956",
   "metadata": {},
   "outputs": [],
   "source": [
    "s1.reverse()"
   ]
  },
  {
   "cell_type": "code",
   "execution_count": 179,
   "id": "11b93ae7",
   "metadata": {},
   "outputs": [
    {
     "data": {
      "text/plain": [
       "['naveen',\n",
       " 2,\n",
       " 3,\n",
       " 4,\n",
       " 5,\n",
       " 6,\n",
       " 7,\n",
       " 8,\n",
       " 'rama',\n",
       " 'rama',\n",
       " 'rama1',\n",
       " 'rama1',\n",
       " <function abs(x, /)>,\n",
       " <function all(iterable, /)>,\n",
       " ArithmeticError,\n",
       " 'n',\n",
       " 'a',\n",
       " 'v',\n",
       " 'e']"
      ]
     },
     "execution_count": 179,
     "metadata": {},
     "output_type": "execute_result"
    }
   ],
   "source": [
    "s1"
   ]
  },
  {
   "cell_type": "code",
   "execution_count": 181,
   "id": "fb02d736",
   "metadata": {},
   "outputs": [],
   "source": [
    "s1.reverse()"
   ]
  },
  {
   "cell_type": "code",
   "execution_count": 182,
   "id": "f2e0ee9d",
   "metadata": {},
   "outputs": [
    {
     "data": {
      "text/plain": [
       "['e',\n",
       " 'v',\n",
       " 'a',\n",
       " 'n',\n",
       " ArithmeticError,\n",
       " <function all(iterable, /)>,\n",
       " <function abs(x, /)>,\n",
       " 'rama1',\n",
       " 'rama1',\n",
       " 'rama',\n",
       " 'rama',\n",
       " 8,\n",
       " 7,\n",
       " 6,\n",
       " 5,\n",
       " 4,\n",
       " 3,\n",
       " 2,\n",
       " 'naveen']"
      ]
     },
     "execution_count": 182,
     "metadata": {},
     "output_type": "execute_result"
    }
   ],
   "source": [
    "s1"
   ]
  },
  {
   "cell_type": "code",
   "execution_count": 183,
   "id": "d6cadca1",
   "metadata": {},
   "outputs": [],
   "source": [
    "s1 = (\"naveen\",\"babblu\")"
   ]
  },
  {
   "cell_type": "code",
   "execution_count": 184,
   "id": "b595baa9",
   "metadata": {},
   "outputs": [
    {
     "data": {
      "text/plain": [
       "'naveen'"
      ]
     },
     "execution_count": 184,
     "metadata": {},
     "output_type": "execute_result"
    }
   ],
   "source": [
    "s1[0]"
   ]
  },
  {
   "cell_type": "code",
   "execution_count": 185,
   "id": "c7b191a3",
   "metadata": {},
   "outputs": [
    {
     "ename": "TypeError",
     "evalue": "'tuple' object does not support item assignment",
     "output_type": "error",
     "traceback": [
      "\u001b[1;31m---------------------------------------------------------------------------\u001b[0m",
      "\u001b[1;31mTypeError\u001b[0m                                 Traceback (most recent call last)",
      "\u001b[1;32m~\\AppData\\Local\\Temp\\ipykernel_708\\2211824507.py\u001b[0m in \u001b[0;36m<module>\u001b[1;34m\u001b[0m\n\u001b[1;32m----> 1\u001b[1;33m \u001b[0ms1\u001b[0m\u001b[1;33m[\u001b[0m\u001b[1;36m0\u001b[0m\u001b[1;33m]\u001b[0m\u001b[1;33m=\u001b[0m\u001b[1;34m\"babblu\"\u001b[0m\u001b[1;33m\u001b[0m\u001b[1;33m\u001b[0m\u001b[0m\n\u001b[0m",
      "\u001b[1;31mTypeError\u001b[0m: 'tuple' object does not support item assignment"
     ]
    }
   ],
   "source": [
    "s1[0]=\"babblu\""
   ]
  },
  {
   "cell_type": "code",
   "execution_count": 186,
   "id": "cb8757cd",
   "metadata": {},
   "outputs": [],
   "source": [
    "s2= [1,2,3,4,5,67,78,89]"
   ]
  },
  {
   "cell_type": "code",
   "execution_count": 187,
   "id": "ab639728",
   "metadata": {},
   "outputs": [],
   "source": [
    "s2[0]= \"jack\""
   ]
  },
  {
   "cell_type": "code",
   "execution_count": 188,
   "id": "d377d278",
   "metadata": {},
   "outputs": [
    {
     "data": {
      "text/plain": [
       "['jack', 2, 3, 4, 5, 67, 78, 89]"
      ]
     },
     "execution_count": 188,
     "metadata": {},
     "output_type": "execute_result"
    }
   ],
   "source": [
    "s2"
   ]
  },
  {
   "cell_type": "code",
   "execution_count": 189,
   "id": "cbd8889e",
   "metadata": {},
   "outputs": [],
   "source": [
    "s2.reverse()"
   ]
  },
  {
   "cell_type": "code",
   "execution_count": 190,
   "id": "5158f1fc",
   "metadata": {},
   "outputs": [
    {
     "data": {
      "text/plain": [
       "[89, 78, 67, 5, 4, 3, 2, 'jack']"
      ]
     },
     "execution_count": 190,
     "metadata": {},
     "output_type": "execute_result"
    }
   ],
   "source": [
    "s2"
   ]
  },
  {
   "cell_type": "code",
   "execution_count": 193,
   "id": "b6358bc1",
   "metadata": {},
   "outputs": [],
   "source": [
    "s2.reverse()"
   ]
  },
  {
   "cell_type": "code",
   "execution_count": 194,
   "id": "56a6cebe",
   "metadata": {},
   "outputs": [
    {
     "data": {
      "text/plain": [
       "['jack', 2, 3, 4, 5, 67, 78, 89]"
      ]
     },
     "execution_count": 194,
     "metadata": {},
     "output_type": "execute_result"
    }
   ],
   "source": [
    "s2"
   ]
  },
  {
   "cell_type": "code",
   "execution_count": 195,
   "id": "a43e39e2",
   "metadata": {},
   "outputs": [],
   "source": [
    "s2.reverse()"
   ]
  },
  {
   "cell_type": "code",
   "execution_count": 196,
   "id": "2f626d53",
   "metadata": {},
   "outputs": [
    {
     "data": {
      "text/plain": [
       "[89, 78, 67, 5, 4, 3, 2, 'jack']"
      ]
     },
     "execution_count": 196,
     "metadata": {},
     "output_type": "execute_result"
    }
   ],
   "source": [
    "s2"
   ]
  },
  {
   "cell_type": "code",
   "execution_count": 204,
   "id": "70c03856",
   "metadata": {},
   "outputs": [],
   "source": [
    "s3 =[\"naveen\",\"babblu\",\"Adepu\"]"
   ]
  },
  {
   "cell_type": "code",
   "execution_count": 205,
   "id": "d80b12d6",
   "metadata": {},
   "outputs": [
    {
     "data": {
      "text/plain": [
       "['naveen', 'babblu', 'Adepu']"
      ]
     },
     "execution_count": 205,
     "metadata": {},
     "output_type": "execute_result"
    }
   ],
   "source": [
    "s3"
   ]
  },
  {
   "cell_type": "code",
   "execution_count": 206,
   "id": "0ff17333",
   "metadata": {},
   "outputs": [],
   "source": [
    "s3.reverse()"
   ]
  },
  {
   "cell_type": "code",
   "execution_count": 207,
   "id": "18b76ceb",
   "metadata": {},
   "outputs": [
    {
     "data": {
      "text/plain": [
       "['Adepu', 'babblu', 'naveen']"
      ]
     },
     "execution_count": 207,
     "metadata": {},
     "output_type": "execute_result"
    }
   ],
   "source": [
    "s3"
   ]
  },
  {
   "cell_type": "code",
   "execution_count": 210,
   "id": "b6c2a0d7",
   "metadata": {},
   "outputs": [
    {
     "ename": "TypeError",
     "evalue": "'range' object is not callable",
     "output_type": "error",
     "traceback": [
      "\u001b[1;31m---------------------------------------------------------------------------\u001b[0m",
      "\u001b[1;31mTypeError\u001b[0m                                 Traceback (most recent call last)",
      "\u001b[1;32m~\\AppData\\Local\\Temp\\ipykernel_708\\3020638945.py\u001b[0m in \u001b[0;36m<module>\u001b[1;34m\u001b[0m\n\u001b[1;32m----> 1\u001b[1;33m \u001b[0mlist\u001b[0m\u001b[1;33m(\u001b[0m\u001b[1;36m0\u001b[0m\u001b[1;33m)\u001b[0m\u001b[1;33m\u001b[0m\u001b[1;33m\u001b[0m\u001b[0m\n\u001b[0m",
      "\u001b[1;31mTypeError\u001b[0m: 'range' object is not callable"
     ]
    }
   ],
   "source": [
    "list(0)"
   ]
  },
  {
   "cell_type": "code",
   "execution_count": 211,
   "id": "b07842f8",
   "metadata": {},
   "outputs": [],
   "source": [
    "s3.sort()"
   ]
  },
  {
   "cell_type": "code",
   "execution_count": 212,
   "id": "362ff971",
   "metadata": {},
   "outputs": [
    {
     "data": {
      "text/plain": [
       "['Adepu', 'babblu', 'naveen']"
      ]
     },
     "execution_count": 212,
     "metadata": {},
     "output_type": "execute_result"
    }
   ],
   "source": [
    "s3"
   ]
  },
  {
   "cell_type": "code",
   "execution_count": 213,
   "id": "941b87ba",
   "metadata": {},
   "outputs": [],
   "source": [
    "s3.sort(reverse = True)"
   ]
  },
  {
   "cell_type": "code",
   "execution_count": 214,
   "id": "0c9aa78d",
   "metadata": {},
   "outputs": [
    {
     "data": {
      "text/plain": [
       "['naveen', 'babblu', 'Adepu']"
      ]
     },
     "execution_count": 214,
     "metadata": {},
     "output_type": "execute_result"
    }
   ],
   "source": [
    "s3"
   ]
  },
  {
   "cell_type": "code",
   "execution_count": 217,
   "id": "05e30fa2",
   "metadata": {},
   "outputs": [],
   "source": [
    "s4 = [1,2,3,4,5,56,6,7,8,9,0,-3,-5,-9,-6,-6]"
   ]
  },
  {
   "cell_type": "code",
   "execution_count": 218,
   "id": "da5d7270",
   "metadata": {},
   "outputs": [],
   "source": [
    "s4.sort()"
   ]
  },
  {
   "cell_type": "code",
   "execution_count": 219,
   "id": "a9925c0d",
   "metadata": {},
   "outputs": [
    {
     "data": {
      "text/plain": [
       "[-9, -6, -6, -5, -3, 0, 1, 2, 3, 4, 5, 6, 7, 8, 9, 56]"
      ]
     },
     "execution_count": 219,
     "metadata": {},
     "output_type": "execute_result"
    }
   ],
   "source": [
    "s4"
   ]
  },
  {
   "cell_type": "code",
   "execution_count": 221,
   "id": "4c87a53e",
   "metadata": {},
   "outputs": [],
   "source": [
    "s4.sort(reverse =True)"
   ]
  },
  {
   "cell_type": "code",
   "execution_count": 222,
   "id": "e7751c98",
   "metadata": {},
   "outputs": [
    {
     "data": {
      "text/plain": [
       "[56, 9, 8, 7, 6, 5, 4, 3, 2, 1, 0, -3, -5, -6, -6, -9]"
      ]
     },
     "execution_count": 222,
     "metadata": {},
     "output_type": "execute_result"
    }
   ],
   "source": [
    "s4"
   ]
  },
  {
   "cell_type": "code",
   "execution_count": 225,
   "id": "dc62ad26",
   "metadata": {},
   "outputs": [],
   "source": [
    "d = {\"a\":\"naveen\", 1:\"rahul\", \"naveen\":\"Data science\", 123 : 321}"
   ]
  },
  {
   "cell_type": "code",
   "execution_count": 226,
   "id": "96151b4e",
   "metadata": {},
   "outputs": [
    {
     "data": {
      "text/plain": [
       "{'a': 'naveen', 1: 'rahul', 'naveen': 'Data science', 123: 321}"
      ]
     },
     "execution_count": 226,
     "metadata": {},
     "output_type": "execute_result"
    }
   ],
   "source": [
    "d"
   ]
  },
  {
   "cell_type": "code",
   "execution_count": 227,
   "id": "b15cbe7d",
   "metadata": {},
   "outputs": [
    {
     "data": {
      "text/plain": [
       "dict_keys(['a', 1, 'naveen', 123])"
      ]
     },
     "execution_count": 227,
     "metadata": {},
     "output_type": "execute_result"
    }
   ],
   "source": [
    "d.keys()"
   ]
  },
  {
   "cell_type": "code",
   "execution_count": 229,
   "id": "4aa10d27",
   "metadata": {},
   "outputs": [
    {
     "name": "stdout",
     "output_type": "stream",
     "text": [
      "dict_keys(['a', 1, 'naveen', 123])\n"
     ]
    }
   ],
   "source": [
    "print(d.keys())"
   ]
  },
  {
   "cell_type": "code",
   "execution_count": 230,
   "id": "af2f65e9",
   "metadata": {},
   "outputs": [
    {
     "data": {
      "text/plain": [
       "<function dict.values>"
      ]
     },
     "execution_count": 230,
     "metadata": {},
     "output_type": "execute_result"
    }
   ],
   "source": [
    "d.values"
   ]
  },
  {
   "cell_type": "code",
   "execution_count": 231,
   "id": "980edff0",
   "metadata": {},
   "outputs": [
    {
     "data": {
      "text/plain": [
       "dict_values(['naveen', 'rahul', 'Data science', 321])"
      ]
     },
     "execution_count": 231,
     "metadata": {},
     "output_type": "execute_result"
    }
   ],
   "source": [
    "d.values()"
   ]
  },
  {
   "cell_type": "code",
   "execution_count": 232,
   "id": "85bb614f",
   "metadata": {},
   "outputs": [
    {
     "ename": "KeyError",
     "evalue": "0",
     "output_type": "error",
     "traceback": [
      "\u001b[1;31m---------------------------------------------------------------------------\u001b[0m",
      "\u001b[1;31mKeyError\u001b[0m                                  Traceback (most recent call last)",
      "\u001b[1;32m~\\AppData\\Local\\Temp\\ipykernel_708\\1089268471.py\u001b[0m in \u001b[0;36m<module>\u001b[1;34m\u001b[0m\n\u001b[1;32m----> 1\u001b[1;33m \u001b[0md\u001b[0m\u001b[1;33m[\u001b[0m\u001b[1;36m0\u001b[0m\u001b[1;33m]\u001b[0m\u001b[1;33m\u001b[0m\u001b[1;33m\u001b[0m\u001b[0m\n\u001b[0m",
      "\u001b[1;31mKeyError\u001b[0m: 0"
     ]
    }
   ],
   "source": [
    "d[0]"
   ]
  },
  {
   "cell_type": "code",
   "execution_count": 233,
   "id": "3beac644",
   "metadata": {},
   "outputs": [
    {
     "data": {
      "text/plain": [
       "dict_values(['naveen', 'rahul', 'Data science', 321])"
      ]
     },
     "execution_count": 233,
     "metadata": {},
     "output_type": "execute_result"
    }
   ],
   "source": [
    "d.values()"
   ]
  },
  {
   "cell_type": "code",
   "execution_count": 234,
   "id": "374d4041",
   "metadata": {},
   "outputs": [
    {
     "data": {
      "text/plain": [
       "dict_keys(['a', 1, 'naveen', 123])"
      ]
     },
     "execution_count": 234,
     "metadata": {},
     "output_type": "execute_result"
    }
   ],
   "source": [
    "d.keys()"
   ]
  },
  {
   "cell_type": "code",
   "execution_count": 235,
   "id": "5b895b8b",
   "metadata": {},
   "outputs": [
    {
     "ename": "AttributeError",
     "evalue": "'list' object has no attribute 'discord'",
     "output_type": "error",
     "traceback": [
      "\u001b[1;31m---------------------------------------------------------------------------\u001b[0m",
      "\u001b[1;31mAttributeError\u001b[0m                            Traceback (most recent call last)",
      "\u001b[1;32m~\\AppData\\Local\\Temp\\ipykernel_708\\3640251302.py\u001b[0m in \u001b[0;36m<module>\u001b[1;34m\u001b[0m\n\u001b[1;32m----> 1\u001b[1;33m \u001b[0ms2\u001b[0m\u001b[1;33m.\u001b[0m\u001b[0mdiscord\u001b[0m\u001b[1;33m(\u001b[0m\u001b[1;33m)\u001b[0m\u001b[1;33m\u001b[0m\u001b[1;33m\u001b[0m\u001b[0m\n\u001b[0m",
      "\u001b[1;31mAttributeError\u001b[0m: 'list' object has no attribute 'discord'"
     ]
    }
   ],
   "source": [
    "s2.discord()"
   ]
  },
  {
   "cell_type": "code",
   "execution_count": 243,
   "id": "2cc119f3",
   "metadata": {},
   "outputs": [
    {
     "data": {
      "text/plain": [
       "{'a': 'naveen',\n",
       " 1: 'naveen',\n",
       " 'naveen': 'Data science',\n",
       " 123: 321,\n",
       " 0: 'naveen',\n",
       " 2: 'naveen'}"
      ]
     },
     "execution_count": 243,
     "metadata": {},
     "output_type": "execute_result"
    }
   ],
   "source": [
    "d"
   ]
  },
  {
   "cell_type": "code",
   "execution_count": 244,
   "id": "634382d7",
   "metadata": {},
   "outputs": [],
   "source": [
    "d[2]=\"naveen\""
   ]
  },
  {
   "cell_type": "code",
   "execution_count": 245,
   "id": "aba3a613",
   "metadata": {},
   "outputs": [
    {
     "data": {
      "text/plain": [
       "{'a': 'naveen',\n",
       " 1: 'naveen',\n",
       " 'naveen': 'Data science',\n",
       " 123: 321,\n",
       " 0: 'naveen',\n",
       " 2: 'naveen'}"
      ]
     },
     "execution_count": 245,
     "metadata": {},
     "output_type": "execute_result"
    }
   ],
   "source": [
    "d"
   ]
  },
  {
   "cell_type": "code",
   "execution_count": 246,
   "id": "e7cdcc9b",
   "metadata": {},
   "outputs": [
    {
     "data": {
      "text/plain": [
       "{'a': 'naveen',\n",
       " 1: 'naveen',\n",
       " 'naveen': 'Data science',\n",
       " 123: 321,\n",
       " 0: 'naveen',\n",
       " 2: 'naveen'}"
      ]
     },
     "execution_count": 246,
     "metadata": {},
     "output_type": "execute_result"
    }
   ],
   "source": [
    "d"
   ]
  },
  {
   "cell_type": "code",
   "execution_count": 247,
   "id": "e11f82c7",
   "metadata": {},
   "outputs": [
    {
     "data": {
      "text/plain": [
       "'naveen'"
      ]
     },
     "execution_count": 247,
     "metadata": {},
     "output_type": "execute_result"
    }
   ],
   "source": [
    "d[0]"
   ]
  },
  {
   "cell_type": "code",
   "execution_count": 250,
   "id": "1a315282",
   "metadata": {},
   "outputs": [
    {
     "ename": "TypeError",
     "evalue": "dict.keys() takes no arguments (1 given)",
     "output_type": "error",
     "traceback": [
      "\u001b[1;31m---------------------------------------------------------------------------\u001b[0m",
      "\u001b[1;31mTypeError\u001b[0m                                 Traceback (most recent call last)",
      "\u001b[1;32m~\\AppData\\Local\\Temp\\ipykernel_708\\1415306752.py\u001b[0m in \u001b[0;36m<module>\u001b[1;34m\u001b[0m\n\u001b[1;32m----> 1\u001b[1;33m \u001b[0md\u001b[0m\u001b[1;33m.\u001b[0m\u001b[0mkeys\u001b[0m\u001b[1;33m(\u001b[0m\u001b[1;36m1\u001b[0m\u001b[1;33m)\u001b[0m\u001b[1;33m\u001b[0m\u001b[1;33m\u001b[0m\u001b[0m\n\u001b[0m",
      "\u001b[1;31mTypeError\u001b[0m: dict.keys() takes no arguments (1 given)"
     ]
    }
   ],
   "source": [
    "d.keys()"
   ]
  },
  {
   "cell_type": "code",
   "execution_count": 251,
   "id": "75e41a50",
   "metadata": {},
   "outputs": [
    {
     "data": {
      "text/plain": [
       "{'a': 'naveen',\n",
       " 1: 'naveen',\n",
       " 'naveen': 'Data science',\n",
       " 123: 321,\n",
       " 0: 'naveen',\n",
       " 2: 'naveen'}"
      ]
     },
     "execution_count": 251,
     "metadata": {},
     "output_type": "execute_result"
    }
   ],
   "source": [
    "d"
   ]
  },
  {
   "cell_type": "code",
   "execution_count": 253,
   "id": "f8112f1c",
   "metadata": {},
   "outputs": [],
   "source": [
    "d[\"a\"]=\"Babblu\""
   ]
  },
  {
   "cell_type": "code",
   "execution_count": 254,
   "id": "ed2d73b3",
   "metadata": {},
   "outputs": [
    {
     "data": {
      "text/plain": [
       "{'a': 'Babblu',\n",
       " 1: 'naveen',\n",
       " 'naveen': 'Data science',\n",
       " 123: 321,\n",
       " 0: 'naveen',\n",
       " 2: 'naveen'}"
      ]
     },
     "execution_count": 254,
     "metadata": {},
     "output_type": "execute_result"
    }
   ],
   "source": [
    "d"
   ]
  },
  {
   "cell_type": "code",
   "execution_count": 255,
   "id": "c474c161",
   "metadata": {},
   "outputs": [
    {
     "data": {
      "text/plain": [
       "'naveen'"
      ]
     },
     "execution_count": 255,
     "metadata": {},
     "output_type": "execute_result"
    }
   ],
   "source": [
    "d[2]"
   ]
  },
  {
   "cell_type": "code",
   "execution_count": 256,
   "id": "1a009d83",
   "metadata": {},
   "outputs": [],
   "source": [
    "d[2]=\"science\""
   ]
  },
  {
   "cell_type": "code",
   "execution_count": 257,
   "id": "3965cd7f",
   "metadata": {},
   "outputs": [
    {
     "data": {
      "text/plain": [
       "'science'"
      ]
     },
     "execution_count": 257,
     "metadata": {},
     "output_type": "execute_result"
    }
   ],
   "source": [
    "d[2]"
   ]
  },
  {
   "cell_type": "code",
   "execution_count": 258,
   "id": "df49835e",
   "metadata": {},
   "outputs": [
    {
     "data": {
      "text/plain": [
       "{'a': 'Babblu',\n",
       " 1: 'naveen',\n",
       " 'naveen': 'Data science',\n",
       " 123: 321,\n",
       " 0: 'naveen',\n",
       " 2: 'science'}"
      ]
     },
     "execution_count": 258,
     "metadata": {},
     "output_type": "execute_result"
    }
   ],
   "source": [
    "d"
   ]
  },
  {
   "cell_type": "code",
   "execution_count": 259,
   "id": "7e990a21",
   "metadata": {},
   "outputs": [],
   "source": [
    "d[3]=\"jack\""
   ]
  },
  {
   "cell_type": "code",
   "execution_count": 260,
   "id": "2f4f81cd",
   "metadata": {},
   "outputs": [
    {
     "data": {
      "text/plain": [
       "{'a': 'Babblu',\n",
       " 1: 'naveen',\n",
       " 'naveen': 'Data science',\n",
       " 123: 321,\n",
       " 0: 'naveen',\n",
       " 2: 'science',\n",
       " 3: 'jack'}"
      ]
     },
     "execution_count": 260,
     "metadata": {},
     "output_type": "execute_result"
    }
   ],
   "source": [
    "d"
   ]
  },
  {
   "cell_type": "code",
   "execution_count": 272,
   "id": "2292f441",
   "metadata": {},
   "outputs": [
    {
     "ename": "ValueError",
     "evalue": "dictionary update sequence element #0 has length 1; 2 is required",
     "output_type": "error",
     "traceback": [
      "\u001b[1;31m---------------------------------------------------------------------------\u001b[0m",
      "\u001b[1;31mValueError\u001b[0m                                Traceback (most recent call last)",
      "\u001b[1;32m~\\AppData\\Local\\Temp\\ipykernel_708\\1532200628.py\u001b[0m in \u001b[0;36m<module>\u001b[1;34m\u001b[0m\n\u001b[1;32m----> 1\u001b[1;33m \u001b[0md\u001b[0m\u001b[1;33m.\u001b[0m\u001b[0mupdate\u001b[0m\u001b[1;33m(\u001b[0m\u001b[1;34m\"naveen\"\u001b[0m\u001b[1;33m)\u001b[0m\u001b[1;33m\u001b[0m\u001b[1;33m\u001b[0m\u001b[0m\n\u001b[0m",
      "\u001b[1;31mValueError\u001b[0m: dictionary update sequence element #0 has length 1; 2 is required"
     ]
    }
   ],
   "source": [
    "d.update(\"naveen\")"
   ]
  },
  {
   "cell_type": "code",
   "execution_count": 264,
   "id": "729ea927",
   "metadata": {},
   "outputs": [
    {
     "data": {
      "text/plain": [
       "{'a': 'Babblu',\n",
       " 1: 'naveen',\n",
       " 'naveen': 'Data science',\n",
       " 123: 321,\n",
       " 0: 'naveen',\n",
       " 2: 'science',\n",
       " 3: 'jack'}"
      ]
     },
     "execution_count": 264,
     "metadata": {},
     "output_type": "execute_result"
    }
   ],
   "source": [
    "d"
   ]
  },
  {
   "cell_type": "code",
   "execution_count": 273,
   "id": "ec2f8701",
   "metadata": {},
   "outputs": [],
   "source": [
    "d.update(0,{\"car\": \"white\"})"
   ]
  },
  {
   "cell_type": "code",
   "execution_count": 282,
   "id": "3804a867",
   "metadata": {},
   "outputs": [
    {
     "data": {
      "text/plain": [
       "{0: None, 'naveen': None}"
      ]
     },
     "execution_count": 282,
     "metadata": {},
     "output_type": "execute_result"
    }
   ],
   "source": [
    "d.fromkeys({0:\"mama\",\"naveen\":\"kaka\"})"
   ]
  },
  {
   "cell_type": "code",
   "execution_count": 283,
   "id": "ed20adb1",
   "metadata": {},
   "outputs": [
    {
     "data": {
      "text/plain": [
       "{'a': 'Babblu',\n",
       " 1: 'naveen',\n",
       " 'naveen': 'Data science',\n",
       " 123: 321,\n",
       " 0: 'naveen',\n",
       " 2: 'science',\n",
       " 3: 'jack',\n",
       " 'car': 'white'}"
      ]
     },
     "execution_count": 283,
     "metadata": {},
     "output_type": "execute_result"
    }
   ],
   "source": [
    "d"
   ]
  },
  {
   "cell_type": "code",
   "execution_count": 285,
   "id": "2b3df43a",
   "metadata": {},
   "outputs": [
    {
     "data": {
      "text/plain": [
       "{0: None, 'naveen': None}"
      ]
     },
     "execution_count": 285,
     "metadata": {},
     "output_type": "execute_result"
    }
   ],
   "source": [
    "d.fromkeys({0,\"naveen\"})"
   ]
  },
  {
   "cell_type": "code",
   "execution_count": 1,
   "id": "1799c8cf",
   "metadata": {},
   "outputs": [],
   "source": [
    "s = \"naveen\",\"babblu\",\"krishna\",\"Rahul\",\"preethi\",\"govinda\""
   ]
  },
  {
   "cell_type": "code",
   "execution_count": 2,
   "id": "f67d3fa3",
   "metadata": {},
   "outputs": [
    {
     "data": {
      "text/plain": [
       "('naveen', 'babblu', 'krishna', 'Rahul', 'preethi', 'govinda')"
      ]
     },
     "execution_count": 2,
     "metadata": {},
     "output_type": "execute_result"
    }
   ],
   "source": [
    "s"
   ]
  },
  {
   "cell_type": "code",
   "execution_count": 3,
   "id": "129fc7d1",
   "metadata": {},
   "outputs": [
    {
     "data": {
      "text/plain": [
       "'naveen'"
      ]
     },
     "execution_count": 3,
     "metadata": {},
     "output_type": "execute_result"
    }
   ],
   "source": [
    "s[0]"
   ]
  },
  {
   "cell_type": "code",
   "execution_count": 8,
   "id": "04326d1f",
   "metadata": {},
   "outputs": [
    {
     "data": {
      "text/plain": [
       "'govinda'"
      ]
     },
     "execution_count": 8,
     "metadata": {},
     "output_type": "execute_result"
    }
   ],
   "source": [
    "s[5]"
   ]
  },
  {
   "cell_type": "code",
   "execution_count": 9,
   "id": "bcce5a29",
   "metadata": {},
   "outputs": [
    {
     "data": {
      "text/plain": [
       "'g'"
      ]
     },
     "execution_count": 9,
     "metadata": {},
     "output_type": "execute_result"
    }
   ],
   "source": [
    "s[5][0]"
   ]
  },
  {
   "cell_type": "code",
   "execution_count": 10,
   "id": "2b20e895",
   "metadata": {},
   "outputs": [
    {
     "data": {
      "text/plain": [
       "'o'"
      ]
     },
     "execution_count": 10,
     "metadata": {},
     "output_type": "execute_result"
    }
   ],
   "source": [
    "s[5][1]"
   ]
  },
  {
   "cell_type": "markdown",
   "id": "3543dcd3",
   "metadata": {},
   "source": [
    "# dictionary"
   ]
  },
  {
   "cell_type": "markdown",
   "id": "4a8c04fc",
   "metadata": {},
   "source": [
    "# syntax:  ball = {\"key\": \"value\", \"key2\": \"value2\",\"key3\":\"value3\"}"
   ]
  },
  {
   "cell_type": "markdown",
   "id": "16042516",
   "metadata": {},
   "source": [
    "# key can be any values or variables like :- a,b,,c...etc or things like \"bus\",\"car\",\"book\" or values = 1,2,3,4,5,"
   ]
  },
  {
   "cell_type": "code",
   "execution_count": 13,
   "id": "b9c4df2a",
   "metadata": {},
   "outputs": [],
   "source": [
    "iphone = {\"name\": \"Apple\", \"software\": \"ios\",\"brandlogo\": \"🍎\", \"phone_model\":\"iphone14\", 1 : 30, 9:\"naveen\"}"
   ]
  },
  {
   "cell_type": "code",
   "execution_count": 14,
   "id": "0c729713",
   "metadata": {},
   "outputs": [
    {
     "data": {
      "text/plain": [
       "{'name': 'Apple',\n",
       " 'software': 'ios',\n",
       " 'brandlogo': '🍎',\n",
       " 'phone_model': 'iphone14',\n",
       " 1: 30,\n",
       " 9: 'naveen'}"
      ]
     },
     "execution_count": 14,
     "metadata": {},
     "output_type": "execute_result"
    }
   ],
   "source": [
    "iphone"
   ]
  },
  {
   "cell_type": "code",
   "execution_count": 15,
   "id": "840501e0",
   "metadata": {},
   "outputs": [
    {
     "data": {
      "text/plain": [
       "dict"
      ]
     },
     "execution_count": 15,
     "metadata": {},
     "output_type": "execute_result"
    }
   ],
   "source": [
    "type(iphone)"
   ]
  },
  {
   "cell_type": "code",
   "execution_count": 16,
   "id": "4376a4c2",
   "metadata": {},
   "outputs": [],
   "source": [
    "motorola = {\"moto\",\"g52\", \"brandlogo\",\"model\",\"Android\"}"
   ]
  },
  {
   "cell_type": "code",
   "execution_count": 17,
   "id": "61ebf8de",
   "metadata": {},
   "outputs": [
    {
     "data": {
      "text/plain": [
       "{'Android', 'brandlogo', 'g52', 'model', 'moto'}"
      ]
     },
     "execution_count": 17,
     "metadata": {},
     "output_type": "execute_result"
    }
   ],
   "source": [
    "motorola"
   ]
  },
  {
   "cell_type": "code",
   "execution_count": 18,
   "id": "301b774e",
   "metadata": {},
   "outputs": [
    {
     "data": {
      "text/plain": [
       "set"
      ]
     },
     "execution_count": 18,
     "metadata": {},
     "output_type": "execute_result"
    }
   ],
   "source": [
    "type(motorola)"
   ]
  },
  {
   "cell_type": "code",
   "execution_count": 19,
   "id": "0ee705b8",
   "metadata": {},
   "outputs": [
    {
     "data": {
      "text/plain": [
       "tuple"
      ]
     },
     "execution_count": 19,
     "metadata": {},
     "output_type": "execute_result"
    }
   ],
   "source": [
    "type(s)"
   ]
  },
  {
   "cell_type": "code",
   "execution_count": 20,
   "id": "3171d549",
   "metadata": {},
   "outputs": [],
   "source": [
    "l = list(s)"
   ]
  },
  {
   "cell_type": "code",
   "execution_count": 21,
   "id": "ff1bbb0d",
   "metadata": {},
   "outputs": [
    {
     "data": {
      "text/plain": [
       "['naveen', 'babblu', 'krishna', 'Rahul', 'preethi', 'govinda']"
      ]
     },
     "execution_count": 21,
     "metadata": {},
     "output_type": "execute_result"
    }
   ],
   "source": [
    "l"
   ]
  },
  {
   "cell_type": "code",
   "execution_count": 22,
   "id": "120c8e4c",
   "metadata": {},
   "outputs": [
    {
     "data": {
      "text/plain": [
       "list"
      ]
     },
     "execution_count": 22,
     "metadata": {},
     "output_type": "execute_result"
    }
   ],
   "source": [
    "type(l)"
   ]
  },
  {
   "cell_type": "code",
   "execution_count": 23,
   "id": "fe9bd312",
   "metadata": {},
   "outputs": [],
   "source": [
    "s = set(s)"
   ]
  },
  {
   "cell_type": "code",
   "execution_count": 24,
   "id": "f07ebdc5",
   "metadata": {},
   "outputs": [
    {
     "data": {
      "text/plain": [
       "{'Rahul', 'babblu', 'govinda', 'krishna', 'naveen', 'preethi'}"
      ]
     },
     "execution_count": 24,
     "metadata": {},
     "output_type": "execute_result"
    }
   ],
   "source": [
    "s"
   ]
  },
  {
   "cell_type": "code",
   "execution_count": 25,
   "id": "4dfb23a8",
   "metadata": {},
   "outputs": [
    {
     "data": {
      "text/plain": [
       "set"
      ]
     },
     "execution_count": 25,
     "metadata": {},
     "output_type": "execute_result"
    }
   ],
   "source": [
    "type(s)"
   ]
  },
  {
   "cell_type": "code",
   "execution_count": 26,
   "id": "58b10d90",
   "metadata": {},
   "outputs": [
    {
     "ename": "ValueError",
     "evalue": "dictionary update sequence element #0 has length 7; 2 is required",
     "output_type": "error",
     "traceback": [
      "\u001b[1;31m---------------------------------------------------------------------------\u001b[0m",
      "\u001b[1;31mValueError\u001b[0m                                Traceback (most recent call last)",
      "\u001b[1;32m~\\AppData\\Local\\Temp\\ipykernel_1720\\826506799.py\u001b[0m in \u001b[0;36m<module>\u001b[1;34m\u001b[0m\n\u001b[1;32m----> 1\u001b[1;33m \u001b[0md\u001b[0m \u001b[1;33m=\u001b[0m \u001b[0mdict\u001b[0m\u001b[1;33m(\u001b[0m\u001b[0ms\u001b[0m\u001b[1;33m)\u001b[0m\u001b[1;33m\u001b[0m\u001b[1;33m\u001b[0m\u001b[0m\n\u001b[0m",
      "\u001b[1;31mValueError\u001b[0m: dictionary update sequence element #0 has length 7; 2 is required"
     ]
    }
   ],
   "source": [
    "d = dict(s)"
   ]
  },
  {
   "cell_type": "code",
   "execution_count": 27,
   "id": "e11eb59a",
   "metadata": {},
   "outputs": [
    {
     "data": {
      "text/plain": [
       "set"
      ]
     },
     "execution_count": 27,
     "metadata": {},
     "output_type": "execute_result"
    }
   ],
   "source": [
    "type(s)"
   ]
  },
  {
   "cell_type": "code",
   "execution_count": 30,
   "id": "9a02c2ce",
   "metadata": {},
   "outputs": [],
   "source": [
    "s = tuple(s)\n",
    "d = list(s)\n",
    "s1 = set(s)"
   ]
  },
  {
   "cell_type": "code",
   "execution_count": 33,
   "id": "97803775",
   "metadata": {},
   "outputs": [
    {
     "name": "stdout",
     "output_type": "stream",
     "text": [
      "This is a tuple: ('govinda', 'preethi', 'naveen', 'babblu', 'Rahul', 'krishna')\n",
      "This is a list: ['govinda', 'preethi', 'naveen', 'babblu', 'Rahul', 'krishna']\n",
      "This is a set: {'govinda', 'preethi', 'naveen', 'babblu', 'Rahul', 'krishna'}\n"
     ]
    }
   ],
   "source": [
    "print(\"This is a tuple:\",s)\n",
    "print(\"This is a list:\",d)\n",
    "print(\"This is a set:\",s1)"
   ]
  },
  {
   "cell_type": "code",
   "execution_count": 36,
   "id": "0c0dfc8d",
   "metadata": {},
   "outputs": [],
   "source": [
    "name = \"my name is naveen is naveen i am from hyderabad i stay in nacharam\""
   ]
  },
  {
   "cell_type": "code",
   "execution_count": 37,
   "id": "6cbd9286",
   "metadata": {},
   "outputs": [
    {
     "data": {
      "text/plain": [
       "['m',\n",
       " 'y',\n",
       " ' ',\n",
       " 'n',\n",
       " 'a',\n",
       " 'm',\n",
       " 'e',\n",
       " ' ',\n",
       " 'i',\n",
       " 's',\n",
       " ' ',\n",
       " 'n',\n",
       " 'a',\n",
       " 'v',\n",
       " 'e',\n",
       " 'e',\n",
       " 'n',\n",
       " ' ',\n",
       " 'i',\n",
       " 's',\n",
       " ' ',\n",
       " 'n',\n",
       " 'a',\n",
       " 'v',\n",
       " 'e',\n",
       " 'e',\n",
       " 'n',\n",
       " ' ',\n",
       " 'i',\n",
       " ' ',\n",
       " 'a',\n",
       " 'm',\n",
       " ' ',\n",
       " 'f',\n",
       " 'r',\n",
       " 'o',\n",
       " 'm',\n",
       " ' ',\n",
       " 'h',\n",
       " 'y',\n",
       " 'd',\n",
       " 'e',\n",
       " 'r',\n",
       " 'a',\n",
       " 'b',\n",
       " 'a',\n",
       " 'd',\n",
       " ' ',\n",
       " 'i',\n",
       " ' ',\n",
       " 's',\n",
       " 't',\n",
       " 'a',\n",
       " 'y',\n",
       " ' ',\n",
       " 'i',\n",
       " 'n',\n",
       " ' ',\n",
       " 'n',\n",
       " 'a',\n",
       " 'c',\n",
       " 'h',\n",
       " 'a',\n",
       " 'r',\n",
       " 'a',\n",
       " 'm']"
      ]
     },
     "execution_count": 37,
     "metadata": {},
     "output_type": "execute_result"
    }
   ],
   "source": [
    "list(name)"
   ]
  },
  {
   "cell_type": "code",
   "execution_count": 38,
   "id": "92d02aa9",
   "metadata": {},
   "outputs": [
    {
     "data": {
      "text/plain": [
       "{' ',\n",
       " 'a',\n",
       " 'b',\n",
       " 'c',\n",
       " 'd',\n",
       " 'e',\n",
       " 'f',\n",
       " 'h',\n",
       " 'i',\n",
       " 'm',\n",
       " 'n',\n",
       " 'o',\n",
       " 'r',\n",
       " 's',\n",
       " 't',\n",
       " 'v',\n",
       " 'y'}"
      ]
     },
     "execution_count": 38,
     "metadata": {},
     "output_type": "execute_result"
    }
   ],
   "source": [
    "set(name)"
   ]
  },
  {
   "cell_type": "code",
   "execution_count": 39,
   "id": "13363467",
   "metadata": {},
   "outputs": [
    {
     "data": {
      "text/plain": [
       "('m',\n",
       " 'y',\n",
       " ' ',\n",
       " 'n',\n",
       " 'a',\n",
       " 'm',\n",
       " 'e',\n",
       " ' ',\n",
       " 'i',\n",
       " 's',\n",
       " ' ',\n",
       " 'n',\n",
       " 'a',\n",
       " 'v',\n",
       " 'e',\n",
       " 'e',\n",
       " 'n',\n",
       " ' ',\n",
       " 'i',\n",
       " 's',\n",
       " ' ',\n",
       " 'n',\n",
       " 'a',\n",
       " 'v',\n",
       " 'e',\n",
       " 'e',\n",
       " 'n',\n",
       " ' ',\n",
       " 'i',\n",
       " ' ',\n",
       " 'a',\n",
       " 'm',\n",
       " ' ',\n",
       " 'f',\n",
       " 'r',\n",
       " 'o',\n",
       " 'm',\n",
       " ' ',\n",
       " 'h',\n",
       " 'y',\n",
       " 'd',\n",
       " 'e',\n",
       " 'r',\n",
       " 'a',\n",
       " 'b',\n",
       " 'a',\n",
       " 'd',\n",
       " ' ',\n",
       " 'i',\n",
       " ' ',\n",
       " 's',\n",
       " 't',\n",
       " 'a',\n",
       " 'y',\n",
       " ' ',\n",
       " 'i',\n",
       " 'n',\n",
       " ' ',\n",
       " 'n',\n",
       " 'a',\n",
       " 'c',\n",
       " 'h',\n",
       " 'a',\n",
       " 'r',\n",
       " 'a',\n",
       " 'm')"
      ]
     },
     "execution_count": 39,
     "metadata": {},
     "output_type": "execute_result"
    }
   ],
   "source": [
    "tuple(name)"
   ]
  },
  {
   "cell_type": "code",
   "execution_count": 40,
   "id": "eeb59c30",
   "metadata": {},
   "outputs": [
    {
     "data": {
      "text/plain": [
       "('govinda', 'preethi', 'naveen', 'babblu', 'Rahul', 'krishna')"
      ]
     },
     "execution_count": 40,
     "metadata": {},
     "output_type": "execute_result"
    }
   ],
   "source": [
    "s"
   ]
  },
  {
   "cell_type": "code",
   "execution_count": 41,
   "id": "361539fe",
   "metadata": {},
   "outputs": [
    {
     "data": {
      "text/plain": [
       "'govinda'"
      ]
     },
     "execution_count": 41,
     "metadata": {},
     "output_type": "execute_result"
    }
   ],
   "source": [
    "s[0]"
   ]
  },
  {
   "cell_type": "code",
   "execution_count": 43,
   "id": "e127fd66",
   "metadata": {},
   "outputs": [
    {
     "ename": "TypeError",
     "evalue": "'tuple' object does not support item assignment",
     "output_type": "error",
     "traceback": [
      "\u001b[1;31m---------------------------------------------------------------------------\u001b[0m",
      "\u001b[1;31mTypeError\u001b[0m                                 Traceback (most recent call last)",
      "\u001b[1;32m~\\AppData\\Local\\Temp\\ipykernel_1720\\3265106286.py\u001b[0m in \u001b[0;36m<module>\u001b[1;34m\u001b[0m\n\u001b[1;32m----> 1\u001b[1;33m \u001b[0ms\u001b[0m\u001b[1;33m[\u001b[0m\u001b[1;36m0\u001b[0m\u001b[1;33m]\u001b[0m\u001b[1;33m=\u001b[0m\u001b[1;34m\"Harekrishna\"\u001b[0m\u001b[1;33m\u001b[0m\u001b[1;33m\u001b[0m\u001b[0m\n\u001b[0m",
      "\u001b[1;31mTypeError\u001b[0m: 'tuple' object does not support item assignment"
     ]
    }
   ],
   "source": [
    "s[0]=\"Harekrishna\""
   ]
  },
  {
   "cell_type": "code",
   "execution_count": 44,
   "id": "c74dcc9d",
   "metadata": {},
   "outputs": [
    {
     "data": {
      "text/plain": [
       "['govinda', 'preethi', 'naveen', 'babblu', 'Rahul', 'krishna']"
      ]
     },
     "execution_count": 44,
     "metadata": {},
     "output_type": "execute_result"
    }
   ],
   "source": [
    "list(s)"
   ]
  },
  {
   "cell_type": "code",
   "execution_count": 47,
   "id": "3eaf5d6c",
   "metadata": {},
   "outputs": [
    {
     "data": {
      "text/plain": [
       "['govinda', 'preethi', 'naveen', 'babblu', 'Rahul', 'krishna']"
      ]
     },
     "execution_count": 47,
     "metadata": {},
     "output_type": "execute_result"
    }
   ],
   "source": [
    "list(s)"
   ]
  },
  {
   "cell_type": "code",
   "execution_count": 48,
   "id": "00e23011",
   "metadata": {},
   "outputs": [
    {
     "ename": "TypeError",
     "evalue": "'tuple' object does not support item assignment",
     "output_type": "error",
     "traceback": [
      "\u001b[1;31m---------------------------------------------------------------------------\u001b[0m",
      "\u001b[1;31mTypeError\u001b[0m                                 Traceback (most recent call last)",
      "\u001b[1;32m~\\AppData\\Local\\Temp\\ipykernel_1720\\3265106286.py\u001b[0m in \u001b[0;36m<module>\u001b[1;34m\u001b[0m\n\u001b[1;32m----> 1\u001b[1;33m \u001b[0ms\u001b[0m\u001b[1;33m[\u001b[0m\u001b[1;36m0\u001b[0m\u001b[1;33m]\u001b[0m\u001b[1;33m=\u001b[0m\u001b[1;34m\"Harekrishna\"\u001b[0m\u001b[1;33m\u001b[0m\u001b[1;33m\u001b[0m\u001b[0m\n\u001b[0m",
      "\u001b[1;31mTypeError\u001b[0m: 'tuple' object does not support item assignment"
     ]
    }
   ],
   "source": [
    "s[0]=\"Harekrishna\""
   ]
  },
  {
   "cell_type": "code",
   "execution_count": 49,
   "id": "6060e916",
   "metadata": {},
   "outputs": [
    {
     "data": {
      "text/plain": [
       "('govinda', 'preethi', 'naveen', 'babblu', 'Rahul', 'krishna')"
      ]
     },
     "execution_count": 49,
     "metadata": {},
     "output_type": "execute_result"
    }
   ],
   "source": [
    "s"
   ]
  },
  {
   "cell_type": "code",
   "execution_count": 50,
   "id": "da53112a",
   "metadata": {},
   "outputs": [
    {
     "data": {
      "text/plain": [
       "['govinda', 'preethi', 'naveen', 'babblu', 'Rahul', 'krishna']"
      ]
     },
     "execution_count": 50,
     "metadata": {},
     "output_type": "execute_result"
    }
   ],
   "source": [
    "list(s)"
   ]
  },
  {
   "cell_type": "code",
   "execution_count": 51,
   "id": "5b0b7836",
   "metadata": {},
   "outputs": [
    {
     "name": "stdout",
     "output_type": "stream",
     "text": [
      "('govinda', 'preethi', 'naveen', 'babblu', 'Rahul', 'krishna')\n"
     ]
    }
   ],
   "source": [
    "print(s)"
   ]
  },
  {
   "cell_type": "code",
   "execution_count": 52,
   "id": "35beaac3",
   "metadata": {},
   "outputs": [],
   "source": [
    "s1 = list(s)"
   ]
  },
  {
   "cell_type": "code",
   "execution_count": 53,
   "id": "8a632d48",
   "metadata": {},
   "outputs": [
    {
     "data": {
      "text/plain": [
       "['govinda', 'preethi', 'naveen', 'babblu', 'Rahul', 'krishna']"
      ]
     },
     "execution_count": 53,
     "metadata": {},
     "output_type": "execute_result"
    }
   ],
   "source": [
    "s1"
   ]
  },
  {
   "cell_type": "code",
   "execution_count": 54,
   "id": "826c6ff3",
   "metadata": {},
   "outputs": [],
   "source": [
    "s1[0]=\"Harekrishna\""
   ]
  },
  {
   "cell_type": "code",
   "execution_count": 55,
   "id": "ab795352",
   "metadata": {},
   "outputs": [
    {
     "data": {
      "text/plain": [
       "['Harekrishna', 'preethi', 'naveen', 'babblu', 'Rahul', 'krishna']"
      ]
     },
     "execution_count": 55,
     "metadata": {},
     "output_type": "execute_result"
    }
   ],
   "source": [
    "s1"
   ]
  },
  {
   "cell_type": "code",
   "execution_count": 56,
   "id": "d9c5ead8",
   "metadata": {},
   "outputs": [],
   "source": [
    "s1 =[\"🍎\",\"🚲\",\"📚\",\"👍👍\",\"👌\"]"
   ]
  },
  {
   "cell_type": "code",
   "execution_count": 57,
   "id": "1a05eb9c",
   "metadata": {},
   "outputs": [
    {
     "data": {
      "text/plain": [
       "['🍎', '🚲', '📚', '👍👍', '👌']"
      ]
     },
     "execution_count": 57,
     "metadata": {},
     "output_type": "execute_result"
    }
   ],
   "source": [
    "s1"
   ]
  },
  {
   "cell_type": "code",
   "execution_count": 58,
   "id": "dff00831",
   "metadata": {},
   "outputs": [
    {
     "data": {
      "text/plain": [
       "'🍎'"
      ]
     },
     "execution_count": 58,
     "metadata": {},
     "output_type": "execute_result"
    }
   ],
   "source": [
    "s1[0]"
   ]
  },
  {
   "cell_type": "code",
   "execution_count": 59,
   "id": "4ac6a070",
   "metadata": {},
   "outputs": [],
   "source": [
    "s1[0]=\"🥭\""
   ]
  },
  {
   "cell_type": "code",
   "execution_count": 60,
   "id": "e0387d99",
   "metadata": {},
   "outputs": [
    {
     "data": {
      "text/plain": [
       "['🥭', '🚲', '📚', '👍👍', '👌']"
      ]
     },
     "execution_count": 60,
     "metadata": {},
     "output_type": "execute_result"
    }
   ],
   "source": [
    "s1"
   ]
  },
  {
   "cell_type": "code",
   "execution_count": 61,
   "id": "d780de5e",
   "metadata": {},
   "outputs": [],
   "source": [
    "s1.append(\"🎂\")"
   ]
  },
  {
   "cell_type": "code",
   "execution_count": 62,
   "id": "6967573c",
   "metadata": {},
   "outputs": [
    {
     "data": {
      "text/plain": [
       "['🥭', '🚲', '📚', '👍👍', '👌', '🎂']"
      ]
     },
     "execution_count": 62,
     "metadata": {},
     "output_type": "execute_result"
    }
   ],
   "source": [
    "s1"
   ]
  },
  {
   "cell_type": "code",
   "execution_count": 64,
   "id": "c0432cd5",
   "metadata": {},
   "outputs": [],
   "source": [
    "s1.append(\"🌹\")"
   ]
  },
  {
   "cell_type": "code",
   "execution_count": 65,
   "id": "74bece16",
   "metadata": {},
   "outputs": [
    {
     "data": {
      "text/plain": [
       "['🥭', '🚲', '📚', '👍👍', '👌', '🎂', '🌹']"
      ]
     },
     "execution_count": 65,
     "metadata": {},
     "output_type": "execute_result"
    }
   ],
   "source": [
    "s1"
   ]
  },
  {
   "cell_type": "code",
   "execution_count": 66,
   "id": "a844a604",
   "metadata": {},
   "outputs": [
    {
     "data": {
      "text/plain": [
       "'🌹'"
      ]
     },
     "execution_count": 66,
     "metadata": {},
     "output_type": "execute_result"
    }
   ],
   "source": [
    "s1.pop()"
   ]
  },
  {
   "cell_type": "code",
   "execution_count": 67,
   "id": "27cd5c59",
   "metadata": {},
   "outputs": [
    {
     "data": {
      "text/plain": [
       "['🥭', '🚲', '📚', '👍👍', '👌', '🎂']"
      ]
     },
     "execution_count": 67,
     "metadata": {},
     "output_type": "execute_result"
    }
   ],
   "source": [
    "s1"
   ]
  },
  {
   "cell_type": "code",
   "execution_count": 69,
   "id": "87999f73",
   "metadata": {},
   "outputs": [],
   "source": [
    "s1.insert(0,\"🚜\")"
   ]
  },
  {
   "cell_type": "code",
   "execution_count": 70,
   "id": "07f37880",
   "metadata": {},
   "outputs": [
    {
     "data": {
      "text/plain": [
       "['🚜', '🥭', '🚲', '📚', '👍👍', '👌', '🎂']"
      ]
     },
     "execution_count": 70,
     "metadata": {},
     "output_type": "execute_result"
    }
   ],
   "source": [
    "s1"
   ]
  },
  {
   "cell_type": "code",
   "execution_count": 72,
   "id": "d598a451",
   "metadata": {},
   "outputs": [],
   "source": [
    "s1.reverse()"
   ]
  },
  {
   "cell_type": "code",
   "execution_count": 73,
   "id": "0867728f",
   "metadata": {},
   "outputs": [
    {
     "data": {
      "text/plain": [
       "['🎂', '👌', '👍👍', '📚', '🚲', '🥭', '🚜']"
      ]
     },
     "execution_count": 73,
     "metadata": {},
     "output_type": "execute_result"
    }
   ],
   "source": [
    "s1"
   ]
  },
  {
   "cell_type": "code",
   "execution_count": 74,
   "id": "bb30a95e",
   "metadata": {},
   "outputs": [
    {
     "data": {
      "text/plain": [
       "('govinda', 'preethi', 'naveen', 'babblu', 'Rahul', 'krishna')"
      ]
     },
     "execution_count": 74,
     "metadata": {},
     "output_type": "execute_result"
    }
   ],
   "source": [
    "s"
   ]
  },
  {
   "cell_type": "code",
   "execution_count": 75,
   "id": "481c8a73",
   "metadata": {},
   "outputs": [
    {
     "data": {
      "text/plain": [
       "0"
      ]
     },
     "execution_count": 75,
     "metadata": {},
     "output_type": "execute_result"
    }
   ],
   "source": [
    "s.index(\"govinda\")"
   ]
  },
  {
   "cell_type": "code",
   "execution_count": 77,
   "id": "b9da60ed",
   "metadata": {},
   "outputs": [
    {
     "data": {
      "text/plain": [
       "1"
      ]
     },
     "execution_count": 77,
     "metadata": {},
     "output_type": "execute_result"
    }
   ],
   "source": [
    "s.count(\"govinda\")"
   ]
  },
  {
   "cell_type": "code",
   "execution_count": 78,
   "id": "c30b1ec3",
   "metadata": {},
   "outputs": [],
   "source": [
    "s = open(\"naveen.text\",\"w\")"
   ]
  },
  {
   "cell_type": "code",
   "execution_count": 79,
   "id": "00a7c41f",
   "metadata": {},
   "outputs": [
    {
     "data": {
      "text/plain": [
       "<_io.TextIOWrapper name='naveen.text' mode='w' encoding='cp1252'>"
      ]
     },
     "execution_count": 79,
     "metadata": {},
     "output_type": "execute_result"
    }
   ],
   "source": [
    "s"
   ]
  },
  {
   "cell_type": "code",
   "execution_count": 81,
   "id": "0b17a876",
   "metadata": {},
   "outputs": [],
   "source": [
    "s ={1,1,2,3,4,5,6,7}"
   ]
  },
  {
   "cell_type": "code",
   "execution_count": 82,
   "id": "f7051af6",
   "metadata": {},
   "outputs": [
    {
     "ename": "TypeError",
     "evalue": "unhashable type: 'list'",
     "output_type": "error",
     "traceback": [
      "\u001b[1;31m---------------------------------------------------------------------------\u001b[0m",
      "\u001b[1;31mTypeError\u001b[0m                                 Traceback (most recent call last)",
      "\u001b[1;32m~\\AppData\\Local\\Temp\\ipykernel_1720\\2335186189.py\u001b[0m in \u001b[0;36m<module>\u001b[1;34m\u001b[0m\n\u001b[1;32m----> 1\u001b[1;33m \u001b[0ms\u001b[0m\u001b[1;33m.\u001b[0m\u001b[0madd\u001b[0m\u001b[1;33m(\u001b[0m\u001b[1;33m[\u001b[0m\u001b[1;36m1\u001b[0m\u001b[1;33m,\u001b[0m\u001b[1;36m2\u001b[0m\u001b[1;33m,\u001b[0m\u001b[1;36m3\u001b[0m\u001b[1;33m,\u001b[0m\u001b[1;36m4\u001b[0m\u001b[1;33m,\u001b[0m\u001b[1;36m5\u001b[0m\u001b[1;33m,\u001b[0m\u001b[1;36m7\u001b[0m\u001b[1;33m,\u001b[0m\u001b[1;36m8\u001b[0m\u001b[1;33m]\u001b[0m\u001b[1;33m)\u001b[0m\u001b[1;33m\u001b[0m\u001b[1;33m\u001b[0m\u001b[0m\n\u001b[0m",
      "\u001b[1;31mTypeError\u001b[0m: unhashable type: 'list'"
     ]
    }
   ],
   "source": [
    "s.add([1,2,3,4,5,7,8])"
   ]
  },
  {
   "cell_type": "code",
   "execution_count": 83,
   "id": "d10dacf3",
   "metadata": {},
   "outputs": [
    {
     "data": {
      "text/plain": [
       "['🎂', '👌', '👍👍', '📚', '🚲', '🥭', '🚜']"
      ]
     },
     "execution_count": 83,
     "metadata": {},
     "output_type": "execute_result"
    }
   ],
   "source": [
    "s1"
   ]
  },
  {
   "cell_type": "code",
   "execution_count": 87,
   "id": "8797ddad",
   "metadata": {},
   "outputs": [],
   "source": [
    "s.add(\"naveen\")"
   ]
  },
  {
   "cell_type": "code",
   "execution_count": 88,
   "id": "32be4d01",
   "metadata": {},
   "outputs": [
    {
     "data": {
      "text/plain": [
       "{1, 2, 3, 4, 5, 6, 7, 'naveen'}"
      ]
     },
     "execution_count": 88,
     "metadata": {},
     "output_type": "execute_result"
    }
   ],
   "source": [
    "s"
   ]
  },
  {
   "cell_type": "code",
   "execution_count": 89,
   "id": "397425e3",
   "metadata": {},
   "outputs": [
    {
     "ename": "AttributeError",
     "evalue": "'set' object has no attribute 'write'",
     "output_type": "error",
     "traceback": [
      "\u001b[1;31m---------------------------------------------------------------------------\u001b[0m",
      "\u001b[1;31mAttributeError\u001b[0m                            Traceback (most recent call last)",
      "\u001b[1;32m~\\AppData\\Local\\Temp\\ipykernel_1720\\3822491949.py\u001b[0m in \u001b[0;36m<module>\u001b[1;34m\u001b[0m\n\u001b[1;32m----> 1\u001b[1;33m \u001b[0ms\u001b[0m\u001b[1;33m.\u001b[0m\u001b[0mwrite\u001b[0m\u001b[1;33m(\u001b[0m\u001b[1;34m\"my nmae is naveen and this is my first file writen in jupyter notebook on 1-april-2023\"\u001b[0m\u001b[1;33m)\u001b[0m\u001b[1;33m\u001b[0m\u001b[1;33m\u001b[0m\u001b[0m\n\u001b[0m",
      "\u001b[1;31mAttributeError\u001b[0m: 'set' object has no attribute 'write'"
     ]
    }
   ],
   "source": [
    "s.write(\"my nmae is naveen and this is my first file writen in jupyter notebook on 1-april-2023\")"
   ]
  },
  {
   "cell_type": "code",
   "execution_count": 97,
   "id": "7a8b358f",
   "metadata": {},
   "outputs": [],
   "source": [
    "s = open(\"naveen.text\",\"w\")"
   ]
  },
  {
   "cell_type": "code",
   "execution_count": 98,
   "id": "49925896",
   "metadata": {},
   "outputs": [
    {
     "data": {
      "text/plain": [
       "86"
      ]
     },
     "execution_count": 98,
     "metadata": {},
     "output_type": "execute_result"
    }
   ],
   "source": [
    "s.write(\"my nmae is naveen and this is my first file writen in jupyter notebook on 1-april-2023\")"
   ]
  },
  {
   "cell_type": "code",
   "execution_count": 99,
   "id": "973e8bd7",
   "metadata": {},
   "outputs": [],
   "source": [
    "s.close()"
   ]
  },
  {
   "cell_type": "code",
   "execution_count": 100,
   "id": "040889e3",
   "metadata": {},
   "outputs": [
    {
     "data": {
      "text/plain": [
       "<_io.TextIOWrapper name='naveen.text' mode='w' encoding='cp1252'>"
      ]
     },
     "execution_count": 100,
     "metadata": {},
     "output_type": "execute_result"
    }
   ],
   "source": [
    "s"
   ]
  },
  {
   "cell_type": "code",
   "execution_count": 106,
   "id": "6bd065f4",
   "metadata": {},
   "outputs": [
    {
     "ename": "ValueError",
     "evalue": "I/O operation on closed file.",
     "output_type": "error",
     "traceback": [
      "\u001b[1;31m---------------------------------------------------------------------------\u001b[0m",
      "\u001b[1;31mValueError\u001b[0m                                Traceback (most recent call last)",
      "\u001b[1;32m~\\AppData\\Local\\Temp\\ipykernel_1720\\408300860.py\u001b[0m in \u001b[0;36m<module>\u001b[1;34m\u001b[0m\n\u001b[1;32m----> 1\u001b[1;33m \u001b[0ms\u001b[0m\u001b[1;33m.\u001b[0m\u001b[0mseek\u001b[0m\u001b[1;33m(\u001b[0m\u001b[1;36m0\u001b[0m\u001b[1;33m)\u001b[0m\u001b[1;33m\u001b[0m\u001b[1;33m\u001b[0m\u001b[0m\n\u001b[0m",
      "\u001b[1;31mValueError\u001b[0m: I/O operation on closed file."
     ]
    }
   ],
   "source": [
    "s.seek(0)"
   ]
  },
  {
   "cell_type": "code",
   "execution_count": 107,
   "id": "e1f81ceb",
   "metadata": {},
   "outputs": [],
   "source": [
    "s = open(\"naveen.text\",\"r\")"
   ]
  },
  {
   "cell_type": "code",
   "execution_count": 108,
   "id": "ce901e2a",
   "metadata": {},
   "outputs": [
    {
     "data": {
      "text/plain": [
       "['my nmae is naveen and this is my first file writen in jupyter notebook on 1-april-2023']"
      ]
     },
     "execution_count": 108,
     "metadata": {},
     "output_type": "execute_result"
    }
   ],
   "source": [
    "s.readlines()"
   ]
  },
  {
   "cell_type": "code",
   "execution_count": 109,
   "id": "5766d7e1",
   "metadata": {},
   "outputs": [
    {
     "data": {
      "text/plain": [
       "[]"
      ]
     },
     "execution_count": 109,
     "metadata": {},
     "output_type": "execute_result"
    }
   ],
   "source": [
    "s.readlines()"
   ]
  },
  {
   "cell_type": "code",
   "execution_count": 110,
   "id": "b882c69f",
   "metadata": {},
   "outputs": [
    {
     "data": {
      "text/plain": [
       "0"
      ]
     },
     "execution_count": 110,
     "metadata": {},
     "output_type": "execute_result"
    }
   ],
   "source": [
    "s.seek(0)"
   ]
  },
  {
   "cell_type": "code",
   "execution_count": 111,
   "id": "ace92463",
   "metadata": {},
   "outputs": [
    {
     "data": {
      "text/plain": [
       "['my nmae is naveen and this is my first file writen in jupyter notebook on 1-april-2023']"
      ]
     },
     "execution_count": 111,
     "metadata": {},
     "output_type": "execute_result"
    }
   ],
   "source": [
    "s.readlines()"
   ]
  },
  {
   "cell_type": "code",
   "execution_count": 113,
   "id": "12f73d50",
   "metadata": {},
   "outputs": [],
   "source": [
    "s=open(\"naveen.text\",\"w+\")"
   ]
  },
  {
   "cell_type": "code",
   "execution_count": 114,
   "id": "22fb2b1e",
   "metadata": {},
   "outputs": [
    {
     "data": {
      "text/plain": [
       "25"
      ]
     },
     "execution_count": 114,
     "metadata": {},
     "output_type": "execute_result"
    }
   ],
   "source": [
    "s.write(\"hare krishna hare krishna\")"
   ]
  },
  {
   "cell_type": "code",
   "execution_count": 115,
   "id": "0526bbfa",
   "metadata": {},
   "outputs": [
    {
     "data": {
      "text/plain": [
       "[]"
      ]
     },
     "execution_count": 115,
     "metadata": {},
     "output_type": "execute_result"
    }
   ],
   "source": [
    "s.readlines()"
   ]
  },
  {
   "cell_type": "code",
   "execution_count": 116,
   "id": "b8671aee",
   "metadata": {},
   "outputs": [
    {
     "data": {
      "text/plain": [
       "0"
      ]
     },
     "execution_count": 116,
     "metadata": {},
     "output_type": "execute_result"
    }
   ],
   "source": [
    "s.seek(0)"
   ]
  },
  {
   "cell_type": "code",
   "execution_count": 117,
   "id": "938914d5",
   "metadata": {},
   "outputs": [
    {
     "data": {
      "text/plain": [
       "['hare krishna hare krishna']"
      ]
     },
     "execution_count": 117,
     "metadata": {},
     "output_type": "execute_result"
    }
   ],
   "source": [
    "s.readlines()"
   ]
  },
  {
   "cell_type": "code",
   "execution_count": 118,
   "id": "5b40978a",
   "metadata": {},
   "outputs": [
    {
     "name": "stdout",
     "output_type": "stream",
     "text": [
      "Writing naveen.txt\n"
     ]
    }
   ],
   "source": [
    "%%writefile naveen.txt\n",
    "Here are all the methods with a short description for each of them:\n",
    "\n",
    "read(n) – The read() method reads the file till the end if no parameter is passed. This can take an integer parameter that specifies the number of characters to be read the file.\n",
    "\n",
    "write() – The write() method takes a string parameter and writes that string into the opened file. After finishing the operation, it returns the number of characters written.\n",
    "\n",
    "close() – The close() method closes an opened file. However, Python won’t raise any error if the file that you are trying to close is already closed.\n",
    "\n",
    "readable() – The readable() method is a binomial operation and it will return True if the file that you are trying to read can be read.\n",
    "\n",
    "flush() – The flush() method clears the internal buffer of the opened file. Python is able to flush file automatically but the user can also choose to flush the file before closing it using this method.\n",
    "Buffer is the part of the main memory that is used to hold data that is being sent from one place to another.\n",
    "\n",
    "readline(n) – The readline() method reads one entire line from the opened file. This can also take one integer parameter to specify the number of characters to be read from the file.\n",
    "\n",
    "readlines(n) – The readlines() method reads the file until the end. An integer parameter can be passed to limit the data or number of characters to be read from the opened file.\n",
    "\n",
    "isatty() – The isatty() method will return True if the opened file is associated with a terminal device, if not then False.\n",
    "\n",
    "detach() – The detach() method detaches the binary buffer from the TextIOBase. After detaching, it returns the detached binary buffer.\n",
    "\n",
    "fileno() – The fileno() method returns an integer number that is used by Python to request input-output operations from the operating system.\n",
    "\n",
    "writable() – The writable() method is similar to readable() method and will return True if you can write into the file.\n",
    "\n",
    "tell() – The tell() method returns the location of the file.\n",
    "\n",
    "writelines(lines) – The writelines() method takes a list as a parameter, and it will write the list of lines to the file.\n",
    "\n",
    "seekable() – The seekable() method will return True if the file is seekable. The file is seekable if the access is allowed by the file to the file stream.\n",
    "\n",
    "seek(offset, from) – The seek() method changes the position of the file handle to the specified position."
   ]
  },
  {
   "cell_type": "code",
   "execution_count": 119,
   "id": "65014af1",
   "metadata": {},
   "outputs": [
    {
     "data": {
      "text/plain": [
       "''"
      ]
     },
     "execution_count": 119,
     "metadata": {},
     "output_type": "execute_result"
    }
   ],
   "source": [
    "s.read()"
   ]
  },
  {
   "cell_type": "code",
   "execution_count": 120,
   "id": "26ef0946",
   "metadata": {},
   "outputs": [
    {
     "data": {
      "text/plain": [
       "0"
      ]
     },
     "execution_count": 120,
     "metadata": {},
     "output_type": "execute_result"
    }
   ],
   "source": [
    "s.seek(0)"
   ]
  },
  {
   "cell_type": "code",
   "execution_count": 121,
   "id": "174b0ef2",
   "metadata": {},
   "outputs": [
    {
     "data": {
      "text/plain": [
       "'hare krishna hare krishna'"
      ]
     },
     "execution_count": 121,
     "metadata": {},
     "output_type": "execute_result"
    }
   ],
   "source": [
    "s.read()"
   ]
  },
  {
   "cell_type": "code",
   "execution_count": 124,
   "id": "1706c6d0",
   "metadata": {},
   "outputs": [],
   "source": [
    "s = open(\"naveen.txt\",\"w\")"
   ]
  },
  {
   "cell_type": "code",
   "execution_count": 125,
   "id": "6623e284",
   "metadata": {},
   "outputs": [
    {
     "data": {
      "text/plain": [
       "<_io.TextIOWrapper name='naveen.txt' mode='w' encoding='cp1252'>"
      ]
     },
     "execution_count": 125,
     "metadata": {},
     "output_type": "execute_result"
    }
   ],
   "source": [
    "s"
   ]
  },
  {
   "cell_type": "code",
   "execution_count": 126,
   "id": "b0accc40",
   "metadata": {},
   "outputs": [
    {
     "name": "stdout",
     "output_type": "stream",
     "text": [
      "Overwriting naveen.txt\n"
     ]
    }
   ],
   "source": [
    "%%writefile naveen.txt\n",
    "Here are all the methods with a short description for each of them:\n",
    "\n",
    "read(n) – The read() method reads the file till the end if no parameter is passed. This can take an integer parameter that specifies the number of characters to be read the file.\n",
    "\n",
    "write() – The write() method takes a string parameter and writes that string into the opened file. After finishing the operation, it returns the number of characters written.\n",
    "\n",
    "close() – The close() method closes an opened file. However, Python won’t raise any error if the file that you are trying to close is already closed.\n",
    "\n",
    "readable() – The readable() method is a binomial operation and it will return True if the file that you are trying to read can be read.\n",
    "\n",
    "flush() – The flush() method clears the internal buffer of the opened file. Python is able to flush file automatically but the user can also choose to flush the file before closing it using this method.\n",
    "Buffer is the part of the main memory that is used to hold data that is being sent from one place to another.\n",
    "\n",
    "readline(n) – The readline() method reads one entire line from the opened file. This can also take one integer parameter to specify the number of characters to be read from the file.\n",
    "\n",
    "readlines(n) – The readlines() method reads the file until the end. An integer parameter can be passed to limit the data or number of characters to be read from the opened file.\n",
    "\n",
    "isatty() – The isatty() method will return True if the opened file is associated with a terminal device, if not then False.\n",
    "\n",
    "detach() – The detach() method detaches the binary buffer from the TextIOBase. After detaching, it returns the detached binary buffer.\n",
    "\n",
    "fileno() – The fileno() method returns an integer number that is used by Python to request input-output operations from the operating system.\n",
    "\n",
    "writable() – The writable() method is similar to readable() method and will return True if you can write into the file.\n",
    "\n",
    "tell() – The tell() method returns the location of the file.\n",
    "\n",
    "writelines(lines) – The writelines() method takes a list as a parameter, and it will write the list of lines to the file.\n",
    "\n",
    "seekable() – The seekable() method will return True if the file is seekable. The file is seekable if the access is allowed by the file to the file stream.\n",
    "\n",
    "seek(offset, from) – The seek() method changes the position of the file handle to the specified position."
   ]
  },
  {
   "cell_type": "code",
   "execution_count": 128,
   "id": "db992d36",
   "metadata": {},
   "outputs": [],
   "source": [
    "s.close()"
   ]
  },
  {
   "cell_type": "code",
   "execution_count": 6,
   "id": "b4ac441a",
   "metadata": {},
   "outputs": [],
   "source": [
    "s = open(\"naveen.txt\",\"w\")"
   ]
  },
  {
   "cell_type": "code",
   "execution_count": 2,
   "id": "a702336b",
   "metadata": {},
   "outputs": [
    {
     "ename": "UnsupportedOperation",
     "evalue": "not readable",
     "output_type": "error",
     "traceback": [
      "\u001b[1;31m---------------------------------------------------------------------------\u001b[0m",
      "\u001b[1;31mUnsupportedOperation\u001b[0m                      Traceback (most recent call last)",
      "\u001b[1;32m~\\AppData\\Local\\Temp\\ipykernel_1296\\3308669705.py\u001b[0m in \u001b[0;36m<module>\u001b[1;34m\u001b[0m\n\u001b[1;32m----> 1\u001b[1;33m \u001b[0ms\u001b[0m\u001b[1;33m.\u001b[0m\u001b[0mread\u001b[0m\u001b[1;33m(\u001b[0m\u001b[1;33m)\u001b[0m\u001b[1;33m\u001b[0m\u001b[1;33m\u001b[0m\u001b[0m\n\u001b[0m",
      "\u001b[1;31mUnsupportedOperation\u001b[0m: not readable"
     ]
    }
   ],
   "source": [
    "s.read()"
   ]
  },
  {
   "cell_type": "code",
   "execution_count": 137,
   "id": "e1ae737f",
   "metadata": {},
   "outputs": [
    {
     "data": {
      "text/plain": [
       "0"
      ]
     },
     "execution_count": 137,
     "metadata": {},
     "output_type": "execute_result"
    }
   ],
   "source": [
    "s.seek(0)"
   ]
  },
  {
   "cell_type": "code",
   "execution_count": 138,
   "id": "92311098",
   "metadata": {},
   "outputs": [
    {
     "data": {
      "text/plain": [
       "''"
      ]
     },
     "execution_count": 138,
     "metadata": {},
     "output_type": "execute_result"
    }
   ],
   "source": [
    "s.read()"
   ]
  },
  {
   "cell_type": "code",
   "execution_count": 7,
   "id": "1e098cef",
   "metadata": {},
   "outputs": [
    {
     "name": "stdout",
     "output_type": "stream",
     "text": [
      "Overwriting naveen.txt\n"
     ]
    }
   ],
   "source": [
    "%%writefile naveen.txt\n",
    "Here are all the methods with a short description for each of them:\n",
    "\n",
    "read(n) – The read() method reads the file till the end if no parameter is passed. This can take an integer parameter that specifies the number of characters to be read the file.\n",
    "\n",
    "write() – The write() method takes a string parameter and writes that string into the opened file. After finishing the operation, it returns the number of characters written.\n",
    "\n",
    "close() – The close() method closes an opened file. However, Python won’t raise any error if the file that you are trying to close is already closed.\n",
    "\n",
    "readable() – The readable() method is a binomial operation and it will return True if the file that you are trying to read can be read.\n",
    "\n",
    "flush() – The flush() method clears the internal buffer of the opened file. Python is able to flush file automatically but the user can also choose to flush the file before closing it using this method.\n",
    "Buffer is the part of the main memory that is used to hold data that is being sent from one place to another.\n",
    "\n",
    "readline(n) – The readline() method reads one entire line from the opened file. This can also take one integer parameter to specify the number of characters to be read from the file.\n",
    "\n",
    "readlines(n) – The readlines() method reads the file until the end. An integer parameter can be passed to limit the data or number of characters to be read from the opened file.\n",
    "\n",
    "isatty() – The isatty() method will return True if the opened file is associated with a terminal device, if not then False.\n",
    "\n",
    "detach() – The detach() method detaches the binary buffer from the TextIOBase. After detaching, it returns the detached binary buffer.\n",
    "\n",
    "fileno() – The fileno() method returns an integer number that is used by Python to request input-output operations from the operating system.\n",
    "\n",
    "writable() – The writable() method is similar to readable() method and will return True if you can write into the file.\n",
    "\n",
    "tell() – The tell() method returns the location of the file.\n",
    "\n",
    "writelines(lines) – The writelines() method takes a list as a parameter, and it will write the list of lines to the file.\n",
    "\n",
    "seekable() – The seekable() method will return True if the file is seekable. The file is seekable if the access is allowed by the file to the file stream.\n",
    "\n",
    "seek(offset, from) – The seek() method changes the position of the file handle to the specified position."
   ]
  },
  {
   "cell_type": "code",
   "execution_count": 8,
   "id": "8fab6b8d",
   "metadata": {},
   "outputs": [
    {
     "ename": "UnsupportedOperation",
     "evalue": "not readable",
     "output_type": "error",
     "traceback": [
      "\u001b[1;31m---------------------------------------------------------------------------\u001b[0m",
      "\u001b[1;31mUnsupportedOperation\u001b[0m                      Traceback (most recent call last)",
      "\u001b[1;32m~\\AppData\\Local\\Temp\\ipykernel_1296\\3308669705.py\u001b[0m in \u001b[0;36m<module>\u001b[1;34m\u001b[0m\n\u001b[1;32m----> 1\u001b[1;33m \u001b[0ms\u001b[0m\u001b[1;33m.\u001b[0m\u001b[0mread\u001b[0m\u001b[1;33m(\u001b[0m\u001b[1;33m)\u001b[0m\u001b[1;33m\u001b[0m\u001b[1;33m\u001b[0m\u001b[0m\n\u001b[0m",
      "\u001b[1;31mUnsupportedOperation\u001b[0m: not readable"
     ]
    }
   ],
   "source": [
    "s.read()"
   ]
  },
  {
   "cell_type": "code",
   "execution_count": 143,
   "id": "61062627",
   "metadata": {},
   "outputs": [
    {
     "data": {
      "text/plain": [
       "0"
      ]
     },
     "execution_count": 143,
     "metadata": {},
     "output_type": "execute_result"
    }
   ],
   "source": [
    "s.seek(0)"
   ]
  },
  {
   "cell_type": "code",
   "execution_count": 144,
   "id": "75b39016",
   "metadata": {},
   "outputs": [
    {
     "data": {
      "text/plain": [
       "''"
      ]
     },
     "execution_count": 144,
     "metadata": {},
     "output_type": "execute_result"
    }
   ],
   "source": [
    "s.read()"
   ]
  },
  {
   "cell_type": "code",
   "execution_count": 145,
   "id": "8a7ef5c9",
   "metadata": {},
   "outputs": [
    {
     "data": {
      "text/plain": [
       "[]"
      ]
     },
     "execution_count": 145,
     "metadata": {},
     "output_type": "execute_result"
    }
   ],
   "source": [
    "s.readlines()"
   ]
  },
  {
   "cell_type": "code",
   "execution_count": 146,
   "id": "2c8544f5",
   "metadata": {},
   "outputs": [
    {
     "data": {
      "text/plain": [
       "0"
      ]
     },
     "execution_count": 146,
     "metadata": {},
     "output_type": "execute_result"
    }
   ],
   "source": [
    "s.seek(0)"
   ]
  },
  {
   "cell_type": "code",
   "execution_count": 147,
   "id": "65477b20",
   "metadata": {},
   "outputs": [
    {
     "data": {
      "text/plain": [
       "[]"
      ]
     },
     "execution_count": 147,
     "metadata": {},
     "output_type": "execute_result"
    }
   ],
   "source": [
    "s.readlines()"
   ]
  },
  {
   "cell_type": "code",
   "execution_count": 148,
   "id": "59d17be9",
   "metadata": {},
   "outputs": [],
   "source": [
    "s.close()"
   ]
  },
  {
   "cell_type": "code",
   "execution_count": 149,
   "id": "0484aeb5",
   "metadata": {},
   "outputs": [],
   "source": [
    "s = open(\"naveen.txt\",\"r\")"
   ]
  },
  {
   "cell_type": "code",
   "execution_count": 150,
   "id": "7f9780cd",
   "metadata": {},
   "outputs": [
    {
     "data": {
      "text/plain": [
       "<_io.TextIOWrapper name='naveen.txt' mode='r' encoding='cp1252'>"
      ]
     },
     "execution_count": 150,
     "metadata": {},
     "output_type": "execute_result"
    }
   ],
   "source": [
    "s"
   ]
  },
  {
   "cell_type": "code",
   "execution_count": 151,
   "id": "006eac37",
   "metadata": {},
   "outputs": [
    {
     "data": {
      "text/plain": [
       "[]"
      ]
     },
     "execution_count": 151,
     "metadata": {},
     "output_type": "execute_result"
    }
   ],
   "source": [
    "s.readlines()"
   ]
  },
  {
   "cell_type": "code",
   "execution_count": 152,
   "id": "4b008238",
   "metadata": {},
   "outputs": [
    {
     "data": {
      "text/plain": [
       "0"
      ]
     },
     "execution_count": 152,
     "metadata": {},
     "output_type": "execute_result"
    }
   ],
   "source": [
    "s.seek(0)"
   ]
  },
  {
   "cell_type": "code",
   "execution_count": 153,
   "id": "161e52b1",
   "metadata": {},
   "outputs": [
    {
     "data": {
      "text/plain": [
       "''"
      ]
     },
     "execution_count": 153,
     "metadata": {},
     "output_type": "execute_result"
    }
   ],
   "source": [
    "s.read()"
   ]
  },
  {
   "cell_type": "code",
   "execution_count": 9,
   "id": "b78fe426",
   "metadata": {},
   "outputs": [],
   "source": [
    "f = open(\"python.txt\",\"w\")"
   ]
  },
  {
   "cell_type": "code",
   "execution_count": 10,
   "id": "a51ec116",
   "metadata": {},
   "outputs": [
    {
     "name": "stdout",
     "output_type": "stream",
     "text": [
      "Overwriting python.txt\n"
     ]
    }
   ],
   "source": [
    "%%writefile python.txt\n",
    "Here are all the methods with a short description for each of them:\n",
    "\n",
    "read(n) – The read() method reads the file till the end if no parameter is passed. This can take an integer parameter that specifies the number of characters to be read the file.\n",
    "\n",
    "write() – The write() method takes a string parameter and writes that string into the opened file. After finishing the operation, it returns the number of characters written.\n",
    "\n",
    "close() – The close() method closes an opened file. However, Python won’t raise any error if the file that you are trying to close is already closed.\n",
    "\n",
    "readable() – The readable() method is a binomial operation and it will return True if the file that you are trying to read can be read.\n",
    "\n",
    "flush() – The flush() method clears the internal buffer of the opened file. Python is able to flush file automatically but the user can also choose to flush the file before closing it using this method.\n",
    "Buffer is the part of the main memory that is used to hold data that is being sent from one place to another.\n",
    "\n",
    "readline(n) – The readline() method reads one entire line from the opened file. This can also take one integer parameter to specify the number of characters to be read from the file.\n",
    "\n",
    "readlines(n) – The readlines() method reads the file until the end. An integer parameter can be passed to limit the data or number of characters to be read from the opened file.\n",
    "\n",
    "isatty() – The isatty() method will return True if the opened file is associated with a terminal device, if not then False.\n",
    "\n",
    "detach() – The detach() method detaches the binary buffer from the TextIOBase. After detaching, it returns the detached binary buffer.\n",
    "\n",
    "fileno() – The fileno() method returns an integer number that is used by Python to request input-output operations from the operating system.\n",
    "\n",
    "writable() – The writable() method is similar to readable() method and will return True if you can write into the file.\n",
    "\n",
    "tell() – The tell() method returns the location of the file.\n",
    "\n",
    "writelines(lines) – The writelines() method takes a list as a parameter, and it will write the list of lines to the file.\n",
    "\n",
    "seekable() – The seekable() method will return True if the file is seekable. The file is seekable if the access is allowed by the file to the file stream.\n",
    "\n",
    "seek(offset, from) – The seek() method changes the position of the file handle to the specified position."
   ]
  },
  {
   "cell_type": "code",
   "execution_count": 12,
   "id": "587d144d",
   "metadata": {},
   "outputs": [
    {
     "ename": "UnsupportedOperation",
     "evalue": "not readable",
     "output_type": "error",
     "traceback": [
      "\u001b[1;31m---------------------------------------------------------------------------\u001b[0m",
      "\u001b[1;31mUnsupportedOperation\u001b[0m                      Traceback (most recent call last)",
      "\u001b[1;32m~\\AppData\\Local\\Temp\\ipykernel_1296\\3059900045.py\u001b[0m in \u001b[0;36m<module>\u001b[1;34m\u001b[0m\n\u001b[1;32m----> 1\u001b[1;33m \u001b[0mf\u001b[0m\u001b[1;33m.\u001b[0m\u001b[0mread\u001b[0m\u001b[1;33m(\u001b[0m\u001b[1;33m)\u001b[0m\u001b[1;33m\u001b[0m\u001b[1;33m\u001b[0m\u001b[0m\n\u001b[0m",
      "\u001b[1;31mUnsupportedOperation\u001b[0m: not readable"
     ]
    }
   ],
   "source": [
    "f.read()"
   ]
  },
  {
   "cell_type": "code",
   "execution_count": 13,
   "id": "2fcfedbe",
   "metadata": {},
   "outputs": [],
   "source": [
    "f = open(\"python.txt\",\"r\")"
   ]
  },
  {
   "cell_type": "code",
   "execution_count": 14,
   "id": "4cd335f1",
   "metadata": {},
   "outputs": [
    {
     "data": {
      "text/plain": [
       "'Here are all the methods with a short description for each of them:\\n\\nread(n) â€“ The read() method reads the file till the end if no parameter is passed. This can take an integer parameter that specifies the number of characters to be read the file.\\n\\nwrite() â€“ The write() method takes a string parameter and writes that string into the opened file. After finishing the operation, it returns the number of characters written.\\n\\nclose() â€“ The close() method closes an opened file. However, Python wonâ€™t raise any error if the file that you are trying to close is already closed.\\n\\nreadable() â€“ The readable() method is a binomial operation and it will return True if the file that you are trying to read can be read.\\n\\nflush() â€“ The flush() method clears the internal buffer of the opened file. Python is able to flush file automatically but the user can also choose to flush the file before closing it using this method.\\nBuffer is the part of the main memory that is used to hold data that is being sent from one place to another.\\n\\nreadline(n) â€“ The readline() method reads one entire line from the opened file. This can also take one integer parameter to specify the number of characters to be read from the file.\\n\\nreadlines(n) â€“ The readlines() method reads the file until the end. An integer parameter can be passed to limit the data or number of characters to be read from the opened file.\\n\\nisatty() â€“ The isatty() method will return True if the opened file is associated with a terminal device, if not then False.\\n\\ndetach() â€“ The detach() method detaches the binary buffer from the TextIOBase. After detaching, it returns the detached binary buffer.\\n\\nfileno() â€“ The fileno() method returns an integer number that is used by Python to request input-output operations from the operating system.\\n\\nwritable() â€“ The writable() method is similar to readable() method and will return True if you can write into the file.\\n\\ntell() â€“ The tell() method returns the location of the file.\\n\\nwritelines(lines) â€“ The writelines() method takes a list as a parameter, and it will write the list of lines to the file.\\n\\nseekable() â€“ The seekable() method will return True if the file is seekable. The file is seekable if the access is allowed by the file to the file stream.\\n\\nseek(offset, from) â€“ The seek() method changes the position of the file handle to the specified position.\\n'"
      ]
     },
     "execution_count": 14,
     "metadata": {},
     "output_type": "execute_result"
    }
   ],
   "source": [
    "f.read()"
   ]
  },
  {
   "cell_type": "code",
   "execution_count": 15,
   "id": "bb703d0f",
   "metadata": {},
   "outputs": [
    {
     "data": {
      "text/plain": [
       "''"
      ]
     },
     "execution_count": 15,
     "metadata": {},
     "output_type": "execute_result"
    }
   ],
   "source": [
    "f.read()"
   ]
  },
  {
   "cell_type": "code",
   "execution_count": 17,
   "id": "8145ecc6",
   "metadata": {},
   "outputs": [
    {
     "data": {
      "text/plain": [
       "0"
      ]
     },
     "execution_count": 17,
     "metadata": {},
     "output_type": "execute_result"
    }
   ],
   "source": [
    "f.seek(0)"
   ]
  },
  {
   "cell_type": "code",
   "execution_count": 18,
   "id": "2d5c519e",
   "metadata": {},
   "outputs": [
    {
     "data": {
      "text/plain": [
       "'Here are all the methods with a short description for each of them:\\n\\nread(n) â€“ The read() method reads the file till the end if no parameter is passed. This can take an integer parameter that specifies the number of characters to be read the file.\\n\\nwrite() â€“ The write() method takes a string parameter and writes that string into the opened file. After finishing the operation, it returns the number of characters written.\\n\\nclose() â€“ The close() method closes an opened file. However, Python wonâ€™t raise any error if the file that you are trying to close is already closed.\\n\\nreadable() â€“ The readable() method is a binomial operation and it will return True if the file that you are trying to read can be read.\\n\\nflush() â€“ The flush() method clears the internal buffer of the opened file. Python is able to flush file automatically but the user can also choose to flush the file before closing it using this method.\\nBuffer is the part of the main memory that is used to hold data that is being sent from one place to another.\\n\\nreadline(n) â€“ The readline() method reads one entire line from the opened file. This can also take one integer parameter to specify the number of characters to be read from the file.\\n\\nreadlines(n) â€“ The readlines() method reads the file until the end. An integer parameter can be passed to limit the data or number of characters to be read from the opened file.\\n\\nisatty() â€“ The isatty() method will return True if the opened file is associated with a terminal device, if not then False.\\n\\ndetach() â€“ The detach() method detaches the binary buffer from the TextIOBase. After detaching, it returns the detached binary buffer.\\n\\nfileno() â€“ The fileno() method returns an integer number that is used by Python to request input-output operations from the operating system.\\n\\nwritable() â€“ The writable() method is similar to readable() method and will return True if you can write into the file.\\n\\ntell() â€“ The tell() method returns the location of the file.\\n\\nwritelines(lines) â€“ The writelines() method takes a list as a parameter, and it will write the list of lines to the file.\\n\\nseekable() â€“ The seekable() method will return True if the file is seekable. The file is seekable if the access is allowed by the file to the file stream.\\n\\nseek(offset, from) â€“ The seek() method changes the position of the file handle to the specified position.\\n'"
      ]
     },
     "execution_count": 18,
     "metadata": {},
     "output_type": "execute_result"
    }
   ],
   "source": [
    "f.read()"
   ]
  },
  {
   "cell_type": "code",
   "execution_count": 20,
   "id": "53fce29b",
   "metadata": {},
   "outputs": [
    {
     "data": {
      "text/plain": [
       "0"
      ]
     },
     "execution_count": 20,
     "metadata": {},
     "output_type": "execute_result"
    }
   ],
   "source": [
    "f.seek(0)"
   ]
  },
  {
   "cell_type": "code",
   "execution_count": 24,
   "id": "507537eb",
   "metadata": {},
   "outputs": [
    {
     "data": {
      "text/plain": [
       "0"
      ]
     },
     "execution_count": 24,
     "metadata": {},
     "output_type": "execute_result"
    }
   ],
   "source": [
    "f.seek(0)"
   ]
  },
  {
   "cell_type": "code",
   "execution_count": 25,
   "id": "540129a3",
   "metadata": {},
   "outputs": [
    {
     "data": {
      "text/plain": [
       "40"
      ]
     },
     "execution_count": 25,
     "metadata": {},
     "output_type": "execute_result"
    }
   ],
   "source": [
    "f.seek(40)"
   ]
  },
  {
   "cell_type": "code",
   "execution_count": 28,
   "id": "971b3246",
   "metadata": {},
   "outputs": [
    {
     "data": {
      "text/plain": [
       "0"
      ]
     },
     "execution_count": 28,
     "metadata": {},
     "output_type": "execute_result"
    }
   ],
   "source": [
    "f.seek(0)"
   ]
  },
  {
   "cell_type": "code",
   "execution_count": 29,
   "id": "0d5478cd",
   "metadata": {},
   "outputs": [
    {
     "data": {
      "text/plain": [
       "'Here are all the methods with a short description for each of them:\\n\\nread(n) â€“ The read() method reads the file till the end if no parameter is passed. This can take an integer parameter that specifies the number of characters to be read the file.\\n\\nwrite() â€“ The write() method takes a string parameter and writes that string into the opened file. After finishing the operation, it returns the number of characters written.\\n\\nclose() â€“ The close() method closes an opened file. However, Python wonâ€™t raise any error if the file that you are trying to close is already closed.\\n\\nreadable() â€“ The readable() method is a binomial operation and it will return True if the file that you are trying to read can be read.\\n\\nflush() â€“ The flush() method clears the internal buffer of the opened file. Python is able to flush file automatically but the user can also choose to flush the file before closing it using this method.\\nBuffer is the part of the main memory that is used to hold data that is being sent from one place to another.\\n\\nreadline(n) â€“ The readline() method reads one entire line from the opened file. This can also take one integer parameter to specify the number of characters to be read from the file.\\n\\nreadlines(n) â€“ The readlines() method reads the file until the end. An integer parameter can be passed to limit the data or number of characters to be read from the opened file.\\n\\nisatty() â€“ The isatty() method will return True if the opened file is associated with a terminal device, if not then False.\\n\\ndetach() â€“ The detach() method detaches the binary buffer from the TextIOBase. After detaching, it returns the detached binary buffer.\\n\\nfileno() â€“ The fileno() method returns an integer number that is used by Python to request input-output operations from the operating system.\\n\\nwritable() â€“ The writable() method is similar to readable() method and will return True if you can write into the file.\\n\\ntell() â€“ The tell() method returns the location of the file.\\n\\nwritelines(lines) â€“ The writelines() method takes a list as a parameter, and it will write the list of lines to the file.\\n\\nseekable() â€“ The seekable() method will return True if the file is seekable. The file is seekable if the access is allowed by the file to the file stream.\\n\\nseek(offset, from) â€“ The seek() method changes the position of the file handle to the specified position.\\n'"
      ]
     },
     "execution_count": 29,
     "metadata": {},
     "output_type": "execute_result"
    }
   ],
   "source": [
    "f.read()"
   ]
  },
  {
   "cell_type": "code",
   "execution_count": 30,
   "id": "9860a261",
   "metadata": {},
   "outputs": [
    {
     "data": {
      "text/plain": [
       "''"
      ]
     },
     "execution_count": 30,
     "metadata": {},
     "output_type": "execute_result"
    }
   ],
   "source": [
    "f.read()"
   ]
  },
  {
   "cell_type": "code",
   "execution_count": 34,
   "id": "5a5d0dd0",
   "metadata": {},
   "outputs": [
    {
     "data": {
      "text/plain": [
       "9"
      ]
     },
     "execution_count": 34,
     "metadata": {},
     "output_type": "execute_result"
    }
   ],
   "source": [
    "f.seek(9)"
   ]
  },
  {
   "cell_type": "code",
   "execution_count": 35,
   "id": "8d0e7571",
   "metadata": {},
   "outputs": [
    {
     "data": {
      "text/plain": [
       "9"
      ]
     },
     "execution_count": 35,
     "metadata": {},
     "output_type": "execute_result"
    }
   ],
   "source": [
    "f.tell()"
   ]
  },
  {
   "cell_type": "code",
   "execution_count": 36,
   "id": "4eb33edb",
   "metadata": {},
   "outputs": [
    {
     "data": {
      "text/plain": [
       "'all the methods with a short description for each of them:\\n\\nread(n) â€“ The read() method reads the file till the end if no parameter is passed. This can take an integer parameter that specifies the number of characters to be read the file.\\n\\nwrite() â€“ The write() method takes a string parameter and writes that string into the opened file. After finishing the operation, it returns the number of characters written.\\n\\nclose() â€“ The close() method closes an opened file. However, Python wonâ€™t raise any error if the file that you are trying to close is already closed.\\n\\nreadable() â€“ The readable() method is a binomial operation and it will return True if the file that you are trying to read can be read.\\n\\nflush() â€“ The flush() method clears the internal buffer of the opened file. Python is able to flush file automatically but the user can also choose to flush the file before closing it using this method.\\nBuffer is the part of the main memory that is used to hold data that is being sent from one place to another.\\n\\nreadline(n) â€“ The readline() method reads one entire line from the opened file. This can also take one integer parameter to specify the number of characters to be read from the file.\\n\\nreadlines(n) â€“ The readlines() method reads the file until the end. An integer parameter can be passed to limit the data or number of characters to be read from the opened file.\\n\\nisatty() â€“ The isatty() method will return True if the opened file is associated with a terminal device, if not then False.\\n\\ndetach() â€“ The detach() method detaches the binary buffer from the TextIOBase. After detaching, it returns the detached binary buffer.\\n\\nfileno() â€“ The fileno() method returns an integer number that is used by Python to request input-output operations from the operating system.\\n\\nwritable() â€“ The writable() method is similar to readable() method and will return True if you can write into the file.\\n\\ntell() â€“ The tell() method returns the location of the file.\\n\\nwritelines(lines) â€“ The writelines() method takes a list as a parameter, and it will write the list of lines to the file.\\n\\nseekable() â€“ The seekable() method will return True if the file is seekable. The file is seekable if the access is allowed by the file to the file stream.\\n\\nseek(offset, from) â€“ The seek() method changes the position of the file handle to the specified position.\\n'"
      ]
     },
     "execution_count": 36,
     "metadata": {},
     "output_type": "execute_result"
    }
   ],
   "source": [
    "f.read()"
   ]
  },
  {
   "cell_type": "code",
   "execution_count": 37,
   "id": "be9e1f75",
   "metadata": {},
   "outputs": [
    {
     "data": {
      "text/plain": [
       "2426"
      ]
     },
     "execution_count": 37,
     "metadata": {},
     "output_type": "execute_result"
    }
   ],
   "source": [
    "f.tell()"
   ]
  },
  {
   "cell_type": "code",
   "execution_count": 38,
   "id": "860554fd",
   "metadata": {},
   "outputs": [
    {
     "data": {
      "text/plain": [
       "2426"
      ]
     },
     "execution_count": 38,
     "metadata": {},
     "output_type": "execute_result"
    }
   ],
   "source": [
    "f.seek(2426)"
   ]
  },
  {
   "cell_type": "code",
   "execution_count": 39,
   "id": "b8481193",
   "metadata": {},
   "outputs": [
    {
     "data": {
      "text/plain": [
       "''"
      ]
     },
     "execution_count": 39,
     "metadata": {},
     "output_type": "execute_result"
    }
   ],
   "source": [
    "f.read()"
   ]
  },
  {
   "cell_type": "code",
   "execution_count": 40,
   "id": "1f9334c0",
   "metadata": {},
   "outputs": [],
   "source": [
    "s = [1,2,3,4,54,6,7]"
   ]
  },
  {
   "cell_type": "code",
   "execution_count": 41,
   "id": "a188dc71",
   "metadata": {},
   "outputs": [
    {
     "data": {
      "text/plain": [
       "2"
      ]
     },
     "execution_count": 41,
     "metadata": {},
     "output_type": "execute_result"
    }
   ],
   "source": [
    "s[1]"
   ]
  },
  {
   "cell_type": "code",
   "execution_count": 42,
   "id": "d3608503",
   "metadata": {},
   "outputs": [],
   "source": [
    "s[1]=[9]"
   ]
  },
  {
   "cell_type": "code",
   "execution_count": 43,
   "id": "b4f24781",
   "metadata": {},
   "outputs": [
    {
     "data": {
      "text/plain": [
       "[9]"
      ]
     },
     "execution_count": 43,
     "metadata": {},
     "output_type": "execute_result"
    }
   ],
   "source": [
    "s[1]"
   ]
  },
  {
   "cell_type": "code",
   "execution_count": 44,
   "id": "359d58ea",
   "metadata": {},
   "outputs": [
    {
     "data": {
      "text/plain": [
       "[1, [9], 3, 4, 54, 6, 7]"
      ]
     },
     "execution_count": 44,
     "metadata": {},
     "output_type": "execute_result"
    }
   ],
   "source": [
    "s"
   ]
  },
  {
   "cell_type": "code",
   "execution_count": 46,
   "id": "8563b32f",
   "metadata": {},
   "outputs": [],
   "source": [
    "s[1] = \"naveen\""
   ]
  },
  {
   "cell_type": "code",
   "execution_count": 47,
   "id": "7a9cf057",
   "metadata": {},
   "outputs": [
    {
     "data": {
      "text/plain": [
       "[1, 'naveen', 3, 4, 54, 6, 7]"
      ]
     },
     "execution_count": 47,
     "metadata": {},
     "output_type": "execute_result"
    }
   ],
   "source": [
    "s"
   ]
  },
  {
   "cell_type": "code",
   "execution_count": 48,
   "id": "e436e16f",
   "metadata": {},
   "outputs": [],
   "source": [
    "s = (1,2,3,4,5,67,5,6,7,8)"
   ]
  },
  {
   "cell_type": "code",
   "execution_count": 49,
   "id": "9910a593",
   "metadata": {},
   "outputs": [
    {
     "data": {
      "text/plain": [
       "1"
      ]
     },
     "execution_count": 49,
     "metadata": {},
     "output_type": "execute_result"
    }
   ],
   "source": [
    "s[0]"
   ]
  },
  {
   "cell_type": "code",
   "execution_count": 50,
   "id": "10551963",
   "metadata": {},
   "outputs": [
    {
     "ename": "TypeError",
     "evalue": "'tuple' object does not support item assignment",
     "output_type": "error",
     "traceback": [
      "\u001b[1;31m---------------------------------------------------------------------------\u001b[0m",
      "\u001b[1;31mTypeError\u001b[0m                                 Traceback (most recent call last)",
      "\u001b[1;32m~\\AppData\\Local\\Temp\\ipykernel_1296\\648268753.py\u001b[0m in \u001b[0;36m<module>\u001b[1;34m\u001b[0m\n\u001b[1;32m----> 1\u001b[1;33m \u001b[0ms\u001b[0m\u001b[1;33m[\u001b[0m\u001b[1;36m0\u001b[0m\u001b[1;33m]\u001b[0m \u001b[1;33m=\u001b[0m \u001b[1;34m\"naveen\"\u001b[0m\u001b[1;33m\u001b[0m\u001b[1;33m\u001b[0m\u001b[0m\n\u001b[0m",
      "\u001b[1;31mTypeError\u001b[0m: 'tuple' object does not support item assignment"
     ]
    }
   ],
   "source": [
    "s[0] = \"naveen\""
   ]
  },
  {
   "cell_type": "code",
   "execution_count": 51,
   "id": "2bdcaecc",
   "metadata": {},
   "outputs": [],
   "source": [
    "s =id(0)"
   ]
  },
  {
   "cell_type": "code",
   "execution_count": 54,
   "id": "16a7ea95",
   "metadata": {},
   "outputs": [
    {
     "data": {
      "text/plain": [
       "1591694874064"
      ]
     },
     "execution_count": 54,
     "metadata": {},
     "output_type": "execute_result"
    }
   ],
   "source": [
    "id(100)"
   ]
  },
  {
   "cell_type": "code",
   "execution_count": 55,
   "id": "3e6d66a9",
   "metadata": {},
   "outputs": [
    {
     "data": {
      "text/plain": [
       "1591694682416"
      ]
     },
     "execution_count": 55,
     "metadata": {},
     "output_type": "execute_result"
    }
   ],
   "source": [
    "id(1)"
   ]
  },
  {
   "cell_type": "code",
   "execution_count": 56,
   "id": "e9fa11aa",
   "metadata": {},
   "outputs": [
    {
     "data": {
      "text/plain": [
       "1591694682448"
      ]
     },
     "execution_count": 56,
     "metadata": {},
     "output_type": "execute_result"
    }
   ],
   "source": [
    "id(2)"
   ]
  },
  {
   "cell_type": "code",
   "execution_count": 57,
   "id": "578acd13",
   "metadata": {},
   "outputs": [],
   "source": [
    "f = open(\"naveen.txt\",\"w\")"
   ]
  },
  {
   "cell_type": "code",
   "execution_count": 63,
   "id": "1af53740",
   "metadata": {},
   "outputs": [
    {
     "data": {
      "text/plain": [
       "65"
      ]
     },
     "execution_count": 63,
     "metadata": {},
     "output_type": "execute_result"
    }
   ],
   "source": [
    "f.write(\"This is my first file writen in jupyter notebook on 1-April-2023 \")"
   ]
  },
  {
   "cell_type": "code",
   "execution_count": 64,
   "id": "28b91010",
   "metadata": {},
   "outputs": [
    {
     "data": {
      "text/plain": [
       "<_io.TextIOWrapper name='naveen.txt' mode='w' encoding='cp1252'>"
      ]
     },
     "execution_count": 64,
     "metadata": {},
     "output_type": "execute_result"
    }
   ],
   "source": [
    "f"
   ]
  },
  {
   "cell_type": "code",
   "execution_count": 65,
   "id": "2da6e971",
   "metadata": {},
   "outputs": [],
   "source": [
    "f.close()"
   ]
  },
  {
   "cell_type": "code",
   "execution_count": 66,
   "id": "93628bdd",
   "metadata": {},
   "outputs": [],
   "source": [
    "f = open(\"naveen.txt\",\"r\")"
   ]
  },
  {
   "cell_type": "code",
   "execution_count": 67,
   "id": "bed71b77",
   "metadata": {},
   "outputs": [
    {
     "data": {
      "text/plain": [
       "'This is my first file writen from jupyter notebookThis is my first file writen from jupyter notebookThisThis This is my first file writen in jupyter notebook on 1-April-2023 '"
      ]
     },
     "execution_count": 67,
     "metadata": {},
     "output_type": "execute_result"
    }
   ],
   "source": [
    "f.read()"
   ]
  },
  {
   "cell_type": "code",
   "execution_count": 68,
   "id": "cfd50348",
   "metadata": {},
   "outputs": [
    {
     "data": {
      "text/plain": [
       "''"
      ]
     },
     "execution_count": 68,
     "metadata": {},
     "output_type": "execute_result"
    }
   ],
   "source": [
    "f.read()"
   ]
  },
  {
   "cell_type": "code",
   "execution_count": 70,
   "id": "164bfb05",
   "metadata": {},
   "outputs": [
    {
     "data": {
      "text/plain": [
       "0"
      ]
     },
     "execution_count": 70,
     "metadata": {},
     "output_type": "execute_result"
    }
   ],
   "source": [
    "f.seek(0)"
   ]
  },
  {
   "cell_type": "code",
   "execution_count": 71,
   "id": "2638685a",
   "metadata": {},
   "outputs": [
    {
     "data": {
      "text/plain": [
       "'This is my first file writen from jupyter notebookThis is my first file writen from jupyter notebookThisThis This is my first file writen in jupyter notebook on 1-April-2023 '"
      ]
     },
     "execution_count": 71,
     "metadata": {},
     "output_type": "execute_result"
    }
   ],
   "source": [
    "f.read()"
   ]
  },
  {
   "cell_type": "code",
   "execution_count": 72,
   "id": "fddc023f",
   "metadata": {},
   "outputs": [
    {
     "data": {
      "text/plain": [
       "0"
      ]
     },
     "execution_count": 72,
     "metadata": {},
     "output_type": "execute_result"
    }
   ],
   "source": [
    "f.seek(0)"
   ]
  },
  {
   "cell_type": "code",
   "execution_count": null,
   "id": "a8cfadd7",
   "metadata": {},
   "outputs": [],
   "source": [
    "f."
   ]
  }
 ],
 "metadata": {
  "kernelspec": {
   "display_name": "Python 3 (ipykernel)",
   "language": "python",
   "name": "python3"
  },
  "language_info": {
   "codemirror_mode": {
    "name": "ipython",
    "version": 3
   },
   "file_extension": ".py",
   "mimetype": "text/x-python",
   "name": "python",
   "nbconvert_exporter": "python",
   "pygments_lexer": "ipython3",
   "version": "3.9.13"
  }
 },
 "nbformat": 4,
 "nbformat_minor": 5
}
