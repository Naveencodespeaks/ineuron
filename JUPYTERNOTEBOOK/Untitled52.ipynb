{
 "cells": [
  {
   "cell_type": "code",
   "execution_count": 4,
   "id": "cf4b428f",
   "metadata": {},
   "outputs": [
    {
     "ename": "SyntaxError",
     "evalue": "invalid syntax (3709863606.py, line 3)",
     "output_type": "error",
     "traceback": [
      "\u001b[1;36m  File \u001b[1;32m\"C:\\Users\\Naveen\\AppData\\Local\\Temp\\ipykernel_6824\\3709863606.py\"\u001b[1;36m, line \u001b[1;32m3\u001b[0m\n\u001b[1;33m    choice = int(input(\"select ypour choice: \", \"+\", \"-\", \"/\", \"*\", \"%\"))\u001b[0m\n\u001b[1;37m    ^\u001b[0m\n\u001b[1;31mSyntaxError\u001b[0m\u001b[1;31m:\u001b[0m invalid syntax\n"
     ]
    }
   ],
   "source": [
    "a = int(input(\"enter a value\"))\n",
    "b = int(input((\"Enter b value\"))\n",
    "choice = int(input(\"select ypour choice: \", \"+\", \"-\", \"/\", \"*\", \"%\"))\n",
    "if choice == \"+\":\n",
    "    print(\"Your are doing addition operation\", c = a+b)"
   ]
  },
  {
   "cell_type": "code",
   "execution_count": 29,
   "id": "6ef40ebb",
   "metadata": {},
   "outputs": [
    {
     "name": "stdout",
     "output_type": "stream",
     "text": [
      "enter a number:-5\n",
      "enter b number:-5\n",
      "Enter a choice:-('+','-','*'):-+\n",
      "Here we are doing addition operation 5 + 5 = 10\n"
     ]
    }
   ],
   "source": [
    "a = int(input(\"enter a number:-\"))\n",
    "b = int(input(\"enter b number:-\"))\n",
    "choice = input(\"Enter a choice:-('+','-','*'):-\")\n",
    "\n",
    "if choice == \"+\":\n",
    "    print(\"Here we are doing addition operation:-\",a,choice,b,\"=\",a+b)\n",
    "elif choice == \"-\":\n",
    "    print(a-b)\n",
    "else:\n",
    "    print(\"end the statement\")"
   ]
  },
  {
   "cell_type": "code",
   "execution_count": 39,
   "id": "b228b841",
   "metadata": {},
   "outputs": [],
   "source": [
    "def test(a,b):\n",
    "    print(a+b)\n",
    "    return a+b"
   ]
  },
  {
   "cell_type": "code",
   "execution_count": 40,
   "id": "aacd2800",
   "metadata": {},
   "outputs": [
    {
     "name": "stdout",
     "output_type": "stream",
     "text": [
      "39\n"
     ]
    },
    {
     "data": {
      "text/plain": [
       "39"
      ]
     },
     "execution_count": 40,
     "metadata": {},
     "output_type": "execute_result"
    }
   ],
   "source": [
    "test(19,20)"
   ]
  },
  {
   "cell_type": "code",
   "execution_count": 35,
   "id": "74e93ad7",
   "metadata": {},
   "outputs": [
    {
     "name": "stdout",
     "output_type": "stream",
     "text": [
      "s\n",
      "a\n",
      "i\n",
      "_\n",
      "N\n",
      "a\n",
      "v\n",
      "e\n",
      "e\n",
      "n\n",
      "_\n",
      "A\n",
      "d\n",
      "e\n",
      "p\n"
     ]
    }
   ],
   "source": [
    "l = \"sai_Naveen_Adepu\"\n",
    "for i in l:\n",
    "    if i == \"u\":\n",
    "        break\n",
    "    print(i)\n",
    "else:\n",
    "    print(\"out of range\")"
   ]
  },
  {
   "cell_type": "code",
   "execution_count": 37,
   "id": "a78bf3c9",
   "metadata": {},
   "outputs": [
    {
     "name": "stdout",
     "output_type": "stream",
     "text": [
      "I code\n"
     ]
    }
   ],
   "source": [
    "a = 10\n",
    "b = 20\n",
    "if a >b or b>a:\n",
    "    print(\"I code\")"
   ]
  },
  {
   "cell_type": "code",
   "execution_count": 38,
   "id": "e25b29dc",
   "metadata": {},
   "outputs": [
    {
     "name": "stdout",
     "output_type": "stream",
     "text": [
      "i Write python code\n"
     ]
    }
   ],
   "source": [
    "a = 20\n",
    "b = 20\n",
    "if a==b or a!=b:\n",
    "    print(\"i Write python code\")"
   ]
  },
  {
   "cell_type": "code",
   "execution_count": 40,
   "id": "aff518aa",
   "metadata": {},
   "outputs": [
    {
     "name": "stdout",
     "output_type": "stream",
     "text": [
      "4\n"
     ]
    }
   ],
   "source": [
    "print(6 & 4)"
   ]
  },
  {
   "cell_type": "code",
   "execution_count": 41,
   "id": "118da9af",
   "metadata": {},
   "outputs": [
    {
     "ename": "NameError",
     "evalue": "name 'binary' is not defined",
     "output_type": "error",
     "traceback": [
      "\u001b[1;31m---------------------------------------------------------------------------\u001b[0m",
      "\u001b[1;31mNameError\u001b[0m                                 Traceback (most recent call last)",
      "\u001b[1;32m~\\AppData\\Local\\Temp\\ipykernel_26524\\3226229040.py\u001b[0m in \u001b[0;36m<module>\u001b[1;34m\u001b[0m\n\u001b[1;32m----> 1\u001b[1;33m \u001b[0mbinary\u001b[0m\u001b[1;33m(\u001b[0m\u001b[1;36m6\u001b[0m\u001b[1;33m)\u001b[0m\u001b[1;33m\u001b[0m\u001b[1;33m\u001b[0m\u001b[0m\n\u001b[0m",
      "\u001b[1;31mNameError\u001b[0m: name 'binary' is not defined"
     ]
    }
   ],
   "source": []
  },
  {
   "cell_type": "code",
   "execution_count": null,
   "id": "44974a86",
   "metadata": {},
   "outputs": [],
   "source": []
  }
 ],
 "metadata": {
  "kernelspec": {
   "display_name": "Python 3 (ipykernel)",
   "language": "python",
   "name": "python3"
  },
  "language_info": {
   "codemirror_mode": {
    "name": "ipython",
    "version": 3
   },
   "file_extension": ".py",
   "mimetype": "text/x-python",
   "name": "python",
   "nbconvert_exporter": "python",
   "pygments_lexer": "ipython3",
   "version": "3.9.13"
  }
 },
 "nbformat": 4,
 "nbformat_minor": 5
}
