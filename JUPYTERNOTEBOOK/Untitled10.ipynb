{
 "cells": [
  {
   "cell_type": "code",
   "execution_count": null,
   "id": "67ea64fa",
   "metadata": {},
   "outputs": [],
   "source": [
    "l = [1,2,3,45,364,\"hare\"]\n"
   ]
  },
  {
   "cell_type": "code",
   "execution_count": null,
   "id": "619208c5",
   "metadata": {},
   "outputs": [],
   "source": [
    "l"
   ]
  },
  {
   "cell_type": "code",
   "execution_count": null,
   "id": "a55abd9b",
   "metadata": {},
   "outputs": [],
   "source": [
    "a= 0\n",
    "while a < len(l):\n",
    "    print(l[a])\n",
    "    a= a+1"
   ]
  },
  {
   "cell_type": "code",
   "execution_count": null,
   "id": "ec00baa9",
   "metadata": {},
   "outputs": [],
   "source": [
    "t = (3,4,5,6,7,8,9)"
   ]
  },
  {
   "cell_type": "code",
   "execution_count": null,
   "id": "d4ea8bae",
   "metadata": {},
   "outputs": [],
   "source": [
    "a = 0\n",
    "while a< len(t):\n",
    "    if t[a]== 6 or t[a]==7:\n",
    "        print(a)\n",
    "    a = a+1"
   ]
  },
  {
   "cell_type": "code",
   "execution_count": null,
   "id": "b233b402",
   "metadata": {},
   "outputs": [],
   "source": [
    "t =(,4,5,6,7,8,)"
   ]
  },
  {
   "cell_type": "code",
   "execution_count": null,
   "id": "6f385a6c",
   "metadata": {},
   "outputs": [],
   "source": [
    "d={\"k1\":\"sudha\",\"k2\":[1,2,3,4],\"k3\":[2,3,4,5]}"
   ]
  },
  {
   "cell_type": "code",
   "execution_count": null,
   "id": "d1552b1e",
   "metadata": {},
   "outputs": [],
   "source": []
  },
  {
   "cell_type": "code",
   "execution_count": null,
   "id": "3c2eb1c2",
   "metadata": {},
   "outputs": [],
   "source": []
  },
  {
   "cell_type": "code",
   "execution_count": null,
   "id": "3503f2c8",
   "metadata": {},
   "outputs": [],
   "source": []
  }
 ],
 "metadata": {
  "kernelspec": {
   "display_name": "Python 3 (ipykernel)",
   "language": "python",
   "name": "python3"
  },
  "language_info": {
   "codemirror_mode": {
    "name": "ipython",
    "version": 3
   },
   "file_extension": ".py",
   "mimetype": "text/x-python",
   "name": "python",
   "nbconvert_exporter": "python",
   "pygments_lexer": "ipython3",
   "version": "3.9.12"
  }
 },
 "nbformat": 4,
 "nbformat_minor": 5
}
