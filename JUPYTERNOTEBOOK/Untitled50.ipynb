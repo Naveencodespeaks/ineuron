{
 "cells": [
  {
   "cell_type": "code",
   "execution_count": null,
   "id": "94454ba8",
   "metadata": {},
   "outputs": [],
   "source": [
    "print(\"harekrishna\")"
   ]
  },
  {
   "cell_type": "code",
   "execution_count": null,
   "id": "d9c7aeff",
   "metadata": {},
   "outputs": [],
   "source": [
    "name = \"naveen\""
   ]
  },
  {
   "cell_type": "code",
   "execution_count": null,
   "id": "ab4d16e1",
   "metadata": {},
   "outputs": [],
   "source": [
    "print(name)"
   ]
  },
  {
   "cell_type": "code",
   "execution_count": null,
   "id": "d3c010d5",
   "metadata": {},
   "outputs": [],
   "source": [
    "print(naveen)"
   ]
  },
  {
   "cell_type": "code",
   "execution_count": null,
   "id": "3586fb9a",
   "metadata": {},
   "outputs": [],
   "source": [
    "import numpy"
   ]
  },
  {
   "cell_type": "code",
   "execution_count": null,
   "id": "8e4bcfe3",
   "metadata": {},
   "outputs": [],
   "source": []
  },
  {
   "cell_type": "code",
   "execution_count": null,
   "id": "1c277717",
   "metadata": {},
   "outputs": [],
   "source": [
    "1/0"
   ]
  },
  {
   "cell_type": "code",
   "execution_count": null,
   "id": "e8e105ef",
   "metadata": {},
   "outputs": [],
   "source": [
    "n = [\"naveen\",\"Rahul\",\"preethi\",\"naveen\"]"
   ]
  },
  {
   "cell_type": "code",
   "execution_count": null,
   "id": "cf266994",
   "metadata": {},
   "outputs": [],
   "source": [
    "type(n)"
   ]
  },
  {
   "cell_type": "code",
   "execution_count": null,
   "id": "42c9e1cd",
   "metadata": {},
   "outputs": [],
   "source": [
    "number = 7+8j"
   ]
  },
  {
   "cell_type": "code",
   "execution_count": null,
   "id": "6b882f46",
   "metadata": {},
   "outputs": [],
   "source": [
    "number.conjugate"
   ]
  },
  {
   "cell_type": "code",
   "execution_count": null,
   "id": "cb20b72b",
   "metadata": {},
   "outputs": [],
   "source": [
    "number.imag"
   ]
  },
  {
   "cell_type": "code",
   "execution_count": null,
   "id": "53fab822",
   "metadata": {},
   "outputs": [],
   "source": [
    "number.real"
   ]
  },
  {
   "cell_type": "code",
   "execution_count": null,
   "id": "a7783297",
   "metadata": {},
   "outputs": [],
   "source": [
    "number + number"
   ]
  },
  {
   "cell_type": "code",
   "execution_count": null,
   "id": "abe2f5b5",
   "metadata": {},
   "outputs": [],
   "source": [
    "navenn = 45.8"
   ]
  },
  {
   "cell_type": "code",
   "execution_count": null,
   "id": "e20cc857",
   "metadata": {},
   "outputs": [],
   "source": [
    "type(navenn)"
   ]
  },
  {
   "cell_type": "code",
   "execution_count": null,
   "id": "ca75bcc6",
   "metadata": {},
   "outputs": [],
   "source": [
    "print(\"🚲\",\"naveen\",\"collage\",\"📚\")"
   ]
  },
  {
   "cell_type": "code",
   "execution_count": null,
   "id": "fff95fed",
   "metadata": {},
   "outputs": [],
   "source": [
    "l = [1,2,3,4,56,\"naveen\",True, False, 7+8j,\"i write code\"]"
   ]
  },
  {
   "cell_type": "code",
   "execution_count": null,
   "id": "17060623",
   "metadata": {},
   "outputs": [],
   "source": [
    "type(l)"
   ]
  },
  {
   "cell_type": "code",
   "execution_count": null,
   "id": "4bd0c399",
   "metadata": {},
   "outputs": [],
   "source": [
    "l.index(\"naveen\")"
   ]
  },
  {
   "cell_type": "code",
   "execution_count": null,
   "id": "1f269619",
   "metadata": {},
   "outputs": [],
   "source": [
    "l.extend(\"naveen\")"
   ]
  },
  {
   "cell_type": "code",
   "execution_count": null,
   "id": "3c80eee4",
   "metadata": {},
   "outputs": [],
   "source": [
    "l"
   ]
  },
  {
   "cell_type": "code",
   "execution_count": null,
   "id": "062092d8",
   "metadata": {},
   "outputs": [],
   "source": [
    "l.clear()"
   ]
  },
  {
   "cell_type": "code",
   "execution_count": null,
   "id": "322b60ee",
   "metadata": {},
   "outputs": [],
   "source": [
    "l"
   ]
  },
  {
   "cell_type": "code",
   "execution_count": null,
   "id": "e0d6f28c",
   "metadata": {},
   "outputs": [],
   "source": [
    "l = [1,2,3,4,56,\"naveen\",True, False, 7+8j,\"i write code\"]"
   ]
  },
  {
   "cell_type": "code",
   "execution_count": null,
   "id": "b668fc05",
   "metadata": {},
   "outputs": [],
   "source": [
    "l"
   ]
  },
  {
   "cell_type": "code",
   "execution_count": null,
   "id": "507662c9",
   "metadata": {},
   "outputs": [],
   "source": [
    "l.sort()"
   ]
  },
  {
   "cell_type": "code",
   "execution_count": null,
   "id": "23216ecb",
   "metadata": {},
   "outputs": [],
   "source": [
    "l1= [1,4,3,2,54,67,35,7,34,5,2156,98]"
   ]
  },
  {
   "cell_type": "code",
   "execution_count": null,
   "id": "1163f1f3",
   "metadata": {},
   "outputs": [],
   "source": [
    "l1.sort()"
   ]
  },
  {
   "cell_type": "code",
   "execution_count": null,
   "id": "84098f0b",
   "metadata": {},
   "outputs": [],
   "source": [
    "l1"
   ]
  },
  {
   "cell_type": "code",
   "execution_count": null,
   "id": "cda8145f",
   "metadata": {},
   "outputs": [],
   "source": [
    "l1.sort()"
   ]
  },
  {
   "cell_type": "code",
   "execution_count": null,
   "id": "4e24dce9",
   "metadata": {},
   "outputs": [],
   "source": [
    "l1.sort()"
   ]
  },
  {
   "cell_type": "code",
   "execution_count": null,
   "id": "d0876159",
   "metadata": {},
   "outputs": [],
   "source": [
    "l1"
   ]
  },
  {
   "cell_type": "code",
   "execution_count": null,
   "id": "9e4c6a1c",
   "metadata": {},
   "outputs": [],
   "source": [
    "l1.sort(reverse=True)"
   ]
  },
  {
   "cell_type": "code",
   "execution_count": null,
   "id": "1743c442",
   "metadata": {},
   "outputs": [],
   "source": [
    "l1"
   ]
  },
  {
   "cell_type": "code",
   "execution_count": null,
   "id": "add2919f",
   "metadata": {},
   "outputs": [],
   "source": [
    "z= {1,2,3,4,5,5,4,3,2,1,6,5,4,3,0,8}"
   ]
  },
  {
   "cell_type": "code",
   "execution_count": null,
   "id": "b802b48f",
   "metadata": {},
   "outputs": [],
   "source": [
    "z"
   ]
  },
  {
   "cell_type": "code",
   "execution_count": null,
   "id": "8cd37063",
   "metadata": {},
   "outputs": [],
   "source": [
    "type(z)"
   ]
  },
  {
   "cell_type": "code",
   "execution_count": null,
   "id": "3d8867e3",
   "metadata": {},
   "outputs": [],
   "source": [
    "z.add(40)"
   ]
  },
  {
   "cell_type": "code",
   "execution_count": null,
   "id": "eb7e314b",
   "metadata": {},
   "outputs": [],
   "source": [
    "z"
   ]
  },
  {
   "cell_type": "code",
   "execution_count": null,
   "id": "b4ad5473",
   "metadata": {},
   "outputs": [],
   "source": [
    "z.difference()"
   ]
  },
  {
   "cell_type": "code",
   "execution_count": null,
   "id": "78e7c9f9",
   "metadata": {},
   "outputs": [],
   "source": [
    "z"
   ]
  },
  {
   "cell_type": "code",
   "execution_count": null,
   "id": "0d82c3da",
   "metadata": {},
   "outputs": [],
   "source": [
    "z"
   ]
  },
  {
   "cell_type": "code",
   "execution_count": null,
   "id": "0d7dce9e",
   "metadata": {},
   "outputs": [],
   "source": [
    "a = {1,2,3,4,5,6,7}"
   ]
  },
  {
   "cell_type": "code",
   "execution_count": null,
   "id": "86ad7c96",
   "metadata": {},
   "outputs": [],
   "source": [
    "a"
   ]
  },
  {
   "cell_type": "code",
   "execution_count": null,
   "id": "7d8bd2ed",
   "metadata": {},
   "outputs": [],
   "source": [
    "b = {0,8,7,6,5,4,3,2,1}"
   ]
  },
  {
   "cell_type": "code",
   "execution_count": null,
   "id": "f6148a67",
   "metadata": {},
   "outputs": [],
   "source": [
    "b"
   ]
  },
  {
   "cell_type": "code",
   "execution_count": null,
   "id": "2632f0c8",
   "metadata": {},
   "outputs": [],
   "source": [
    "a,b.difference()"
   ]
  },
  {
   "cell_type": "code",
   "execution_count": null,
   "id": "fe246cb0",
   "metadata": {},
   "outputs": [],
   "source": [
    "s1 = \"naveen write code\""
   ]
  },
  {
   "cell_type": "code",
   "execution_count": null,
   "id": "e8435602",
   "metadata": {},
   "outputs": [],
   "source": [
    "s1"
   ]
  },
  {
   "cell_type": "code",
   "execution_count": null,
   "id": "0f2d8567",
   "metadata": {},
   "outputs": [],
   "source": [
    "s1.endswith(\"code\")"
   ]
  },
  {
   "cell_type": "code",
   "execution_count": null,
   "id": "c5f569a2",
   "metadata": {},
   "outputs": [],
   "source": [
    "s1"
   ]
  },
  {
   "cell_type": "code",
   "execution_count": null,
   "id": "8f17a027",
   "metadata": {},
   "outputs": [],
   "source": [
    "s1[1]"
   ]
  },
  {
   "cell_type": "code",
   "execution_count": null,
   "id": "af8e53de",
   "metadata": {},
   "outputs": [],
   "source": [
    "s1[0]"
   ]
  },
  {
   "cell_type": "code",
   "execution_count": null,
   "id": "68c33d6a",
   "metadata": {},
   "outputs": [],
   "source": [
    "s1[0:19:2]"
   ]
  },
  {
   "cell_type": "code",
   "execution_count": null,
   "id": "d7d5e8b0",
   "metadata": {},
   "outputs": [],
   "source": [
    "s1[0:6]"
   ]
  },
  {
   "cell_type": "code",
   "execution_count": null,
   "id": "be774b75",
   "metadata": {},
   "outputs": [],
   "source": [
    "s1[0:2]"
   ]
  },
  {
   "cell_type": "code",
   "execution_count": null,
   "id": "670d01a6",
   "metadata": {},
   "outputs": [],
   "source": [
    "s1[0:10:-1]"
   ]
  },
  {
   "cell_type": "code",
   "execution_count": null,
   "id": "0dcd4010",
   "metadata": {},
   "outputs": [],
   "source": [
    "s1[10:10:-1]"
   ]
  },
  {
   "cell_type": "code",
   "execution_count": null,
   "id": "3e292c25",
   "metadata": {},
   "outputs": [],
   "source": [
    "s1[:-3]"
   ]
  },
  {
   "cell_type": "code",
   "execution_count": null,
   "id": "881af950",
   "metadata": {},
   "outputs": [],
   "source": []
  },
  {
   "cell_type": "code",
   "execution_count": null,
   "id": "183b3b88",
   "metadata": {},
   "outputs": [],
   "source": [
    "a = \"naveen\""
   ]
  },
  {
   "cell_type": "code",
   "execution_count": null,
   "id": "4e0fcfd1",
   "metadata": {},
   "outputs": [],
   "source": [
    "b = \" India\""
   ]
  },
  {
   "cell_type": "code",
   "execution_count": null,
   "id": "a4fccd5e",
   "metadata": {},
   "outputs": [],
   "source": [
    "a+b"
   ]
  },
  {
   "cell_type": "code",
   "execution_count": null,
   "id": "893465e2",
   "metadata": {},
   "outputs": [],
   "source": [
    "a = \"naveen\""
   ]
  },
  {
   "cell_type": "code",
   "execution_count": null,
   "id": "1f461647",
   "metadata": {},
   "outputs": [],
   "source": [
    "b = 10"
   ]
  },
  {
   "cell_type": "code",
   "execution_count": null,
   "id": "2adc261e",
   "metadata": {},
   "outputs": [],
   "source": [
    "a+b"
   ]
  },
  {
   "cell_type": "code",
   "execution_count": null,
   "id": "b8432210",
   "metadata": {},
   "outputs": [],
   "source": [
    "a = 20"
   ]
  },
  {
   "cell_type": "code",
   "execution_count": null,
   "id": "26ec191f",
   "metadata": {},
   "outputs": [],
   "source": [
    "b = 30"
   ]
  },
  {
   "cell_type": "code",
   "execution_count": null,
   "id": "25451da2",
   "metadata": {},
   "outputs": [],
   "source": [
    "b*a"
   ]
  },
  {
   "cell_type": "code",
   "execution_count": null,
   "id": "38b46bc1",
   "metadata": {},
   "outputs": [],
   "source": [
    "a = \"naveen_\""
   ]
  },
  {
   "cell_type": "code",
   "execution_count": null,
   "id": "0dd98af0",
   "metadata": {},
   "outputs": [],
   "source": [
    "a*3"
   ]
  },
  {
   "cell_type": "code",
   "execution_count": null,
   "id": "5c04625e",
   "metadata": {},
   "outputs": [],
   "source": [
    "a = int(input(\"enter a number: \"))\n",
    "b = int(input(\"enter a number: \"))\n",
    "c = input((\"Select a operations: + - * / \"))\n",
    "\n",
    "if c == \"+\":\n",
    "    print(a+b,c)\n",
    "elif c == \"-\":\n",
    "    print(\"selected operations:\",a,c,b,'=',a-b)\n",
    "    "
   ]
  },
  {
   "cell_type": "code",
   "execution_count": null,
   "id": "63f756ca",
   "metadata": {},
   "outputs": [],
   "source": [
    "s= \"\"\"The iPhone is a line of smartphones produced by Apple Inc. which uses Apple's own iOS mobile operating system. The first-generation iPhone was announced by then-Apple CEO Steve Jobs on January 9, 2007. Since then, Apple has annually released new iPhone models and iOS updates. As of November 1, 2018, more than 2.2 billion iPhones had been sold. As of 2022, the iPhone accounts for 15.6% of global smartphone market share.[3]\n",
    "\n",
    "The iPhone was the first mobile phone with multi-touch technology.[4] Since the iPhone's launch, it gained larger screen sizes, video-recording, waterproofing, and many accessibility features. Up to iPhone 8 and 8 Plus, iPhones had a single button on the front panel with the Touch ID fingerprint sensor. Since iPhone X, iPhone models have switched to a nearly bezel-less front screen design with Face ID facial recognition, and app switching activated by gestures. Touch ID is still used for the budget iPhone SE series.\n",
    "\n",
    "The iPhone is one of the two largest smartphone platforms in the world alongside Android, and is a large part of the luxury market. The iPhone has generated large profits for Apple, making it one of the world's most valuable publicly traded companies. The first-generation iPhone was described as a \"revolution\" for the mobile phone industry and subsequent models have also garnered praise.[5] The iPhone has been credited with popularizing the smartphone and slate form factor, and with creating a large market for smartphone apps, or \"app economy\". As of January 2017, Apple's App Store contained more than 2.2 million applications for the iPhone.\"\"\""
   ]
  },
  {
   "cell_type": "code",
   "execution_count": null,
   "id": "79c534fb",
   "metadata": {},
   "outputs": [],
   "source": [
    "s"
   ]
  },
  {
   "cell_type": "code",
   "execution_count": null,
   "id": "54910260",
   "metadata": {},
   "outputs": [],
   "source": [
    "s = \"naveeen\""
   ]
  },
  {
   "cell_type": "code",
   "execution_count": null,
   "id": "b85ce4ee",
   "metadata": {},
   "outputs": [],
   "source": [
    "s.split('v')"
   ]
  },
  {
   "cell_type": "code",
   "execution_count": null,
   "id": "5a702d39",
   "metadata": {},
   "outputs": [],
   "source": [
    "s.split(' ')"
   ]
  },
  {
   "cell_type": "code",
   "execution_count": null,
   "id": "193a3698",
   "metadata": {},
   "outputs": [],
   "source": [
    "s1"
   ]
  },
  {
   "cell_type": "code",
   "execution_count": null,
   "id": "b94281d5",
   "metadata": {},
   "outputs": [],
   "source": [
    "s2= [1,2,\"🚲\",3,4,5,6,7,8,9]"
   ]
  },
  {
   "cell_type": "markdown",
   "id": "d5420378",
   "metadata": {},
   "source": [
    "s2"
   ]
  },
  {
   "cell_type": "code",
   "execution_count": null,
   "id": "af918e69",
   "metadata": {},
   "outputs": [],
   "source": [
    "s2"
   ]
  },
  {
   "cell_type": "code",
   "execution_count": null,
   "id": "6c95ec2f",
   "metadata": {},
   "outputs": [],
   "source": [
    "s2.append(1)"
   ]
  },
  {
   "cell_type": "code",
   "execution_count": null,
   "id": "4f974928",
   "metadata": {},
   "outputs": [],
   "source": [
    "s2"
   ]
  },
  {
   "cell_type": "code",
   "execution_count": null,
   "id": "14242ea8",
   "metadata": {},
   "outputs": [],
   "source": [
    "s2.pop(2)"
   ]
  },
  {
   "cell_type": "code",
   "execution_count": null,
   "id": "8cf73df2",
   "metadata": {},
   "outputs": [],
   "source": [
    "s2"
   ]
  },
  {
   "cell_type": "code",
   "execution_count": null,
   "id": "4ddb6085",
   "metadata": {},
   "outputs": [],
   "source": [
    "s= (\"naveen\",\"\")"
   ]
  },
  {
   "cell_type": "code",
   "execution_count": null,
   "id": "14fac9df",
   "metadata": {},
   "outputs": [],
   "source": [
    "# loops\n"
   ]
  },
  {
   "cell_type": "code",
   "execution_count": null,
   "id": "d6c18094",
   "metadata": {},
   "outputs": [],
   "source": [
    " l = [1,2,3,4,5,6,\"naveen\",\"python\", 45.6, (1,2,3,4), [\"a\",\"b\",\"c\",\"d\",\"e\"]]"
   ]
  },
  {
   "cell_type": "code",
   "execution_count": null,
   "id": "e98ec8be",
   "metadata": {},
   "outputs": [],
   "source": [
    "for i in l:\n",
    "    print(i)"
   ]
  },
  {
   "cell_type": "code",
   "execution_count": null,
   "id": "51baf2a0",
   "metadata": {},
   "outputs": [],
   "source": [
    "a = \"naveen\"\n",
    "for i in a:\n",
    "    print(i)"
   ]
  },
  {
   "cell_type": "code",
   "execution_count": null,
   "id": "4ace6099",
   "metadata": {},
   "outputs": [],
   "source": [
    "a = \"saiNaveenAdepu\"\n",
    "\n",
    "for i in a:\n",
    "    if i == \"A\":\n",
    "        break\n",
    "    print(i)\n",
    "else:\n",
    "    print(\"This is the function of for loop\")"
   ]
  },
  {
   "cell_type": "code",
   "execution_count": 3,
   "id": "f797ad2f",
   "metadata": {},
   "outputs": [
    {
     "name": "stdout",
     "output_type": "stream",
     "text": [
      "S\n",
      "a\n",
      "i\n",
      "n\n",
      "a\n",
      "v\n",
      "e\n",
      "e\n",
      "n\n",
      "Here we are using 'z' alphabet which is not in the string 'Sainaveen', so for loop execute else block as well\n"
     ]
    }
   ],
   "source": [
    "b = \"Sainaveen\"\n",
    "for i in b:\n",
    "    if i == \"z\":\n",
    "        break\n",
    "    print(i)\n",
    "else:\n",
    "    print(\"Here we are using 'z' alphabet which is not in the string 'Sainaveen', so for loop execute else block as well\")"
   ]
  },
  {
   "cell_type": "code",
   "execution_count": 4,
   "id": "541381be",
   "metadata": {},
   "outputs": [],
   "source": [
    "t = (1,2,2,4,5,6,7,8,\"naveen\")"
   ]
  },
  {
   "cell_type": "code",
   "execution_count": 6,
   "id": "457514a0",
   "metadata": {},
   "outputs": [
    {
     "name": "stdout",
     "output_type": "stream",
     "text": [
      "1\n",
      "2\n",
      "2\n",
      "4\n",
      "5\n",
      "6\n",
      "7\n",
      "8\n",
      "naveen\n"
     ]
    }
   ],
   "source": [
    "for i in t:\n",
    "    print(i)"
   ]
  },
  {
   "cell_type": "code",
   "execution_count": 7,
   "id": "1d12f5bd",
   "metadata": {},
   "outputs": [],
   "source": [
    "b = {1,2,3,4,5,\"a\",\"b\",\"c\",\"d\",\"e\"}"
   ]
  },
  {
   "cell_type": "code",
   "execution_count": 13,
   "id": "46746174",
   "metadata": {},
   "outputs": [
    {
     "name": "stdout",
     "output_type": "stream",
     "text": [
      "a\n",
      "1\n",
      "2\n",
      "3\n",
      "4\n",
      "5\n",
      "b\n",
      "e\n",
      "d\n",
      "c\n"
     ]
    }
   ],
   "source": [
    "for i in b:\n",
    "    print((i))"
   ]
  },
  {
   "cell_type": "code",
   "execution_count": 14,
   "id": "81357c6f",
   "metadata": {},
   "outputs": [
    {
     "name": "stdout",
     "output_type": "stream",
     "text": [
      "key1\n",
      "mail_id\n",
      "position\n"
     ]
    }
   ],
   "source": [
    "b = {'key1': \"naveen\", 'mail_id': 'sainaveen005@gmail.com', \"position\": \"stusdent\"}\n",
    "for i in b:\n",
    "    print(i)"
   ]
  },
  {
   "cell_type": "code",
   "execution_count": 19,
   "id": "561767a1",
   "metadata": {},
   "outputs": [
    {
     "name": "stdout",
     "output_type": "stream",
     "text": [
      "naveen\n",
      "sainaveen005@gmail.com\n",
      "stusdent\n"
     ]
    }
   ],
   "source": [
    "for i in b:\n",
    "    print(b[i])"
   ]
  },
  {
   "cell_type": "code",
   "execution_count": 20,
   "id": "033ed5ce",
   "metadata": {},
   "outputs": [
    {
     "data": {
      "text/plain": [
       "'naveen'"
      ]
     },
     "execution_count": 20,
     "metadata": {},
     "output_type": "execute_result"
    }
   ],
   "source": [
    "b['key1']"
   ]
  },
  {
   "cell_type": "code",
   "execution_count": 22,
   "id": "b908d1ad",
   "metadata": {},
   "outputs": [
    {
     "name": "stdout",
     "output_type": "stream",
     "text": [
      "key1 : naveen\n",
      "mail_id : sainaveen005@gmail.com\n",
      "position : stusdent\n"
     ]
    }
   ],
   "source": [
    "for i in b:\n",
    "    print(i, \":\", b[i])"
   ]
  },
  {
   "cell_type": "code",
   "execution_count": 25,
   "id": "c730c273",
   "metadata": {},
   "outputs": [
    {
     "name": "stdout",
     "output_type": "stream",
     "text": [
      "naveen\n",
      "naveen\n",
      "naveen\n",
      "naveen\n",
      "naveen\n",
      "naveen\n"
     ]
    }
   ],
   "source": [
    "a = \"naveen\"\n",
    "for i in a:\n",
    "    print(a)"
   ]
  },
  {
   "cell_type": "code",
   "execution_count": 26,
   "id": "aa7773ae",
   "metadata": {},
   "outputs": [
    {
     "data": {
      "text/plain": [
       "range(0, 9)"
      ]
     },
     "execution_count": 26,
     "metadata": {},
     "output_type": "execute_result"
    }
   ],
   "source": [
    "range(9)"
   ]
  },
  {
   "cell_type": "code",
   "execution_count": 27,
   "id": "ccc2b919",
   "metadata": {},
   "outputs": [
    {
     "data": {
      "text/plain": [
       "[0, 1, 2, 3, 4, 5, 6, 7, 8]"
      ]
     },
     "execution_count": 27,
     "metadata": {},
     "output_type": "execute_result"
    }
   ],
   "source": [
    "list(range(9))"
   ]
  },
  {
   "cell_type": "code",
   "execution_count": 28,
   "id": "cca1d9b6",
   "metadata": {},
   "outputs": [
    {
     "data": {
      "text/plain": [
       "{0, 1, 2, 3, 4, 5, 6, 7, 8}"
      ]
     },
     "execution_count": 28,
     "metadata": {},
     "output_type": "execute_result"
    }
   ],
   "source": [
    "set(range(9))"
   ]
  },
  {
   "cell_type": "code",
   "execution_count": 29,
   "id": "906403a5",
   "metadata": {},
   "outputs": [
    {
     "data": {
      "text/plain": [
       "(0, 1, 2, 3, 4, 5, 6, 7, 8, 9)"
      ]
     },
     "execution_count": 29,
     "metadata": {},
     "output_type": "execute_result"
    }
   ],
   "source": [
    "tuple(range(10))"
   ]
  },
  {
   "cell_type": "code",
   "execution_count": 30,
   "id": "43488b6d",
   "metadata": {},
   "outputs": [],
   "source": [
    "a = \"Naveen\""
   ]
  },
  {
   "cell_type": "code",
   "execution_count": 32,
   "id": "fac88e07",
   "metadata": {},
   "outputs": [
    {
     "name": "stdout",
     "output_type": "stream",
     "text": [
      "0\n",
      "1\n",
      "2\n",
      "3\n",
      "4\n",
      "5\n",
      "6\n",
      "7\n",
      "8\n",
      "9\n"
     ]
    }
   ],
   "source": [
    "for i in range(10):\n",
    "    print(i)"
   ]
  },
  {
   "cell_type": "code",
   "execution_count": 33,
   "id": "0d23f3c2",
   "metadata": {},
   "outputs": [
    {
     "data": {
      "text/plain": [
       "range(0, 9, 2)"
      ]
     },
     "execution_count": 33,
     "metadata": {},
     "output_type": "execute_result"
    }
   ],
   "source": [
    "range(0,9,2)"
   ]
  },
  {
   "cell_type": "code",
   "execution_count": 36,
   "id": "4b69e0dc",
   "metadata": {},
   "outputs": [
    {
     "data": {
      "text/plain": [
       "[0, 1, 2, 3, 4, 5, 6, 7, 8]"
      ]
     },
     "execution_count": 36,
     "metadata": {},
     "output_type": "execute_result"
    }
   ],
   "source": [
    "list(range(0,9,1))"
   ]
  },
  {
   "cell_type": "code",
   "execution_count": 37,
   "id": "dfc5f2fc",
   "metadata": {},
   "outputs": [
    {
     "data": {
      "text/plain": [
       "[]"
      ]
     },
     "execution_count": 37,
     "metadata": {},
     "output_type": "execute_result"
    }
   ],
   "source": [
    "list(range(0,9,-1))"
   ]
  },
  {
   "cell_type": "code",
   "execution_count": 43,
   "id": "7a36d0a1",
   "metadata": {},
   "outputs": [
    {
     "name": "stdout",
     "output_type": "stream",
     "text": [
      "sudh \n",
      "\n",
      "sudh sudh \n",
      "\n",
      "sudh sudh sudh \n",
      "\n",
      "sudh sudh sudh sudh \n",
      "\n"
     ]
    }
   ],
   "source": [
    "n = 4\n",
    "for i in range(4):\n",
    "    for j in range(0,i+1):\n",
    "        print(\"sudh\",end = \" \")\n",
    "    print(\"\\n\")"
   ]
  },
  {
   "cell_type": "code",
   "execution_count": 53,
   "id": "ef990a9a",
   "metadata": {},
   "outputs": [
    {
     "name": "stdout",
     "output_type": "stream",
     "text": [
      "* \n",
      "\n",
      "* * \n",
      "\n",
      "* * * \n",
      "\n",
      "* * * * \n",
      "\n",
      "* * * * * \n",
      "\n"
     ]
    }
   ],
   "source": [
    "n = 10\n",
    "for i in range(5):\n",
    "    for j in range(0, i+1):\n",
    "        print(\"*\", end = \" \")\n",
    "    print(\"\\n\")"
   ]
  },
  {
   "cell_type": "code",
   "execution_count": 67,
   "id": "ee57d110",
   "metadata": {},
   "outputs": [
    {
     "name": "stdout",
     "output_type": "stream",
     "text": [
      "* \n",
      "\n",
      "* * \n",
      "\n",
      "* * * \n",
      "\n",
      "* * * * \n",
      "\n",
      "* * * * * \n",
      "\n"
     ]
    }
   ],
   "source": [
    "n = 10\n",
    "for i in range(5):\n",
    "    for j in range(0, i+1):\n",
    "        print(\"*\", end = \" \")\n",
    "    print(\"\\n\")"
   ]
  },
  {
   "cell_type": "code",
   "execution_count": 68,
   "id": "37ddb679",
   "metadata": {},
   "outputs": [],
   "source": [
    "t = (1,2,3,4,5,6)"
   ]
  },
  {
   "cell_type": "code",
   "execution_count": 69,
   "id": "9e88996d",
   "metadata": {},
   "outputs": [
    {
     "data": {
      "text/plain": [
       "6"
      ]
     },
     "execution_count": 69,
     "metadata": {},
     "output_type": "execute_result"
    }
   ],
   "source": [
    "len(t)"
   ]
  },
  {
   "cell_type": "code",
   "execution_count": 73,
   "id": "33f1b5e5",
   "metadata": {},
   "outputs": [
    {
     "data": {
      "text/plain": [
       "range(0, 6)"
      ]
     },
     "execution_count": 73,
     "metadata": {},
     "output_type": "execute_result"
    }
   ],
   "source": [
    "range(len(t))"
   ]
  },
  {
   "cell_type": "code",
   "execution_count": 74,
   "id": "958a8b23",
   "metadata": {},
   "outputs": [
    {
     "data": {
      "text/plain": [
       "[0, 1, 2, 3, 4, 5]"
      ]
     },
     "execution_count": 74,
     "metadata": {},
     "output_type": "execute_result"
    }
   ],
   "source": [
    "list(range(len(t)))"
   ]
  },
  {
   "cell_type": "code",
   "execution_count": 84,
   "id": "5ef68a55",
   "metadata": {},
   "outputs": [
    {
     "name": "stdout",
     "output_type": "stream",
     "text": [
      "0 : 1\n",
      "1 : 2\n",
      "2 : 3\n",
      "3 : 4\n",
      "4 : 5\n",
      "5 : 6\n"
     ]
    }
   ],
   "source": [
    "for i in range(len(t)):\n",
    "    print(i,\":\",t[i])"
   ]
  },
  {
   "cell_type": "code",
   "execution_count": 101,
   "id": "c7e2fc89",
   "metadata": {},
   "outputs": [
    {
     "name": "stdout",
     "output_type": "stream",
     "text": [
      "0\n",
      "1\n",
      "2\n",
      "3\n",
      "4\n",
      "5\n"
     ]
    }
   ],
   "source": [
    "n = \"naveen\"\n",
    "for i in range(len(n)):\n",
    "    print(i)"
   ]
  },
  {
   "cell_type": "code",
   "execution_count": 94,
   "id": "0ffccda5",
   "metadata": {},
   "outputs": [
    {
     "data": {
      "text/plain": [
       "'naveen'"
      ]
     },
     "execution_count": 94,
     "metadata": {},
     "output_type": "execute_result"
    }
   ],
   "source": [
    "n"
   ]
  },
  {
   "cell_type": "code",
   "execution_count": 95,
   "id": "4661fc8a",
   "metadata": {},
   "outputs": [
    {
     "data": {
      "text/plain": [
       "'neevan'"
      ]
     },
     "execution_count": 95,
     "metadata": {},
     "output_type": "execute_result"
    }
   ],
   "source": [
    "n[::-1]"
   ]
  },
  {
   "cell_type": "code",
   "execution_count": 98,
   "id": "ff1f92a6",
   "metadata": {},
   "outputs": [
    {
     "data": {
      "text/plain": [
       "range(0, 10)"
      ]
     },
     "execution_count": 98,
     "metadata": {},
     "output_type": "execute_result"
    }
   ],
   "source": [
    "range(0,10,1)"
   ]
  },
  {
   "cell_type": "code",
   "execution_count": 104,
   "id": "3778cc33",
   "metadata": {},
   "outputs": [
    {
     "name": "stdout",
     "output_type": "stream",
     "text": [
      "5 n\n",
      "4 e\n",
      "3 e\n",
      "2 v\n",
      "1 a\n",
      "0 n\n"
     ]
    }
   ],
   "source": [
    "for i in range(len(n)-1,-1,-1):\n",
    "    print(i,n[i])"
   ]
  },
  {
   "cell_type": "code",
   "execution_count": null,
   "id": "52fd01b7",
   "metadata": {},
   "outputs": [],
   "source": []
  }
 ],
 "metadata": {
  "kernelspec": {
   "display_name": "Python 3 (ipykernel)",
   "language": "python",
   "name": "python3"
  },
  "language_info": {
   "codemirror_mode": {
    "name": "ipython",
    "version": 3
   },
   "file_extension": ".py",
   "mimetype": "text/x-python",
   "name": "python",
   "nbconvert_exporter": "python",
   "pygments_lexer": "ipython3",
   "version": "3.9.13"
  }
 },
 "nbformat": 4,
 "nbformat_minor": 5
}
