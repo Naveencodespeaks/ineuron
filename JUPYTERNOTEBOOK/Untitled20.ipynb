{
 "cells": [
  {
   "cell_type": "code",
   "execution_count": 1,
   "id": "458aec98",
   "metadata": {},
   "outputs": [
    {
     "data": {
      "text/plain": [
       "'tssyitynrrmglsnimengyosi dtfco'"
      ]
     },
     "execution_count": 1,
     "metadata": {},
     "output_type": "execute_result"
    }
   ],
   "source": [
    "s = \"this is my first pyton programming class and i am learning python string and its function\"\n",
    "s[0:300:3]"
   ]
  },
  {
   "cell_type": "code",
   "execution_count": 2,
   "id": "514f8c32",
   "metadata": {},
   "outputs": [
    {
     "data": {
      "text/plain": [
       "'noitcnuf sti dna gnirts nohtyp gninrael ma i dna ssalc gnimmargorp notyp tsrif ym si siht'"
      ]
     },
     "execution_count": 2,
     "metadata": {},
     "output_type": "execute_result"
    }
   ],
   "source": [
    "s[::-1]"
   ]
  },
  {
   "cell_type": "code",
   "execution_count": 3,
   "id": "6c2612f1",
   "metadata": {},
   "outputs": [],
   "source": [
    "s1= s.upper()"
   ]
  },
  {
   "cell_type": "code",
   "execution_count": 4,
   "id": "a4eba60e",
   "metadata": {},
   "outputs": [
    {
     "data": {
      "text/plain": [
       "'THIS IS MY FIRST PYTON PROGRAMMING CLASS AND I AM LEARNING PYTHON STRING AND ITS FUNCTION'"
      ]
     },
     "execution_count": 4,
     "metadata": {},
     "output_type": "execute_result"
    }
   ],
   "source": [
    "s1"
   ]
  },
  {
   "cell_type": "code",
   "execution_count": 5,
   "id": "0c19cc29",
   "metadata": {},
   "outputs": [
    {
     "data": {
      "text/plain": [
       "['THIS',\n",
       " 'IS',\n",
       " 'MY',\n",
       " 'FIRST',\n",
       " 'PYTON',\n",
       " 'PROGRAMMING',\n",
       " 'CLASS',\n",
       " 'AND',\n",
       " 'I',\n",
       " 'AM',\n",
       " 'LEARNING',\n",
       " 'PYTHON',\n",
       " 'STRING',\n",
       " 'AND',\n",
       " 'ITS',\n",
       " 'FUNCTION']"
      ]
     },
     "execution_count": 5,
     "metadata": {},
     "output_type": "execute_result"
    }
   ],
   "source": [
    "s1.split()"
   ]
  },
  {
   "cell_type": "code",
   "execution_count": 6,
   "id": "ab35eab5",
   "metadata": {},
   "outputs": [
    {
     "data": {
      "text/plain": [
       "'this is my first pyton programming class and i am learning python string and its function'"
      ]
     },
     "execution_count": 6,
     "metadata": {},
     "output_type": "execute_result"
    }
   ],
   "source": [
    "s.lower()"
   ]
  },
  {
   "cell_type": "code",
   "execution_count": 7,
   "id": "290fb676",
   "metadata": {},
   "outputs": [
    {
     "data": {
      "text/plain": [
       "'This is my first pyton programming class and i am learning python string and its function'"
      ]
     },
     "execution_count": 7,
     "metadata": {},
     "output_type": "execute_result"
    }
   ],
   "source": [
    "s.capitalize()"
   ]
  },
  {
   "cell_type": "code",
   "execution_count": 8,
   "id": "63a514f1",
   "metadata": {},
   "outputs": [
    {
     "data": {
      "text/plain": [
       "True"
      ]
     },
     "execution_count": 8,
     "metadata": {},
     "output_type": "execute_result"
    }
   ],
   "source": [
    "s1= \"sudhafsd\"\n",
    "s1.isalnum()"
   ]
  },
  {
   "cell_type": "code",
   "execution_count": 9,
   "id": "79dc6243",
   "metadata": {},
   "outputs": [
    {
     "data": {
      "text/plain": [
       "False"
      ]
     },
     "execution_count": 9,
     "metadata": {},
     "output_type": "execute_result"
    }
   ],
   "source": [
    "s2 = \"sudha123\"\n",
    "s2.isalpha()"
   ]
  },
  {
   "cell_type": "code",
   "execution_count": 10,
   "id": "34e46dc6",
   "metadata": {},
   "outputs": [
    {
     "data": {
      "text/plain": [
       "'hare    krishna hare    rama'"
      ]
     },
     "execution_count": 10,
     "metadata": {},
     "output_type": "execute_result"
    }
   ],
   "source": [
    "s=\"hare\\tkrishna\\thare\\trama\"\n",
    "s.expandtabs()"
   ]
  },
  {
   "cell_type": "code",
   "execution_count": 11,
   "id": "f6c90b33",
   "metadata": {},
   "outputs": [
    {
     "data": {
      "text/plain": [
       "'hare krishna'"
      ]
     },
     "execution_count": 11,
     "metadata": {},
     "output_type": "execute_result"
    }
   ],
   "source": [
    "w = \"                hare krishna          \"\n",
    "w.strip()"
   ]
  },
  {
   "cell_type": "code",
   "execution_count": 12,
   "id": "f974e0eb",
   "metadata": {},
   "outputs": [
    {
     "data": {
      "text/plain": [
       "'hare krishna          '"
      ]
     },
     "execution_count": 12,
     "metadata": {},
     "output_type": "execute_result"
    }
   ],
   "source": [
    "w.lstrip()"
   ]
  },
  {
   "cell_type": "code",
   "execution_count": 13,
   "id": "675fa8f1",
   "metadata": {},
   "outputs": [
    {
     "data": {
      "text/plain": [
       "'                hare krishna'"
      ]
     },
     "execution_count": 13,
     "metadata": {},
     "output_type": "execute_result"
    }
   ],
   "source": [
    "w.rstrip()"
   ]
  },
  {
   "cell_type": "code",
   "execution_count": 14,
   "id": "14723d18",
   "metadata": {},
   "outputs": [
    {
     "data": {
      "text/plain": [
       "'hare rama'"
      ]
     },
     "execution_count": 14,
     "metadata": {},
     "output_type": "execute_result"
    }
   ],
   "source": [
    "b = \"hare krishna\"\n",
    "b.replace(\"krishna\",\"rama\")"
   ]
  },
  {
   "cell_type": "code",
   "execution_count": 21,
   "id": "1fd90592",
   "metadata": {},
   "outputs": [
    {
     "data": {
      "text/plain": [
       "'@@@@harekrishna@@@@@'"
      ]
     },
     "execution_count": 21,
     "metadata": {},
     "output_type": "execute_result"
    }
   ],
   "source": [
    "n = \"harekrishna\"\n",
    "n.center(20,\"@\")"
   ]
  },
  {
   "cell_type": "code",
   "execution_count": 32,
   "id": "f8b50a2b",
   "metadata": {},
   "outputs": [
    {
     "name": "stdout",
     "output_type": "stream",
     "text": [
      "ineruon \n",
      "\n",
      "\n",
      "ineruon ineruon \n",
      "\n",
      "\n",
      "ineruon ineruon ineruon \n",
      "\n",
      "\n",
      "ineruon ineruon ineruon ineruon \n",
      "\n",
      "\n"
     ]
    }
   ],
   "source": [
    "n = 4\n",
    "for i in range(n):\n",
    "    print(\"ineruon \"*(i+1))\n",
    "    print(\"\\n\")\n",
    "    "
   ]
  },
  {
   "cell_type": "code",
   "execution_count": 33,
   "id": "8a9bfc0a",
   "metadata": {},
   "outputs": [
    {
     "ename": "NameError",
     "evalue": "name 'l' is not defined",
     "output_type": "error",
     "traceback": [
      "\u001b[1;31m---------------------------------------------------------------------------\u001b[0m",
      "\u001b[1;31mNameError\u001b[0m                                 Traceback (most recent call last)",
      "Input \u001b[1;32mIn [33]\u001b[0m, in \u001b[0;36m<cell line: 1>\u001b[1;34m()\u001b[0m\n\u001b[1;32m----> 1\u001b[0m \u001b[38;5;28;01mfor\u001b[39;00m i \u001b[38;5;129;01min\u001b[39;00m \u001b[43ml\u001b[49m:\n\u001b[0;32m      2\u001b[0m     \u001b[38;5;28;01mif\u001b[39;00m \u001b[38;5;28mtype\u001b[39m(i)\u001b[38;5;241m==\u001b[39m \u001b[38;5;28mtuple\u001b[39m:\n\u001b[0;32m      3\u001b[0m         \u001b[38;5;28mprint\u001b[39m(i)\n",
      "\u001b[1;31mNameError\u001b[0m: name 'l' is not defined"
     ]
    }
   ],
   "source": [
    "for i in l:\n",
    "    if type(i)== tuple:\n",
    "        print(i)"
   ]
  },
  {
   "cell_type": "code",
   "execution_count": 37,
   "id": "f4b22de8",
   "metadata": {},
   "outputs": [],
   "source": [
    "l=[]\n",
    "for i in l:\n",
    "    if type(i)==list or type(i)==tuple or type(i)== set:\n",
    "        for j in i:\n",
    "            if type(j)== int:\n",
    "                l.append(j)\n",
    "    if type(i)==dict:\n",
    "        for k in i.items():\n",
    "            for g in k:\n",
    "                if type(g)==int:\n",
    "                    l1.append(g)"
   ]
  },
  {
   "cell_type": "code",
   "execution_count": 39,
   "id": "4021cd82",
   "metadata": {},
   "outputs": [
    {
     "ename": "NameError",
     "evalue": "name 'l1' is not defined",
     "output_type": "error",
     "traceback": [
      "\u001b[1;31m---------------------------------------------------------------------------\u001b[0m",
      "\u001b[1;31mNameError\u001b[0m                                 Traceback (most recent call last)",
      "Input \u001b[1;32mIn [39]\u001b[0m, in \u001b[0;36m<cell line: 1>\u001b[1;34m()\u001b[0m\n\u001b[1;32m----> 1\u001b[0m \u001b[38;5;28;01mfor\u001b[39;00m i \u001b[38;5;129;01min\u001b[39;00m \u001b[43ml1\u001b[49m:\n\u001b[0;32m      2\u001b[0m     \u001b[38;5;28;01mif\u001b[39;00m i \u001b[38;5;241m%\u001b[39m \u001b[38;5;241m2\u001b[39m \u001b[38;5;241m==\u001b[39m\u001b[38;5;241m0\u001b[39m:\n\u001b[0;32m      3\u001b[0m         \u001b[38;5;28;01mpass\u001b[39;00m\n",
      "\u001b[1;31mNameError\u001b[0m: name 'l1' is not defined"
     ]
    }
   ],
   "source": [
    "for i in l1:\n",
    "    if i % 2 ==0:\n",
    "        pass\n",
    "    else:\n",
    "        print(i)"
   ]
  },
  {
   "cell_type": "code",
   "execution_count": 40,
   "id": "98828d5e",
   "metadata": {},
   "outputs": [
    {
     "ename": "NameError",
     "evalue": "name 'l1' is not defined",
     "output_type": "error",
     "traceback": [
      "\u001b[1;31m---------------------------------------------------------------------------\u001b[0m",
      "\u001b[1;31mNameError\u001b[0m                                 Traceback (most recent call last)",
      "Input \u001b[1;32mIn [40]\u001b[0m, in \u001b[0;36m<cell line: 1>\u001b[1;34m()\u001b[0m\n\u001b[1;32m----> 1\u001b[0m \u001b[38;5;28;01mfor\u001b[39;00m i \u001b[38;5;129;01min\u001b[39;00m \u001b[38;5;28mset\u001b[39m(\u001b[43ml1\u001b[49m):\n\u001b[0;32m      2\u001b[0m     \u001b[38;5;28mprint\u001b[39m(i,\u001b[38;5;124m\"\u001b[39m\u001b[38;5;124m:\u001b[39m\u001b[38;5;124m\"\u001b[39m,l\u001b[38;5;241m.\u001b[39mcount(i))\n",
      "\u001b[1;31mNameError\u001b[0m: name 'l1' is not defined"
     ]
    }
   ],
   "source": [
    "for i in set(l1):\n",
    "    print(i,\":\",l.count(i))"
   ]
  },
  {
   "cell_type": "code",
   "execution_count": 46,
   "id": "4e02bc6f",
   "metadata": {},
   "outputs": [
    {
     "name": "stdout",
     "output_type": "stream",
     "text": [
      "* \n",
      "* * \n",
      "* * * \n",
      "* * * * \n",
      "* * * * * \n",
      "* * * * * * \n",
      "* * * * * * * \n",
      "* * * * * * * * \n"
     ]
    }
   ],
   "source": [
    "i = 9\n",
    "n = 1\n",
    "while n < i:\n",
    "    print(\"* \"*n)\n",
    "    n = n+1"
   ]
  },
  {
   "cell_type": "code",
   "execution_count": null,
   "id": "59e73070",
   "metadata": {},
   "outputs": [],
   "source": [
    "7981223577"
   ]
  }
 ],
 "metadata": {
  "kernelspec": {
   "display_name": "Python 3 (ipykernel)",
   "language": "python",
   "name": "python3"
  },
  "language_info": {
   "codemirror_mode": {
    "name": "ipython",
    "version": 3
   },
   "file_extension": ".py",
   "mimetype": "text/x-python",
   "name": "python",
   "nbconvert_exporter": "python",
   "pygments_lexer": "ipython3",
   "version": "3.9.12"
  }
 },
 "nbformat": 4,
 "nbformat_minor": 5
}
