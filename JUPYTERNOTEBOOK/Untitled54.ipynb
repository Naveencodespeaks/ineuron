{
 "cells": [
  {
   "cell_type": "markdown",
   "id": "618e8cd4",
   "metadata": {},
   "source": [
    "# pandas"
   ]
  },
  {
   "cell_type": "code",
   "execution_count": null,
   "id": "a9c2817c",
   "metadata": {},
   "outputs": [],
   "source": [
    "import pandas as pd"
   ]
  },
  {
   "cell_type": "code",
   "execution_count": null,
   "id": "ad40ef79",
   "metadata": {},
   "outputs": [],
   "source": [
    "df = pd.read_excel(r'EmployeeSampleData.xlsx')"
   ]
  },
  {
   "cell_type": "code",
   "execution_count": null,
   "id": "46530a7a",
   "metadata": {},
   "outputs": [],
   "source": [
    "df"
   ]
  },
  {
   "cell_type": "code",
   "execution_count": null,
   "id": "946440e7",
   "metadata": {},
   "outputs": [],
   "source": [
    "type(df)"
   ]
  },
  {
   "cell_type": "code",
   "execution_count": null,
   "id": "304350fe",
   "metadata": {},
   "outputs": [],
   "source": [
    "pd.read_excel(r'EmployeeSampleData.xlsx')"
   ]
  },
  {
   "cell_type": "code",
   "execution_count": null,
   "id": "a9ae9cd6",
   "metadata": {},
   "outputs": [],
   "source": [
    "df.head(10)"
   ]
  },
  {
   "cell_type": "code",
   "execution_count": null,
   "id": "e03be870",
   "metadata": {},
   "outputs": [],
   "source": [
    "df.tail(10)"
   ]
  },
  {
   "cell_type": "code",
   "execution_count": null,
   "id": "d29fa514",
   "metadata": {},
   "outputs": [],
   "source": [
    "df.head()"
   ]
  },
  {
   "cell_type": "code",
   "execution_count": null,
   "id": "9783dc18",
   "metadata": {},
   "outputs": [],
   "source": [
    "pd.read_excel(r'EmployeeSampleData.xlsx',header=None)"
   ]
  },
  {
   "cell_type": "code",
   "execution_count": null,
   "id": "b30f5ae0",
   "metadata": {},
   "outputs": [],
   "source": [
    "names = ['Employee ID', 'Full Name', 'Job Title','Branch','Business resource', 'Gender','locality','Age','Hire Date','Annual Salary','Bonus %','Country','City','Exit Date']"
   ]
  },
  {
   "cell_type": "code",
   "execution_count": null,
   "id": "5fd67306",
   "metadata": {},
   "outputs": [],
   "source": [
    "pd.read_excel(r'EmployeeSampleData.xlsx',header=None,names = ['Employee ID', 'Full Name', 'Job Title','Branch','Business resource', 'Gender','locality','Age','Hire Date','Annual Salary','Bonus %','Country','City','Exit Date'])"
   ]
  },
  {
   "cell_type": "code",
   "execution_count": null,
   "id": "12c72141",
   "metadata": {},
   "outputs": [],
   "source": [
    "\"\"\"this is a doc string\"\"\""
   ]
  },
  {
   "cell_type": "code",
   "execution_count": null,
   "id": "5282e32a",
   "metadata": {},
   "outputs": [],
   "source": [
    "def test(a,b):\n",
    "    \"\"\"This is a doc string\"\"\"\n",
    "    return a+b\n"
   ]
  },
  {
   "cell_type": "code",
   "execution_count": null,
   "id": "195c813d",
   "metadata": {},
   "outputs": [],
   "source": [
    "test(19,30)"
   ]
  },
  {
   "cell_type": "code",
   "execution_count": null,
   "id": "3edde331",
   "metadata": {},
   "outputs": [],
   "source": [
    "def add(*m):\n",
    "    n = 0\n",
    "    for i in m:\n",
    "        n = n+i\n",
    "    return n"
   ]
  },
  {
   "cell_type": "code",
   "execution_count": null,
   "id": "ab77695d",
   "metadata": {},
   "outputs": [],
   "source": [
    "add(20,390)"
   ]
  },
  {
   "cell_type": "code",
   "execution_count": null,
   "id": "3dbcf806",
   "metadata": {},
   "outputs": [],
   "source": [
    "def add(*m):\n",
    "    n = 1\n",
    "    for i in m:\n",
    "        if type(i) == int:\n",
    "            n = n+1\n",
    "    return n"
   ]
  },
  {
   "cell_type": "code",
   "execution_count": null,
   "id": "6c44adf2",
   "metadata": {},
   "outputs": [],
   "source": [
    "add(20,3)"
   ]
  },
  {
   "cell_type": "code",
   "execution_count": null,
   "id": "e0f3a449",
   "metadata": {},
   "outputs": [],
   "source": [
    "def add(a,b):\n",
    "    return a+b"
   ]
  },
  {
   "cell_type": "code",
   "execution_count": null,
   "id": "7c16f503",
   "metadata": {},
   "outputs": [],
   "source": [
    "add(10,30)"
   ]
  },
  {
   "cell_type": "code",
   "execution_count": null,
   "id": "74d6f1fd",
   "metadata": {},
   "outputs": [],
   "source": [
    "n = 7\n",
    "for i in range(n):\n",
    "    for j in range(0,i+1):\n",
    "        print(\"*\", end = \" \")\n",
    "    print()"
   ]
  },
  {
   "cell_type": "code",
   "execution_count": null,
   "id": "5f5d0ba9",
   "metadata": {},
   "outputs": [],
   "source": []
  },
  {
   "cell_type": "code",
   "execution_count": null,
   "id": "cc142149",
   "metadata": {},
   "outputs": [],
   "source": [
    "input()"
   ]
  },
  {
   "cell_type": "code",
   "execution_count": null,
   "id": "8da63909",
   "metadata": {},
   "outputs": [],
   "source": [
    "int(input(52))"
   ]
  },
  {
   "cell_type": "code",
   "execution_count": null,
   "id": "4cfc4e05",
   "metadata": {},
   "outputs": [],
   "source": [
    "def star(q):\n",
    "    return q"
   ]
  },
  {
   "cell_type": "code",
   "execution_count": null,
   "id": "040a15c2",
   "metadata": {},
   "outputs": [],
   "source": [
    "star(8)"
   ]
  },
  {
   "cell_type": "code",
   "execution_count": null,
   "id": "61e9e539",
   "metadata": {},
   "outputs": [],
   "source": [
    "n = int(input(\"enter a number: \"))\n",
    "for i in range(n):\n",
    "    for j in range(0,i+1):\n",
    "        print(\"*\", end  = \" \")\n",
    "    print()"
   ]
  },
  {
   "cell_type": "code",
   "execution_count": 12,
   "id": "e4b266d5",
   "metadata": {},
   "outputs": [
    {
     "name": "stdout",
     "output_type": "stream",
     "text": [
      "enter a number: 5\n",
      "* \n",
      "* * \n",
      "* * * \n",
      "* * * * \n",
      "* * * * * \n"
     ]
    }
   ],
   "source": [
    "n = int(input(\"enter a number: \"))\n",
    "for i in range(n):\n",
    "    for j in range(0,i+1):\n",
    "        print('*',end = \" \")\n",
    "    print()\n",
    "\n",
    "  \n",
    "       "
   ]
  },
  {
   "cell_type": "code",
   "execution_count": 36,
   "id": "06332a52",
   "metadata": {},
   "outputs": [],
   "source": [
    "def star(*n):\n",
    "    n = int(input(\"enter a number: \"))\n",
    "    for i in range(n):\n",
    "        for j in range(0,i+1):\n",
    "            print('*',end = \" \")\n",
    "        print()\n",
    "    return n\n",
    "    "
   ]
  },
  {
   "cell_type": "code",
   "execution_count": 37,
   "id": "6443813c",
   "metadata": {},
   "outputs": [
    {
     "name": "stdout",
     "output_type": "stream",
     "text": [
      "enter a number: 5\n",
      "* \n",
      "* * \n",
      "* * * \n",
      "* * * * \n",
      "* * * * * \n"
     ]
    },
    {
     "data": {
      "text/plain": [
       "5"
      ]
     },
     "execution_count": 37,
     "metadata": {},
     "output_type": "execute_result"
    }
   ],
   "source": [
    "star(1)"
   ]
  },
  {
   "cell_type": "code",
   "execution_count": 18,
   "id": "7cf9cfac",
   "metadata": {},
   "outputs": [],
   "source": [
    "def add():\n",
    "    return add"
   ]
  },
  {
   "cell_type": "code",
   "execution_count": 20,
   "id": "0b465b05",
   "metadata": {},
   "outputs": [
    {
     "data": {
      "text/plain": [
       "<function __main__.add()>"
      ]
     },
     "execution_count": 20,
     "metadata": {},
     "output_type": "execute_result"
    }
   ],
   "source": []
  },
  {
   "cell_type": "code",
   "execution_count": 26,
   "id": "e3e9b6de",
   "metadata": {},
   "outputs": [],
   "source": [
    "def add(a,b):\n",
    "    return a+b"
   ]
  },
  {
   "cell_type": "code",
   "execution_count": 27,
   "id": "f6392584",
   "metadata": {},
   "outputs": [
    {
     "data": {
      "text/plain": [
       "3"
      ]
     },
     "execution_count": 27,
     "metadata": {},
     "output_type": "execute_result"
    }
   ],
   "source": [
    "add(1,2)"
   ]
  },
  {
   "cell_type": "code",
   "execution_count": 28,
   "id": "040de3ed",
   "metadata": {},
   "outputs": [],
   "source": [
    "def mul(a,b):\n",
    "    return a*b"
   ]
  },
  {
   "cell_type": "code",
   "execution_count": 29,
   "id": "ae8e8143",
   "metadata": {},
   "outputs": [
    {
     "data": {
      "text/plain": [
       "27"
      ]
     },
     "execution_count": 29,
     "metadata": {},
     "output_type": "execute_result"
    }
   ],
   "source": [
    "mul(3,9)"
   ]
  },
  {
   "cell_type": "code",
   "execution_count": 32,
   "id": "f971cc84",
   "metadata": {},
   "outputs": [],
   "source": [
    "def add(*m):\n",
    "    n = 0\n",
    "    for i in m:\n",
    "        if type(i) == int:\n",
    "            n = n+i\n",
    "    return n"
   ]
  },
  {
   "cell_type": "code",
   "execution_count": 33,
   "id": "0107a481",
   "metadata": {},
   "outputs": [
    {
     "data": {
      "text/plain": [
       "5"
      ]
     },
     "execution_count": 33,
     "metadata": {},
     "output_type": "execute_result"
    }
   ],
   "source": [
    "add(2,3)"
   ]
  },
  {
   "cell_type": "code",
   "execution_count": 40,
   "id": "4ce58e08",
   "metadata": {},
   "outputs": [],
   "source": [
    "def add(*m):\n",
    "    n = 0\n",
    "    for i in m:\n",
    "        if type(i) == int:\n",
    "            n = n+i\n",
    "    return n"
   ]
  },
  {
   "cell_type": "code",
   "execution_count": 41,
   "id": "93d0677e",
   "metadata": {},
   "outputs": [
    {
     "data": {
      "text/plain": [
       "6"
      ]
     },
     "execution_count": 41,
     "metadata": {},
     "output_type": "execute_result"
    }
   ],
   "source": [
    "add(2,4)"
   ]
  },
  {
   "cell_type": "code",
   "execution_count": 42,
   "id": "8484a9e4",
   "metadata": {},
   "outputs": [],
   "source": [
    "import pandas as pd"
   ]
  },
  {
   "cell_type": "code",
   "execution_count": 43,
   "id": "efcab18b",
   "metadata": {},
   "outputs": [
    {
     "data": {
      "text/html": [
       "<div>\n",
       "<style scoped>\n",
       "    .dataframe tbody tr th:only-of-type {\n",
       "        vertical-align: middle;\n",
       "    }\n",
       "\n",
       "    .dataframe tbody tr th {\n",
       "        vertical-align: top;\n",
       "    }\n",
       "\n",
       "    .dataframe thead th {\n",
       "        text-align: right;\n",
       "    }\n",
       "</style>\n",
       "<table border=\"1\" class=\"dataframe\">\n",
       "  <thead>\n",
       "    <tr style=\"text-align: right;\">\n",
       "      <th></th>\n",
       "      <th>Employee ID</th>\n",
       "      <th>Full Name</th>\n",
       "      <th>Job Title</th>\n",
       "      <th>Department</th>\n",
       "      <th>Business Unit</th>\n",
       "      <th>Gender</th>\n",
       "      <th>Ethnicity</th>\n",
       "      <th>Age</th>\n",
       "      <th>Hire Date</th>\n",
       "      <th>Annual Salary</th>\n",
       "      <th>Bonus %</th>\n",
       "      <th>Country</th>\n",
       "      <th>City</th>\n",
       "      <th>Exit Date</th>\n",
       "    </tr>\n",
       "  </thead>\n",
       "  <tbody>\n",
       "    <tr>\n",
       "      <th>0</th>\n",
       "      <td>E02002</td>\n",
       "      <td>Kai Le</td>\n",
       "      <td>Controls Engineer</td>\n",
       "      <td>Engineering</td>\n",
       "      <td>Manufacturing</td>\n",
       "      <td>Male</td>\n",
       "      <td>Asian</td>\n",
       "      <td>47</td>\n",
       "      <td>2022-05-02 00:00:00</td>\n",
       "      <td>$92,368</td>\n",
       "      <td>0.00</td>\n",
       "      <td>United States</td>\n",
       "      <td>Columbus</td>\n",
       "      <td>NaN</td>\n",
       "    </tr>\n",
       "    <tr>\n",
       "      <th>1</th>\n",
       "      <td>E02003</td>\n",
       "      <td>Robert Patel</td>\n",
       "      <td>Analyst</td>\n",
       "      <td>Sales</td>\n",
       "      <td>Corporate</td>\n",
       "      <td>Male</td>\n",
       "      <td>Asian</td>\n",
       "      <td>58</td>\n",
       "      <td>10/23/2013</td>\n",
       "      <td>$45,703</td>\n",
       "      <td>0.00</td>\n",
       "      <td>United States</td>\n",
       "      <td>Chicago</td>\n",
       "      <td>NaN</td>\n",
       "    </tr>\n",
       "    <tr>\n",
       "      <th>2</th>\n",
       "      <td>E02004</td>\n",
       "      <td>Cameron Lo</td>\n",
       "      <td>Network Administrator</td>\n",
       "      <td>IT</td>\n",
       "      <td>Research &amp; Development</td>\n",
       "      <td>Male</td>\n",
       "      <td>Asian</td>\n",
       "      <td>34</td>\n",
       "      <td>3/24/2019</td>\n",
       "      <td>$83,576</td>\n",
       "      <td>0.00</td>\n",
       "      <td>China</td>\n",
       "      <td>Shanghai</td>\n",
       "      <td>NaN</td>\n",
       "    </tr>\n",
       "    <tr>\n",
       "      <th>3</th>\n",
       "      <td>E02005</td>\n",
       "      <td>Harper Castillo</td>\n",
       "      <td>IT Systems Architect</td>\n",
       "      <td>IT</td>\n",
       "      <td>Corporate</td>\n",
       "      <td>Female</td>\n",
       "      <td>Latino</td>\n",
       "      <td>39</td>\n",
       "      <td>2018-07-04 00:00:00</td>\n",
       "      <td>$98,062</td>\n",
       "      <td>0.00</td>\n",
       "      <td>United States</td>\n",
       "      <td>Seattle</td>\n",
       "      <td>NaN</td>\n",
       "    </tr>\n",
       "    <tr>\n",
       "      <th>4</th>\n",
       "      <td>E02006</td>\n",
       "      <td>Harper Dominguez</td>\n",
       "      <td>Director</td>\n",
       "      <td>Engineering</td>\n",
       "      <td>Corporate</td>\n",
       "      <td>Female</td>\n",
       "      <td>Latino</td>\n",
       "      <td>42</td>\n",
       "      <td>6/18/2005</td>\n",
       "      <td>$175,391</td>\n",
       "      <td>0.24</td>\n",
       "      <td>United States</td>\n",
       "      <td>Austin</td>\n",
       "      <td>NaN</td>\n",
       "    </tr>\n",
       "    <tr>\n",
       "      <th>...</th>\n",
       "      <td>...</td>\n",
       "      <td>...</td>\n",
       "      <td>...</td>\n",
       "      <td>...</td>\n",
       "      <td>...</td>\n",
       "      <td>...</td>\n",
       "      <td>...</td>\n",
       "      <td>...</td>\n",
       "      <td>...</td>\n",
       "      <td>...</td>\n",
       "      <td>...</td>\n",
       "      <td>...</td>\n",
       "      <td>...</td>\n",
       "      <td>...</td>\n",
       "    </tr>\n",
       "    <tr>\n",
       "      <th>995</th>\n",
       "      <td>E02997</td>\n",
       "      <td>Melody Delgado</td>\n",
       "      <td>Network Architect</td>\n",
       "      <td>IT</td>\n",
       "      <td>Specialty Products</td>\n",
       "      <td>Female</td>\n",
       "      <td>Latino</td>\n",
       "      <td>48</td>\n",
       "      <td>11/28/2012</td>\n",
       "      <td>$71,632</td>\n",
       "      <td>0.00</td>\n",
       "      <td>Brazil</td>\n",
       "      <td>Rio de Janeiro</td>\n",
       "      <td>NaN</td>\n",
       "    </tr>\n",
       "    <tr>\n",
       "      <th>996</th>\n",
       "      <td>E02998</td>\n",
       "      <td>Eliza Bui</td>\n",
       "      <td>Analyst</td>\n",
       "      <td>Finance</td>\n",
       "      <td>Corporate</td>\n",
       "      <td>Female</td>\n",
       "      <td>Asian</td>\n",
       "      <td>63</td>\n",
       "      <td>6/13/2010</td>\n",
       "      <td>$45,337</td>\n",
       "      <td>0.00</td>\n",
       "      <td>United States</td>\n",
       "      <td>Seattle</td>\n",
       "      <td>NaN</td>\n",
       "    </tr>\n",
       "    <tr>\n",
       "      <th>997</th>\n",
       "      <td>E02999</td>\n",
       "      <td>Layla Wu</td>\n",
       "      <td>Sr. Account Representative</td>\n",
       "      <td>Sales</td>\n",
       "      <td>Research &amp; Development</td>\n",
       "      <td>Female</td>\n",
       "      <td>Asian</td>\n",
       "      <td>31</td>\n",
       "      <td>8/27/2018</td>\n",
       "      <td>$89,573</td>\n",
       "      <td>0.00</td>\n",
       "      <td>United States</td>\n",
       "      <td>Miami</td>\n",
       "      <td>NaN</td>\n",
       "    </tr>\n",
       "    <tr>\n",
       "      <th>998</th>\n",
       "      <td>E03000</td>\n",
       "      <td>Thomas Lam</td>\n",
       "      <td>Controls Engineer</td>\n",
       "      <td>Engineering</td>\n",
       "      <td>Manufacturing</td>\n",
       "      <td>Male</td>\n",
       "      <td>Asian</td>\n",
       "      <td>52</td>\n",
       "      <td>11/18/2022</td>\n",
       "      <td>$75,775</td>\n",
       "      <td>0.00</td>\n",
       "      <td>United States</td>\n",
       "      <td>Seattle</td>\n",
       "      <td>NaN</td>\n",
       "    </tr>\n",
       "    <tr>\n",
       "      <th>999</th>\n",
       "      <td>E03001</td>\n",
       "      <td>Willow Taylor</td>\n",
       "      <td>Account Representative</td>\n",
       "      <td>Sales</td>\n",
       "      <td>Corporate</td>\n",
       "      <td>Female</td>\n",
       "      <td>Black</td>\n",
       "      <td>27</td>\n",
       "      <td>2021-08-02 00:00:00</td>\n",
       "      <td>$51,321</td>\n",
       "      <td>0.00</td>\n",
       "      <td>United States</td>\n",
       "      <td>Seattle</td>\n",
       "      <td>NaN</td>\n",
       "    </tr>\n",
       "  </tbody>\n",
       "</table>\n",
       "<p>1000 rows × 14 columns</p>\n",
       "</div>"
      ],
      "text/plain": [
       "    Employee ID         Full Name                   Job Title   Department  \\\n",
       "0        E02002            Kai Le           Controls Engineer  Engineering   \n",
       "1        E02003      Robert Patel                     Analyst        Sales   \n",
       "2        E02004        Cameron Lo       Network Administrator           IT   \n",
       "3        E02005   Harper Castillo        IT Systems Architect           IT   \n",
       "4        E02006  Harper Dominguez                    Director  Engineering   \n",
       "..          ...               ...                         ...          ...   \n",
       "995      E02997    Melody Delgado           Network Architect           IT   \n",
       "996      E02998         Eliza Bui                     Analyst      Finance   \n",
       "997      E02999          Layla Wu  Sr. Account Representative        Sales   \n",
       "998      E03000        Thomas Lam           Controls Engineer  Engineering   \n",
       "999      E03001     Willow Taylor      Account Representative        Sales   \n",
       "\n",
       "              Business Unit  Gender Ethnicity  Age            Hire Date  \\\n",
       "0             Manufacturing    Male     Asian   47  2022-05-02 00:00:00   \n",
       "1                 Corporate    Male     Asian   58           10/23/2013   \n",
       "2    Research & Development    Male     Asian   34            3/24/2019   \n",
       "3                 Corporate  Female    Latino   39  2018-07-04 00:00:00   \n",
       "4                 Corporate  Female    Latino   42            6/18/2005   \n",
       "..                      ...     ...       ...  ...                  ...   \n",
       "995      Specialty Products  Female    Latino   48           11/28/2012   \n",
       "996               Corporate  Female     Asian   63            6/13/2010   \n",
       "997  Research & Development  Female     Asian   31            8/27/2018   \n",
       "998           Manufacturing    Male     Asian   52           11/18/2022   \n",
       "999               Corporate  Female     Black   27  2021-08-02 00:00:00   \n",
       "\n",
       "    Annual Salary  Bonus %        Country            City Exit Date  \n",
       "0        $92,368      0.00  United States        Columbus       NaN  \n",
       "1        $45,703      0.00  United States         Chicago       NaN  \n",
       "2        $83,576      0.00          China        Shanghai       NaN  \n",
       "3        $98,062      0.00  United States         Seattle       NaN  \n",
       "4       $175,391      0.24  United States          Austin       NaN  \n",
       "..            ...      ...            ...             ...       ...  \n",
       "995      $71,632      0.00         Brazil  Rio de Janeiro       NaN  \n",
       "996      $45,337      0.00  United States         Seattle       NaN  \n",
       "997      $89,573      0.00  United States           Miami       NaN  \n",
       "998      $75,775      0.00  United States         Seattle       NaN  \n",
       "999      $51,321      0.00  United States         Seattle       NaN  \n",
       "\n",
       "[1000 rows x 14 columns]"
      ]
     },
     "execution_count": 43,
     "metadata": {},
     "output_type": "execute_result"
    }
   ],
   "source": [
    "pd.read_excel(r'EmployeeSampleData.xlsx')"
   ]
  },
  {
   "cell_type": "code",
   "execution_count": 44,
   "id": "be426916",
   "metadata": {},
   "outputs": [],
   "source": [
    "df = pd.read_excel(r'EmployeeSampleData.xlsx')"
   ]
  },
  {
   "cell_type": "code",
   "execution_count": 45,
   "id": "c5d0fb31",
   "metadata": {},
   "outputs": [
    {
     "data": {
      "text/html": [
       "<div>\n",
       "<style scoped>\n",
       "    .dataframe tbody tr th:only-of-type {\n",
       "        vertical-align: middle;\n",
       "    }\n",
       "\n",
       "    .dataframe tbody tr th {\n",
       "        vertical-align: top;\n",
       "    }\n",
       "\n",
       "    .dataframe thead th {\n",
       "        text-align: right;\n",
       "    }\n",
       "</style>\n",
       "<table border=\"1\" class=\"dataframe\">\n",
       "  <thead>\n",
       "    <tr style=\"text-align: right;\">\n",
       "      <th></th>\n",
       "      <th>Employee ID</th>\n",
       "      <th>Full Name</th>\n",
       "      <th>Job Title</th>\n",
       "      <th>Department</th>\n",
       "      <th>Business Unit</th>\n",
       "      <th>Gender</th>\n",
       "      <th>Ethnicity</th>\n",
       "      <th>Age</th>\n",
       "      <th>Hire Date</th>\n",
       "      <th>Annual Salary</th>\n",
       "      <th>Bonus %</th>\n",
       "      <th>Country</th>\n",
       "      <th>City</th>\n",
       "      <th>Exit Date</th>\n",
       "    </tr>\n",
       "  </thead>\n",
       "  <tbody>\n",
       "    <tr>\n",
       "      <th>0</th>\n",
       "      <td>E02002</td>\n",
       "      <td>Kai Le</td>\n",
       "      <td>Controls Engineer</td>\n",
       "      <td>Engineering</td>\n",
       "      <td>Manufacturing</td>\n",
       "      <td>Male</td>\n",
       "      <td>Asian</td>\n",
       "      <td>47</td>\n",
       "      <td>2022-05-02 00:00:00</td>\n",
       "      <td>$92,368</td>\n",
       "      <td>0.00</td>\n",
       "      <td>United States</td>\n",
       "      <td>Columbus</td>\n",
       "      <td>NaN</td>\n",
       "    </tr>\n",
       "    <tr>\n",
       "      <th>1</th>\n",
       "      <td>E02003</td>\n",
       "      <td>Robert Patel</td>\n",
       "      <td>Analyst</td>\n",
       "      <td>Sales</td>\n",
       "      <td>Corporate</td>\n",
       "      <td>Male</td>\n",
       "      <td>Asian</td>\n",
       "      <td>58</td>\n",
       "      <td>10/23/2013</td>\n",
       "      <td>$45,703</td>\n",
       "      <td>0.00</td>\n",
       "      <td>United States</td>\n",
       "      <td>Chicago</td>\n",
       "      <td>NaN</td>\n",
       "    </tr>\n",
       "    <tr>\n",
       "      <th>2</th>\n",
       "      <td>E02004</td>\n",
       "      <td>Cameron Lo</td>\n",
       "      <td>Network Administrator</td>\n",
       "      <td>IT</td>\n",
       "      <td>Research &amp; Development</td>\n",
       "      <td>Male</td>\n",
       "      <td>Asian</td>\n",
       "      <td>34</td>\n",
       "      <td>3/24/2019</td>\n",
       "      <td>$83,576</td>\n",
       "      <td>0.00</td>\n",
       "      <td>China</td>\n",
       "      <td>Shanghai</td>\n",
       "      <td>NaN</td>\n",
       "    </tr>\n",
       "    <tr>\n",
       "      <th>3</th>\n",
       "      <td>E02005</td>\n",
       "      <td>Harper Castillo</td>\n",
       "      <td>IT Systems Architect</td>\n",
       "      <td>IT</td>\n",
       "      <td>Corporate</td>\n",
       "      <td>Female</td>\n",
       "      <td>Latino</td>\n",
       "      <td>39</td>\n",
       "      <td>2018-07-04 00:00:00</td>\n",
       "      <td>$98,062</td>\n",
       "      <td>0.00</td>\n",
       "      <td>United States</td>\n",
       "      <td>Seattle</td>\n",
       "      <td>NaN</td>\n",
       "    </tr>\n",
       "    <tr>\n",
       "      <th>4</th>\n",
       "      <td>E02006</td>\n",
       "      <td>Harper Dominguez</td>\n",
       "      <td>Director</td>\n",
       "      <td>Engineering</td>\n",
       "      <td>Corporate</td>\n",
       "      <td>Female</td>\n",
       "      <td>Latino</td>\n",
       "      <td>42</td>\n",
       "      <td>6/18/2005</td>\n",
       "      <td>$175,391</td>\n",
       "      <td>0.24</td>\n",
       "      <td>United States</td>\n",
       "      <td>Austin</td>\n",
       "      <td>NaN</td>\n",
       "    </tr>\n",
       "    <tr>\n",
       "      <th>...</th>\n",
       "      <td>...</td>\n",
       "      <td>...</td>\n",
       "      <td>...</td>\n",
       "      <td>...</td>\n",
       "      <td>...</td>\n",
       "      <td>...</td>\n",
       "      <td>...</td>\n",
       "      <td>...</td>\n",
       "      <td>...</td>\n",
       "      <td>...</td>\n",
       "      <td>...</td>\n",
       "      <td>...</td>\n",
       "      <td>...</td>\n",
       "      <td>...</td>\n",
       "    </tr>\n",
       "    <tr>\n",
       "      <th>995</th>\n",
       "      <td>E02997</td>\n",
       "      <td>Melody Delgado</td>\n",
       "      <td>Network Architect</td>\n",
       "      <td>IT</td>\n",
       "      <td>Specialty Products</td>\n",
       "      <td>Female</td>\n",
       "      <td>Latino</td>\n",
       "      <td>48</td>\n",
       "      <td>11/28/2012</td>\n",
       "      <td>$71,632</td>\n",
       "      <td>0.00</td>\n",
       "      <td>Brazil</td>\n",
       "      <td>Rio de Janeiro</td>\n",
       "      <td>NaN</td>\n",
       "    </tr>\n",
       "    <tr>\n",
       "      <th>996</th>\n",
       "      <td>E02998</td>\n",
       "      <td>Eliza Bui</td>\n",
       "      <td>Analyst</td>\n",
       "      <td>Finance</td>\n",
       "      <td>Corporate</td>\n",
       "      <td>Female</td>\n",
       "      <td>Asian</td>\n",
       "      <td>63</td>\n",
       "      <td>6/13/2010</td>\n",
       "      <td>$45,337</td>\n",
       "      <td>0.00</td>\n",
       "      <td>United States</td>\n",
       "      <td>Seattle</td>\n",
       "      <td>NaN</td>\n",
       "    </tr>\n",
       "    <tr>\n",
       "      <th>997</th>\n",
       "      <td>E02999</td>\n",
       "      <td>Layla Wu</td>\n",
       "      <td>Sr. Account Representative</td>\n",
       "      <td>Sales</td>\n",
       "      <td>Research &amp; Development</td>\n",
       "      <td>Female</td>\n",
       "      <td>Asian</td>\n",
       "      <td>31</td>\n",
       "      <td>8/27/2018</td>\n",
       "      <td>$89,573</td>\n",
       "      <td>0.00</td>\n",
       "      <td>United States</td>\n",
       "      <td>Miami</td>\n",
       "      <td>NaN</td>\n",
       "    </tr>\n",
       "    <tr>\n",
       "      <th>998</th>\n",
       "      <td>E03000</td>\n",
       "      <td>Thomas Lam</td>\n",
       "      <td>Controls Engineer</td>\n",
       "      <td>Engineering</td>\n",
       "      <td>Manufacturing</td>\n",
       "      <td>Male</td>\n",
       "      <td>Asian</td>\n",
       "      <td>52</td>\n",
       "      <td>11/18/2022</td>\n",
       "      <td>$75,775</td>\n",
       "      <td>0.00</td>\n",
       "      <td>United States</td>\n",
       "      <td>Seattle</td>\n",
       "      <td>NaN</td>\n",
       "    </tr>\n",
       "    <tr>\n",
       "      <th>999</th>\n",
       "      <td>E03001</td>\n",
       "      <td>Willow Taylor</td>\n",
       "      <td>Account Representative</td>\n",
       "      <td>Sales</td>\n",
       "      <td>Corporate</td>\n",
       "      <td>Female</td>\n",
       "      <td>Black</td>\n",
       "      <td>27</td>\n",
       "      <td>2021-08-02 00:00:00</td>\n",
       "      <td>$51,321</td>\n",
       "      <td>0.00</td>\n",
       "      <td>United States</td>\n",
       "      <td>Seattle</td>\n",
       "      <td>NaN</td>\n",
       "    </tr>\n",
       "  </tbody>\n",
       "</table>\n",
       "<p>1000 rows × 14 columns</p>\n",
       "</div>"
      ],
      "text/plain": [
       "    Employee ID         Full Name                   Job Title   Department  \\\n",
       "0        E02002            Kai Le           Controls Engineer  Engineering   \n",
       "1        E02003      Robert Patel                     Analyst        Sales   \n",
       "2        E02004        Cameron Lo       Network Administrator           IT   \n",
       "3        E02005   Harper Castillo        IT Systems Architect           IT   \n",
       "4        E02006  Harper Dominguez                    Director  Engineering   \n",
       "..          ...               ...                         ...          ...   \n",
       "995      E02997    Melody Delgado           Network Architect           IT   \n",
       "996      E02998         Eliza Bui                     Analyst      Finance   \n",
       "997      E02999          Layla Wu  Sr. Account Representative        Sales   \n",
       "998      E03000        Thomas Lam           Controls Engineer  Engineering   \n",
       "999      E03001     Willow Taylor      Account Representative        Sales   \n",
       "\n",
       "              Business Unit  Gender Ethnicity  Age            Hire Date  \\\n",
       "0             Manufacturing    Male     Asian   47  2022-05-02 00:00:00   \n",
       "1                 Corporate    Male     Asian   58           10/23/2013   \n",
       "2    Research & Development    Male     Asian   34            3/24/2019   \n",
       "3                 Corporate  Female    Latino   39  2018-07-04 00:00:00   \n",
       "4                 Corporate  Female    Latino   42            6/18/2005   \n",
       "..                      ...     ...       ...  ...                  ...   \n",
       "995      Specialty Products  Female    Latino   48           11/28/2012   \n",
       "996               Corporate  Female     Asian   63            6/13/2010   \n",
       "997  Research & Development  Female     Asian   31            8/27/2018   \n",
       "998           Manufacturing    Male     Asian   52           11/18/2022   \n",
       "999               Corporate  Female     Black   27  2021-08-02 00:00:00   \n",
       "\n",
       "    Annual Salary  Bonus %        Country            City Exit Date  \n",
       "0        $92,368      0.00  United States        Columbus       NaN  \n",
       "1        $45,703      0.00  United States         Chicago       NaN  \n",
       "2        $83,576      0.00          China        Shanghai       NaN  \n",
       "3        $98,062      0.00  United States         Seattle       NaN  \n",
       "4       $175,391      0.24  United States          Austin       NaN  \n",
       "..            ...      ...            ...             ...       ...  \n",
       "995      $71,632      0.00         Brazil  Rio de Janeiro       NaN  \n",
       "996      $45,337      0.00  United States         Seattle       NaN  \n",
       "997      $89,573      0.00  United States           Miami       NaN  \n",
       "998      $75,775      0.00  United States         Seattle       NaN  \n",
       "999      $51,321      0.00  United States         Seattle       NaN  \n",
       "\n",
       "[1000 rows x 14 columns]"
      ]
     },
     "execution_count": 45,
     "metadata": {},
     "output_type": "execute_result"
    }
   ],
   "source": [
    "df"
   ]
  },
  {
   "cell_type": "code",
   "execution_count": 49,
   "id": "4ad450e0",
   "metadata": {},
   "outputs": [
    {
     "ename": "AttributeError",
     "evalue": "module 'pandas' has no attribute 'head'",
     "output_type": "error",
     "traceback": [
      "\u001b[1;31m---------------------------------------------------------------------------\u001b[0m",
      "\u001b[1;31mAttributeError\u001b[0m                            Traceback (most recent call last)",
      "\u001b[1;32m~\\AppData\\Local\\Temp\\ipykernel_8728\\383375859.py\u001b[0m in \u001b[0;36m<module>\u001b[1;34m\u001b[0m\n\u001b[1;32m----> 1\u001b[1;33m \u001b[0mpd\u001b[0m\u001b[1;33m.\u001b[0m\u001b[0mhead\u001b[0m\u001b[1;33m(\u001b[0m\u001b[1;36m12\u001b[0m\u001b[1;33m)\u001b[0m\u001b[1;33m\u001b[0m\u001b[1;33m\u001b[0m\u001b[0m\n\u001b[0m",
      "\u001b[1;32mC:\\ProgramData\\Anaconda3\\lib\\site-packages\\pandas\\__init__.py\u001b[0m in \u001b[0;36m__getattr__\u001b[1;34m(name)\u001b[0m\n\u001b[0;32m    259\u001b[0m         \u001b[1;32mreturn\u001b[0m \u001b[0m_SparseArray\u001b[0m\u001b[1;33m\u001b[0m\u001b[1;33m\u001b[0m\u001b[0m\n\u001b[0;32m    260\u001b[0m \u001b[1;33m\u001b[0m\u001b[0m\n\u001b[1;32m--> 261\u001b[1;33m     \u001b[1;32mraise\u001b[0m \u001b[0mAttributeError\u001b[0m\u001b[1;33m(\u001b[0m\u001b[1;34mf\"module 'pandas' has no attribute '{name}'\"\u001b[0m\u001b[1;33m)\u001b[0m\u001b[1;33m\u001b[0m\u001b[1;33m\u001b[0m\u001b[0m\n\u001b[0m\u001b[0;32m    262\u001b[0m \u001b[1;33m\u001b[0m\u001b[0m\n\u001b[0;32m    263\u001b[0m \u001b[1;33m\u001b[0m\u001b[0m\n",
      "\u001b[1;31mAttributeError\u001b[0m: module 'pandas' has no attribute 'head'"
     ]
    }
   ],
   "source": [
    "pd.head(12)"
   ]
  },
  {
   "cell_type": "code",
   "execution_count": 50,
   "id": "6c7b7af0",
   "metadata": {},
   "outputs": [],
   "source": [
    "def add(*m):\n",
    "    n = 0\n",
    "    for i in m:\n",
    "        if type(i) == int:\n",
    "            n = n+i\n",
    "    return n"
   ]
  },
  {
   "cell_type": "code",
   "execution_count": 51,
   "id": "d8a51e83",
   "metadata": {},
   "outputs": [
    {
     "data": {
      "text/plain": [
       "121"
      ]
     },
     "execution_count": 51,
     "metadata": {},
     "output_type": "execute_result"
    }
   ],
   "source": [
    "add(23,98)"
   ]
  },
  {
   "cell_type": "code",
   "execution_count": 110,
   "id": "5aebc186",
   "metadata": {},
   "outputs": [],
   "source": [
    "def mul(*r):\n",
    "    n = 1\n",
    "    for i in r:\n",
    "        if type(i) == int:\n",
    "            n = n*i\n",
    "    return n"
   ]
  },
  {
   "cell_type": "code",
   "execution_count": 111,
   "id": "5df1cd71",
   "metadata": {},
   "outputs": [
    {
     "data": {
      "text/plain": [
       "600"
      ]
     },
     "execution_count": 111,
     "metadata": {},
     "output_type": "execute_result"
    }
   ],
   "source": [
    "mul(20,30)"
   ]
  },
  {
   "cell_type": "code",
   "execution_count": null,
   "id": "af38304f",
   "metadata": {},
   "outputs": [],
   "source": []
  },
  {
   "cell_type": "code",
   "execution_count": 99,
   "id": "90a42ba6",
   "metadata": {},
   "outputs": [],
   "source": []
  },
  {
   "cell_type": "code",
   "execution_count": 100,
   "id": "f3792bfe",
   "metadata": {},
   "outputs": [
    {
     "data": {
      "text/plain": [
       "0.4"
      ]
     },
     "execution_count": 100,
     "metadata": {},
     "output_type": "execute_result"
    }
   ],
   "source": [
    "div(2,5)"
   ]
  },
  {
   "cell_type": "code",
   "execution_count": null,
   "id": "ad3d3891",
   "metadata": {},
   "outputs": [],
   "source": []
  }
 ],
 "metadata": {
  "kernelspec": {
   "display_name": "Python 3 (ipykernel)",
   "language": "python",
   "name": "python3"
  },
  "language_info": {
   "codemirror_mode": {
    "name": "ipython",
    "version": 3
   },
   "file_extension": ".py",
   "mimetype": "text/x-python",
   "name": "python",
   "nbconvert_exporter": "python",
   "pygments_lexer": "ipython3",
   "version": "3.9.13"
  }
 },
 "nbformat": 4,
 "nbformat_minor": 5
}
