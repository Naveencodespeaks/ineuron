{
 "cells": [
  {
   "cell_type": "code",
   "execution_count": 1,
   "id": "7a6fac6f",
   "metadata": {},
   "outputs": [],
   "source": [
    "l=[1,2,3,4,5,6,\"hare krishna\",34,534,5643534,97 ]"
   ]
  },
  {
   "cell_type": "code",
   "execution_count": 2,
   "id": "b283b60a",
   "metadata": {},
   "outputs": [
    {
     "data": {
      "text/plain": [
       "[1, 2, 3, 4, 5, 6, 'hare krishna', 34, 534, 5643534, 97]"
      ]
     },
     "execution_count": 2,
     "metadata": {},
     "output_type": "execute_result"
    }
   ],
   "source": [
    "l"
   ]
  },
  {
   "cell_type": "code",
   "execution_count": 3,
   "id": "943271b4",
   "metadata": {},
   "outputs": [
    {
     "name": "stderr",
     "output_type": "stream",
     "text": [
      "<>:1: SyntaxWarning: 'int' object is not subscriptable; perhaps you missed a comma?\n",
      "<>:1: SyntaxWarning: 'int' object is not subscriptable; perhaps you missed a comma?\n",
      "C:\\Users\\SVKUSER\\AppData\\Local\\Temp\\ipykernel_6016\\1270219447.py:1: SyntaxWarning: 'int' object is not subscriptable; perhaps you missed a comma?\n",
      "  1[0]\n",
      "C:\\Users\\SVKUSER\\AppData\\Local\\Temp\\ipykernel_6016\\1270219447.py:1: SyntaxWarning: 'int' object is not subscriptable; perhaps you missed a comma?\n",
      "  1[0]\n",
      "C:\\Users\\SVKUSER\\AppData\\Local\\Temp\\ipykernel_6016\\1270219447.py:1: SyntaxWarning: 'int' object is not subscriptable; perhaps you missed a comma?\n",
      "  1[0]\n"
     ]
    },
    {
     "ename": "TypeError",
     "evalue": "'int' object is not subscriptable",
     "output_type": "error",
     "traceback": [
      "\u001b[1;31m---------------------------------------------------------------------------\u001b[0m",
      "\u001b[1;31mTypeError\u001b[0m                                 Traceback (most recent call last)",
      "Input \u001b[1;32mIn [3]\u001b[0m, in \u001b[0;36m<cell line: 1>\u001b[1;34m()\u001b[0m\n\u001b[1;32m----> 1\u001b[0m \u001b[38;5;241;43m1\u001b[39;49m\u001b[43m[\u001b[49m\u001b[38;5;241;43m0\u001b[39;49m\u001b[43m]\u001b[49m\n",
      "\u001b[1;31mTypeError\u001b[0m: 'int' object is not subscriptable"
     ]
    }
   ],
   "source": [
    "1[0]"
   ]
  },
  {
   "cell_type": "code",
   "execution_count": 4,
   "id": "22e0c8cf",
   "metadata": {},
   "outputs": [
    {
     "data": {
      "text/plain": [
       "1"
      ]
     },
     "execution_count": 4,
     "metadata": {},
     "output_type": "execute_result"
    }
   ],
   "source": [
    "l[0]"
   ]
  },
  {
   "cell_type": "code",
   "execution_count": 5,
   "id": "47b76b8a",
   "metadata": {},
   "outputs": [
    {
     "data": {
      "text/plain": [
       "97"
      ]
     },
     "execution_count": 5,
     "metadata": {},
     "output_type": "execute_result"
    }
   ],
   "source": [
    "l[-1]"
   ]
  },
  {
   "cell_type": "code",
   "execution_count": 6,
   "id": "fcfdec2b",
   "metadata": {},
   "outputs": [
    {
     "data": {
      "text/plain": [
       "11"
      ]
     },
     "execution_count": 6,
     "metadata": {},
     "output_type": "execute_result"
    }
   ],
   "source": [
    "len(l)"
   ]
  },
  {
   "cell_type": "code",
   "execution_count": 7,
   "id": "e5b8013b",
   "metadata": {},
   "outputs": [
    {
     "data": {
      "text/plain": [
       "[1, 2, 3, 4, 5]"
      ]
     },
     "execution_count": 7,
     "metadata": {},
     "output_type": "execute_result"
    }
   ],
   "source": [
    "l[0:5]"
   ]
  },
  {
   "cell_type": "code",
   "execution_count": 8,
   "id": "8ed20255",
   "metadata": {},
   "outputs": [
    {
     "data": {
      "text/plain": [
       "[97, 5643534, 534, 34, 'hare krishna', 6, 5, 4, 3, 2, 1]"
      ]
     },
     "execution_count": 8,
     "metadata": {},
     "output_type": "execute_result"
    }
   ],
   "source": [
    "l[::-1]"
   ]
  },
  {
   "cell_type": "code",
   "execution_count": 9,
   "id": "05a8d3c6",
   "metadata": {},
   "outputs": [
    {
     "data": {
      "text/plain": [
       "[1, 2, 3, 4, 5, 6, 'hare krishna', 34, 534, 5643534, 97]"
      ]
     },
     "execution_count": 9,
     "metadata": {},
     "output_type": "execute_result"
    }
   ],
   "source": [
    "l"
   ]
  },
  {
   "cell_type": "code",
   "execution_count": 10,
   "id": "3d01a77f",
   "metadata": {},
   "outputs": [
    {
     "data": {
      "text/plain": [
       "[1, 2, 3, 4, 5, 6, 'hare krishna', 34, 534, 5643534, 97]"
      ]
     },
     "execution_count": 10,
     "metadata": {},
     "output_type": "execute_result"
    }
   ],
   "source": [
    "l[0:100]"
   ]
  },
  {
   "cell_type": "code",
   "execution_count": 11,
   "id": "b8640b87",
   "metadata": {},
   "outputs": [
    {
     "data": {
      "text/plain": [
       "[1, 3, 5, 'hare krishna', 534, 97]"
      ]
     },
     "execution_count": 11,
     "metadata": {},
     "output_type": "execute_result"
    }
   ],
   "source": [
    "l[0:100:2]"
   ]
  },
  {
   "cell_type": "code",
   "execution_count": 12,
   "id": "71c2954e",
   "metadata": {},
   "outputs": [
    {
     "data": {
      "text/plain": [
       "[1, 2, 3, 4, 5, 6, 'hare krishna', 34, 534, 5643534, 97]"
      ]
     },
     "execution_count": 12,
     "metadata": {},
     "output_type": "execute_result"
    }
   ],
   "source": [
    "l"
   ]
  },
  {
   "cell_type": "code",
   "execution_count": 13,
   "id": "571f6730",
   "metadata": {},
   "outputs": [
    {
     "data": {
      "text/plain": [
       "[1, 2, 3, 4, 5, 6, 'hare krishna']"
      ]
     },
     "execution_count": 13,
     "metadata": {},
     "output_type": "execute_result"
    }
   ],
   "source": [
    "l[0:8-1]"
   ]
  },
  {
   "cell_type": "code",
   "execution_count": 14,
   "id": "f688e6a0",
   "metadata": {},
   "outputs": [
    {
     "data": {
      "text/plain": [
       "[]"
      ]
     },
     "execution_count": 14,
     "metadata": {},
     "output_type": "execute_result"
    }
   ],
   "source": [
    "l[0:8:-1]"
   ]
  },
  {
   "cell_type": "code",
   "execution_count": 15,
   "id": "35e02d1c",
   "metadata": {},
   "outputs": [
    {
     "data": {
      "text/plain": [
       "[1, 2, 3]"
      ]
     },
     "execution_count": 15,
     "metadata": {},
     "output_type": "execute_result"
    }
   ],
   "source": [
    "l[:3]"
   ]
  },
  {
   "cell_type": "code",
   "execution_count": 16,
   "id": "ea5567d4",
   "metadata": {},
   "outputs": [
    {
     "data": {
      "text/plain": [
       "[1, 2, 3, 4, 5, 6, 'hare krishna', 34, 534, 5643534, 97]"
      ]
     },
     "execution_count": 16,
     "metadata": {},
     "output_type": "execute_result"
    }
   ],
   "source": [
    "l"
   ]
  },
  {
   "cell_type": "code",
   "execution_count": 17,
   "id": "317d9e16",
   "metadata": {},
   "outputs": [
    {
     "data": {
      "text/plain": [
       "[1, 2, 3, 4, 5, 6, 'hare krishna', 34, 534, 5643534, 97, 'sudh']"
      ]
     },
     "execution_count": 17,
     "metadata": {},
     "output_type": "execute_result"
    }
   ],
   "source": [
    "l+[\"sudh\"]"
   ]
  },
  {
   "cell_type": "code",
   "execution_count": 18,
   "id": "91088673",
   "metadata": {},
   "outputs": [
    {
     "data": {
      "text/plain": [
       "[1,\n",
       " 2,\n",
       " 3,\n",
       " 4,\n",
       " 5,\n",
       " 6,\n",
       " 'hare krishna',\n",
       " 34,\n",
       " 534,\n",
       " 5643534,\n",
       " 97,\n",
       " 1,\n",
       " 2,\n",
       " 3,\n",
       " 4,\n",
       " 5,\n",
       " 6,\n",
       " 'hare krishna',\n",
       " 34,\n",
       " 534,\n",
       " 5643534,\n",
       " 97]"
      ]
     },
     "execution_count": 18,
     "metadata": {},
     "output_type": "execute_result"
    }
   ],
   "source": [
    "l*2"
   ]
  },
  {
   "cell_type": "code",
   "execution_count": 19,
   "id": "77bc2d91",
   "metadata": {},
   "outputs": [
    {
     "data": {
      "text/plain": [
       "False"
      ]
     },
     "execution_count": 19,
     "metadata": {},
     "output_type": "execute_result"
    }
   ],
   "source": [
    "60 in l"
   ]
  },
  {
   "cell_type": "code",
   "execution_count": 20,
   "id": "fc402cae",
   "metadata": {},
   "outputs": [
    {
     "data": {
      "text/plain": [
       "True"
      ]
     },
     "execution_count": 20,
     "metadata": {},
     "output_type": "execute_result"
    }
   ],
   "source": [
    "97 in l"
   ]
  },
  {
   "cell_type": "code",
   "execution_count": 21,
   "id": "6e4ed1e1",
   "metadata": {},
   "outputs": [
    {
     "data": {
      "text/plain": [
       "True"
      ]
     },
     "execution_count": 21,
     "metadata": {},
     "output_type": "execute_result"
    }
   ],
   "source": [
    "2 in l"
   ]
  },
  {
   "cell_type": "code",
   "execution_count": 22,
   "id": "c4cdb05c",
   "metadata": {},
   "outputs": [
    {
     "data": {
      "text/plain": [
       "False"
      ]
     },
     "execution_count": 22,
     "metadata": {},
     "output_type": "execute_result"
    }
   ],
   "source": [
    "60 in l"
   ]
  },
  {
   "cell_type": "code",
   "execution_count": 23,
   "id": "e6171772",
   "metadata": {},
   "outputs": [
    {
     "ename": "TypeError",
     "evalue": "'>' not supported between instances of 'str' and 'int'",
     "output_type": "error",
     "traceback": [
      "\u001b[1;31m---------------------------------------------------------------------------\u001b[0m",
      "\u001b[1;31mTypeError\u001b[0m                                 Traceback (most recent call last)",
      "Input \u001b[1;32mIn [23]\u001b[0m, in \u001b[0;36m<cell line: 1>\u001b[1;34m()\u001b[0m\n\u001b[1;32m----> 1\u001b[0m \u001b[38;5;28;43mmax\u001b[39;49m\u001b[43m(\u001b[49m\u001b[43ml\u001b[49m\u001b[43m)\u001b[49m\n",
      "\u001b[1;31mTypeError\u001b[0m: '>' not supported between instances of 'str' and 'int'"
     ]
    }
   ],
   "source": [
    "max(l)"
   ]
  },
  {
   "cell_type": "code",
   "execution_count": 24,
   "id": "05682c5d",
   "metadata": {},
   "outputs": [],
   "source": [
    "l1=[4,5,2,4,52345]"
   ]
  },
  {
   "cell_type": "code",
   "execution_count": 25,
   "id": "f25f0071",
   "metadata": {},
   "outputs": [
    {
     "data": {
      "text/plain": [
       "[4, 5, 2, 4, 52345]"
      ]
     },
     "execution_count": 25,
     "metadata": {},
     "output_type": "execute_result"
    }
   ],
   "source": [
    "l1"
   ]
  },
  {
   "cell_type": "code",
   "execution_count": 26,
   "id": "58b39f24",
   "metadata": {},
   "outputs": [
    {
     "data": {
      "text/plain": [
       "52345"
      ]
     },
     "execution_count": 26,
     "metadata": {},
     "output_type": "execute_result"
    }
   ],
   "source": [
    "max(l1)"
   ]
  },
  {
   "cell_type": "code",
   "execution_count": 27,
   "id": "e8ed97db",
   "metadata": {},
   "outputs": [],
   "source": [
    "l2=[\"ram\",\"krishna\",\"gopal\"]"
   ]
  },
  {
   "cell_type": "code",
   "execution_count": 28,
   "id": "d5e5bead",
   "metadata": {},
   "outputs": [
    {
     "data": {
      "text/plain": [
       "'ram'"
      ]
     },
     "execution_count": 28,
     "metadata": {},
     "output_type": "execute_result"
    }
   ],
   "source": [
    "max(l2)"
   ]
  },
  {
   "cell_type": "code",
   "execution_count": 29,
   "id": "031c06c2",
   "metadata": {},
   "outputs": [
    {
     "data": {
      "text/plain": [
       "'gopal'"
      ]
     },
     "execution_count": 29,
     "metadata": {},
     "output_type": "execute_result"
    }
   ],
   "source": [
    "min(l2)"
   ]
  },
  {
   "cell_type": "code",
   "execution_count": 30,
   "id": "3d56ef43",
   "metadata": {},
   "outputs": [
    {
     "data": {
      "text/plain": [
       "2"
      ]
     },
     "execution_count": 30,
     "metadata": {},
     "output_type": "execute_result"
    }
   ],
   "source": [
    "min(l1)"
   ]
  },
  {
   "cell_type": "code",
   "execution_count": 31,
   "id": "c6fd0168",
   "metadata": {},
   "outputs": [
    {
     "data": {
      "text/plain": [
       "'ram'"
      ]
     },
     "execution_count": 31,
     "metadata": {},
     "output_type": "execute_result"
    }
   ],
   "source": [
    "max(l2)"
   ]
  },
  {
   "cell_type": "code",
   "execution_count": 32,
   "id": "534a5e2f",
   "metadata": {},
   "outputs": [
    {
     "data": {
      "text/plain": [
       "['ram', 'krishna', 'gopal']"
      ]
     },
     "execution_count": 32,
     "metadata": {},
     "output_type": "execute_result"
    }
   ],
   "source": [
    "l2"
   ]
  },
  {
   "cell_type": "code",
   "execution_count": 33,
   "id": "87aa1514",
   "metadata": {},
   "outputs": [
    {
     "data": {
      "text/plain": [
       "[4, 5, 2, 4, 52345]"
      ]
     },
     "execution_count": 33,
     "metadata": {},
     "output_type": "execute_result"
    }
   ],
   "source": [
    "l1"
   ]
  },
  {
   "cell_type": "code",
   "execution_count": 34,
   "id": "e51218a3",
   "metadata": {},
   "outputs": [
    {
     "data": {
      "text/plain": [
       "['ram', 'krishna', 'gopal']"
      ]
     },
     "execution_count": 34,
     "metadata": {},
     "output_type": "execute_result"
    }
   ],
   "source": [
    "l2"
   ]
  },
  {
   "cell_type": "code",
   "execution_count": 35,
   "id": "47b8a660",
   "metadata": {},
   "outputs": [
    {
     "data": {
      "text/plain": [
       "['ram', 'krishna', 'gopal']"
      ]
     },
     "execution_count": 35,
     "metadata": {},
     "output_type": "execute_result"
    }
   ],
   "source": [
    "l2"
   ]
  },
  {
   "cell_type": "code",
   "execution_count": 36,
   "id": "728176e3",
   "metadata": {},
   "outputs": [
    {
     "data": {
      "text/plain": [
       "['ram', 'krishna', 'gopal']"
      ]
     },
     "execution_count": 36,
     "metadata": {},
     "output_type": "execute_result"
    }
   ],
   "source": [
    "l2"
   ]
  },
  {
   "cell_type": "code",
   "execution_count": 37,
   "id": "8f2d054f",
   "metadata": {},
   "outputs": [
    {
     "data": {
      "text/plain": [
       "'ram'"
      ]
     },
     "execution_count": 37,
     "metadata": {},
     "output_type": "execute_result"
    }
   ],
   "source": [
    "max(l2)"
   ]
  },
  {
   "cell_type": "code",
   "execution_count": 38,
   "id": "ac9690eb",
   "metadata": {},
   "outputs": [
    {
     "ename": "TypeError",
     "evalue": "'builtin_function_or_method' object is not subscriptable",
     "output_type": "error",
     "traceback": [
      "\u001b[1;31m---------------------------------------------------------------------------\u001b[0m",
      "\u001b[1;31mTypeError\u001b[0m                                 Traceback (most recent call last)",
      "Input \u001b[1;32mIn [38]\u001b[0m, in \u001b[0;36m<cell line: 1>\u001b[1;34m()\u001b[0m\n\u001b[1;32m----> 1\u001b[0m \u001b[38;5;28;43mmin\u001b[39;49m\u001b[43m[\u001b[49m\u001b[43ml1\u001b[49m\u001b[43m]\u001b[49m\n",
      "\u001b[1;31mTypeError\u001b[0m: 'builtin_function_or_method' object is not subscriptable"
     ]
    }
   ],
   "source": [
    "min[l1]"
   ]
  },
  {
   "cell_type": "code",
   "execution_count": 39,
   "id": "4d62d7b9",
   "metadata": {},
   "outputs": [
    {
     "ename": "TypeError",
     "evalue": "'builtin_function_or_method' object is not subscriptable",
     "output_type": "error",
     "traceback": [
      "\u001b[1;31m---------------------------------------------------------------------------\u001b[0m",
      "\u001b[1;31mTypeError\u001b[0m                                 Traceback (most recent call last)",
      "Input \u001b[1;32mIn [39]\u001b[0m, in \u001b[0;36m<cell line: 1>\u001b[1;34m()\u001b[0m\n\u001b[1;32m----> 1\u001b[0m \u001b[38;5;28;43mmin\u001b[39;49m\u001b[43m[\u001b[49m\u001b[43ml2\u001b[49m\u001b[43m]\u001b[49m\n",
      "\u001b[1;31mTypeError\u001b[0m: 'builtin_function_or_method' object is not subscriptable"
     ]
    }
   ],
   "source": [
    "min[l2]"
   ]
  },
  {
   "cell_type": "code",
   "execution_count": 40,
   "id": "913317cd",
   "metadata": {},
   "outputs": [
    {
     "data": {
      "text/plain": [
       "2"
      ]
     },
     "execution_count": 40,
     "metadata": {},
     "output_type": "execute_result"
    }
   ],
   "source": [
    "min(l1)"
   ]
  },
  {
   "cell_type": "code",
   "execution_count": 41,
   "id": "b1efb90f",
   "metadata": {},
   "outputs": [
    {
     "data": {
      "text/plain": [
       "'gopal'"
      ]
     },
     "execution_count": 41,
     "metadata": {},
     "output_type": "execute_result"
    }
   ],
   "source": [
    "min(l2)"
   ]
  },
  {
   "cell_type": "code",
   "execution_count": 42,
   "id": "781917e9",
   "metadata": {},
   "outputs": [
    {
     "data": {
      "text/plain": [
       "[1, 2, 3, 4, 5, 6, 'hare krishna', 34, 534, 5643534, 97]"
      ]
     },
     "execution_count": 42,
     "metadata": {},
     "output_type": "execute_result"
    }
   ],
   "source": [
    "l"
   ]
  },
  {
   "cell_type": "code",
   "execution_count": 43,
   "id": "24345f49",
   "metadata": {},
   "outputs": [],
   "source": [
    "l.append(\"rama\")"
   ]
  },
  {
   "cell_type": "code",
   "execution_count": 44,
   "id": "e51c9112",
   "metadata": {},
   "outputs": [
    {
     "data": {
      "text/plain": [
       "[1, 2, 3, 4, 5, 6, 'hare krishna', 34, 534, 5643534, 97, 'rama']"
      ]
     },
     "execution_count": 44,
     "metadata": {},
     "output_type": "execute_result"
    }
   ],
   "source": [
    "l"
   ]
  },
  {
   "cell_type": "code",
   "execution_count": 45,
   "id": "4756f213",
   "metadata": {},
   "outputs": [
    {
     "ename": "TypeError",
     "evalue": "list.append() takes exactly one argument (4 given)",
     "output_type": "error",
     "traceback": [
      "\u001b[1;31m---------------------------------------------------------------------------\u001b[0m",
      "\u001b[1;31mTypeError\u001b[0m                                 Traceback (most recent call last)",
      "Input \u001b[1;32mIn [45]\u001b[0m, in \u001b[0;36m<cell line: 1>\u001b[1;34m()\u001b[0m\n\u001b[1;32m----> 1\u001b[0m \u001b[43ml\u001b[49m\u001b[38;5;241;43m.\u001b[39;49m\u001b[43mappend\u001b[49m\u001b[43m(\u001b[49m\u001b[38;5;241;43m1\u001b[39;49m\u001b[43m,\u001b[49m\u001b[38;5;241;43m2\u001b[39;49m\u001b[43m,\u001b[49m\u001b[38;5;241;43m3\u001b[39;49m\u001b[43m,\u001b[49m\u001b[38;5;241;43m4\u001b[39;49m\u001b[43m)\u001b[49m\n",
      "\u001b[1;31mTypeError\u001b[0m: list.append() takes exactly one argument (4 given)"
     ]
    }
   ],
   "source": [
    "l.append(1,2,3,4)"
   ]
  },
  {
   "cell_type": "code",
   "execution_count": 46,
   "id": "f96738c3",
   "metadata": {},
   "outputs": [],
   "source": [
    "l.append([1,2,3,4,5])"
   ]
  },
  {
   "cell_type": "code",
   "execution_count": 47,
   "id": "5b93f30b",
   "metadata": {},
   "outputs": [
    {
     "data": {
      "text/plain": [
       "[1,\n",
       " 2,\n",
       " 3,\n",
       " 4,\n",
       " 5,\n",
       " 6,\n",
       " 'hare krishna',\n",
       " 34,\n",
       " 534,\n",
       " 5643534,\n",
       " 97,\n",
       " 'rama',\n",
       " [1, 2, 3, 4, 5]]"
      ]
     },
     "execution_count": 47,
     "metadata": {},
     "output_type": "execute_result"
    }
   ],
   "source": [
    "l"
   ]
  },
  {
   "cell_type": "code",
   "execution_count": 48,
   "id": "80353378",
   "metadata": {},
   "outputs": [
    {
     "data": {
      "text/plain": [
       "1"
      ]
     },
     "execution_count": 48,
     "metadata": {},
     "output_type": "execute_result"
    }
   ],
   "source": [
    "l.pop(0)"
   ]
  },
  {
   "cell_type": "code",
   "execution_count": 49,
   "id": "819346fa",
   "metadata": {},
   "outputs": [
    {
     "data": {
      "text/plain": [
       "[2, 3, 4, 5, 6, 'hare krishna', 34, 534, 5643534, 97, 'rama', [1, 2, 3, 4, 5]]"
      ]
     },
     "execution_count": 49,
     "metadata": {},
     "output_type": "execute_result"
    }
   ],
   "source": [
    "l"
   ]
  },
  {
   "cell_type": "code",
   "execution_count": 50,
   "id": "f886d0f2",
   "metadata": {},
   "outputs": [
    {
     "data": {
      "text/plain": [
       "[1, 2, 3, 4, 5]"
      ]
     },
     "execution_count": 50,
     "metadata": {},
     "output_type": "execute_result"
    }
   ],
   "source": [
    "l.pop()"
   ]
  },
  {
   "cell_type": "code",
   "execution_count": 51,
   "id": "ec884c8a",
   "metadata": {},
   "outputs": [
    {
     "data": {
      "text/plain": [
       "[2, 3, 4, 5, 6, 'hare krishna', 34, 534, 5643534, 97, 'rama']"
      ]
     },
     "execution_count": 51,
     "metadata": {},
     "output_type": "execute_result"
    }
   ],
   "source": [
    "l"
   ]
  },
  {
   "cell_type": "code",
   "execution_count": 52,
   "id": "053c9c00",
   "metadata": {},
   "outputs": [
    {
     "data": {
      "text/plain": [
       "2"
      ]
     },
     "execution_count": 52,
     "metadata": {},
     "output_type": "execute_result"
    }
   ],
   "source": [
    "l[0]"
   ]
  },
  {
   "cell_type": "code",
   "execution_count": 53,
   "id": "acba4e98",
   "metadata": {},
   "outputs": [
    {
     "ename": "AttributeError",
     "evalue": "'list' object has no attribute 'reverese'",
     "output_type": "error",
     "traceback": [
      "\u001b[1;31m---------------------------------------------------------------------------\u001b[0m",
      "\u001b[1;31mAttributeError\u001b[0m                            Traceback (most recent call last)",
      "Input \u001b[1;32mIn [53]\u001b[0m, in \u001b[0;36m<cell line: 1>\u001b[1;34m()\u001b[0m\n\u001b[1;32m----> 1\u001b[0m \u001b[43ml\u001b[49m\u001b[38;5;241;43m.\u001b[39;49m\u001b[43mreverese\u001b[49m()\n",
      "\u001b[1;31mAttributeError\u001b[0m: 'list' object has no attribute 'reverese'"
     ]
    }
   ],
   "source": [
    "l.reverese()"
   ]
  },
  {
   "cell_type": "code",
   "execution_count": 264,
   "id": "43960533",
   "metadata": {},
   "outputs": [],
   "source": [
    "l.reverse()"
   ]
  },
  {
   "cell_type": "code",
   "execution_count": 265,
   "id": "a6cba3db",
   "metadata": {},
   "outputs": [
    {
     "data": {
      "text/plain": [
       "[4, 3, 2, 1]"
      ]
     },
     "execution_count": 265,
     "metadata": {},
     "output_type": "execute_result"
    }
   ],
   "source": [
    "l"
   ]
  },
  {
   "cell_type": "code",
   "execution_count": 266,
   "id": "2f574baf",
   "metadata": {},
   "outputs": [
    {
     "data": {
      "text/plain": [
       "[1, 2, 3, 4]"
      ]
     },
     "execution_count": 266,
     "metadata": {},
     "output_type": "execute_result"
    }
   ],
   "source": [
    "l[::-1]"
   ]
  },
  {
   "cell_type": "code",
   "execution_count": 57,
   "id": "a0e517d3",
   "metadata": {},
   "outputs": [
    {
     "data": {
      "text/plain": [
       "['rama', 97, 5643534, 534, 34, 'hare krishna', 6, 5, 4, 3, 2]"
      ]
     },
     "execution_count": 57,
     "metadata": {},
     "output_type": "execute_result"
    }
   ],
   "source": [
    "l"
   ]
  },
  {
   "cell_type": "code",
   "execution_count": 58,
   "id": "81b49fc0",
   "metadata": {},
   "outputs": [],
   "source": [
    "l=l[::-1]"
   ]
  },
  {
   "cell_type": "code",
   "execution_count": 59,
   "id": "1ae9edb2",
   "metadata": {},
   "outputs": [
    {
     "data": {
      "text/plain": [
       "[2, 3, 4, 5, 6, 'hare krishna', 34, 534, 5643534, 97, 'rama']"
      ]
     },
     "execution_count": 59,
     "metadata": {},
     "output_type": "execute_result"
    }
   ],
   "source": [
    "l"
   ]
  },
  {
   "cell_type": "code",
   "execution_count": 60,
   "id": "232e3d04",
   "metadata": {},
   "outputs": [
    {
     "data": {
      "text/plain": [
       "[2, 3, 4, 5, 6, 'hare krishna', 34, 534, 5643534, 97, 'rama']"
      ]
     },
     "execution_count": 60,
     "metadata": {},
     "output_type": "execute_result"
    }
   ],
   "source": [
    "l"
   ]
  },
  {
   "cell_type": "code",
   "execution_count": 61,
   "id": "24b0b2a3",
   "metadata": {},
   "outputs": [
    {
     "ename": "TypeError",
     "evalue": "'<' not supported between instances of 'str' and 'int'",
     "output_type": "error",
     "traceback": [
      "\u001b[1;31m---------------------------------------------------------------------------\u001b[0m",
      "\u001b[1;31mTypeError\u001b[0m                                 Traceback (most recent call last)",
      "Input \u001b[1;32mIn [61]\u001b[0m, in \u001b[0;36m<cell line: 1>\u001b[1;34m()\u001b[0m\n\u001b[1;32m----> 1\u001b[0m \u001b[43ml\u001b[49m\u001b[38;5;241;43m.\u001b[39;49m\u001b[43msort\u001b[49m\u001b[43m(\u001b[49m\u001b[43m)\u001b[49m\n",
      "\u001b[1;31mTypeError\u001b[0m: '<' not supported between instances of 'str' and 'int'"
     ]
    }
   ],
   "source": [
    "l.sort()"
   ]
  },
  {
   "cell_type": "code",
   "execution_count": 62,
   "id": "4e05e626",
   "metadata": {},
   "outputs": [
    {
     "data": {
      "text/plain": [
       "[4, 5, 2, 4, 52345]"
      ]
     },
     "execution_count": 62,
     "metadata": {},
     "output_type": "execute_result"
    }
   ],
   "source": [
    "l1"
   ]
  },
  {
   "cell_type": "code",
   "execution_count": 63,
   "id": "756821b5",
   "metadata": {},
   "outputs": [],
   "source": [
    "l1.sort()"
   ]
  },
  {
   "cell_type": "code",
   "execution_count": 64,
   "id": "36655289",
   "metadata": {},
   "outputs": [
    {
     "data": {
      "text/plain": [
       "[2, 4, 4, 5, 52345]"
      ]
     },
     "execution_count": 64,
     "metadata": {},
     "output_type": "execute_result"
    }
   ],
   "source": [
    "l1"
   ]
  },
  {
   "cell_type": "code",
   "execution_count": 65,
   "id": "99ab891f",
   "metadata": {},
   "outputs": [],
   "source": [
    "l3=[8,9,34,23,3,0]"
   ]
  },
  {
   "cell_type": "code",
   "execution_count": 66,
   "id": "bf0b4faa",
   "metadata": {},
   "outputs": [],
   "source": [
    "l3.sort(reverse=True)"
   ]
  },
  {
   "cell_type": "code",
   "execution_count": 67,
   "id": "4fc4d337",
   "metadata": {},
   "outputs": [
    {
     "data": {
      "text/plain": [
       "[34, 23, 9, 8, 3, 0]"
      ]
     },
     "execution_count": 67,
     "metadata": {},
     "output_type": "execute_result"
    }
   ],
   "source": [
    "l3"
   ]
  },
  {
   "cell_type": "code",
   "execution_count": 68,
   "id": "0f85514a",
   "metadata": {},
   "outputs": [
    {
     "data": {
      "text/plain": [
       "[34, 23, 9, 8, 3, 0]"
      ]
     },
     "execution_count": 68,
     "metadata": {},
     "output_type": "execute_result"
    }
   ],
   "source": [
    "l3"
   ]
  },
  {
   "cell_type": "code",
   "execution_count": 69,
   "id": "b8e86e31",
   "metadata": {},
   "outputs": [],
   "source": [
    "l1 = [2,3,4]\n",
    "l2 = [6,7,8]\n",
    "l3 = [3,2,4]"
   ]
  },
  {
   "cell_type": "code",
   "execution_count": 70,
   "id": "96792dd0",
   "metadata": {},
   "outputs": [],
   "source": [
    "l4 = [l1,l2,l3]"
   ]
  },
  {
   "cell_type": "code",
   "execution_count": 71,
   "id": "0fbf7a01",
   "metadata": {},
   "outputs": [
    {
     "data": {
      "text/plain": [
       "[[2, 3, 4], [6, 7, 8], [3, 2, 4]]"
      ]
     },
     "execution_count": 71,
     "metadata": {},
     "output_type": "execute_result"
    }
   ],
   "source": [
    "l4"
   ]
  },
  {
   "cell_type": "code",
   "execution_count": 72,
   "id": "35892075",
   "metadata": {},
   "outputs": [
    {
     "data": {
      "text/plain": [
       "[3, 2, 4]"
      ]
     },
     "execution_count": 72,
     "metadata": {},
     "output_type": "execute_result"
    }
   ],
   "source": [
    "l4[2]"
   ]
  },
  {
   "cell_type": "code",
   "execution_count": 73,
   "id": "0f607fe1",
   "metadata": {},
   "outputs": [
    {
     "data": {
      "text/plain": [
       "2"
      ]
     },
     "execution_count": 73,
     "metadata": {},
     "output_type": "execute_result"
    }
   ],
   "source": [
    "l4[2][1]"
   ]
  },
  {
   "cell_type": "code",
   "execution_count": 74,
   "id": "d4cba6da",
   "metadata": {},
   "outputs": [
    {
     "data": {
      "text/plain": [
       "[2, 3, 4, 5, 6, 'hare krishna', 34, 534, 5643534, 97, 'rama']"
      ]
     },
     "execution_count": 74,
     "metadata": {},
     "output_type": "execute_result"
    }
   ],
   "source": [
    "l"
   ]
  },
  {
   "cell_type": "code",
   "execution_count": 75,
   "id": "09df5963",
   "metadata": {},
   "outputs": [
    {
     "data": {
      "text/plain": [
       "1"
      ]
     },
     "execution_count": 75,
     "metadata": {},
     "output_type": "execute_result"
    }
   ],
   "source": [
    "l.count(2)"
   ]
  },
  {
   "cell_type": "code",
   "execution_count": 76,
   "id": "b475da91",
   "metadata": {},
   "outputs": [],
   "source": [
    "l5=[3,4,3,3,3]"
   ]
  },
  {
   "cell_type": "code",
   "execution_count": 77,
   "id": "a729b368",
   "metadata": {},
   "outputs": [
    {
     "data": {
      "text/plain": [
       "4"
      ]
     },
     "execution_count": 77,
     "metadata": {},
     "output_type": "execute_result"
    }
   ],
   "source": [
    "l5.count(3)"
   ]
  },
  {
   "cell_type": "markdown",
   "id": "d4c4f863",
   "metadata": {},
   "source": []
  },
  {
   "cell_type": "code",
   "execution_count": 78,
   "id": "7898bb50",
   "metadata": {},
   "outputs": [],
   "source": [
    "l.append([4,56,\"hare\"])"
   ]
  },
  {
   "cell_type": "code",
   "execution_count": 79,
   "id": "b257b0e1",
   "metadata": {},
   "outputs": [
    {
     "data": {
      "text/plain": [
       "[2, 3, 4, 5, 6, 'hare krishna', 34, 534, 5643534, 97, 'rama', [4, 56, 'hare']]"
      ]
     },
     "execution_count": 79,
     "metadata": {},
     "output_type": "execute_result"
    }
   ],
   "source": [
    "l"
   ]
  },
  {
   "cell_type": "code",
   "execution_count": 80,
   "id": "e21d8a7e",
   "metadata": {},
   "outputs": [],
   "source": [
    "l.extend(\"hare\")"
   ]
  },
  {
   "cell_type": "code",
   "execution_count": 81,
   "id": "c728793c",
   "metadata": {},
   "outputs": [
    {
     "data": {
      "text/plain": [
       "[2,\n",
       " 3,\n",
       " 4,\n",
       " 5,\n",
       " 6,\n",
       " 'hare krishna',\n",
       " 34,\n",
       " 534,\n",
       " 5643534,\n",
       " 97,\n",
       " 'rama',\n",
       " [4, 56, 'hare'],\n",
       " 'h',\n",
       " 'a',\n",
       " 'r',\n",
       " 'e']"
      ]
     },
     "execution_count": 81,
     "metadata": {},
     "output_type": "execute_result"
    }
   ],
   "source": [
    "l"
   ]
  },
  {
   "cell_type": "code",
   "execution_count": 82,
   "id": "8abae338",
   "metadata": {},
   "outputs": [],
   "source": [
    "l6=[4,5,6]"
   ]
  },
  {
   "cell_type": "code",
   "execution_count": 83,
   "id": "b54ee7e2",
   "metadata": {},
   "outputs": [
    {
     "data": {
      "text/plain": [
       "[4, 5, 6]"
      ]
     },
     "execution_count": 83,
     "metadata": {},
     "output_type": "execute_result"
    }
   ],
   "source": [
    "l6"
   ]
  },
  {
   "cell_type": "code",
   "execution_count": 84,
   "id": "72a1846b",
   "metadata": {},
   "outputs": [],
   "source": [
    "l6.append([1,2,3])"
   ]
  },
  {
   "cell_type": "code",
   "execution_count": 85,
   "id": "515d1ff3",
   "metadata": {},
   "outputs": [
    {
     "data": {
      "text/plain": [
       "[4, 5, 6, [1, 2, 3]]"
      ]
     },
     "execution_count": 85,
     "metadata": {},
     "output_type": "execute_result"
    }
   ],
   "source": [
    "l6"
   ]
  },
  {
   "cell_type": "code",
   "execution_count": 86,
   "id": "31df9eea",
   "metadata": {},
   "outputs": [],
   "source": [
    "l6.append(\"hare\")"
   ]
  },
  {
   "cell_type": "code",
   "execution_count": 87,
   "id": "e6e46f5e",
   "metadata": {},
   "outputs": [
    {
     "data": {
      "text/plain": [
       "[4, 5, 6, [1, 2, 3], 'hare']"
      ]
     },
     "execution_count": 87,
     "metadata": {},
     "output_type": "execute_result"
    }
   ],
   "source": [
    "l6"
   ]
  },
  {
   "cell_type": "code",
   "execution_count": 88,
   "id": "b5f08db7",
   "metadata": {},
   "outputs": [],
   "source": [
    "l6.extend([1,2,3,4])"
   ]
  },
  {
   "cell_type": "code",
   "execution_count": 89,
   "id": "bbd20a62",
   "metadata": {},
   "outputs": [
    {
     "data": {
      "text/plain": [
       "[4, 5, 6, [1, 2, 3], 'hare', 1, 2, 3, 4]"
      ]
     },
     "execution_count": 89,
     "metadata": {},
     "output_type": "execute_result"
    }
   ],
   "source": [
    "l6"
   ]
  },
  {
   "cell_type": "code",
   "execution_count": 90,
   "id": "808e58fa",
   "metadata": {},
   "outputs": [],
   "source": [
    "l6.extend(\"hare\")"
   ]
  },
  {
   "cell_type": "code",
   "execution_count": 91,
   "id": "62f0d5bc",
   "metadata": {},
   "outputs": [
    {
     "data": {
      "text/plain": [
       "[4, 5, 6, [1, 2, 3], 'hare', 1, 2, 3, 4, 'h', 'a', 'r', 'e']"
      ]
     },
     "execution_count": 91,
     "metadata": {},
     "output_type": "execute_result"
    }
   ],
   "source": [
    "l6"
   ]
  },
  {
   "cell_type": "code",
   "execution_count": 92,
   "id": "63f95872",
   "metadata": {},
   "outputs": [
    {
     "data": {
      "text/plain": [
       "5"
      ]
     },
     "execution_count": 92,
     "metadata": {},
     "output_type": "execute_result"
    }
   ],
   "source": [
    "l6.index(1)"
   ]
  },
  {
   "cell_type": "code",
   "execution_count": 93,
   "id": "15e52483",
   "metadata": {},
   "outputs": [],
   "source": [
    "l7 = [1,2,3,4,5,6,7]"
   ]
  },
  {
   "cell_type": "code",
   "execution_count": 94,
   "id": "372d7cf9",
   "metadata": {},
   "outputs": [
    {
     "data": {
      "text/plain": [
       "5"
      ]
     },
     "execution_count": 94,
     "metadata": {},
     "output_type": "execute_result"
    }
   ],
   "source": [
    "l7.index(6)"
   ]
  },
  {
   "cell_type": "code",
   "execution_count": 95,
   "id": "88beccbe",
   "metadata": {},
   "outputs": [
    {
     "data": {
      "text/plain": [
       "1"
      ]
     },
     "execution_count": 95,
     "metadata": {},
     "output_type": "execute_result"
    }
   ],
   "source": [
    "l7.index(2)"
   ]
  },
  {
   "cell_type": "code",
   "execution_count": 96,
   "id": "2d8a4f5b",
   "metadata": {},
   "outputs": [],
   "source": [
    "l = [1,2,3,4,5,45]"
   ]
  },
  {
   "cell_type": "code",
   "execution_count": 97,
   "id": "59305944",
   "metadata": {},
   "outputs": [
    {
     "data": {
      "text/plain": [
       "[1, 2, 3, 4, 5, 45]"
      ]
     },
     "execution_count": 97,
     "metadata": {},
     "output_type": "execute_result"
    }
   ],
   "source": [
    "l"
   ]
  },
  {
   "cell_type": "code",
   "execution_count": 98,
   "id": "521284a5",
   "metadata": {},
   "outputs": [
    {
     "data": {
      "text/plain": [
       "[1, 2, 3, 4, 5, 45]"
      ]
     },
     "execution_count": 98,
     "metadata": {},
     "output_type": "execute_result"
    }
   ],
   "source": [
    "l"
   ]
  },
  {
   "cell_type": "code",
   "execution_count": 99,
   "id": "9a26a05f",
   "metadata": {},
   "outputs": [],
   "source": [
    "l.insert(0,9)"
   ]
  },
  {
   "cell_type": "code",
   "execution_count": 100,
   "id": "6aab13bf",
   "metadata": {},
   "outputs": [
    {
     "data": {
      "text/plain": [
       "[9, 1, 2, 3, 4, 5, 45]"
      ]
     },
     "execution_count": 100,
     "metadata": {},
     "output_type": "execute_result"
    }
   ],
   "source": [
    "l"
   ]
  },
  {
   "cell_type": "code",
   "execution_count": 101,
   "id": "1e9ff467",
   "metadata": {},
   "outputs": [
    {
     "data": {
      "text/plain": [
       "[9, 1, 2, 3, 4, 5, 45]"
      ]
     },
     "execution_count": 101,
     "metadata": {},
     "output_type": "execute_result"
    }
   ],
   "source": [
    "l"
   ]
  },
  {
   "cell_type": "code",
   "execution_count": 102,
   "id": "09ca147a",
   "metadata": {},
   "outputs": [
    {
     "data": {
      "text/plain": [
       "[9, 1, 2, 3, 4, 5, 45]"
      ]
     },
     "execution_count": 102,
     "metadata": {},
     "output_type": "execute_result"
    }
   ],
   "source": [
    "l"
   ]
  },
  {
   "cell_type": "code",
   "execution_count": 103,
   "id": "d37a45cc",
   "metadata": {},
   "outputs": [
    {
     "ename": "NameError",
     "evalue": "name 'L' is not defined",
     "output_type": "error",
     "traceback": [
      "\u001b[1;31m---------------------------------------------------------------------------\u001b[0m",
      "\u001b[1;31mNameError\u001b[0m                                 Traceback (most recent call last)",
      "Input \u001b[1;32mIn [103]\u001b[0m, in \u001b[0;36m<cell line: 1>\u001b[1;34m()\u001b[0m\n\u001b[1;32m----> 1\u001b[0m \u001b[43mL\u001b[49m\n",
      "\u001b[1;31mNameError\u001b[0m: name 'L' is not defined"
     ]
    }
   ],
   "source": [
    "L"
   ]
  },
  {
   "cell_type": "code",
   "execution_count": 104,
   "id": "ea55d406",
   "metadata": {},
   "outputs": [
    {
     "data": {
      "text/plain": [
       "[9, 1, 2, 3, 4, 5, 45]"
      ]
     },
     "execution_count": 104,
     "metadata": {},
     "output_type": "execute_result"
    }
   ],
   "source": [
    "l"
   ]
  },
  {
   "cell_type": "code",
   "execution_count": 105,
   "id": "3079ca6d",
   "metadata": {},
   "outputs": [],
   "source": [
    "l.insert(7,\"hare\")"
   ]
  },
  {
   "cell_type": "code",
   "execution_count": 106,
   "id": "ab9bb4c1",
   "metadata": {},
   "outputs": [
    {
     "data": {
      "text/plain": [
       "[9, 1, 2, 3, 4, 5, 45, 'hare']"
      ]
     },
     "execution_count": 106,
     "metadata": {},
     "output_type": "execute_result"
    }
   ],
   "source": [
    "l"
   ]
  },
  {
   "cell_type": "code",
   "execution_count": 107,
   "id": "3190feeb",
   "metadata": {},
   "outputs": [
    {
     "data": {
      "text/plain": [
       "'hare'"
      ]
     },
     "execution_count": 107,
     "metadata": {},
     "output_type": "execute_result"
    }
   ],
   "source": [
    "l.pop()"
   ]
  },
  {
   "cell_type": "code",
   "execution_count": 108,
   "id": "ee10f3ed",
   "metadata": {},
   "outputs": [
    {
     "data": {
      "text/plain": [
       "2"
      ]
     },
     "execution_count": 108,
     "metadata": {},
     "output_type": "execute_result"
    }
   ],
   "source": [
    "l.pop(2)"
   ]
  },
  {
   "cell_type": "code",
   "execution_count": 109,
   "id": "df1b4799",
   "metadata": {},
   "outputs": [
    {
     "ename": "TypeError",
     "evalue": "list.remove() takes exactly one argument (0 given)",
     "output_type": "error",
     "traceback": [
      "\u001b[1;31m---------------------------------------------------------------------------\u001b[0m",
      "\u001b[1;31mTypeError\u001b[0m                                 Traceback (most recent call last)",
      "Input \u001b[1;32mIn [109]\u001b[0m, in \u001b[0;36m<cell line: 1>\u001b[1;34m()\u001b[0m\n\u001b[1;32m----> 1\u001b[0m \u001b[43ml\u001b[49m\u001b[38;5;241;43m.\u001b[39;49m\u001b[43mremove\u001b[49m\u001b[43m(\u001b[49m\u001b[43m)\u001b[49m\n",
      "\u001b[1;31mTypeError\u001b[0m: list.remove() takes exactly one argument (0 given)"
     ]
    }
   ],
   "source": [
    "l.remove()"
   ]
  },
  {
   "cell_type": "code",
   "execution_count": 110,
   "id": "9e74de9e",
   "metadata": {},
   "outputs": [],
   "source": [
    "l.remove(1)"
   ]
  },
  {
   "cell_type": "code",
   "execution_count": 111,
   "id": "da0bf600",
   "metadata": {},
   "outputs": [
    {
     "data": {
      "text/plain": [
       "[9, 3, 4, 5, 45]"
      ]
     },
     "execution_count": 111,
     "metadata": {},
     "output_type": "execute_result"
    }
   ],
   "source": [
    "l"
   ]
  },
  {
   "cell_type": "code",
   "execution_count": 112,
   "id": "72537cc0",
   "metadata": {},
   "outputs": [],
   "source": [
    "l.remove(4)"
   ]
  },
  {
   "cell_type": "code",
   "execution_count": 113,
   "id": "1a61255d",
   "metadata": {},
   "outputs": [
    {
     "data": {
      "text/plain": [
       "[9, 3, 5, 45]"
      ]
     },
     "execution_count": 113,
     "metadata": {},
     "output_type": "execute_result"
    }
   ],
   "source": [
    "l"
   ]
  },
  {
   "cell_type": "code",
   "execution_count": 114,
   "id": "bbe7776c",
   "metadata": {},
   "outputs": [
    {
     "data": {
      "text/plain": [
       "[9, 3, 5, 45]"
      ]
     },
     "execution_count": 114,
     "metadata": {},
     "output_type": "execute_result"
    }
   ],
   "source": [
    "l"
   ]
  },
  {
   "cell_type": "code",
   "execution_count": 115,
   "id": "5341e8bf",
   "metadata": {},
   "outputs": [
    {
     "ename": "IndexError",
     "evalue": "pop index out of range",
     "output_type": "error",
     "traceback": [
      "\u001b[1;31m---------------------------------------------------------------------------\u001b[0m",
      "\u001b[1;31mIndexError\u001b[0m                                Traceback (most recent call last)",
      "Input \u001b[1;32mIn [115]\u001b[0m, in \u001b[0;36m<cell line: 1>\u001b[1;34m()\u001b[0m\n\u001b[1;32m----> 1\u001b[0m \u001b[43ml\u001b[49m\u001b[38;5;241;43m.\u001b[39;49m\u001b[43mpop\u001b[49m\u001b[43m(\u001b[49m\u001b[38;5;241;43m6\u001b[39;49m\u001b[43m)\u001b[49m\n",
      "\u001b[1;31mIndexError\u001b[0m: pop index out of range"
     ]
    }
   ],
   "source": [
    "l.pop(6)"
   ]
  },
  {
   "cell_type": "code",
   "execution_count": 116,
   "id": "66e16b47",
   "metadata": {},
   "outputs": [
    {
     "data": {
      "text/plain": [
       "[9, 3, 5, 45]"
      ]
     },
     "execution_count": 116,
     "metadata": {},
     "output_type": "execute_result"
    }
   ],
   "source": [
    "l"
   ]
  },
  {
   "cell_type": "code",
   "execution_count": 117,
   "id": "6046fee0",
   "metadata": {},
   "outputs": [
    {
     "data": {
      "text/plain": [
       "45"
      ]
     },
     "execution_count": 117,
     "metadata": {},
     "output_type": "execute_result"
    }
   ],
   "source": [
    "l.pop()"
   ]
  },
  {
   "cell_type": "code",
   "execution_count": 118,
   "id": "e8262415",
   "metadata": {},
   "outputs": [
    {
     "ename": "ValueError",
     "evalue": "list.remove(x): x not in list",
     "output_type": "error",
     "traceback": [
      "\u001b[1;31m---------------------------------------------------------------------------\u001b[0m",
      "\u001b[1;31mValueError\u001b[0m                                Traceback (most recent call last)",
      "Input \u001b[1;32mIn [118]\u001b[0m, in \u001b[0;36m<cell line: 1>\u001b[1;34m()\u001b[0m\n\u001b[1;32m----> 1\u001b[0m \u001b[43ml\u001b[49m\u001b[38;5;241;43m.\u001b[39;49m\u001b[43mremove\u001b[49m\u001b[43m(\u001b[49m\u001b[38;5;241;43m6\u001b[39;49m\u001b[43m)\u001b[49m\n",
      "\u001b[1;31mValueError\u001b[0m: list.remove(x): x not in list"
     ]
    }
   ],
   "source": [
    "l.remove(6)"
   ]
  },
  {
   "cell_type": "code",
   "execution_count": null,
   "id": "4e9cef63",
   "metadata": {},
   "outputs": [],
   "source": []
  },
  {
   "cell_type": "code",
   "execution_count": 119,
   "id": "ad8cf978",
   "metadata": {},
   "outputs": [
    {
     "data": {
      "text/plain": [
       "[9, 3, 5]"
      ]
     },
     "execution_count": 119,
     "metadata": {},
     "output_type": "execute_result"
    }
   ],
   "source": [
    "l"
   ]
  },
  {
   "cell_type": "code",
   "execution_count": 120,
   "id": "edd132ed",
   "metadata": {},
   "outputs": [],
   "source": [
    "l.sort()"
   ]
  },
  {
   "cell_type": "code",
   "execution_count": 121,
   "id": "01df6dbf",
   "metadata": {},
   "outputs": [
    {
     "ename": "TypeError",
     "evalue": "sort() takes no positional arguments",
     "output_type": "error",
     "traceback": [
      "\u001b[1;31m---------------------------------------------------------------------------\u001b[0m",
      "\u001b[1;31mTypeError\u001b[0m                                 Traceback (most recent call last)",
      "Input \u001b[1;32mIn [121]\u001b[0m, in \u001b[0;36m<cell line: 1>\u001b[1;34m()\u001b[0m\n\u001b[1;32m----> 1\u001b[0m \u001b[43ml\u001b[49m\u001b[38;5;241;43m.\u001b[39;49m\u001b[43msort\u001b[49m\u001b[43m(\u001b[49m\u001b[43ml\u001b[49m\u001b[43m)\u001b[49m\n",
      "\u001b[1;31mTypeError\u001b[0m: sort() takes no positional arguments"
     ]
    }
   ],
   "source": [
    "l.sort(l)"
   ]
  },
  {
   "cell_type": "code",
   "execution_count": 122,
   "id": "a2a93223",
   "metadata": {},
   "outputs": [],
   "source": [
    "l8 = [5,4,5,3,2,1]"
   ]
  },
  {
   "cell_type": "code",
   "execution_count": 123,
   "id": "006f4e86",
   "metadata": {},
   "outputs": [],
   "source": [
    "l8.sort()"
   ]
  },
  {
   "cell_type": "code",
   "execution_count": 124,
   "id": "e43b7ddb",
   "metadata": {},
   "outputs": [
    {
     "data": {
      "text/plain": [
       "[1, 2, 3, 4, 5, 5]"
      ]
     },
     "execution_count": 124,
     "metadata": {},
     "output_type": "execute_result"
    }
   ],
   "source": [
    "l8"
   ]
  },
  {
   "cell_type": "code",
   "execution_count": 125,
   "id": "78188b7e",
   "metadata": {},
   "outputs": [],
   "source": [
    "l8[5] = 'hare'"
   ]
  },
  {
   "cell_type": "code",
   "execution_count": 126,
   "id": "ec01a075",
   "metadata": {},
   "outputs": [
    {
     "data": {
      "text/plain": [
       "[1, 2, 3, 4, 5, 'hare']"
      ]
     },
     "execution_count": 126,
     "metadata": {},
     "output_type": "execute_result"
    }
   ],
   "source": [
    "l8"
   ]
  },
  {
   "cell_type": "code",
   "execution_count": 128,
   "id": "e288fd73",
   "metadata": {},
   "outputs": [
    {
     "data": {
      "text/plain": [
       "'hare'"
      ]
     },
     "execution_count": 128,
     "metadata": {},
     "output_type": "execute_result"
    }
   ],
   "source": [
    "l8.pop()"
   ]
  },
  {
   "cell_type": "code",
   "execution_count": 133,
   "id": "ada5b7db",
   "metadata": {},
   "outputs": [],
   "source": [
    "l8.remove(2)"
   ]
  },
  {
   "cell_type": "code",
   "execution_count": 134,
   "id": "3280b4dd",
   "metadata": {},
   "outputs": [
    {
     "data": {
      "text/plain": [
       "18"
      ]
     },
     "execution_count": 134,
     "metadata": {},
     "output_type": "execute_result"
    }
   ],
   "source": [
    "18"
   ]
  },
  {
   "cell_type": "code",
   "execution_count": 135,
   "id": "5f1f2eb6",
   "metadata": {},
   "outputs": [
    {
     "data": {
      "text/plain": [
       "[3, 4, 5]"
      ]
     },
     "execution_count": 135,
     "metadata": {},
     "output_type": "execute_result"
    }
   ],
   "source": [
    "l8"
   ]
  },
  {
   "cell_type": "code",
   "execution_count": 136,
   "id": "06a1eb47",
   "metadata": {},
   "outputs": [
    {
     "data": {
      "text/plain": [
       "[3, 4, 5]"
      ]
     },
     "execution_count": 136,
     "metadata": {},
     "output_type": "execute_result"
    }
   ],
   "source": [
    "l8"
   ]
  },
  {
   "cell_type": "code",
   "execution_count": 138,
   "id": "174ea2ce",
   "metadata": {},
   "outputs": [
    {
     "data": {
      "text/plain": [
       "3"
      ]
     },
     "execution_count": 138,
     "metadata": {},
     "output_type": "execute_result"
    }
   ],
   "source": [
    "l8.pop(0)"
   ]
  },
  {
   "cell_type": "code",
   "execution_count": 139,
   "id": "55322efe",
   "metadata": {},
   "outputs": [
    {
     "data": {
      "text/plain": [
       "[3, 2, 4]"
      ]
     },
     "execution_count": 139,
     "metadata": {},
     "output_type": "execute_result"
    }
   ],
   "source": [
    "l3"
   ]
  },
  {
   "cell_type": "code",
   "execution_count": 140,
   "id": "6d409f92",
   "metadata": {},
   "outputs": [
    {
     "data": {
      "text/plain": [
       "[4, 5]"
      ]
     },
     "execution_count": 140,
     "metadata": {},
     "output_type": "execute_result"
    }
   ],
   "source": [
    "l8"
   ]
  },
  {
   "cell_type": "code",
   "execution_count": 142,
   "id": "ee3c6f5e",
   "metadata": {},
   "outputs": [],
   "source": [
    "l8[1]=\"hare\""
   ]
  },
  {
   "cell_type": "code",
   "execution_count": 143,
   "id": "aabf8707",
   "metadata": {},
   "outputs": [
    {
     "data": {
      "text/plain": [
       "[4, 'hare']"
      ]
     },
     "execution_count": 143,
     "metadata": {},
     "output_type": "execute_result"
    }
   ],
   "source": [
    "l8"
   ]
  },
  {
   "cell_type": "code",
   "execution_count": 147,
   "id": "205769b7",
   "metadata": {},
   "outputs": [],
   "source": [
    "s = \"hare\""
   ]
  },
  {
   "cell_type": "code",
   "execution_count": 148,
   "id": "b310aeb2",
   "metadata": {},
   "outputs": [
    {
     "data": {
      "text/plain": [
       "'hare'"
      ]
     },
     "execution_count": 148,
     "metadata": {},
     "output_type": "execute_result"
    }
   ],
   "source": [
    "s"
   ]
  },
  {
   "cell_type": "markdown",
   "id": "39521382",
   "metadata": {},
   "source": [
    "s "
   ]
  },
  {
   "cell_type": "code",
   "execution_count": 149,
   "id": "7097d769",
   "metadata": {},
   "outputs": [
    {
     "ename": "TypeError",
     "evalue": "'str' object does not support item assignment",
     "output_type": "error",
     "traceback": [
      "\u001b[1;31m---------------------------------------------------------------------------\u001b[0m",
      "\u001b[1;31mTypeError\u001b[0m                                 Traceback (most recent call last)",
      "Input \u001b[1;32mIn [149]\u001b[0m, in \u001b[0;36m<cell line: 1>\u001b[1;34m()\u001b[0m\n\u001b[1;32m----> 1\u001b[0m s[\u001b[38;5;241m2\u001b[39m] \u001b[38;5;241m=\u001b[39m \u001b[38;5;124m\"\u001b[39m\u001b[38;5;124my\u001b[39m\u001b[38;5;124m\"\u001b[39m\n",
      "\u001b[1;31mTypeError\u001b[0m: 'str' object does not support item assignment"
     ]
    }
   ],
   "source": [
    "s[2] = \"y\""
   ]
  },
  {
   "cell_type": "code",
   "execution_count": 150,
   "id": "98e8876a",
   "metadata": {},
   "outputs": [],
   "source": [
    "t = (4,5,6,7,\"hare\",45,67,True)"
   ]
  },
  {
   "cell_type": "code",
   "execution_count": 151,
   "id": "45520f36",
   "metadata": {},
   "outputs": [
    {
     "data": {
      "text/plain": [
       "(4, 5, 6, 7, 'hare', 45, 67, True)"
      ]
     },
     "execution_count": 151,
     "metadata": {},
     "output_type": "execute_result"
    }
   ],
   "source": [
    "t"
   ]
  },
  {
   "cell_type": "code",
   "execution_count": 152,
   "id": "bb05b96f",
   "metadata": {},
   "outputs": [
    {
     "data": {
      "text/plain": [
       "tuple"
      ]
     },
     "execution_count": 152,
     "metadata": {},
     "output_type": "execute_result"
    }
   ],
   "source": [
    "type(t)"
   ]
  },
  {
   "cell_type": "code",
   "execution_count": 153,
   "id": "2f8e7c21",
   "metadata": {},
   "outputs": [
    {
     "data": {
      "text/plain": [
       "4"
      ]
     },
     "execution_count": 153,
     "metadata": {},
     "output_type": "execute_result"
    }
   ],
   "source": [
    "t[0]"
   ]
  },
  {
   "cell_type": "code",
   "execution_count": 154,
   "id": "82d83df8",
   "metadata": {},
   "outputs": [
    {
     "data": {
      "text/plain": [
       "6"
      ]
     },
     "execution_count": 154,
     "metadata": {},
     "output_type": "execute_result"
    }
   ],
   "source": [
    "t[-6]"
   ]
  },
  {
   "cell_type": "code",
   "execution_count": 156,
   "id": "1e634e13",
   "metadata": {},
   "outputs": [],
   "source": [
    "l=[1,2,3,4,5,6,7,8,8,9,9,]"
   ]
  },
  {
   "cell_type": "code",
   "execution_count": null,
   "id": "e25bd40a",
   "metadata": {},
   "outputs": [],
   "source": []
  },
  {
   "cell_type": "code",
   "execution_count": 157,
   "id": "0894ba7d",
   "metadata": {},
   "outputs": [
    {
     "data": {
      "text/plain": [
       "[1, 2, 3, 4, 5, 6, 7, 8, 8, 9, 9]"
      ]
     },
     "execution_count": 157,
     "metadata": {},
     "output_type": "execute_result"
    }
   ],
   "source": [
    "l"
   ]
  },
  {
   "cell_type": "code",
   "execution_count": 158,
   "id": "d349e363",
   "metadata": {},
   "outputs": [
    {
     "data": {
      "text/plain": [
       "(4, 5, 6, 7)"
      ]
     },
     "execution_count": 158,
     "metadata": {},
     "output_type": "execute_result"
    }
   ],
   "source": [
    "t[0:4]"
   ]
  },
  {
   "cell_type": "code",
   "execution_count": 159,
   "id": "f714a61e",
   "metadata": {},
   "outputs": [
    {
     "data": {
      "text/plain": [
       "True"
      ]
     },
     "execution_count": 159,
     "metadata": {},
     "output_type": "execute_result"
    }
   ],
   "source": [
    "t[-1]"
   ]
  },
  {
   "cell_type": "code",
   "execution_count": 161,
   "id": "abd901fe",
   "metadata": {},
   "outputs": [
    {
     "data": {
      "text/plain": [
       "(4, 6, 'hare')"
      ]
     },
     "execution_count": 161,
     "metadata": {},
     "output_type": "execute_result"
    }
   ],
   "source": [
    "t[0:6:2]"
   ]
  },
  {
   "cell_type": "code",
   "execution_count": 162,
   "id": "52348ea1",
   "metadata": {},
   "outputs": [
    {
     "data": {
      "text/plain": [
       "()"
      ]
     },
     "execution_count": 162,
     "metadata": {},
     "output_type": "execute_result"
    }
   ],
   "source": [
    "t[0:4:-1]"
   ]
  },
  {
   "cell_type": "code",
   "execution_count": 163,
   "id": "524995b2",
   "metadata": {},
   "outputs": [],
   "source": [
    " l=[1,2,3,4,5,6]"
   ]
  },
  {
   "cell_type": "code",
   "execution_count": 164,
   "id": "5c902265",
   "metadata": {},
   "outputs": [
    {
     "data": {
      "text/plain": [
       "[1, 2, 3, 4, 5, 6]"
      ]
     },
     "execution_count": 164,
     "metadata": {},
     "output_type": "execute_result"
    }
   ],
   "source": [
    "l"
   ]
  },
  {
   "cell_type": "code",
   "execution_count": 165,
   "id": "73b52ef1",
   "metadata": {},
   "outputs": [],
   "source": [
    "l[2]=\"hare\""
   ]
  },
  {
   "cell_type": "code",
   "execution_count": 166,
   "id": "cf1281d2",
   "metadata": {},
   "outputs": [
    {
     "data": {
      "text/plain": [
       "'hare'"
      ]
     },
     "execution_count": 166,
     "metadata": {},
     "output_type": "execute_result"
    }
   ],
   "source": [
    "l[2]"
   ]
  },
  {
   "cell_type": "code",
   "execution_count": 167,
   "id": "3991d8fe",
   "metadata": {},
   "outputs": [
    {
     "data": {
      "text/plain": [
       "[1, 2, 'hare', 4, 5, 6]"
      ]
     },
     "execution_count": 167,
     "metadata": {},
     "output_type": "execute_result"
    }
   ],
   "source": [
    "l"
   ]
  },
  {
   "cell_type": "code",
   "execution_count": 168,
   "id": "f63dcb3d",
   "metadata": {},
   "outputs": [
    {
     "data": {
      "text/plain": [
       "(4, 5, 6, 7, 'hare', 45, 67, True)"
      ]
     },
     "execution_count": 168,
     "metadata": {},
     "output_type": "execute_result"
    }
   ],
   "source": [
    "t"
   ]
  },
  {
   "cell_type": "code",
   "execution_count": 169,
   "id": "b37b1fb5",
   "metadata": {
    "scrolled": false
   },
   "outputs": [
    {
     "ename": "TypeError",
     "evalue": "'tuple' object does not support item assignment",
     "output_type": "error",
     "traceback": [
      "\u001b[1;31m---------------------------------------------------------------------------\u001b[0m",
      "\u001b[1;31mTypeError\u001b[0m                                 Traceback (most recent call last)",
      "Input \u001b[1;32mIn [169]\u001b[0m, in \u001b[0;36m<cell line: 1>\u001b[1;34m()\u001b[0m\n\u001b[1;32m----> 1\u001b[0m t[\u001b[38;5;241m2\u001b[39m]\u001b[38;5;241m=\u001b[39m\u001b[38;5;124m\"\u001b[39m\u001b[38;5;124mhare\u001b[39m\u001b[38;5;124m\"\u001b[39m\n",
      "\u001b[1;31mTypeError\u001b[0m: 'tuple' object does not support item assignment"
     ]
    }
   ],
   "source": [
    "t[2]=\"hare\""
   ]
  },
  {
   "cell_type": "code",
   "execution_count": 170,
   "id": "5852b695",
   "metadata": {},
   "outputs": [],
   "source": [
    "t1 = (4,5,6,7,\"krishna\",78,7)"
   ]
  },
  {
   "cell_type": "code",
   "execution_count": 171,
   "id": "5fd050c2",
   "metadata": {},
   "outputs": [
    {
     "data": {
      "text/plain": [
       "(4, 5, 6, 7, 'krishna', 78, 7)"
      ]
     },
     "execution_count": 171,
     "metadata": {},
     "output_type": "execute_result"
    }
   ],
   "source": [
    "t1"
   ]
  },
  {
   "cell_type": "code",
   "execution_count": 175,
   "id": "8d5a2737",
   "metadata": {},
   "outputs": [],
   "source": [
    "t2=t + t1"
   ]
  },
  {
   "cell_type": "code",
   "execution_count": 174,
   "id": "de504e8a",
   "metadata": {},
   "outputs": [
    {
     "data": {
      "text/plain": [
       "1"
      ]
     },
     "execution_count": 174,
     "metadata": {},
     "output_type": "execute_result"
    }
   ],
   "source": [
    "t.count(4)"
   ]
  },
  {
   "cell_type": "code",
   "execution_count": 176,
   "id": "c085dc55",
   "metadata": {},
   "outputs": [
    {
     "data": {
      "text/plain": [
       "(4, 5, 6, 7, 'hare', 45, 67, True, 4, 5, 6, 7, 'krishna', 78, 7)"
      ]
     },
     "execution_count": 176,
     "metadata": {},
     "output_type": "execute_result"
    }
   ],
   "source": [
    "t2"
   ]
  },
  {
   "cell_type": "code",
   "execution_count": 177,
   "id": "62a8cbdf",
   "metadata": {},
   "outputs": [
    {
     "data": {
      "text/plain": [
       "2"
      ]
     },
     "execution_count": 177,
     "metadata": {},
     "output_type": "execute_result"
    }
   ],
   "source": [
    "t2.count(4)"
   ]
  },
  {
   "cell_type": "code",
   "execution_count": 178,
   "id": "21a632e5",
   "metadata": {},
   "outputs": [
    {
     "data": {
      "text/plain": [
       "2"
      ]
     },
     "execution_count": 178,
     "metadata": {},
     "output_type": "execute_result"
    }
   ],
   "source": [
    "t2.index(6)"
   ]
  },
  {
   "cell_type": "code",
   "execution_count": 179,
   "id": "67f4afab",
   "metadata": {},
   "outputs": [
    {
     "data": {
      "text/plain": [
       "3"
      ]
     },
     "execution_count": 179,
     "metadata": {},
     "output_type": "execute_result"
    }
   ],
   "source": [
    "t2.index(7)"
   ]
  },
  {
   "cell_type": "code",
   "execution_count": 180,
   "id": "32802fe6",
   "metadata": {},
   "outputs": [],
   "source": [
    "t = (3,4,5,6,7,2,45,6,\"hare\")"
   ]
  },
  {
   "cell_type": "code",
   "execution_count": 182,
   "id": "ce0c2749",
   "metadata": {},
   "outputs": [],
   "source": [
    "t3 = list(t)"
   ]
  },
  {
   "cell_type": "markdown",
   "id": "1f8d1033",
   "metadata": {},
   "source": [
    "### "
   ]
  },
  {
   "cell_type": "code",
   "execution_count": 183,
   "id": "19922383",
   "metadata": {},
   "outputs": [
    {
     "data": {
      "text/plain": [
       "[3, 4, 5, 6, 7, 2, 45, 6, 'hare']"
      ]
     },
     "execution_count": 183,
     "metadata": {},
     "output_type": "execute_result"
    }
   ],
   "source": [
    "t3"
   ]
  },
  {
   "cell_type": "code",
   "execution_count": 184,
   "id": "9c330624",
   "metadata": {},
   "outputs": [
    {
     "data": {
      "text/plain": [
       "(3, 4, 5, 6, 7, 2, 45, 6, 'hare')"
      ]
     },
     "execution_count": 184,
     "metadata": {},
     "output_type": "execute_result"
    }
   ],
   "source": [
    "tuple(t3)"
   ]
  },
  {
   "cell_type": "code",
   "execution_count": 185,
   "id": "b71c403a",
   "metadata": {},
   "outputs": [
    {
     "data": {
      "text/plain": [
       "\"(4, 5, 6, 7, 'hare', 45, 67, True, 4, 5, 6, 7, 'krishna', 78, 7)\""
      ]
     },
     "execution_count": 185,
     "metadata": {},
     "output_type": "execute_result"
    }
   ],
   "source": [
    "str(t2)"
   ]
  },
  {
   "cell_type": "code",
   "execution_count": 186,
   "id": "29cbafaa",
   "metadata": {},
   "outputs": [
    {
     "data": {
      "text/plain": [
       "\"[3, 4, 5, 6, 7, 2, 45, 6, 'hare']\""
      ]
     },
     "execution_count": 186,
     "metadata": {},
     "output_type": "execute_result"
    }
   ],
   "source": [
    "str(t3)"
   ]
  },
  {
   "cell_type": "code",
   "execution_count": 187,
   "id": "08c1d5e9",
   "metadata": {},
   "outputs": [],
   "source": [
    "d = {}"
   ]
  },
  {
   "cell_type": "code",
   "execution_count": 188,
   "id": "83c0ca52",
   "metadata": {},
   "outputs": [
    {
     "data": {
      "text/plain": [
       "dict"
      ]
     },
     "execution_count": 188,
     "metadata": {},
     "output_type": "execute_result"
    }
   ],
   "source": [
    "type(d)"
   ]
  },
  {
   "cell_type": "code",
   "execution_count": 189,
   "id": "7933c365",
   "metadata": {},
   "outputs": [],
   "source": [
    "d1 = {1}"
   ]
  },
  {
   "cell_type": "code",
   "execution_count": 190,
   "id": "bd54b71e",
   "metadata": {},
   "outputs": [
    {
     "data": {
      "text/plain": [
       "set"
      ]
     },
     "execution_count": 190,
     "metadata": {},
     "output_type": "execute_result"
    }
   ],
   "source": [
    "type(d1)"
   ]
  },
  {
   "cell_type": "code",
   "execution_count": 191,
   "id": "da3cb409",
   "metadata": {},
   "outputs": [],
   "source": [
    "d2 = {\"key1\": \"value\", 234 : \"xyz\",\"name\":\"hare\",\"no\":34253564}"
   ]
  },
  {
   "cell_type": "code",
   "execution_count": 192,
   "id": "74e2c77b",
   "metadata": {},
   "outputs": [
    {
     "data": {
      "text/plain": [
       "dict"
      ]
     },
     "execution_count": 192,
     "metadata": {},
     "output_type": "execute_result"
    }
   ],
   "source": [
    "type(d2)"
   ]
  },
  {
   "cell_type": "code",
   "execution_count": 193,
   "id": "bb2da472",
   "metadata": {},
   "outputs": [
    {
     "data": {
      "text/plain": [
       "dict"
      ]
     },
     "execution_count": 193,
     "metadata": {},
     "output_type": "execute_result"
    }
   ],
   "source": [
    "type(d2)"
   ]
  },
  {
   "cell_type": "code",
   "execution_count": 194,
   "id": "910667fa",
   "metadata": {},
   "outputs": [
    {
     "data": {
      "text/plain": [
       "{'key1': 'value', 234: 'xyz', 'name': 'hare', 'no': 34253564}"
      ]
     },
     "execution_count": 194,
     "metadata": {},
     "output_type": "execute_result"
    }
   ],
   "source": [
    "d2"
   ]
  },
  {
   "cell_type": "code",
   "execution_count": 195,
   "id": "e35bcdc8",
   "metadata": {},
   "outputs": [
    {
     "data": {
      "text/plain": [
       "'hare'"
      ]
     },
     "execution_count": 195,
     "metadata": {},
     "output_type": "execute_result"
    }
   ],
   "source": [
    "d2[\"name\"]"
   ]
  },
  {
   "cell_type": "code",
   "execution_count": 196,
   "id": "378fa4a1",
   "metadata": {},
   "outputs": [
    {
     "data": {
      "text/plain": [
       "34253564"
      ]
     },
     "execution_count": 196,
     "metadata": {},
     "output_type": "execute_result"
    }
   ],
   "source": [
    "d2[\"no\"]"
   ]
  },
  {
   "cell_type": "code",
   "execution_count": 198,
   "id": "26afdd58",
   "metadata": {},
   "outputs": [
    {
     "data": {
      "text/plain": [
       "'value'"
      ]
     },
     "execution_count": 198,
     "metadata": {},
     "output_type": "execute_result"
    }
   ],
   "source": [
    "d2[\"key1\"]"
   ]
  },
  {
   "cell_type": "code",
   "execution_count": 199,
   "id": "d05d68b4",
   "metadata": {},
   "outputs": [],
   "source": [
    "d3={\"name\" : \"hareKrishna\",\"tech\": [\"python\",\"dl\",\"NLP\",\"BigData\",\"Data Analystic\"]}"
   ]
  },
  {
   "cell_type": "code",
   "execution_count": 200,
   "id": "323825c4",
   "metadata": {},
   "outputs": [
    {
     "data": {
      "text/plain": [
       "['python', 'dl', 'NLP', 'BigData', 'Data Analystic']"
      ]
     },
     "execution_count": 200,
     "metadata": {},
     "output_type": "execute_result"
    }
   ],
   "source": [
    "d3[\"tech\"]"
   ]
  },
  {
   "cell_type": "code",
   "execution_count": 202,
   "id": "41fd4bf1",
   "metadata": {},
   "outputs": [
    {
     "data": {
      "text/plain": [
       "True"
      ]
     },
     "execution_count": 202,
     "metadata": {},
     "output_type": "execute_result"
    }
   ],
   "source": [
    "\"python\" in d3[\"tech\"]"
   ]
  },
  {
   "cell_type": "code",
   "execution_count": 203,
   "id": "dbbbd6d1",
   "metadata": {},
   "outputs": [],
   "source": [
    "d4 = {\"name\" : \"hareKrishna\",\"contactinfo\" : 34526785,\"name\":\"Harerama\"}"
   ]
  },
  {
   "cell_type": "code",
   "execution_count": 204,
   "id": "69844d8e",
   "metadata": {},
   "outputs": [
    {
     "data": {
      "text/plain": [
       "{'name': 'Harerama', 'contactinfo': 34526785}"
      ]
     },
     "execution_count": 204,
     "metadata": {},
     "output_type": "execute_result"
    }
   ],
   "source": [
    "d4"
   ]
  },
  {
   "cell_type": "code",
   "execution_count": 209,
   "id": "9e41e343",
   "metadata": {},
   "outputs": [],
   "source": [
    "d4[\"name1\"]= \"xyz\""
   ]
  },
  {
   "cell_type": "code",
   "execution_count": 210,
   "id": "027c7206",
   "metadata": {},
   "outputs": [
    {
     "data": {
      "text/plain": [
       "{'name': 'xyz', 'contactinfo': 34526785, 'k1': 'xyz', 'name1': 'xyz'}"
      ]
     },
     "execution_count": 210,
     "metadata": {},
     "output_type": "execute_result"
    }
   ],
   "source": [
    "d4"
   ]
  },
  {
   "cell_type": "code",
   "execution_count": 211,
   "id": "9c15267b",
   "metadata": {},
   "outputs": [],
   "source": [
    "d4[\"k2\"] = d2"
   ]
  },
  {
   "cell_type": "code",
   "execution_count": 212,
   "id": "222c652b",
   "metadata": {},
   "outputs": [
    {
     "data": {
      "text/plain": [
       "{'key1': 'value', 234: 'xyz', 'name': 'hare', 'no': 34253564}"
      ]
     },
     "execution_count": 212,
     "metadata": {},
     "output_type": "execute_result"
    }
   ],
   "source": [
    "d2"
   ]
  },
  {
   "cell_type": "code",
   "execution_count": 213,
   "id": "198f5cc3",
   "metadata": {},
   "outputs": [
    {
     "data": {
      "text/plain": [
       "{'name': 'xyz',\n",
       " 'contactinfo': 34526785,\n",
       " 'k1': 'xyz',\n",
       " 'name1': 'xyz',\n",
       " 'k2': {'key1': 'value', 234: 'xyz', 'name': 'hare', 'no': 34253564}}"
      ]
     },
     "execution_count": 213,
     "metadata": {},
     "output_type": "execute_result"
    }
   ],
   "source": [
    "d4"
   ]
  },
  {
   "cell_type": "code",
   "execution_count": 215,
   "id": "95f4cd06",
   "metadata": {},
   "outputs": [
    {
     "data": {
      "text/plain": [
       "{'key1': 'value', 234: 'xyz', 'name': 'hare', 'no': 34253564}"
      ]
     },
     "execution_count": 215,
     "metadata": {},
     "output_type": "execute_result"
    }
   ],
   "source": [
    "d4[\"k2\"]"
   ]
  },
  {
   "cell_type": "code",
   "execution_count": 217,
   "id": "96afa139",
   "metadata": {},
   "outputs": [
    {
     "data": {
      "text/plain": [
       "34253564"
      ]
     },
     "execution_count": 217,
     "metadata": {},
     "output_type": "execute_result"
    }
   ],
   "source": [
    "d4[\"k2\"][\"no\"]"
   ]
  },
  {
   "cell_type": "code",
   "execution_count": 219,
   "id": "bc6bec9b",
   "metadata": {},
   "outputs": [],
   "source": [
    "d5 = {_:12345}"
   ]
  },
  {
   "cell_type": "markdown",
   "id": "21ded1a5",
   "metadata": {},
   "source": [
    "##### "
   ]
  },
  {
   "cell_type": "code",
   "execution_count": 220,
   "id": "36de77b0",
   "metadata": {},
   "outputs": [
    {
     "data": {
      "text/plain": [
       "{34253564: 12345}"
      ]
     },
     "execution_count": 220,
     "metadata": {},
     "output_type": "execute_result"
    }
   ],
   "source": [
    "d5"
   ]
  },
  {
   "cell_type": "code",
   "execution_count": 221,
   "id": "3d16cc4b",
   "metadata": {},
   "outputs": [],
   "source": [
    "d6 = {(1,3,4,5,6): \"hare\"}"
   ]
  },
  {
   "cell_type": "code",
   "execution_count": 222,
   "id": "885f828a",
   "metadata": {},
   "outputs": [
    {
     "data": {
      "text/plain": [
       "{(1, 3, 4, 5, 6): 'hare'}"
      ]
     },
     "execution_count": 222,
     "metadata": {},
     "output_type": "execute_result"
    }
   ],
   "source": [
    "d6"
   ]
  },
  {
   "cell_type": "code",
   "execution_count": 223,
   "id": "9e8867dc",
   "metadata": {},
   "outputs": [
    {
     "data": {
      "text/plain": [
       "'hare'"
      ]
     },
     "execution_count": 223,
     "metadata": {},
     "output_type": "execute_result"
    }
   ],
   "source": [
    "d6[1,3,4,5,6]"
   ]
  },
  {
   "cell_type": "code",
   "execution_count": 224,
   "id": "d5313820",
   "metadata": {},
   "outputs": [
    {
     "data": {
      "text/plain": [
       "{}"
      ]
     },
     "execution_count": 224,
     "metadata": {},
     "output_type": "execute_result"
    }
   ],
   "source": [
    "d"
   ]
  },
  {
   "cell_type": "code",
   "execution_count": 225,
   "id": "80ca5df9",
   "metadata": {},
   "outputs": [
    {
     "data": {
      "text/plain": [
       "{'key1': 'value', 234: 'xyz', 'name': 'hare', 'no': 34253564}"
      ]
     },
     "execution_count": 225,
     "metadata": {},
     "output_type": "execute_result"
    }
   ],
   "source": [
    "d2"
   ]
  },
  {
   "cell_type": "code",
   "execution_count": 226,
   "id": "9fa307f5",
   "metadata": {},
   "outputs": [
    {
     "data": {
      "text/plain": [
       "{'key1': 'value', 234: 'xyz', 'name': 'hare', 'no': 34253564}"
      ]
     },
     "execution_count": 226,
     "metadata": {},
     "output_type": "execute_result"
    }
   ],
   "source": [
    "d2"
   ]
  },
  {
   "cell_type": "code",
   "execution_count": 227,
   "id": "307ee75b",
   "metadata": {},
   "outputs": [
    {
     "data": {
      "text/plain": [
       "{'name': 'hareKrishna',\n",
       " 'tech': ['python', 'dl', 'NLP', 'BigData', 'Data Analystic']}"
      ]
     },
     "execution_count": 227,
     "metadata": {},
     "output_type": "execute_result"
    }
   ],
   "source": [
    "d3"
   ]
  },
  {
   "cell_type": "code",
   "execution_count": 228,
   "id": "7bec06a8",
   "metadata": {},
   "outputs": [
    {
     "ename": "TypeError",
     "evalue": "unsupported operand type(s) for +: 'dict' and 'dict'",
     "output_type": "error",
     "traceback": [
      "\u001b[1;31m---------------------------------------------------------------------------\u001b[0m",
      "\u001b[1;31mTypeError\u001b[0m                                 Traceback (most recent call last)",
      "Input \u001b[1;32mIn [228]\u001b[0m, in \u001b[0;36m<cell line: 1>\u001b[1;34m()\u001b[0m\n\u001b[1;32m----> 1\u001b[0m \u001b[43md2\u001b[49m\u001b[38;5;241;43m+\u001b[39;49m\u001b[43md3\u001b[49m\n",
      "\u001b[1;31mTypeError\u001b[0m: unsupported operand type(s) for +: 'dict' and 'dict'"
     ]
    }
   ],
   "source": [
    "d2+d3"
   ]
  },
  {
   "cell_type": "code",
   "execution_count": 229,
   "id": "49874acd",
   "metadata": {},
   "outputs": [
    {
     "data": {
      "text/plain": [
       "{'key1': 'value', 234: 'xyz', 'name': 'hare', 'no': 34253564}"
      ]
     },
     "execution_count": 229,
     "metadata": {},
     "output_type": "execute_result"
    }
   ],
   "source": [
    "d2"
   ]
  },
  {
   "cell_type": "code",
   "execution_count": 230,
   "id": "a3e79c4e",
   "metadata": {},
   "outputs": [
    {
     "data": {
      "text/plain": [
       "dict_keys(['key1', 234, 'name', 'no'])"
      ]
     },
     "execution_count": 230,
     "metadata": {},
     "output_type": "execute_result"
    }
   ],
   "source": [
    "d2.keys()"
   ]
  },
  {
   "cell_type": "code",
   "execution_count": 231,
   "id": "5c13fc57",
   "metadata": {},
   "outputs": [
    {
     "data": {
      "text/plain": [
       "dict_items([('key1', 'value'), (234, 'xyz'), ('name', 'hare'), ('no', 34253564)])"
      ]
     },
     "execution_count": 231,
     "metadata": {},
     "output_type": "execute_result"
    }
   ],
   "source": [
    "d2.items()"
   ]
  },
  {
   "cell_type": "code",
   "execution_count": 232,
   "id": "e9f6d075",
   "metadata": {},
   "outputs": [],
   "source": [
    " s = {3,4,5,5,6}"
   ]
  },
  {
   "cell_type": "code",
   "execution_count": 233,
   "id": "8cf1d208",
   "metadata": {},
   "outputs": [
    {
     "data": {
      "text/plain": [
       "set"
      ]
     },
     "execution_count": 233,
     "metadata": {},
     "output_type": "execute_result"
    }
   ],
   "source": [
    "type(s)"
   ]
  },
  {
   "cell_type": "code",
   "execution_count": 238,
   "id": "9013d9b7",
   "metadata": {},
   "outputs": [],
   "source": [
    "s1 = {1,2,3,4,2,43,5,645,23,3,4,5,5,5,5,6,7,8,8,5,6,7,8}"
   ]
  },
  {
   "cell_type": "code",
   "execution_count": 236,
   "id": "ab8d3f6e",
   "metadata": {},
   "outputs": [
    {
     "data": {
      "text/plain": [
       "{1, 2, 3, 4, 5, 6, 7, 8}"
      ]
     },
     "execution_count": 236,
     "metadata": {},
     "output_type": "execute_result"
    }
   ],
   "source": [
    "s1"
   ]
  },
  {
   "cell_type": "code",
   "execution_count": 239,
   "id": "3247a8ec",
   "metadata": {},
   "outputs": [
    {
     "data": {
      "text/plain": [
       "{1, 2, 3, 4, 5, 6, 7, 8, 23, 43, 645}"
      ]
     },
     "execution_count": 239,
     "metadata": {},
     "output_type": "execute_result"
    }
   ],
   "source": [
    "s1"
   ]
  },
  {
   "cell_type": "code",
   "execution_count": 241,
   "id": "8fb73830",
   "metadata": {},
   "outputs": [],
   "source": [
    "s2 ={1,2,3,4,4,4,4,5,6,66,7,77,7,7,7,7,7,78,4,23,4124,53}"
   ]
  },
  {
   "cell_type": "markdown",
   "id": "d0065997",
   "metadata": {},
   "source": [
    "s2"
   ]
  },
  {
   "cell_type": "code",
   "execution_count": 242,
   "id": "20aff1d3",
   "metadata": {},
   "outputs": [
    {
     "data": {
      "text/plain": [
       "{1, 2, 3, 4, 5, 6, 7, 23, 53, 66, 77, 78, 4124}"
      ]
     },
     "execution_count": 242,
     "metadata": {},
     "output_type": "execute_result"
    }
   ],
   "source": [
    "s2"
   ]
  },
  {
   "cell_type": "code",
   "execution_count": 244,
   "id": "36917228",
   "metadata": {},
   "outputs": [
    {
     "data": {
      "text/plain": [
       "{1, 2, 3, 4, 5, 6, 7, 23, 53, 66, 77, 78, 4124}"
      ]
     },
     "execution_count": 244,
     "metadata": {},
     "output_type": "execute_result"
    }
   ],
   "source": [
    "s2"
   ]
  },
  {
   "cell_type": "code",
   "execution_count": 245,
   "id": "91441fe0",
   "metadata": {},
   "outputs": [],
   "source": [
    "s3 = {\"hare\",\"krishna\",\"hare\",\"rama\",1,2,3,4656,5,3,2,23,45,5,5,5,}"
   ]
  },
  {
   "cell_type": "markdown",
   "id": "a78ce53c",
   "metadata": {},
   "source": [
    "s3 "
   ]
  },
  {
   "cell_type": "code",
   "execution_count": 246,
   "id": "fe715e4e",
   "metadata": {},
   "outputs": [
    {
     "data": {
      "text/plain": [
       "{1, 2, 3, 4, 5, 6, 7, 23, 53, 66, 77, 78, 4124}"
      ]
     },
     "execution_count": 246,
     "metadata": {},
     "output_type": "execute_result"
    }
   ],
   "source": [
    "s2"
   ]
  },
  {
   "cell_type": "code",
   "execution_count": 247,
   "id": "14012275",
   "metadata": {},
   "outputs": [
    {
     "data": {
      "text/plain": [
       "{1, 2, 23, 3, 45, 4656, 5, 'hare', 'krishna', 'rama'}"
      ]
     },
     "execution_count": 247,
     "metadata": {},
     "output_type": "execute_result"
    }
   ],
   "source": [
    "s3"
   ]
  },
  {
   "cell_type": "code",
   "execution_count": 248,
   "id": "7636b1d0",
   "metadata": {},
   "outputs": [
    {
     "ename": "TypeError",
     "evalue": "'set' object is not subscriptable",
     "output_type": "error",
     "traceback": [
      "\u001b[1;31m---------------------------------------------------------------------------\u001b[0m",
      "\u001b[1;31mTypeError\u001b[0m                                 Traceback (most recent call last)",
      "Input \u001b[1;32mIn [248]\u001b[0m, in \u001b[0;36m<cell line: 1>\u001b[1;34m()\u001b[0m\n\u001b[1;32m----> 1\u001b[0m \u001b[43ms3\u001b[49m\u001b[43m[\u001b[49m\u001b[38;5;241;43m0\u001b[39;49m\u001b[43m]\u001b[49m\n",
      "\u001b[1;31mTypeError\u001b[0m: 'set' object is not subscriptable"
     ]
    }
   ],
   "source": [
    "s3[0]"
   ]
  },
  {
   "cell_type": "code",
   "execution_count": 249,
   "id": "149076d1",
   "metadata": {},
   "outputs": [
    {
     "data": {
      "text/plain": [
       "[1, 2, 3, 'rama', 'krishna', 5, 'hare', 45, 4656, 23]"
      ]
     },
     "execution_count": 249,
     "metadata": {},
     "output_type": "execute_result"
    }
   ],
   "source": [
    "list(s3)"
   ]
  },
  {
   "cell_type": "code",
   "execution_count": 250,
   "id": "bf145254",
   "metadata": {},
   "outputs": [
    {
     "data": {
      "text/plain": [
       "(1, 2, 3, 'rama', 'krishna', 5, 'hare', 45, 4656, 23)"
      ]
     },
     "execution_count": 250,
     "metadata": {},
     "output_type": "execute_result"
    }
   ],
   "source": [
    "tuple(s3)"
   ]
  },
  {
   "cell_type": "code",
   "execution_count": 251,
   "id": "dd566ff6",
   "metadata": {},
   "outputs": [],
   "source": [
    "l=[1,2,2,2,2,2,3,3,3,3,3,3,4,4,4,4,4,4,4,4,4,4]"
   ]
  },
  {
   "cell_type": "code",
   "execution_count": 252,
   "id": "04f91907",
   "metadata": {},
   "outputs": [
    {
     "data": {
      "text/plain": [
       "[1, 2, 2, 2, 2, 2, 3, 3, 3, 3, 3, 3, 4, 4, 4, 4, 4, 4, 4, 4, 4, 4]"
      ]
     },
     "execution_count": 252,
     "metadata": {},
     "output_type": "execute_result"
    }
   ],
   "source": [
    "l"
   ]
  },
  {
   "cell_type": "code",
   "execution_count": 254,
   "id": "889ef61d",
   "metadata": {},
   "outputs": [],
   "source": [
    "l=list(set(l))"
   ]
  },
  {
   "cell_type": "code",
   "execution_count": 255,
   "id": "0138ab4c",
   "metadata": {},
   "outputs": [
    {
     "data": {
      "text/plain": [
       "[1, 2, 3, 4]"
      ]
     },
     "execution_count": 255,
     "metadata": {},
     "output_type": "execute_result"
    }
   ],
   "source": [
    "l"
   ]
  },
  {
   "cell_type": "code",
   "execution_count": 256,
   "id": "368e94f0",
   "metadata": {},
   "outputs": [],
   "source": [
    "s={(1,2,3,4,5),3,4,5,6,7}"
   ]
  },
  {
   "cell_type": "code",
   "execution_count": 257,
   "id": "70c31b4a",
   "metadata": {},
   "outputs": [
    {
     "data": {
      "text/plain": [
       "{(1, 2, 3, 4, 5), 3, 4, 5, 6, 7}"
      ]
     },
     "execution_count": 257,
     "metadata": {},
     "output_type": "execute_result"
    }
   ],
   "source": [
    "s"
   ]
  },
  {
   "cell_type": "code",
   "execution_count": 258,
   "id": "df739ba2",
   "metadata": {},
   "outputs": [],
   "source": [
    "s.remove(3)"
   ]
  },
  {
   "cell_type": "code",
   "execution_count": 259,
   "id": "145f52d0",
   "metadata": {},
   "outputs": [
    {
     "data": {
      "text/plain": [
       "{(1, 2, 3, 4, 5), 4, 5, 6, 7}"
      ]
     },
     "execution_count": 259,
     "metadata": {},
     "output_type": "execute_result"
    }
   ],
   "source": [
    "s"
   ]
  },
  {
   "cell_type": "code",
   "execution_count": 262,
   "id": "f14ffccc",
   "metadata": {},
   "outputs": [],
   "source": [
    "s.discard(765432)"
   ]
  },
  {
   "cell_type": "code",
   "execution_count": 263,
   "id": "b51ff139",
   "metadata": {},
   "outputs": [
    {
     "data": {
      "text/plain": [
       "{(1, 2, 3, 4, 5), 5, 6, 7}"
      ]
     },
     "execution_count": 263,
     "metadata": {},
     "output_type": "execute_result"
    }
   ],
   "source": [
    "s"
   ]
  },
  {
   "cell_type": "code",
   "execution_count": null,
   "id": "8d14a6cc",
   "metadata": {},
   "outputs": [],
   "source": []
  }
 ],
 "metadata": {
  "kernelspec": {
   "display_name": "Python 3 (ipykernel)",
   "language": "python",
   "name": "python3"
  },
  "language_info": {
   "codemirror_mode": {
    "name": "ipython",
    "version": 3
   },
   "file_extension": ".py",
   "mimetype": "text/x-python",
   "name": "python",
   "nbconvert_exporter": "python",
   "pygments_lexer": "ipython3",
   "version": "3.9.12"
  }
 },
 "nbformat": 4,
 "nbformat_minor": 5
}
