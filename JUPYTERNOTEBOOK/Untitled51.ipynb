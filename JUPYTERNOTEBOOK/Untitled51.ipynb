{
 "cells": [
  {
   "cell_type": "code",
   "execution_count": 1,
   "id": "166d88c6",
   "metadata": {},
   "outputs": [],
   "source": [
    "a  = \"naveen\",\"babblu\",\"krishna\",\"rama\",\"bhagavathgeetha\""
   ]
  },
  {
   "cell_type": "code",
   "execution_count": 2,
   "id": "b3fd5db3",
   "metadata": {},
   "outputs": [
    {
     "data": {
      "text/plain": [
       "'naveen'"
      ]
     },
     "execution_count": 2,
     "metadata": {},
     "output_type": "execute_result"
    }
   ],
   "source": [
    "a[0]"
   ]
  },
  {
   "cell_type": "code",
   "execution_count": 3,
   "id": "3c0bb786",
   "metadata": {},
   "outputs": [
    {
     "ename": "TypeError",
     "evalue": "'tuple' object does not support item assignment",
     "output_type": "error",
     "traceback": [
      "\u001b[1;31m---------------------------------------------------------------------------\u001b[0m",
      "\u001b[1;31mTypeError\u001b[0m                                 Traceback (most recent call last)",
      "\u001b[1;32m~\\AppData\\Local\\Temp\\ipykernel_20280\\2281290708.py\u001b[0m in \u001b[0;36m<module>\u001b[1;34m\u001b[0m\n\u001b[1;32m----> 1\u001b[1;33m \u001b[0ma\u001b[0m\u001b[1;33m[\u001b[0m\u001b[1;36m0\u001b[0m\u001b[1;33m]\u001b[0m\u001b[1;33m=\u001b[0m\u001b[1;34m\"Adepu\"\u001b[0m\u001b[1;33m\u001b[0m\u001b[1;33m\u001b[0m\u001b[0m\n\u001b[0m",
      "\u001b[1;31mTypeError\u001b[0m: 'tuple' object does not support item assignment"
     ]
    }
   ],
   "source": [
    "a[0]=\"Adepu\""
   ]
  },
  {
   "cell_type": "code",
   "execution_count": 4,
   "id": "2035c484",
   "metadata": {},
   "outputs": [
    {
     "data": {
      "text/plain": [
       "tuple"
      ]
     },
     "execution_count": 4,
     "metadata": {},
     "output_type": "execute_result"
    }
   ],
   "source": [
    "type(a)"
   ]
  },
  {
   "cell_type": "code",
   "execution_count": 5,
   "id": "f378355b",
   "metadata": {},
   "outputs": [],
   "source": [
    "k = list(a)"
   ]
  },
  {
   "cell_type": "code",
   "execution_count": 6,
   "id": "3a6d3042",
   "metadata": {},
   "outputs": [
    {
     "data": {
      "text/plain": [
       "['naveen', 'babblu', 'krishna', 'rama', 'bhagavathgeetha']"
      ]
     },
     "execution_count": 6,
     "metadata": {},
     "output_type": "execute_result"
    }
   ],
   "source": [
    "k"
   ]
  },
  {
   "cell_type": "code",
   "execution_count": 7,
   "id": "70f0a098",
   "metadata": {},
   "outputs": [
    {
     "data": {
      "text/plain": [
       "list"
      ]
     },
     "execution_count": 7,
     "metadata": {},
     "output_type": "execute_result"
    }
   ],
   "source": [
    "type(k)"
   ]
  },
  {
   "cell_type": "code",
   "execution_count": 8,
   "id": "49dcb5df",
   "metadata": {},
   "outputs": [
    {
     "data": {
      "text/plain": [
       "('naveen', 'babblu', 'krishna', 'rama', 'bhagavathgeetha')"
      ]
     },
     "execution_count": 8,
     "metadata": {},
     "output_type": "execute_result"
    }
   ],
   "source": [
    "a"
   ]
  },
  {
   "cell_type": "code",
   "execution_count": 9,
   "id": "28586ba8",
   "metadata": {},
   "outputs": [
    {
     "data": {
      "text/plain": [
       "{'babblu', 'bhagavathgeetha', 'krishna', 'naveen', 'rama'}"
      ]
     },
     "execution_count": 9,
     "metadata": {},
     "output_type": "execute_result"
    }
   ],
   "source": [
    "set(a)"
   ]
  },
  {
   "cell_type": "code",
   "execution_count": 10,
   "id": "db7aef58",
   "metadata": {},
   "outputs": [],
   "source": [
    "f = set(a)"
   ]
  },
  {
   "cell_type": "code",
   "execution_count": 11,
   "id": "0b1a7df7",
   "metadata": {},
   "outputs": [
    {
     "data": {
      "text/plain": [
       "{'babblu', 'bhagavathgeetha', 'krishna', 'naveen', 'rama'}"
      ]
     },
     "execution_count": 11,
     "metadata": {},
     "output_type": "execute_result"
    }
   ],
   "source": [
    "f"
   ]
  },
  {
   "cell_type": "code",
   "execution_count": 12,
   "id": "47170896",
   "metadata": {},
   "outputs": [
    {
     "data": {
      "text/plain": [
       "tuple"
      ]
     },
     "execution_count": 12,
     "metadata": {},
     "output_type": "execute_result"
    }
   ],
   "source": [
    "type(a)"
   ]
  },
  {
   "cell_type": "code",
   "execution_count": 13,
   "id": "89a131d3",
   "metadata": {},
   "outputs": [],
   "source": [
    "# boolean"
   ]
  },
  {
   "cell_type": "code",
   "execution_count": 14,
   "id": "c1f3bce6",
   "metadata": {},
   "outputs": [],
   "source": [
    "a = 10\n",
    "b = 20"
   ]
  },
  {
   "cell_type": "code",
   "execution_count": 15,
   "id": "403cd8c0",
   "metadata": {},
   "outputs": [],
   "source": [
    "a = 20"
   ]
  },
  {
   "cell_type": "code",
   "execution_count": 16,
   "id": "79e3f757",
   "metadata": {},
   "outputs": [
    {
     "name": "stdout",
     "output_type": "stream",
     "text": [
      "20\n"
     ]
    }
   ],
   "source": [
    "print(a)"
   ]
  },
  {
   "cell_type": "code",
   "execution_count": 17,
   "id": "7419eb06",
   "metadata": {},
   "outputs": [
    {
     "name": "stdout",
     "output_type": "stream",
     "text": [
      "False\n"
     ]
    }
   ],
   "source": [
    "print(a > b)"
   ]
  },
  {
   "cell_type": "code",
   "execution_count": 18,
   "id": "7d0e28fd",
   "metadata": {},
   "outputs": [
    {
     "name": "stdout",
     "output_type": "stream",
     "text": [
      "False\n"
     ]
    }
   ],
   "source": [
    "print(b>a)"
   ]
  },
  {
   "cell_type": "code",
   "execution_count": 19,
   "id": "348fd854",
   "metadata": {},
   "outputs": [
    {
     "name": "stdout",
     "output_type": "stream",
     "text": [
      "True\n"
     ]
    }
   ],
   "source": [
    "print(a == b)"
   ]
  },
  {
   "cell_type": "code",
   "execution_count": 20,
   "id": "ad18ed48",
   "metadata": {},
   "outputs": [
    {
     "name": "stdout",
     "output_type": "stream",
     "text": [
      "20\n"
     ]
    }
   ],
   "source": [
    "print(a)"
   ]
  },
  {
   "cell_type": "code",
   "execution_count": 21,
   "id": "f2c33c9f",
   "metadata": {},
   "outputs": [
    {
     "name": "stdout",
     "output_type": "stream",
     "text": [
      "20\n"
     ]
    }
   ],
   "source": [
    "print(b)"
   ]
  },
  {
   "cell_type": "code",
   "execution_count": 22,
   "id": "95120e3c",
   "metadata": {},
   "outputs": [
    {
     "name": "stdout",
     "output_type": "stream",
     "text": [
      "enter A value: \n",
      "enter B value\n",
      "what is a of b\n"
     ]
    }
   ],
   "source": [
    "a  = input(\"enter A value: \")\n",
    "b = input(\"enter B value\")\n",
    "if a > b:\n",
    "    print(\"a is greater then b\")\n",
    "elif a < b:\n",
    "    print(\"b is less then a\")\n",
    "else:\n",
    "    print(\"what is a of b\")"
   ]
  },
  {
   "cell_type": "code",
   "execution_count": 23,
   "id": "d2fed6c8",
   "metadata": {},
   "outputs": [
    {
     "name": "stdout",
     "output_type": "stream",
     "text": [
      "A is equal to 10\n"
     ]
    }
   ],
   "source": [
    "a = 10\n",
    "b = 20\n",
    "if a == 10:\n",
    "    print(\"A is equal to 10\")\n",
    "elif a!= 10:\n",
    "    print(\"A is not equal to 10\")\n",
    "else:\n",
    "    print(\"enter a value\")"
   ]
  },
  {
   "cell_type": "code",
   "execution_count": 37,
   "id": "655cbf6a",
   "metadata": {},
   "outputs": [
    {
     "ename": "SyntaxError",
     "evalue": "unexpected EOF while parsing (927702401.py, line 5)",
     "output_type": "error",
     "traceback": [
      "\u001b[1;36m  File \u001b[1;32m\"C:\\Users\\Naveen\\AppData\\Local\\Temp\\ipykernel_20280\\927702401.py\"\u001b[1;36m, line \u001b[1;32m5\u001b[0m\n\u001b[1;33m    # print(\"Your are doing addition operation\", a+b)\u001b[0m\n\u001b[1;37m                                                     ^\u001b[0m\n\u001b[1;31mSyntaxError\u001b[0m\u001b[1;31m:\u001b[0m unexpected EOF while parsing\n"
     ]
    }
   ],
   "source": [
    "a = int(input(\"enter a value\"))\n",
    "b = int(input((\"Enter b value\"))\n",
    "# operator = input(\"+\", \"-\", \"/\", \"//\", \"*\", \"%\")\n",
    "# if operator == \"+\":\n",
    "# print(\"Your are doing addition operation\", a+b)"
   ]
  },
  {
   "cell_type": "code",
   "execution_count": 8,
   "id": "3acaec50",
   "metadata": {},
   "outputs": [
    {
     "name": "stdout",
     "output_type": "stream",
     "text": [
      "1010\n"
     ]
    }
   ],
   "source": [
    "number = 10\n",
    "\n",
    "string = f'{number:b}'\n",
    "print(string)  # 👉️ 1101"
   ]
  },
  {
   "cell_type": "code",
   "execution_count": 20,
   "id": "c72d5664",
   "metadata": {},
   "outputs": [
    {
     "name": "stdout",
     "output_type": "stream",
     "text": [
      "001\n"
     ]
    }
   ],
   "source": [
    "number = 1\n",
    "a = f'{number:03b}'\n",
    "print(a)"
   ]
  },
  {
   "cell_type": "code",
   "execution_count": 25,
   "id": "3d604487",
   "metadata": {},
   "outputs": [
    {
     "name": "stdout",
     "output_type": "stream",
     "text": [
      "0b1010\n"
     ]
    }
   ],
   "source": [
    "number = 10\n",
    "a = bin(number)\n",
    "print(a)"
   ]
  },
  {
   "cell_type": "code",
   "execution_count": 45,
   "id": "aa6a0677",
   "metadata": {},
   "outputs": [],
   "source": [
    "number = 10\n",
    "a = format(number,'010b')"
   ]
  },
  {
   "cell_type": "code",
   "execution_count": 46,
   "id": "9260aff3",
   "metadata": {},
   "outputs": [
    {
     "name": "stdout",
     "output_type": "stream",
     "text": [
      "0000001010\n"
     ]
    }
   ],
   "source": [
    "print(a)"
   ]
  },
  {
   "cell_type": "code",
   "execution_count": 65,
   "id": "8ee175ea",
   "metadata": {},
   "outputs": [],
   "source": [
    "number = 10\n",
    "a = f'{number:b}'"
   ]
  },
  {
   "cell_type": "code",
   "execution_count": 66,
   "id": "0f71db29",
   "metadata": {},
   "outputs": [
    {
     "name": "stdout",
     "output_type": "stream",
     "text": [
      "1010\n"
     ]
    }
   ],
   "source": [
    "print(a)"
   ]
  },
  {
   "cell_type": "code",
   "execution_count": 69,
   "id": "495bf6f5",
   "metadata": {},
   "outputs": [],
   "source": [
    "number1 = 10\n",
    "number2 = 20\n",
    "number3 = 30\n",
    "number = f'{a:b}'\n"
   ]
  },
  {
   "cell_type": "code",
   "execution_count": 70,
   "id": "646403e7",
   "metadata": {},
   "outputs": [
    {
     "name": "stdout",
     "output_type": "stream",
     "text": [
      "1010\n"
     ]
    }
   ],
   "source": [
    "print(number)"
   ]
  },
  {
   "cell_type": "code",
   "execution_count": null,
   "id": "0a6b127d",
   "metadata": {},
   "outputs": [],
   "source": []
  }
 ],
 "metadata": {
  "kernelspec": {
   "display_name": "Python 3 (ipykernel)",
   "language": "python",
   "name": "python3"
  },
  "language_info": {
   "codemirror_mode": {
    "name": "ipython",
    "version": 3
   },
   "file_extension": ".py",
   "mimetype": "text/x-python",
   "name": "python",
   "nbconvert_exporter": "python",
   "pygments_lexer": "ipython3",
   "version": "3.9.13"
  }
 },
 "nbformat": 4,
 "nbformat_minor": 5
}
