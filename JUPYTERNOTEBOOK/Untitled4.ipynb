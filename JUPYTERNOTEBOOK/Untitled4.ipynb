{
 "cells": [
  {
   "cell_type": "code",
   "execution_count": 1,
   "id": "07653d11",
   "metadata": {},
   "outputs": [],
   "source": [
    "s = \"hare krishna\""
   ]
  },
  {
   "cell_type": "code",
   "execution_count": 2,
   "id": "6164f5de",
   "metadata": {},
   "outputs": [
    {
     "data": {
      "text/plain": [
       "'hare krishna'"
      ]
     },
     "execution_count": 2,
     "metadata": {},
     "output_type": "execute_result"
    }
   ],
   "source": [
    "s"
   ]
  },
  {
   "cell_type": "code",
   "execution_count": 3,
   "id": "c0115630",
   "metadata": {},
   "outputs": [
    {
     "data": {
      "text/plain": [
       "'e'"
      ]
     },
     "execution_count": 3,
     "metadata": {},
     "output_type": "execute_result"
    }
   ],
   "source": [
    "s[3]"
   ]
  },
  {
   "cell_type": "code",
   "execution_count": 4,
   "id": "60332973",
   "metadata": {},
   "outputs": [
    {
     "data": {
      "text/plain": [
       "'h'"
      ]
     },
     "execution_count": 4,
     "metadata": {},
     "output_type": "execute_result"
    }
   ],
   "source": [
    "s[-3]"
   ]
  },
  {
   "cell_type": "code",
   "execution_count": 5,
   "id": "d1167abe",
   "metadata": {},
   "outputs": [],
   "source": [
    "s2 = \"this is my very first programming class\""
   ]
  },
  {
   "cell_type": "code",
   "execution_count": 6,
   "id": "32a4adac",
   "metadata": {},
   "outputs": [
    {
     "data": {
      "text/plain": [
       "'this is my very first programming class'"
      ]
     },
     "execution_count": 6,
     "metadata": {},
     "output_type": "execute_result"
    }
   ],
   "source": [
    "s2"
   ]
  },
  {
   "cell_type": "code",
   "execution_count": 7,
   "id": "e88a2e6e",
   "metadata": {},
   "outputs": [],
   "source": [
    "s3 = \"this is my very first programming class's\""
   ]
  },
  {
   "cell_type": "code",
   "execution_count": 8,
   "id": "223a39c3",
   "metadata": {},
   "outputs": [
    {
     "data": {
      "text/plain": [
       "\"this is my very first programming class's\""
      ]
     },
     "execution_count": 8,
     "metadata": {},
     "output_type": "execute_result"
    }
   ],
   "source": [
    "s3"
   ]
  },
  {
   "cell_type": "code",
   "execution_count": 9,
   "id": "63fb6f29",
   "metadata": {},
   "outputs": [
    {
     "data": {
      "text/plain": [
       "'s'"
      ]
     },
     "execution_count": 9,
     "metadata": {},
     "output_type": "execute_result"
    }
   ],
   "source": [
    "s3[6]"
   ]
  },
  {
   "cell_type": "code",
   "execution_count": 10,
   "id": "50526cca",
   "metadata": {},
   "outputs": [
    {
     "data": {
      "text/plain": [
       "'his '"
      ]
     },
     "execution_count": 10,
     "metadata": {},
     "output_type": "execute_result"
    }
   ],
   "source": [
    "s3[1:5]"
   ]
  },
  {
   "cell_type": "code",
   "execution_count": 11,
   "id": "5e321e5a",
   "metadata": {},
   "outputs": [
    {
     "ename": "SyntaxError",
     "evalue": "invalid syntax (4235106985.py, line 1)",
     "output_type": "error",
     "traceback": [
      "\u001b[1;36m  Input \u001b[1;32mIn [11]\u001b[1;36m\u001b[0m\n\u001b[1;33m    s3[1;10]\u001b[0m\n\u001b[1;37m        ^\u001b[0m\n\u001b[1;31mSyntaxError\u001b[0m\u001b[1;31m:\u001b[0m invalid syntax\n"
     ]
    }
   ],
   "source": [
    "s3[1;10]"
   ]
  },
  {
   "cell_type": "code",
   "execution_count": 12,
   "id": "a7a5c422",
   "metadata": {},
   "outputs": [
    {
     "data": {
      "text/plain": [
       "\"this is my very first programming class's\""
      ]
     },
     "execution_count": 12,
     "metadata": {},
     "output_type": "execute_result"
    }
   ],
   "source": [
    "s3"
   ]
  },
  {
   "cell_type": "code",
   "execution_count": 13,
   "id": "7e5a1774",
   "metadata": {},
   "outputs": [
    {
     "data": {
      "text/plain": [
       "'his is my ver'"
      ]
     },
     "execution_count": 13,
     "metadata": {},
     "output_type": "execute_result"
    }
   ],
   "source": [
    "s3[1:14]"
   ]
  },
  {
   "cell_type": "code",
   "execution_count": 14,
   "id": "e1423fe1",
   "metadata": {},
   "outputs": [
    {
     "data": {
      "text/plain": [
       "'sm eyfrtporm'"
      ]
     },
     "execution_count": 14,
     "metadata": {},
     "output_type": "execute_result"
    }
   ],
   "source": [
    "s3[6:30:2]"
   ]
  },
  {
   "cell_type": "code",
   "execution_count": 15,
   "id": "06a677e2",
   "metadata": {},
   "outputs": [
    {
     "ename": "SyntaxError",
     "evalue": "invalid syntax (1442810774.py, line 1)",
     "output_type": "error",
     "traceback": [
      "\u001b[1;36m  Input \u001b[1;32mIn [15]\u001b[1;36m\u001b[0m\n\u001b[1;33m    | s3 = \"\"this is my very first programming class\u001b[0m\n\u001b[1;37m    ^\u001b[0m\n\u001b[1;31mSyntaxError\u001b[0m\u001b[1;31m:\u001b[0m invalid syntax\n"
     ]
    }
   ],
   "source": [
    "| s3 = \"\"this is my very first programming class"
   ]
  },
  {
   "cell_type": "code",
   "execution_count": 16,
   "id": "113946ce",
   "metadata": {},
   "outputs": [
    {
     "data": {
      "text/plain": [
       "\"this is my very first programming class's\""
      ]
     },
     "execution_count": 16,
     "metadata": {},
     "output_type": "execute_result"
    }
   ],
   "source": [
    "s3"
   ]
  },
  {
   "cell_type": "code",
   "execution_count": 17,
   "id": "486107b9",
   "metadata": {},
   "outputs": [
    {
     "data": {
      "text/plain": [
       "'s'"
      ]
     },
     "execution_count": 17,
     "metadata": {},
     "output_type": "execute_result"
    }
   ],
   "source": [
    "s3[3:5:9]"
   ]
  },
  {
   "cell_type": "code",
   "execution_count": 18,
   "id": "757be0ea",
   "metadata": {},
   "outputs": [],
   "source": [
    "s4 = \"ineuron\""
   ]
  },
  {
   "cell_type": "code",
   "execution_count": 19,
   "id": "fb89142f",
   "metadata": {},
   "outputs": [
    {
     "data": {
      "text/plain": [
       "'ineuron'"
      ]
     },
     "execution_count": 19,
     "metadata": {},
     "output_type": "execute_result"
    }
   ],
   "source": [
    "s4"
   ]
  },
  {
   "cell_type": "code",
   "execution_count": 20,
   "id": "4d5e55b8",
   "metadata": {},
   "outputs": [
    {
     "data": {
      "text/plain": [
       "'ineur'"
      ]
     },
     "execution_count": 20,
     "metadata": {},
     "output_type": "execute_result"
    }
   ],
   "source": [
    "s4[-7:-2:1]"
   ]
  },
  {
   "cell_type": "code",
   "execution_count": 21,
   "id": "2ad18726",
   "metadata": {},
   "outputs": [
    {
     "name": "stdout",
     "output_type": "stream",
     "text": [
      "\f",
      "\n"
     ]
    }
   ],
   "source": [
    "clear"
   ]
  },
  {
   "cell_type": "code",
   "execution_count": 22,
   "id": "fb20c1d5",
   "metadata": {},
   "outputs": [
    {
     "data": {
      "text/plain": [
       "'ineuron'"
      ]
     },
     "execution_count": 22,
     "metadata": {},
     "output_type": "execute_result"
    }
   ],
   "source": [
    "s4"
   ]
  },
  {
   "cell_type": "code",
   "execution_count": 23,
   "id": "62bde8b9",
   "metadata": {},
   "outputs": [
    {
     "data": {
      "text/plain": [
       "'neur'"
      ]
     },
     "execution_count": 23,
     "metadata": {},
     "output_type": "execute_result"
    }
   ],
   "source": [
    "s4[1:5]"
   ]
  },
  {
   "cell_type": "code",
   "execution_count": 24,
   "id": "16d33a48",
   "metadata": {},
   "outputs": [],
   "source": [
    "s5=\"i love coding\""
   ]
  },
  {
   "cell_type": "code",
   "execution_count": 25,
   "id": "022bf00c",
   "metadata": {},
   "outputs": [
    {
     "data": {
      "text/plain": [
       "'i love coding'"
      ]
     },
     "execution_count": 25,
     "metadata": {},
     "output_type": "execute_result"
    }
   ],
   "source": [
    "s5"
   ]
  },
  {
   "cell_type": "code",
   "execution_count": 26,
   "id": "97a9b95d",
   "metadata": {},
   "outputs": [
    {
     "data": {
      "text/plain": [
       "' love co'"
      ]
     },
     "execution_count": 26,
     "metadata": {},
     "output_type": "execute_result"
    }
   ],
   "source": [
    "s5[1:9]"
   ]
  },
  {
   "cell_type": "code",
   "execution_count": 27,
   "id": "14157501",
   "metadata": {},
   "outputs": [],
   "source": [
    "s6 = \"i loving coding and implimenting\""
   ]
  },
  {
   "cell_type": "code",
   "execution_count": 28,
   "id": "467eca13",
   "metadata": {},
   "outputs": [
    {
     "data": {
      "text/plain": [
       "'i loving coding and implimenting'"
      ]
     },
     "execution_count": 28,
     "metadata": {},
     "output_type": "execute_result"
    }
   ],
   "source": [
    "s6"
   ]
  },
  {
   "cell_type": "code",
   "execution_count": 29,
   "id": "4c815e2a",
   "metadata": {},
   "outputs": [
    {
     "data": {
      "text/plain": [
       "'ng coding and implimenti'"
      ]
     },
     "execution_count": 29,
     "metadata": {},
     "output_type": "execute_result"
    }
   ],
   "source": [
    "s6[6:30]"
   ]
  },
  {
   "cell_type": "code",
   "execution_count": 30,
   "id": "67462cb5",
   "metadata": {},
   "outputs": [
    {
     "data": {
      "text/plain": [
       "'n oigadipiet'"
      ]
     },
     "execution_count": 30,
     "metadata": {},
     "output_type": "execute_result"
    }
   ],
   "source": [
    "s6[6:30:2]"
   ]
  },
  {
   "cell_type": "code",
   "execution_count": 31,
   "id": "b8e30aa8",
   "metadata": {},
   "outputs": [],
   "source": [
    "s7 = \"hare krishna hare rama\""
   ]
  },
  {
   "cell_type": "code",
   "execution_count": 32,
   "id": "7e9581b8",
   "metadata": {},
   "outputs": [
    {
     "data": {
      "text/plain": [
       "'hare krishna hare rama'"
      ]
     },
     "execution_count": 32,
     "metadata": {},
     "output_type": "execute_result"
    }
   ],
   "source": [
    "s7"
   ]
  },
  {
   "cell_type": "code",
   "execution_count": 33,
   "id": "aeafebdf",
   "metadata": {},
   "outputs": [
    {
     "data": {
      "text/plain": [
       "'rksaa '"
      ]
     },
     "execution_count": 33,
     "metadata": {},
     "output_type": "execute_result"
    }
   ],
   "source": [
    "s7[2:20:3]"
   ]
  },
  {
   "cell_type": "code",
   "execution_count": 34,
   "id": "9874141e",
   "metadata": {},
   "outputs": [
    {
     "data": {
      "text/plain": [
       "'rk'"
      ]
     },
     "execution_count": 34,
     "metadata": {},
     "output_type": "execute_result"
    }
   ],
   "source": [
    "s7[2:8:3]"
   ]
  },
  {
   "cell_type": "code",
   "execution_count": 35,
   "id": "f45c8b45",
   "metadata": {},
   "outputs": [],
   "source": [
    "s9=\"rama\""
   ]
  },
  {
   "cell_type": "code",
   "execution_count": 36,
   "id": "a4606825",
   "metadata": {},
   "outputs": [
    {
     "data": {
      "text/plain": [
       "'m'"
      ]
     },
     "execution_count": 36,
     "metadata": {},
     "output_type": "execute_result"
    }
   ],
   "source": [
    "s9[2:3:2]"
   ]
  },
  {
   "cell_type": "code",
   "execution_count": null,
   "id": "d330b09e",
   "metadata": {},
   "outputs": [],
   "source": []
  }
 ],
 "metadata": {
  "kernelspec": {
   "display_name": "Python 3 (ipykernel)",
   "language": "python",
   "name": "python3"
  },
  "language_info": {
   "codemirror_mode": {
    "name": "ipython",
    "version": 3
   },
   "file_extension": ".py",
   "mimetype": "text/x-python",
   "name": "python",
   "nbconvert_exporter": "python",
   "pygments_lexer": "ipython3",
   "version": "3.9.12"
  }
 },
 "nbformat": 4,
 "nbformat_minor": 5
}
