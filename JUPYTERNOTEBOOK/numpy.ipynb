{
 "cells": [
  {
   "cell_type": "code",
   "execution_count": 1,
   "id": "2a590faf",
   "metadata": {},
   "outputs": [],
   "source": [
    "import numpy as np"
   ]
  },
  {
   "cell_type": "code",
   "execution_count": 2,
   "id": "927d58b5",
   "metadata": {},
   "outputs": [],
   "source": [
    "arry = np.array([[1,2,3,4],[1,3,4,5]])"
   ]
  },
  {
   "cell_type": "code",
   "execution_count": 3,
   "id": "e28f8a68",
   "metadata": {},
   "outputs": [
    {
     "data": {
      "text/plain": [
       "array([[1, 2, 3, 4],\n",
       "       [1, 3, 4, 5]])"
      ]
     },
     "execution_count": 3,
     "metadata": {},
     "output_type": "execute_result"
    }
   ],
   "source": [
    "arry"
   ]
  },
  {
   "cell_type": "code",
   "execution_count": 4,
   "id": "54f55248",
   "metadata": {},
   "outputs": [],
   "source": [
    "l  = [1,2,3,4,5,6]"
   ]
  },
  {
   "cell_type": "code",
   "execution_count": 5,
   "id": "3a87ae88",
   "metadata": {},
   "outputs": [
    {
     "data": {
      "text/plain": [
       "[1, 2, 3, 4, 5, 6]"
      ]
     },
     "execution_count": 5,
     "metadata": {},
     "output_type": "execute_result"
    }
   ],
   "source": [
    "l"
   ]
  },
  {
   "cell_type": "code",
   "execution_count": 6,
   "id": "c18f69d9",
   "metadata": {},
   "outputs": [],
   "source": [
    "l1 = [1,3,4,5,6,7,8,'naveen',56.8]"
   ]
  },
  {
   "cell_type": "code",
   "execution_count": 7,
   "id": "978a9e96",
   "metadata": {},
   "outputs": [
    {
     "data": {
      "text/plain": [
       "[1, 3, 4, 5, 6, 7, 8, 'naveen', 56.8]"
      ]
     },
     "execution_count": 7,
     "metadata": {},
     "output_type": "execute_result"
    }
   ],
   "source": [
    "l1"
   ]
  },
  {
   "cell_type": "code",
   "execution_count": 8,
   "id": "2592e23f",
   "metadata": {},
   "outputs": [
    {
     "data": {
      "text/plain": [
       "array(['1', '3', '4', '5', '6', '7', '8', 'naveen', '56.8'], dtype='<U32')"
      ]
     },
     "execution_count": 8,
     "metadata": {},
     "output_type": "execute_result"
    }
   ],
   "source": [
    "np.array(l1)"
   ]
  },
  {
   "cell_type": "code",
   "execution_count": 9,
   "id": "146a11f2",
   "metadata": {},
   "outputs": [
    {
     "data": {
      "text/plain": [
       "array([[1, 2, 3],\n",
       "       [4, 5, 6]])"
      ]
     },
     "execution_count": 9,
     "metadata": {},
     "output_type": "execute_result"
    }
   ],
   "source": [
    "np.array([[1,2,3],[4,5,6]])"
   ]
  },
  {
   "cell_type": "code",
   "execution_count": 10,
   "id": "94067dfd",
   "metadata": {},
   "outputs": [
    {
     "data": {
      "text/plain": [
       "array([[[ 1,  2,  3,  4],\n",
       "        [ 5,  3,  2,  4],\n",
       "        [ 3,  4, 53,  5]]])"
      ]
     },
     "execution_count": 10,
     "metadata": {},
     "output_type": "execute_result"
    }
   ],
   "source": [
    "np.array([[[1,2,3,4],[5,3,2,4],[3,4,53,5]]])"
   ]
  },
  {
   "cell_type": "code",
   "execution_count": 11,
   "id": "d6389fc2",
   "metadata": {},
   "outputs": [],
   "source": [
    "a1 = np.array(l1)"
   ]
  },
  {
   "cell_type": "code",
   "execution_count": 12,
   "id": "4bb57f45",
   "metadata": {},
   "outputs": [],
   "source": [
    "a2 = np.array([[1,2,3],[4,5,6]])"
   ]
  },
  {
   "cell_type": "code",
   "execution_count": 13,
   "id": "8619614e",
   "metadata": {},
   "outputs": [],
   "source": [
    "a3 = np.array([[[1,2,3,4],[5,3,2,4],[3,4,53,5]]])"
   ]
  },
  {
   "cell_type": "code",
   "execution_count": 14,
   "id": "2643ea48",
   "metadata": {},
   "outputs": [
    {
     "data": {
      "text/plain": [
       "array(['1', '3', '4', '5', '6', '7', '8', 'naveen', '56.8'], dtype='<U32')"
      ]
     },
     "execution_count": 14,
     "metadata": {},
     "output_type": "execute_result"
    }
   ],
   "source": [
    "a1"
   ]
  },
  {
   "cell_type": "code",
   "execution_count": 15,
   "id": "6abe5304",
   "metadata": {},
   "outputs": [
    {
     "data": {
      "text/plain": [
       "array([[1, 2, 3],\n",
       "       [4, 5, 6]])"
      ]
     },
     "execution_count": 15,
     "metadata": {},
     "output_type": "execute_result"
    }
   ],
   "source": [
    "a2"
   ]
  },
  {
   "cell_type": "code",
   "execution_count": 16,
   "id": "906680d4",
   "metadata": {},
   "outputs": [
    {
     "data": {
      "text/plain": [
       "array([[[ 1,  2,  3,  4],\n",
       "        [ 5,  3,  2,  4],\n",
       "        [ 3,  4, 53,  5]]])"
      ]
     },
     "execution_count": 16,
     "metadata": {},
     "output_type": "execute_result"
    }
   ],
   "source": [
    "a3"
   ]
  },
  {
   "cell_type": "markdown",
   "id": "db0c59c6",
   "metadata": {},
   "source": [
    "# ndim means dimenstiond"
   ]
  },
  {
   "cell_type": "code",
   "execution_count": 17,
   "id": "59f3b113",
   "metadata": {},
   "outputs": [
    {
     "data": {
      "text/plain": [
       "1"
      ]
     },
     "execution_count": 17,
     "metadata": {},
     "output_type": "execute_result"
    }
   ],
   "source": [
    "\n",
    "a1.ndim"
   ]
  },
  {
   "cell_type": "code",
   "execution_count": 18,
   "id": "ca01907d",
   "metadata": {},
   "outputs": [
    {
     "data": {
      "text/plain": [
       "2"
      ]
     },
     "execution_count": 18,
     "metadata": {},
     "output_type": "execute_result"
    }
   ],
   "source": [
    "\n",
    "a2.ndim"
   ]
  },
  {
   "cell_type": "code",
   "execution_count": 19,
   "id": "4e8635a8",
   "metadata": {},
   "outputs": [
    {
     "data": {
      "text/plain": [
       "3"
      ]
     },
     "execution_count": 19,
     "metadata": {},
     "output_type": "execute_result"
    }
   ],
   "source": [
    "a3.ndim"
   ]
  },
  {
   "cell_type": "code",
   "execution_count": 20,
   "id": "618a5724",
   "metadata": {},
   "outputs": [
    {
     "data": {
      "text/plain": [
       "array([[1, 2, 3],\n",
       "       [4, 5, 6]])"
      ]
     },
     "execution_count": 20,
     "metadata": {},
     "output_type": "execute_result"
    }
   ],
   "source": [
    "a2"
   ]
  },
  {
   "cell_type": "markdown",
   "id": "409bda08",
   "metadata": {},
   "source": [
    "# size"
   ]
  },
  {
   "cell_type": "code",
   "execution_count": 21,
   "id": "99540dc0",
   "metadata": {},
   "outputs": [
    {
     "data": {
      "text/plain": [
       "9"
      ]
     },
     "execution_count": 21,
     "metadata": {},
     "output_type": "execute_result"
    }
   ],
   "source": [
    "a1.size"
   ]
  },
  {
   "cell_type": "code",
   "execution_count": 22,
   "id": "5d0078ea",
   "metadata": {},
   "outputs": [
    {
     "data": {
      "text/plain": [
       "6"
      ]
     },
     "execution_count": 22,
     "metadata": {},
     "output_type": "execute_result"
    }
   ],
   "source": [
    "a2.size"
   ]
  },
  {
   "cell_type": "code",
   "execution_count": 23,
   "id": "85b26fe9",
   "metadata": {},
   "outputs": [
    {
     "data": {
      "text/plain": [
       "12"
      ]
     },
     "execution_count": 23,
     "metadata": {},
     "output_type": "execute_result"
    }
   ],
   "source": [
    "a3.size"
   ]
  },
  {
   "cell_type": "code",
   "execution_count": 24,
   "id": "5f829c5d",
   "metadata": {},
   "outputs": [
    {
     "data": {
      "text/plain": [
       "(9,)"
      ]
     },
     "execution_count": 24,
     "metadata": {},
     "output_type": "execute_result"
    }
   ],
   "source": [
    "a1.shape"
   ]
  },
  {
   "cell_type": "code",
   "execution_count": 25,
   "id": "cfa13b90",
   "metadata": {},
   "outputs": [
    {
     "data": {
      "text/plain": [
       "(2, 3)"
      ]
     },
     "execution_count": 25,
     "metadata": {},
     "output_type": "execute_result"
    }
   ],
   "source": [
    "a2.shape"
   ]
  },
  {
   "cell_type": "code",
   "execution_count": 26,
   "id": "50ef0806",
   "metadata": {},
   "outputs": [
    {
     "data": {
      "text/plain": [
       "(1, 3, 4)"
      ]
     },
     "execution_count": 26,
     "metadata": {},
     "output_type": "execute_result"
    }
   ],
   "source": [
    "a3.shape"
   ]
  },
  {
   "cell_type": "code",
   "execution_count": 27,
   "id": "59e40764",
   "metadata": {},
   "outputs": [
    {
     "data": {
      "text/plain": [
       "array([[[ 1,  2,  3,  4],\n",
       "        [ 5,  3,  2,  4],\n",
       "        [ 3,  4, 53,  5]]])"
      ]
     },
     "execution_count": 27,
     "metadata": {},
     "output_type": "execute_result"
    }
   ],
   "source": [
    "a3"
   ]
  },
  {
   "cell_type": "markdown",
   "id": "0b299fad",
   "metadata": {},
   "source": [
    "# random.randint, random.rand, random.randn\n",
    "### random.randint :-means it genetate the random int from 2 to 5\n",
    "### random.rand :-\n",
    "### random.randn :-"
   ]
  },
  {
   "cell_type": "code",
   "execution_count": 28,
   "id": "29033317",
   "metadata": {},
   "outputs": [
    {
     "data": {
      "text/plain": [
       "3"
      ]
     },
     "execution_count": 28,
     "metadata": {},
     "output_type": "execute_result"
    }
   ],
   "source": [
    "np.random.randint(2,5)"
   ]
  },
  {
   "cell_type": "code",
   "execution_count": 29,
   "id": "3587d00f",
   "metadata": {},
   "outputs": [
    {
     "data": {
      "text/plain": [
       "array([[[ 7, 43, 45, 17],\n",
       "        [29, 26, 47, 47],\n",
       "        [ 5, 26, 17,  9]],\n",
       "\n",
       "       [[10, 21, 22, 18],\n",
       "        [42, 30, 39,  7],\n",
       "        [28, 19, 20, 42]]])"
      ]
     },
     "execution_count": 29,
     "metadata": {},
     "output_type": "execute_result"
    }
   ],
   "source": [
    "np.random.randint(2,50,(2,3,4))"
   ]
  },
  {
   "cell_type": "code",
   "execution_count": 30,
   "id": "c88201da",
   "metadata": {},
   "outputs": [
    {
     "data": {
      "text/plain": [
       "array([[0.30684231, 0.31981115, 0.29089327],\n",
       "       [0.93399324, 0.46280068, 0.56538886]])"
      ]
     },
     "execution_count": 30,
     "metadata": {},
     "output_type": "execute_result"
    }
   ],
   "source": [
    "np.random.rand(2,3)"
   ]
  },
  {
   "cell_type": "code",
   "execution_count": 31,
   "id": "6fbafc5c",
   "metadata": {},
   "outputs": [
    {
     "data": {
      "text/plain": [
       "array([[ 0.03367514, -0.76651118,  1.24128073],\n",
       "       [ 1.22580374, -2.05083628,  0.14312809],\n",
       "       [-0.80366831, -0.64154823, -0.20962986],\n",
       "       [ 0.27973657,  0.63104106,  1.06581855]])"
      ]
     },
     "execution_count": 31,
     "metadata": {},
     "output_type": "execute_result"
    }
   ],
   "source": [
    "np.random.randn(4,3)"
   ]
  },
  {
   "cell_type": "code",
   "execution_count": 32,
   "id": "e14e5841",
   "metadata": {},
   "outputs": [],
   "source": [
    "a4 = np.random.rand(4,4) # here value is 4x4 is 16\n",
    "                         # here 4*4 means not into we read as 4 cross 4 "
   ]
  },
  {
   "cell_type": "code",
   "execution_count": 33,
   "id": "1c3d75a4",
   "metadata": {},
   "outputs": [
    {
     "data": {
      "text/plain": [
       "array([[0.71423623, 0.21809696, 0.23485649, 0.20492234],\n",
       "       [0.90037296, 0.61617399, 0.55748325, 0.06517839],\n",
       "       [0.64939651, 0.66056868, 0.38876816, 0.03069276],\n",
       "       [0.44874993, 0.73520074, 0.03472156, 0.72160906]])"
      ]
     },
     "execution_count": 33,
     "metadata": {},
     "output_type": "execute_result"
    }
   ],
   "source": [
    "a4"
   ]
  },
  {
   "cell_type": "code",
   "execution_count": 34,
   "id": "f2f399a8",
   "metadata": {},
   "outputs": [
    {
     "ename": "ValueError",
     "evalue": "cannot reshape array of size 16 into shape (3,4)",
     "output_type": "error",
     "traceback": [
      "\u001b[1;31m---------------------------------------------------------------------------\u001b[0m",
      "\u001b[1;31mValueError\u001b[0m                                Traceback (most recent call last)",
      "\u001b[1;32m~\\AppData\\Local\\Temp\\ipykernel_2412\\3296475373.py\u001b[0m in \u001b[0;36m<module>\u001b[1;34m\u001b[0m\n\u001b[1;32m----> 1\u001b[1;33m \u001b[0ma4\u001b[0m\u001b[1;33m.\u001b[0m\u001b[0mreshape\u001b[0m\u001b[1;33m(\u001b[0m\u001b[1;36m3\u001b[0m\u001b[1;33m,\u001b[0m\u001b[1;36m4\u001b[0m\u001b[1;33m)\u001b[0m \u001b[1;31m# here the values are 3x3 (3 cross 4) 12\u001b[0m\u001b[1;33m\u001b[0m\u001b[1;33m\u001b[0m\u001b[0m\n\u001b[0m\u001b[0;32m      2\u001b[0m                 \u001b[1;31m# here 3x4 is not equal to 4x3 because\u001b[0m\u001b[1;33m\u001b[0m\u001b[1;33m\u001b[0m\u001b[0m\n\u001b[0;32m      3\u001b[0m                 \u001b[1;31m# 3x4 means 3 rows and 4 columns\u001b[0m\u001b[1;33m\u001b[0m\u001b[1;33m\u001b[0m\u001b[0m\n\u001b[0;32m      4\u001b[0m                 \u001b[1;31m# where as 4x3 means 4 rows and 3 columns\u001b[0m\u001b[1;33m\u001b[0m\u001b[1;33m\u001b[0m\u001b[0m\n",
      "\u001b[1;31mValueError\u001b[0m: cannot reshape array of size 16 into shape (3,4)"
     ]
    }
   ],
   "source": [
    "a4.reshape(3,4) # here the values are 3x3 (3 cross 4) 12\n",
    "                # here 3x4 is not equal to 4x3 because \n",
    "                # 3x4 means 3 rows and 4 columns\n",
    "                # where as 4x3 means 4 rows and 3 columns"
   ]
  },
  {
   "cell_type": "code",
   "execution_count": 35,
   "id": "f0033dd5",
   "metadata": {},
   "outputs": [
    {
     "data": {
      "text/plain": [
       "array([[0.71423623, 0.21809696, 0.23485649, 0.20492234, 0.90037296,\n",
       "        0.61617399, 0.55748325, 0.06517839],\n",
       "       [0.64939651, 0.66056868, 0.38876816, 0.03069276, 0.44874993,\n",
       "        0.73520074, 0.03472156, 0.72160906]])"
      ]
     },
     "execution_count": 35,
     "metadata": {},
     "output_type": "execute_result"
    }
   ],
   "source": [
    "a4.reshape(2,8) "
   ]
  },
  {
   "cell_type": "code",
   "execution_count": 36,
   "id": "696288eb",
   "metadata": {},
   "outputs": [
    {
     "data": {
      "text/plain": [
       "array([[0.71423623, 0.21809696],\n",
       "       [0.23485649, 0.20492234],\n",
       "       [0.90037296, 0.61617399],\n",
       "       [0.55748325, 0.06517839],\n",
       "       [0.64939651, 0.66056868],\n",
       "       [0.38876816, 0.03069276],\n",
       "       [0.44874993, 0.73520074],\n",
       "       [0.03472156, 0.72160906]])"
      ]
     },
     "execution_count": 36,
     "metadata": {},
     "output_type": "execute_result"
    }
   ],
   "source": [
    "a4.reshape(8,2) "
   ]
  },
  {
   "cell_type": "code",
   "execution_count": 37,
   "id": "b7ee7605",
   "metadata": {},
   "outputs": [
    {
     "data": {
      "text/plain": [
       "array([[0.71423623],\n",
       "       [0.21809696],\n",
       "       [0.23485649],\n",
       "       [0.20492234],\n",
       "       [0.90037296],\n",
       "       [0.61617399],\n",
       "       [0.55748325],\n",
       "       [0.06517839],\n",
       "       [0.64939651],\n",
       "       [0.66056868],\n",
       "       [0.38876816],\n",
       "       [0.03069276],\n",
       "       [0.44874993],\n",
       "       [0.73520074],\n",
       "       [0.03472156],\n",
       "       [0.72160906]])"
      ]
     },
     "execution_count": 37,
     "metadata": {},
     "output_type": "execute_result"
    }
   ],
   "source": [
    "a4.reshape(16,1) "
   ]
  },
  {
   "cell_type": "code",
   "execution_count": 38,
   "id": "2777ead3",
   "metadata": {},
   "outputs": [
    {
     "data": {
      "text/plain": [
       "array([[0.71423623, 0.21809696, 0.23485649, 0.20492234, 0.90037296,\n",
       "        0.61617399, 0.55748325, 0.06517839],\n",
       "       [0.64939651, 0.66056868, 0.38876816, 0.03069276, 0.44874993,\n",
       "        0.73520074, 0.03472156, 0.72160906]])"
      ]
     },
     "execution_count": 38,
     "metadata": {},
     "output_type": "execute_result"
    }
   ],
   "source": [
    "a4.reshape(2,-1) # 2X-1 means that automatically the numpy can detect what is the factorial or what is the shape and what is the number\n",
    "                 # Then automatically the numpy will give you the shape or array\n",
    "# we cannot just leave writing (2,) and leave in this case it will give an error\n",
    "# we can write any negative number not only -1, we can give any number\n",
    "# we can give any number of numbers no problem\n",
    "# but we are using a4, so a4 total value is [a4 = np.random.rand(4,4)] 4x4 = 16\n",
    "# it should not excide the factorial of 16 we can give 16X1 or 8X2....etc and negative values as well like  (2,2,-4), (2,1,2,1,-4)"
   ]
  },
  {
   "cell_type": "code",
   "execution_count": 39,
   "id": "1952b474",
   "metadata": {},
   "outputs": [
    {
     "data": {
      "text/plain": [
       "array([[[0.71423623, 0.21809696, 0.23485649, 0.20492234],\n",
       "        [0.90037296, 0.61617399, 0.55748325, 0.06517839]],\n",
       "\n",
       "       [[0.64939651, 0.66056868, 0.38876816, 0.03069276],\n",
       "        [0.44874993, 0.73520074, 0.03472156, 0.72160906]]])"
      ]
     },
     "execution_count": 39,
     "metadata": {},
     "output_type": "execute_result"
    }
   ],
   "source": [
    "a4.reshape(2,2,-4)"
   ]
  },
  {
   "cell_type": "code",
   "execution_count": 40,
   "id": "f23260f1",
   "metadata": {},
   "outputs": [
    {
     "data": {
      "text/plain": [
       "array([[[[[0.71423623, 0.21809696, 0.23485649, 0.20492234]],\n",
       "\n",
       "         [[0.90037296, 0.61617399, 0.55748325, 0.06517839]]]],\n",
       "\n",
       "\n",
       "\n",
       "       [[[[0.64939651, 0.66056868, 0.38876816, 0.03069276]],\n",
       "\n",
       "         [[0.44874993, 0.73520074, 0.03472156, 0.72160906]]]]])"
      ]
     },
     "execution_count": 40,
     "metadata": {},
     "output_type": "execute_result"
    }
   ],
   "source": [
    "a4.reshape(2,1,2,1,-4)"
   ]
  },
  {
   "cell_type": "code",
   "execution_count": 41,
   "id": "bf0e374d",
   "metadata": {},
   "outputs": [],
   "source": [
    "# There are more than 2000+ functions are avaliable in numpy \n",
    "# but mostly we use 10 to 20 functions in numpy and randint,rand,randn,reshape...etc are some of the most  used functions"
   ]
  },
  {
   "cell_type": "code",
   "execution_count": 42,
   "id": "96798ddc",
   "metadata": {},
   "outputs": [
    {
     "data": {
      "text/plain": [
       "array(['1', '3', '4', '5', '6', '7', '8', 'naveen', '56.8'], dtype='<U32')"
      ]
     },
     "execution_count": 42,
     "metadata": {},
     "output_type": "execute_result"
    }
   ],
   "source": [
    "a1"
   ]
  },
  {
   "cell_type": "code",
   "execution_count": 43,
   "id": "e4c175c1",
   "metadata": {},
   "outputs": [
    {
     "data": {
      "text/plain": [
       "'1'"
      ]
     },
     "execution_count": 43,
     "metadata": {},
     "output_type": "execute_result"
    }
   ],
   "source": [
    "a1[0]"
   ]
  },
  {
   "cell_type": "code",
   "execution_count": 44,
   "id": "1e06c753",
   "metadata": {},
   "outputs": [
    {
     "data": {
      "text/plain": [
       "array(['4', '5', '6', '7'], dtype='<U32')"
      ]
     },
     "execution_count": 44,
     "metadata": {},
     "output_type": "execute_result"
    }
   ],
   "source": [
    "a1[2:6] # list slicing operations"
   ]
  },
  {
   "cell_type": "code",
   "execution_count": 45,
   "id": "2a07525a",
   "metadata": {},
   "outputs": [
    {
     "data": {
      "text/plain": [
       "array(['56.8', 'naveen', '8', '7', '6', '5', '4', '3', '1'], dtype='<U32')"
      ]
     },
     "execution_count": 45,
     "metadata": {},
     "output_type": "execute_result"
    }
   ],
   "source": [
    "a1[::-1]"
   ]
  },
  {
   "cell_type": "code",
   "execution_count": 46,
   "id": "a5cc094d",
   "metadata": {},
   "outputs": [
    {
     "data": {
      "text/plain": [
       "array(['4', '6'], dtype='<U32')"
      ]
     },
     "execution_count": 46,
     "metadata": {},
     "output_type": "execute_result"
    }
   ],
   "source": [
    "a1[2:6:2]"
   ]
  },
  {
   "cell_type": "code",
   "execution_count": 47,
   "id": "67065129",
   "metadata": {},
   "outputs": [
    {
     "data": {
      "text/plain": [
       "array(['56.8', 'naveen', '8', '7', '6', '5', '4', '3', '1'], dtype='<U32')"
      ]
     },
     "execution_count": 47,
     "metadata": {},
     "output_type": "execute_result"
    }
   ],
   "source": [
    "a1[::-1]"
   ]
  },
  {
   "cell_type": "code",
   "execution_count": 48,
   "id": "0fb82e86",
   "metadata": {},
   "outputs": [
    {
     "data": {
      "text/plain": [
       "array([[[ 1,  2,  3,  4],\n",
       "        [ 5,  3,  2,  4],\n",
       "        [ 3,  4, 53,  5]]])"
      ]
     },
     "execution_count": 48,
     "metadata": {},
     "output_type": "execute_result"
    }
   ],
   "source": [
    "a3"
   ]
  },
  {
   "cell_type": "code",
   "execution_count": 49,
   "id": "a60f53b9",
   "metadata": {},
   "outputs": [
    {
     "data": {
      "text/plain": [
       "array([[1, 2, 3],\n",
       "       [4, 5, 6]])"
      ]
     },
     "execution_count": 49,
     "metadata": {},
     "output_type": "execute_result"
    }
   ],
   "source": [
    "a2"
   ]
  },
  {
   "cell_type": "code",
   "execution_count": 50,
   "id": "f7cb787a",
   "metadata": {},
   "outputs": [
    {
     "data": {
      "text/plain": [
       "array([1, 2, 3])"
      ]
     },
     "execution_count": 50,
     "metadata": {},
     "output_type": "execute_result"
    }
   ],
   "source": [
    "a2[0]"
   ]
  },
  {
   "cell_type": "code",
   "execution_count": 51,
   "id": "3e2ed6a1",
   "metadata": {},
   "outputs": [
    {
     "data": {
      "text/plain": [
       "array([[1, 2, 3],\n",
       "       [4, 5, 6]])"
      ]
     },
     "execution_count": 51,
     "metadata": {},
     "output_type": "execute_result"
    }
   ],
   "source": [
    "a2"
   ]
  },
  {
   "cell_type": "code",
   "execution_count": 52,
   "id": "6e9e6baf",
   "metadata": {},
   "outputs": [
    {
     "data": {
      "text/plain": [
       "array([[2, 3],\n",
       "       [5, 6]])"
      ]
     },
     "execution_count": 52,
     "metadata": {},
     "output_type": "execute_result"
    }
   ],
   "source": [
    "a2[:,1:] # which means that ==> [:,1:] :, means that start from first and give me the 1 column and ==>: means that go till end"
   ]
  },
  {
   "cell_type": "code",
   "execution_count": 53,
   "id": "aa719040",
   "metadata": {},
   "outputs": [
    {
     "data": {
      "text/plain": [
       "array([[2, 3],\n",
       "       [5, 6]])"
      ]
     },
     "execution_count": 53,
     "metadata": {},
     "output_type": "execute_result"
    }
   ],
   "source": [
    "a2[[0,1],1:]"
   ]
  },
  {
   "cell_type": "code",
   "execution_count": 54,
   "id": "fabe19c9",
   "metadata": {},
   "outputs": [
    {
     "data": {
      "text/plain": [
       "array([[2, 3],\n",
       "       [5, 6]])"
      ]
     },
     "execution_count": 54,
     "metadata": {},
     "output_type": "execute_result"
    }
   ],
   "source": [
    "a2[:,[1,2]]"
   ]
  },
  {
   "cell_type": "code",
   "execution_count": 55,
   "id": "63f54609",
   "metadata": {},
   "outputs": [
    {
     "data": {
      "text/plain": [
       "array([[7, 3, 5, 6, 2],\n",
       "       [4, 5, 7, 5, 7],\n",
       "       [2, 2, 5, 5, 3],\n",
       "       [4, 4, 5, 7, 4],\n",
       "       [5, 6, 7, 5, 4],\n",
       "       [3, 2, 2, 6, 4]])"
      ]
     },
     "execution_count": 55,
     "metadata": {},
     "output_type": "execute_result"
    }
   ],
   "source": [
    "np.random.randint(2,8,(6,5))"
   ]
  },
  {
   "cell_type": "code",
   "execution_count": 60,
   "id": "9cec2bdb",
   "metadata": {},
   "outputs": [],
   "source": [
    "a5 = np.random.randint(2,80,(6,5))"
   ]
  },
  {
   "cell_type": "code",
   "execution_count": 61,
   "id": "4cb5e4ec",
   "metadata": {},
   "outputs": [
    {
     "data": {
      "text/plain": [
       "array([[65, 39, 13, 64, 30],\n",
       "       [22, 60, 63,  6, 34],\n",
       "       [11, 19, 62, 48, 78],\n",
       "       [ 5, 14, 43, 33, 18],\n",
       "       [52, 18, 18, 23, 28],\n",
       "       [32, 20, 10, 20, 73]])"
      ]
     },
     "execution_count": 61,
     "metadata": {},
     "output_type": "execute_result"
    }
   ],
   "source": [
    "a5"
   ]
  },
  {
   "cell_type": "code",
   "execution_count": 62,
   "id": "546a4230",
   "metadata": {},
   "outputs": [
    {
     "data": {
      "text/plain": [
       "array([[65, 39, 13, 64, 30],\n",
       "       [22, 60, 63,  6, 34],\n",
       "       [11, 19, 62, 48, 78],\n",
       "       [ 5, 14, 43, 33, 18],\n",
       "       [52, 18, 18, 23, 28],\n",
       "       [32, 20, 10, 20, 73]])"
      ]
     },
     "execution_count": 62,
     "metadata": {},
     "output_type": "execute_result"
    }
   ],
   "source": [
    "a5"
   ]
  },
  {
   "cell_type": "code",
   "execution_count": 63,
   "id": "0d5058f1",
   "metadata": {},
   "outputs": [
    {
     "data": {
      "text/plain": [
       "array([65, 64, 60, 63, 62, 48, 78, 43, 52, 73])"
      ]
     },
     "execution_count": 63,
     "metadata": {},
     "output_type": "execute_result"
    }
   ],
   "source": [
    "a5[a5>40]"
   ]
  },
  {
   "cell_type": "code",
   "execution_count": 64,
   "id": "aa0a1be1",
   "metadata": {},
   "outputs": [
    {
     "data": {
      "text/plain": [
       "array([[65, 39, 13, 64, 30],\n",
       "       [22, 60, 63,  6, 34],\n",
       "       [11, 19, 62, 48, 78],\n",
       "       [ 5, 14, 43, 33, 18],\n",
       "       [52, 18, 18, 23, 28],\n",
       "       [32, 20, 10, 20, 73]])"
      ]
     },
     "execution_count": 64,
     "metadata": {},
     "output_type": "execute_result"
    }
   ],
   "source": [
    "a5"
   ]
  },
  {
   "cell_type": "code",
   "execution_count": 65,
   "id": "a72eebef",
   "metadata": {},
   "outputs": [],
   "source": [
    "a5[0,1] = 100"
   ]
  },
  {
   "cell_type": "code",
   "execution_count": 66,
   "id": "6e7cb1d8",
   "metadata": {},
   "outputs": [
    {
     "data": {
      "text/plain": [
       "array([[ 65, 100,  13,  64,  30],\n",
       "       [ 22,  60,  63,   6,  34],\n",
       "       [ 11,  19,  62,  48,  78],\n",
       "       [  5,  14,  43,  33,  18],\n",
       "       [ 52,  18,  18,  23,  28],\n",
       "       [ 32,  20,  10,  20,  73]])"
      ]
     },
     "execution_count": 66,
     "metadata": {},
     "output_type": "execute_result"
    }
   ],
   "source": [
    "a5"
   ]
  },
  {
   "cell_type": "code",
   "execution_count": 73,
   "id": "193ea596",
   "metadata": {},
   "outputs": [],
   "source": [
    "a6 = np.random.randint(0,3,(3,3))"
   ]
  },
  {
   "cell_type": "code",
   "execution_count": 74,
   "id": "762fb5f8",
   "metadata": {},
   "outputs": [
    {
     "data": {
      "text/plain": [
       "array([[2, 2, 1],\n",
       "       [2, 2, 1],\n",
       "       [2, 0, 1]])"
      ]
     },
     "execution_count": 74,
     "metadata": {},
     "output_type": "execute_result"
    }
   ],
   "source": [
    "a6"
   ]
  },
  {
   "cell_type": "code",
   "execution_count": 75,
   "id": "ae27a1e4",
   "metadata": {},
   "outputs": [],
   "source": [
    "a7 = np.random.randint(0,3,(3,3))"
   ]
  },
  {
   "cell_type": "code",
   "execution_count": 76,
   "id": "dec7d12b",
   "metadata": {},
   "outputs": [
    {
     "data": {
      "text/plain": [
       "array([[1, 1, 1],\n",
       "       [1, 1, 2],\n",
       "       [0, 2, 1]])"
      ]
     },
     "execution_count": 76,
     "metadata": {},
     "output_type": "execute_result"
    }
   ],
   "source": [
    "a7"
   ]
  },
  {
   "cell_type": "code",
   "execution_count": 77,
   "id": "1baec803",
   "metadata": {},
   "outputs": [
    {
     "data": {
      "text/plain": [
       "array([[2, 2, 1],\n",
       "       [2, 2, 2],\n",
       "       [0, 0, 1]])"
      ]
     },
     "execution_count": 77,
     "metadata": {},
     "output_type": "execute_result"
    }
   ],
   "source": [
    "a6*a7 # this is know as element wise multiplication"
   ]
  },
  {
   "cell_type": "markdown",
   "id": "39a88da4",
   "metadata": {},
   "source": [
    " # @ is used to perform matrix maltipication operations in numpy  "
   ]
  },
  {
   "cell_type": "code",
   "execution_count": 79,
   "id": "953732fd",
   "metadata": {},
   "outputs": [
    {
     "data": {
      "text/plain": [
       "array([[4, 6, 7],\n",
       "       [4, 6, 7],\n",
       "       [2, 4, 3]])"
      ]
     },
     "execution_count": 79,
     "metadata": {},
     "output_type": "execute_result"
    }
   ],
   "source": [
    "a6@a7"
   ]
  },
  {
   "cell_type": "code",
   "execution_count": 80,
   "id": "e1ce2c92",
   "metadata": {},
   "outputs": [
    {
     "data": {
      "text/plain": [
       "array([[102, 102, 101],\n",
       "       [102, 102, 101],\n",
       "       [102, 100, 101]])"
      ]
     },
     "execution_count": 80,
     "metadata": {},
     "output_type": "execute_result"
    }
   ],
   "source": [
    "a6+100"
   ]
  },
  {
   "cell_type": "code",
   "execution_count": 83,
   "id": "b913eaa8",
   "metadata": {},
   "outputs": [
    {
     "data": {
      "text/plain": [
       "array([[4, 4, 2],\n",
       "       [4, 4, 2],\n",
       "       [4, 0, 2]])"
      ]
     },
     "execution_count": 83,
     "metadata": {},
     "output_type": "execute_result"
    }
   ],
   "source": [
    "a6*2"
   ]
  },
  {
   "cell_type": "code",
   "execution_count": 84,
   "id": "b84d31bd",
   "metadata": {},
   "outputs": [
    {
     "name": "stderr",
     "output_type": "stream",
     "text": [
      "C:\\Users\\Naveen\\AppData\\Local\\Temp\\ipykernel_2412\\1058679823.py:1: RuntimeWarning: divide by zero encountered in divide\n",
      "  a6/0\n",
      "C:\\Users\\Naveen\\AppData\\Local\\Temp\\ipykernel_2412\\1058679823.py:1: RuntimeWarning: invalid value encountered in divide\n",
      "  a6/0\n"
     ]
    },
    {
     "data": {
      "text/plain": [
       "array([[inf, inf, inf],\n",
       "       [inf, inf, inf],\n",
       "       [inf, nan, inf]])"
      ]
     },
     "execution_count": 84,
     "metadata": {},
     "output_type": "execute_result"
    }
   ],
   "source": [
    "a6/0"
   ]
  },
  {
   "cell_type": "code",
   "execution_count": 85,
   "id": "ba41c539",
   "metadata": {},
   "outputs": [
    {
     "data": {
      "text/plain": [
       "array([[8, 8, 1],\n",
       "       [8, 8, 1],\n",
       "       [8, 0, 1]], dtype=int32)"
      ]
     },
     "execution_count": 85,
     "metadata": {},
     "output_type": "execute_result"
    }
   ],
   "source": [
    "a6**3 # power operations power of 3"
   ]
  },
  {
   "cell_type": "code",
   "execution_count": 87,
   "id": "acd114f5",
   "metadata": {},
   "outputs": [],
   "source": [
    "# zero operations\n",
    "a8 = np.zeros((4,4))"
   ]
  },
  {
   "cell_type": "code",
   "execution_count": 88,
   "id": "2e904e4d",
   "metadata": {},
   "outputs": [
    {
     "data": {
      "text/plain": [
       "array([[0., 0., 0., 0.],\n",
       "       [0., 0., 0., 0.],\n",
       "       [0., 0., 0., 0.],\n",
       "       [0., 0., 0., 0.]])"
      ]
     },
     "execution_count": 88,
     "metadata": {},
     "output_type": "execute_result"
    }
   ],
   "source": [
    "a8"
   ]
  },
  {
   "cell_type": "code",
   "execution_count": 90,
   "id": "1e52e783",
   "metadata": {},
   "outputs": [],
   "source": [
    "a9 = np.ones((4,5))"
   ]
  },
  {
   "cell_type": "code",
   "execution_count": 91,
   "id": "9247586e",
   "metadata": {},
   "outputs": [
    {
     "data": {
      "text/plain": [
       "array([[1., 1., 1., 1., 1.],\n",
       "       [1., 1., 1., 1., 1.],\n",
       "       [1., 1., 1., 1., 1.],\n",
       "       [1., 1., 1., 1., 1.]])"
      ]
     },
     "execution_count": 91,
     "metadata": {},
     "output_type": "execute_result"
    }
   ],
   "source": [
    "a9"
   ]
  },
  {
   "cell_type": "code",
   "execution_count": 94,
   "id": "877cd673",
   "metadata": {},
   "outputs": [
    {
     "data": {
      "text/plain": [
       "array([[2., 3., 4., 5., 6.],\n",
       "       [2., 3., 4., 5., 6.],\n",
       "       [2., 3., 4., 5., 6.],\n",
       "       [2., 3., 4., 5., 6.]])"
      ]
     },
     "execution_count": 94,
     "metadata": {},
     "output_type": "execute_result"
    }
   ],
   "source": [
    "# here it is performing row wise addidion operations\n",
    "a9 + np.array([1,2,3,4,5])"
   ]
  },
  {
   "cell_type": "code",
   "execution_count": 95,
   "id": "349030f7",
   "metadata": {},
   "outputs": [
    {
     "data": {
      "text/plain": [
       "array([[1., 1., 1., 1., 1.],\n",
       "       [1., 1., 1., 1., 1.],\n",
       "       [1., 1., 1., 1., 1.],\n",
       "       [1., 1., 1., 1., 1.]])"
      ]
     },
     "execution_count": 95,
     "metadata": {},
     "output_type": "execute_result"
    }
   ],
   "source": [
    "a9"
   ]
  },
  {
   "cell_type": "code",
   "execution_count": 97,
   "id": "94499441",
   "metadata": {},
   "outputs": [
    {
     "data": {
      "text/plain": [
       "array([[2., 3., 4., 6., 7.],\n",
       "       [2., 3., 4., 6., 7.],\n",
       "       [2., 3., 4., 6., 7.],\n",
       "       [2., 3., 4., 6., 7.]])"
      ]
     },
     "execution_count": 97,
     "metadata": {},
     "output_type": "execute_result"
    }
   ],
   "source": [
    "a9+np.array([1,2,3,5,6])"
   ]
  },
  {
   "cell_type": "code",
   "execution_count": 98,
   "id": "5e1e4db0",
   "metadata": {},
   "outputs": [
    {
     "data": {
      "text/plain": [
       "array([[1., 1., 1., 1., 1.],\n",
       "       [1., 1., 1., 1., 1.],\n",
       "       [1., 1., 1., 1., 1.],\n",
       "       [1., 1., 1., 1., 1.]])"
      ]
     },
     "execution_count": 98,
     "metadata": {},
     "output_type": "execute_result"
    }
   ],
   "source": [
    "a9"
   ]
  },
  {
   "cell_type": "code",
   "execution_count": 99,
   "id": "21fe7c1f",
   "metadata": {},
   "outputs": [
    {
     "ename": "ValueError",
     "evalue": "operands could not be broadcast together with shapes (4,5) (4,) ",
     "output_type": "error",
     "traceback": [
      "\u001b[1;31m---------------------------------------------------------------------------\u001b[0m",
      "\u001b[1;31mValueError\u001b[0m                                Traceback (most recent call last)",
      "\u001b[1;32m~\\AppData\\Local\\Temp\\ipykernel_2412\\3501677343.py\u001b[0m in \u001b[0;36m<module>\u001b[1;34m\u001b[0m\n\u001b[1;32m----> 1\u001b[1;33m \u001b[0ma9\u001b[0m\u001b[1;33m+\u001b[0m\u001b[0mnp\u001b[0m\u001b[1;33m.\u001b[0m\u001b[0marray\u001b[0m\u001b[1;33m(\u001b[0m\u001b[1;33m[\u001b[0m\u001b[1;36m1\u001b[0m\u001b[1;33m,\u001b[0m\u001b[1;36m2\u001b[0m\u001b[1;33m,\u001b[0m\u001b[1;36m3\u001b[0m\u001b[1;33m,\u001b[0m\u001b[1;36m5\u001b[0m\u001b[1;33m]\u001b[0m\u001b[1;33m)\u001b[0m\u001b[1;33m\u001b[0m\u001b[1;33m\u001b[0m\u001b[0m\n\u001b[0m",
      "\u001b[1;31mValueError\u001b[0m: operands could not be broadcast together with shapes (4,5) (4,) "
     ]
    }
   ],
   "source": [
    "# this entire opertion are known as Broadcast Operations\n",
    "a9+np.array([1,2,3,5]) # here we are getting error because we are preforming one less row operations"
   ]
  },
  {
   "cell_type": "code",
   "execution_count": 100,
   "id": "74599b23",
   "metadata": {},
   "outputs": [
    {
     "data": {
      "text/plain": [
       "array([[1., 1., 1., 1., 1.],\n",
       "       [1., 1., 1., 1., 1.],\n",
       "       [1., 1., 1., 1., 1.],\n",
       "       [1., 1., 1., 1., 1.]])"
      ]
     },
     "execution_count": 100,
     "metadata": {},
     "output_type": "execute_result"
    }
   ],
   "source": [
    "a9"
   ]
  },
  {
   "cell_type": "code",
   "execution_count": 101,
   "id": "6c13a64b",
   "metadata": {},
   "outputs": [
    {
     "data": {
      "text/plain": [
       "array([1, 2, 3, 4])"
      ]
     },
     "execution_count": 101,
     "metadata": {},
     "output_type": "execute_result"
    }
   ],
   "source": [
    "np.array([1,2,3,4])"
   ]
  },
  {
   "cell_type": "code",
   "execution_count": 102,
   "id": "36b0ff0d",
   "metadata": {},
   "outputs": [
    {
     "data": {
      "text/plain": [
       "array([1, 4, 3, 4])"
      ]
     },
     "execution_count": 102,
     "metadata": {},
     "output_type": "execute_result"
    }
   ],
   "source": [
    "np.array([1,4,3,4])"
   ]
  },
  {
   "cell_type": "code",
   "execution_count": 113,
   "id": "87cf6a80",
   "metadata": {},
   "outputs": [
    {
     "data": {
      "text/plain": [
       "array([1, 4, 3, 4])"
      ]
     },
     "execution_count": 113,
     "metadata": {},
     "output_type": "execute_result"
    }
   ],
   "source": [
    "# T stants for transpose operation \n",
    "# transpose means rotating matrix\n",
    "\n",
    "\n",
    "np.array([1,4,3,4]).T\n",
    "# we will get an error because it is one dimenstion array\n",
    "# so that the reason we are getting  an error \n",
    "# now use two brakets like [[1,2,3,4]].T This will work \n",
    "# you can see on the next line below, bottom line, line no 106\n"
   ]
  },
  {
   "cell_type": "code",
   "execution_count": 106,
   "id": "79ae1e0a",
   "metadata": {},
   "outputs": [
    {
     "data": {
      "text/plain": [
       "array([[1],\n",
       "       [4],\n",
       "       [3],\n",
       "       [4]])"
      ]
     },
     "execution_count": 106,
     "metadata": {},
     "output_type": "execute_result"
    }
   ],
   "source": [
    "np.array([[1,4,3,4]]).T"
   ]
  },
  {
   "cell_type": "code",
   "execution_count": 107,
   "id": "6c9c23e7",
   "metadata": {},
   "outputs": [
    {
     "data": {
      "text/plain": [
       "array([[2., 2., 2., 2., 2.],\n",
       "       [5., 5., 5., 5., 5.],\n",
       "       [4., 4., 4., 4., 4.],\n",
       "       [5., 5., 5., 5., 5.]])"
      ]
     },
     "execution_count": 107,
     "metadata": {},
     "output_type": "execute_result"
    }
   ],
   "source": [
    "np.array([[1,4,3,4]]).T+a9"
   ]
  },
  {
   "cell_type": "code",
   "execution_count": 108,
   "id": "b992b556",
   "metadata": {},
   "outputs": [
    {
     "data": {
      "text/plain": [
       "array([[ 65, 100,  13,  64,  30],\n",
       "       [ 22,  60,  63,   6,  34],\n",
       "       [ 11,  19,  62,  48,  78],\n",
       "       [  5,  14,  43,  33,  18],\n",
       "       [ 52,  18,  18,  23,  28],\n",
       "       [ 32,  20,  10,  20,  73]])"
      ]
     },
     "execution_count": 108,
     "metadata": {},
     "output_type": "execute_result"
    }
   ],
   "source": [
    "a5"
   ]
  },
  {
   "cell_type": "code",
   "execution_count": 109,
   "id": "7bddbdb0",
   "metadata": {},
   "outputs": [
    {
     "data": {
      "text/plain": [
       "array([[ 8.06225775, 10.        ,  3.60555128,  8.        ,  5.47722558],\n",
       "       [ 4.69041576,  7.74596669,  7.93725393,  2.44948974,  5.83095189],\n",
       "       [ 3.31662479,  4.35889894,  7.87400787,  6.92820323,  8.83176087],\n",
       "       [ 2.23606798,  3.74165739,  6.55743852,  5.74456265,  4.24264069],\n",
       "       [ 7.21110255,  4.24264069,  4.24264069,  4.79583152,  5.29150262],\n",
       "       [ 5.65685425,  4.47213595,  3.16227766,  4.47213595,  8.54400375]])"
      ]
     },
     "execution_count": 109,
     "metadata": {},
     "output_type": "execute_result"
    }
   ],
   "source": [
    "np.sqrt(a5)"
   ]
  },
  {
   "cell_type": "code",
   "execution_count": 111,
   "id": "9c81eff4",
   "metadata": {},
   "outputs": [
    {
     "data": {
      "text/plain": [
       "array([[1.69488924e+28, 2.68811714e+43, 4.42413392e+05, 6.23514908e+27,\n",
       "        1.06864746e+13],\n",
       "       [3.58491285e+09, 1.14200739e+26, 2.29378316e+27, 4.03428793e+02,\n",
       "        5.83461743e+14],\n",
       "       [5.98741417e+04, 1.78482301e+08, 8.43835667e+26, 7.01673591e+20,\n",
       "        7.49841700e+33],\n",
       "       [1.48413159e+02, 1.20260428e+06, 4.72783947e+18, 2.14643580e+14,\n",
       "        6.56599691e+07],\n",
       "       [3.83100800e+22, 6.56599691e+07, 6.56599691e+07, 9.74480345e+09,\n",
       "        1.44625706e+12],\n",
       "       [7.89629602e+13, 4.85165195e+08, 2.20264658e+04, 4.85165195e+08,\n",
       "        5.05239363e+31]])"
      ]
     },
     "execution_count": 111,
     "metadata": {},
     "output_type": "execute_result"
    }
   ],
   "source": [
    "np.exp(a5)"
   ]
  },
  {
   "cell_type": "code",
   "execution_count": 112,
   "id": "0c378931",
   "metadata": {},
   "outputs": [
    {
     "data": {
      "text/plain": [
       "array([[1.81291336, 2.        , 1.11394335, 1.80617997, 1.47712125],\n",
       "       [1.34242268, 1.77815125, 1.79934055, 0.77815125, 1.53147892],\n",
       "       [1.04139269, 1.2787536 , 1.79239169, 1.68124124, 1.8920946 ],\n",
       "       [0.69897   , 1.14612804, 1.63346846, 1.51851394, 1.25527251],\n",
       "       [1.71600334, 1.25527251, 1.25527251, 1.36172784, 1.44715803],\n",
       "       [1.50514998, 1.30103   , 1.        , 1.30103   , 1.86332286]])"
      ]
     },
     "execution_count": 112,
     "metadata": {},
     "output_type": "execute_result"
    }
   ],
   "source": [
    "np.log10(a5)"
   ]
  },
  {
   "cell_type": "code",
   "execution_count": 115,
   "id": "ab05352c",
   "metadata": {},
   "outputs": [
    {
     "ename": "TypeError",
     "evalue": "'float' object cannot be interpreted as an integer",
     "output_type": "error",
     "traceback": [
      "\u001b[1;31m---------------------------------------------------------------------------\u001b[0m",
      "\u001b[1;31mTypeError\u001b[0m                                 Traceback (most recent call last)",
      "\u001b[1;32m~\\AppData\\Local\\Temp\\ipykernel_2412\\3757807472.py\u001b[0m in \u001b[0;36m<module>\u001b[1;34m\u001b[0m\n\u001b[0;32m      1\u001b[0m \u001b[1;31m# floating point is not allowed in range function\u001b[0m\u001b[1;33m\u001b[0m\u001b[1;33m\u001b[0m\u001b[0m\n\u001b[1;32m----> 2\u001b[1;33m \u001b[0mrange\u001b[0m\u001b[1;33m(\u001b[0m\u001b[1;36m0\u001b[0m\u001b[1;33m,\u001b[0m\u001b[1;36m10\u001b[0m\u001b[1;33m,\u001b[0m\u001b[1;36m2.5\u001b[0m\u001b[1;33m)\u001b[0m\u001b[1;33m\u001b[0m\u001b[1;33m\u001b[0m\u001b[0m\n\u001b[0m",
      "\u001b[1;31mTypeError\u001b[0m: 'float' object cannot be interpreted as an integer"
     ]
    }
   ],
   "source": [
    "# floating point is not allowed in range function\n",
    "range(0,10,2.5)"
   ]
  },
  {
   "cell_type": "code",
   "execution_count": 116,
   "id": "de9f4e63",
   "metadata": {},
   "outputs": [],
   "source": [
    "# in numpy there is arange functions"
   ]
  },
  {
   "cell_type": "code",
   "execution_count": 117,
   "id": "1bf2ce84",
   "metadata": {},
   "outputs": [
    {
     "data": {
      "text/plain": [
       "array([1.5, 3.8, 6.1, 8.4])"
      ]
     },
     "execution_count": 117,
     "metadata": {},
     "output_type": "execute_result"
    }
   ],
   "source": [
    "np.arange(1.5,10.5,2.3)"
   ]
  },
  {
   "cell_type": "code",
   "execution_count": 118,
   "id": "45be3898",
   "metadata": {},
   "outputs": [
    {
     "data": {
      "text/plain": [
       "array([2.        , 2.02040816, 2.04081633, 2.06122449, 2.08163265,\n",
       "       2.10204082, 2.12244898, 2.14285714, 2.16326531, 2.18367347,\n",
       "       2.20408163, 2.2244898 , 2.24489796, 2.26530612, 2.28571429,\n",
       "       2.30612245, 2.32653061, 2.34693878, 2.36734694, 2.3877551 ,\n",
       "       2.40816327, 2.42857143, 2.44897959, 2.46938776, 2.48979592,\n",
       "       2.51020408, 2.53061224, 2.55102041, 2.57142857, 2.59183673,\n",
       "       2.6122449 , 2.63265306, 2.65306122, 2.67346939, 2.69387755,\n",
       "       2.71428571, 2.73469388, 2.75510204, 2.7755102 , 2.79591837,\n",
       "       2.81632653, 2.83673469, 2.85714286, 2.87755102, 2.89795918,\n",
       "       2.91836735, 2.93877551, 2.95918367, 2.97959184, 3.        ])"
      ]
     },
     "execution_count": 118,
     "metadata": {},
     "output_type": "execute_result"
    }
   ],
   "source": [
    "# IN a straight line here are will be infinity numbers \n",
    "# linespace helps us to locate the points in between 2 and 3\n",
    "# That the reason we are getting the points and we also gave num = 50 so the points will be upto 50\n",
    "\n",
    "np.linspace(2,3,num= 50)"
   ]
  },
  {
   "cell_type": "code",
   "execution_count": 120,
   "id": "57dd0512",
   "metadata": {},
   "outputs": [
    {
     "data": {
      "text/plain": [
       "array([2.        , 2.02040816, 2.04081633, 2.06122449, 2.08163265,\n",
       "       2.10204082, 2.12244898, 2.14285714, 2.16326531, 2.18367347,\n",
       "       2.20408163, 2.2244898 , 2.24489796, 2.26530612, 2.28571429,\n",
       "       2.30612245, 2.32653061, 2.34693878, 2.36734694, 2.3877551 ,\n",
       "       2.40816327, 2.42857143, 2.44897959, 2.46938776, 2.48979592,\n",
       "       2.51020408, 2.53061224, 2.55102041, 2.57142857, 2.59183673,\n",
       "       2.6122449 , 2.63265306, 2.65306122, 2.67346939, 2.69387755,\n",
       "       2.71428571, 2.73469388, 2.75510204, 2.7755102 , 2.79591837,\n",
       "       2.81632653, 2.83673469, 2.85714286, 2.87755102, 2.89795918,\n",
       "       2.91836735, 2.93877551, 2.95918367, 2.97959184, 3.        ])"
      ]
     },
     "execution_count": 120,
     "metadata": {},
     "output_type": "execute_result"
    }
   ],
   "source": [
    "np.linspace(2,3,num= 50)"
   ]
  },
  {
   "cell_type": "code",
   "execution_count": 124,
   "id": "0b2b46a1",
   "metadata": {},
   "outputs": [
    {
     "data": {
      "text/plain": [
       "(array([2.        , 2.02040816, 2.04081633, 2.06122449, 2.08163265,\n",
       "        2.10204082, 2.12244898, 2.14285714, 2.16326531, 2.18367347,\n",
       "        2.20408163, 2.2244898 , 2.24489796, 2.26530612, 2.28571429,\n",
       "        2.30612245, 2.32653061, 2.34693878, 2.36734694, 2.3877551 ,\n",
       "        2.40816327, 2.42857143, 2.44897959, 2.46938776, 2.48979592,\n",
       "        2.51020408, 2.53061224, 2.55102041, 2.57142857, 2.59183673,\n",
       "        2.6122449 , 2.63265306, 2.65306122, 2.67346939, 2.69387755,\n",
       "        2.71428571, 2.73469388, 2.75510204, 2.7755102 , 2.79591837,\n",
       "        2.81632653, 2.83673469, 2.85714286, 2.87755102, 2.89795918,\n",
       "        2.91836735, 2.93877551, 2.95918367, 2.97959184, 3.        ]),\n",
       " 0.02040816326530612)"
      ]
     },
     "execution_count": 124,
     "metadata": {},
     "output_type": "execute_result"
    }
   ],
   "source": [
    "# retstep means tells that the at whih level of point  is spacing or located or \n",
    "# it tells us how much point space it took to another point\n",
    "# here it took 0.02040816326530612 to take a next point location\n",
    "np.linspace(2,3,num= 50,retstep = True)"
   ]
  },
  {
   "cell_type": "code",
   "execution_count": 125,
   "id": "5b85db95",
   "metadata": {},
   "outputs": [
    {
     "data": {
      "text/plain": [
       "array([  100.        ,   464.15888336,  2154.43469003, 10000.        ])"
      ]
     },
     "execution_count": 125,
     "metadata": {},
     "output_type": "execute_result"
    }
   ],
   "source": [
    "np.logspace(2,4, num = 4, base = 10)"
   ]
  },
  {
   "cell_type": "code",
   "execution_count": 126,
   "id": "d78055de",
   "metadata": {},
   "outputs": [
    {
     "data": {
      "text/plain": [
       "array([[1., 0., 0., 0., 0., 0.],\n",
       "       [0., 1., 0., 0., 0., 0.],\n",
       "       [0., 0., 1., 0., 0., 0.],\n",
       "       [0., 0., 0., 1., 0., 0.],\n",
       "       [0., 0., 0., 0., 1., 0.],\n",
       "       [0., 0., 0., 0., 0., 1.]])"
      ]
     },
     "execution_count": 126,
     "metadata": {},
     "output_type": "execute_result"
    }
   ],
   "source": [
    "np.eye(6)"
   ]
  },
  {
   "cell_type": "code",
   "execution_count": null,
   "id": "6bb443ee",
   "metadata": {},
   "outputs": [],
   "source": []
  }
 ],
 "metadata": {
  "kernelspec": {
   "display_name": "Python 3 (ipykernel)",
   "language": "python",
   "name": "python3"
  },
  "language_info": {
   "codemirror_mode": {
    "name": "ipython",
    "version": 3
   },
   "file_extension": ".py",
   "mimetype": "text/x-python",
   "name": "python",
   "nbconvert_exporter": "python",
   "pygments_lexer": "ipython3",
   "version": "3.9.13"
  }
 },
 "nbformat": 4,
 "nbformat_minor": 5
}
