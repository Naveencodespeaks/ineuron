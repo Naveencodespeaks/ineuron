{
 "cells": [
  {
   "cell_type": "code",
   "execution_count": 1,
   "id": "838c7e05",
   "metadata": {},
   "outputs": [],
   "source": [
    "s1 = \"Hare krishna\""
   ]
  },
  {
   "cell_type": "code",
   "execution_count": 2,
   "id": "0e6d7dc6",
   "metadata": {},
   "outputs": [
    {
     "data": {
      "text/plain": [
       "'Hare krishna'"
      ]
     },
     "execution_count": 2,
     "metadata": {},
     "output_type": "execute_result"
    }
   ],
   "source": [
    "s1"
   ]
  },
  {
   "cell_type": "code",
   "execution_count": 3,
   "id": "9e77d73c",
   "metadata": {},
   "outputs": [],
   "source": [
    "s2 = \"Hare krishna Hare Rama\""
   ]
  },
  {
   "cell_type": "code",
   "execution_count": 4,
   "id": "8e232679",
   "metadata": {},
   "outputs": [
    {
     "data": {
      "text/plain": [
       "'Hare krishna Hare Rama'"
      ]
     },
     "execution_count": 4,
     "metadata": {},
     "output_type": "execute_result"
    }
   ],
   "source": [
    "s2"
   ]
  },
  {
   "cell_type": "code",
   "execution_count": 5,
   "id": "e775d01c",
   "metadata": {},
   "outputs": [
    {
     "data": {
      "text/plain": [
       "''"
      ]
     },
     "execution_count": 5,
     "metadata": {},
     "output_type": "execute_result"
    }
   ],
   "source": [
    "s2[0:8:-1]"
   ]
  },
  {
   "cell_type": "code",
   "execution_count": 6,
   "id": "6cb8b96e",
   "metadata": {},
   "outputs": [
    {
     "data": {
      "text/plain": [
       "'Hare kri'"
      ]
     },
     "execution_count": 6,
     "metadata": {},
     "output_type": "execute_result"
    }
   ],
   "source": [
    "s2[0:8:1]"
   ]
  },
  {
   "cell_type": "code",
   "execution_count": 7,
   "id": "73789527",
   "metadata": {},
   "outputs": [
    {
     "data": {
      "text/plain": [
       "'Hare krishna Hare Rama'"
      ]
     },
     "execution_count": 7,
     "metadata": {},
     "output_type": "execute_result"
    }
   ],
   "source": [
    "s2[0:50:1]"
   ]
  },
  {
   "cell_type": "code",
   "execution_count": 8,
   "id": "d2392140",
   "metadata": {},
   "outputs": [
    {
     "data": {
      "text/plain": [
       "'Hr r'"
      ]
     },
     "execution_count": 8,
     "metadata": {},
     "output_type": "execute_result"
    }
   ],
   "source": [
    "s2[0:8:2]"
   ]
  },
  {
   "cell_type": "code",
   "execution_count": 9,
   "id": "9bda20de",
   "metadata": {},
   "outputs": [
    {
     "data": {
      "text/plain": [
       "'Hare krishna Hare Rama'"
      ]
     },
     "execution_count": 9,
     "metadata": {},
     "output_type": "execute_result"
    }
   ],
   "source": [
    " s2"
   ]
  },
  {
   "cell_type": "code",
   "execution_count": 10,
   "id": "f5ea2d5c",
   "metadata": {},
   "outputs": [
    {
     "data": {
      "text/plain": [
       "'H s'"
      ]
     },
     "execution_count": 10,
     "metadata": {},
     "output_type": "execute_result"
    }
   ],
   "source": [
    "s2[0:9:4]"
   ]
  },
  {
   "cell_type": "code",
   "execution_count": 11,
   "id": "d9c8d9e9",
   "metadata": {},
   "outputs": [],
   "source": [
    "s4 = \"Hare krishna\""
   ]
  },
  {
   "cell_type": "code",
   "execution_count": 12,
   "id": "9a54b4c0",
   "metadata": {},
   "outputs": [
    {
     "data": {
      "text/plain": [
       "'Hare krishna'"
      ]
     },
     "execution_count": 12,
     "metadata": {},
     "output_type": "execute_result"
    }
   ],
   "source": [
    "s4"
   ]
  },
  {
   "cell_type": "code",
   "execution_count": 13,
   "id": "50edb1cd",
   "metadata": {},
   "outputs": [
    {
     "data": {
      "text/plain": [
       "'r'"
      ]
     },
     "execution_count": 13,
     "metadata": {},
     "output_type": "execute_result"
    }
   ],
   "source": [
    "s4[2:4:3]"
   ]
  },
  {
   "cell_type": "code",
   "execution_count": 14,
   "id": "509ce14a",
   "metadata": {},
   "outputs": [
    {
     "data": {
      "text/plain": [
       "''"
      ]
     },
     "execution_count": 14,
     "metadata": {},
     "output_type": "execute_result"
    }
   ],
   "source": [
    "s4[0:4:-2]"
   ]
  },
  {
   "cell_type": "code",
   "execution_count": 15,
   "id": "c3cc9702",
   "metadata": {},
   "outputs": [
    {
     "ename": "NameError",
     "evalue": "name 's3' is not defined",
     "output_type": "error",
     "traceback": [
      "\u001b[1;31m---------------------------------------------------------------------------\u001b[0m",
      "\u001b[1;31mNameError\u001b[0m                                 Traceback (most recent call last)",
      "Input \u001b[1;32mIn [15]\u001b[0m, in \u001b[0;36m<cell line: 1>\u001b[1;34m()\u001b[0m\n\u001b[1;32m----> 1\u001b[0m \u001b[43ms3\u001b[49m\n",
      "\u001b[1;31mNameError\u001b[0m: name 's3' is not defined"
     ]
    }
   ],
   "source": [
    "s3"
   ]
  },
  {
   "cell_type": "code",
   "execution_count": 16,
   "id": "8803e69b",
   "metadata": {},
   "outputs": [],
   "source": [
    "s3 = \"Hare krishna Hare Rama\""
   ]
  },
  {
   "cell_type": "code",
   "execution_count": 17,
   "id": "7eca7ce5",
   "metadata": {},
   "outputs": [
    {
     "data": {
      "text/plain": [
       "'Hare krishna Hare Rama'"
      ]
     },
     "execution_count": 17,
     "metadata": {},
     "output_type": "execute_result"
    }
   ],
   "source": [
    "s3"
   ]
  },
  {
   "cell_type": "code",
   "execution_count": 18,
   "id": "af00faad",
   "metadata": {},
   "outputs": [
    {
     "data": {
      "text/plain": [
       "'sirk era'"
      ]
     },
     "execution_count": 18,
     "metadata": {},
     "output_type": "execute_result"
    }
   ],
   "source": [
    "s3[8:0:-1]"
   ]
  },
  {
   "cell_type": "code",
   "execution_count": 19,
   "id": "a9ecaa49",
   "metadata": {},
   "outputs": [
    {
     "data": {
      "text/plain": [
       "''"
      ]
     },
     "execution_count": 19,
     "metadata": {},
     "output_type": "execute_result"
    }
   ],
   "source": [
    "s3[8:0:1]"
   ]
  },
  {
   "cell_type": "code",
   "execution_count": 20,
   "id": "9131a32b",
   "metadata": {},
   "outputs": [
    {
     "data": {
      "text/plain": [
       "'Hare krishna Hare Rama'"
      ]
     },
     "execution_count": 20,
     "metadata": {},
     "output_type": "execute_result"
    }
   ],
   "source": [
    "s3"
   ]
  },
  {
   "cell_type": "code",
   "execution_count": 23,
   "id": "eedefd4d",
   "metadata": {},
   "outputs": [
    {
     "data": {
      "text/plain": [
       "'s'"
      ]
     },
     "execution_count": 23,
     "metadata": {},
     "output_type": "execute_result"
    }
   ],
   "source": [
    "s3[8:9:1]"
   ]
  },
  {
   "cell_type": "code",
   "execution_count": 24,
   "id": "71cb105c",
   "metadata": {},
   "outputs": [
    {
     "data": {
      "text/plain": [
       "''"
      ]
     },
     "execution_count": 24,
     "metadata": {},
     "output_type": "execute_result"
    }
   ],
   "source": [
    "s3[8:0:1]"
   ]
  },
  {
   "cell_type": "code",
   "execution_count": 25,
   "id": "e8b6184c",
   "metadata": {},
   "outputs": [
    {
     "data": {
      "text/plain": [
       "'sirk era'"
      ]
     },
     "execution_count": 25,
     "metadata": {},
     "output_type": "execute_result"
    }
   ],
   "source": [
    "s3[8:0:-1]"
   ]
  },
  {
   "cell_type": "code",
   "execution_count": 26,
   "id": "341e2e2f",
   "metadata": {},
   "outputs": [
    {
     "ename": "NameError",
     "evalue": "name 's' is not defined",
     "output_type": "error",
     "traceback": [
      "\u001b[1;31m---------------------------------------------------------------------------\u001b[0m",
      "\u001b[1;31mNameError\u001b[0m                                 Traceback (most recent call last)",
      "Input \u001b[1;32mIn [26]\u001b[0m, in \u001b[0;36m<cell line: 1>\u001b[1;34m()\u001b[0m\n\u001b[1;32m----> 1\u001b[0m \u001b[43ms\u001b[49m[:\u001b[38;5;241m-\u001b[39m\u001b[38;5;241m3\u001b[39m]\n",
      "\u001b[1;31mNameError\u001b[0m: name 's' is not defined"
     ]
    }
   ],
   "source": [
    "s[:-3]"
   ]
  },
  {
   "cell_type": "code",
   "execution_count": 27,
   "id": "ace8a033",
   "metadata": {},
   "outputs": [
    {
     "data": {
      "text/plain": [
       "'Hare krishna Hare R'"
      ]
     },
     "execution_count": 27,
     "metadata": {},
     "output_type": "execute_result"
    }
   ],
   "source": [
    "s3[:-3]"
   ]
  },
  {
   "cell_type": "code",
   "execution_count": 28,
   "id": "c94ec8b5",
   "metadata": {},
   "outputs": [],
   "source": [
    "s = \"hare krisha\""
   ]
  },
  {
   "cell_type": "code",
   "execution_count": 29,
   "id": "1cdadd05",
   "metadata": {},
   "outputs": [
    {
     "data": {
      "text/plain": [
       "'ha'"
      ]
     },
     "execution_count": 29,
     "metadata": {},
     "output_type": "execute_result"
    }
   ],
   "source": [
    "s[-2:]"
   ]
  },
  {
   "cell_type": "code",
   "execution_count": 30,
   "id": "de9c76ec",
   "metadata": {},
   "outputs": [
    {
     "data": {
      "text/plain": [
       "'hare krisha'"
      ]
     },
     "execution_count": 30,
     "metadata": {},
     "output_type": "execute_result"
    }
   ],
   "source": [
    "s[::1]"
   ]
  },
  {
   "cell_type": "code",
   "execution_count": 31,
   "id": "705dd65d",
   "metadata": {},
   "outputs": [
    {
     "ename": "SyntaxError",
     "evalue": "invalid syntax (1085298815.py, line 1)",
     "output_type": "error",
     "traceback": [
      "\u001b[1;36m  Input \u001b[1;32mIn [31]\u001b[1;36m\u001b[0m\n\u001b[1;33m    s[]\u001b[0m\n\u001b[1;37m      ^\u001b[0m\n\u001b[1;31mSyntaxError\u001b[0m\u001b[1;31m:\u001b[0m invalid syntax\n"
     ]
    }
   ],
   "source": [
    "s[]"
   ]
  },
  {
   "cell_type": "code",
   "execution_count": 32,
   "id": "e507baf5",
   "metadata": {},
   "outputs": [
    {
     "data": {
      "text/plain": [
       "'h'"
      ]
     },
     "execution_count": 32,
     "metadata": {},
     "output_type": "execute_result"
    }
   ],
   "source": [
    "s[:1:]"
   ]
  },
  {
   "cell_type": "code",
   "execution_count": 33,
   "id": "79206ed8",
   "metadata": {},
   "outputs": [
    {
     "data": {
      "text/plain": [
       "'har'"
      ]
     },
     "execution_count": 33,
     "metadata": {},
     "output_type": "execute_result"
    }
   ],
   "source": [
    "s[:3:]"
   ]
  },
  {
   "cell_type": "code",
   "execution_count": 34,
   "id": "0435ff97",
   "metadata": {},
   "outputs": [
    {
     "data": {
      "text/plain": [
       "'e'"
      ]
     },
     "execution_count": 34,
     "metadata": {},
     "output_type": "execute_result"
    }
   ],
   "source": [
    "s[3]"
   ]
  },
  {
   "cell_type": "code",
   "execution_count": 35,
   "id": "9b0f24b8",
   "metadata": {},
   "outputs": [
    {
     "data": {
      "text/plain": [
       "'k'"
      ]
     },
     "execution_count": 35,
     "metadata": {},
     "output_type": "execute_result"
    }
   ],
   "source": [
    "s[5]"
   ]
  },
  {
   "cell_type": "code",
   "execution_count": 36,
   "id": "b4f6846b",
   "metadata": {},
   "outputs": [
    {
     "data": {
      "text/plain": [
       "' '"
      ]
     },
     "execution_count": 36,
     "metadata": {},
     "output_type": "execute_result"
    }
   ],
   "source": [
    "s[4]"
   ]
  },
  {
   "cell_type": "code",
   "execution_count": 37,
   "id": "b3b11f56",
   "metadata": {},
   "outputs": [
    {
     "data": {
      "text/plain": [
       "'hare krisha'"
      ]
     },
     "execution_count": 37,
     "metadata": {},
     "output_type": "execute_result"
    }
   ],
   "source": [
    "s[::1]"
   ]
  },
  {
   "cell_type": "code",
   "execution_count": 38,
   "id": "53993c8e",
   "metadata": {},
   "outputs": [
    {
     "data": {
      "text/plain": [
       "'ahsirk erah'"
      ]
     },
     "execution_count": 38,
     "metadata": {},
     "output_type": "execute_result"
    }
   ],
   "source": [
    "s[::-1]"
   ]
  },
  {
   "cell_type": "code",
   "execution_count": 39,
   "id": "b1e0cc1b",
   "metadata": {},
   "outputs": [
    {
     "data": {
      "text/plain": [
       "''"
      ]
     },
     "execution_count": 39,
     "metadata": {},
     "output_type": "execute_result"
    }
   ],
   "source": [
    "s[0:0:1]"
   ]
  },
  {
   "cell_type": "code",
   "execution_count": 41,
   "id": "03dbb807",
   "metadata": {},
   "outputs": [
    {
     "data": {
      "text/plain": [
       "'hare kris'"
      ]
     },
     "execution_count": 41,
     "metadata": {},
     "output_type": "execute_result"
    }
   ],
   "source": [
    "s[0:0-2]"
   ]
  },
  {
   "cell_type": "code",
   "execution_count": 42,
   "id": "e65acb5d",
   "metadata": {},
   "outputs": [
    {
     "data": {
      "text/plain": [
       "''"
      ]
     },
     "execution_count": 42,
     "metadata": {},
     "output_type": "execute_result"
    }
   ],
   "source": [
    "s[-2:-7:1]"
   ]
  },
  {
   "cell_type": "code",
   "execution_count": 43,
   "id": "91316133",
   "metadata": {},
   "outputs": [
    {
     "data": {
      "text/plain": [
       "'r'"
      ]
     },
     "execution_count": 43,
     "metadata": {},
     "output_type": "execute_result"
    }
   ],
   "source": [
    "s[6]"
   ]
  },
  {
   "cell_type": "code",
   "execution_count": 44,
   "id": "00e1d629",
   "metadata": {},
   "outputs": [
    {
     "data": {
      "text/plain": [
       "'herh'"
      ]
     },
     "execution_count": 44,
     "metadata": {},
     "output_type": "execute_result"
    }
   ],
   "source": [
    "s[::3]"
   ]
  },
  {
   "cell_type": "code",
   "execution_count": 45,
   "id": "7a061a3c",
   "metadata": {},
   "outputs": [
    {
     "ename": "SyntaxError",
     "evalue": "invalid syntax (3456155139.py, line 1)",
     "output_type": "error",
     "traceback": [
      "\u001b[1;36m  Input \u001b[1;32mIn [45]\u001b[1;36m\u001b[0m\n\u001b[1;33m    [::1]\u001b[0m\n\u001b[1;37m     ^\u001b[0m\n\u001b[1;31mSyntaxError\u001b[0m\u001b[1;31m:\u001b[0m invalid syntax\n"
     ]
    }
   ],
   "source": [
    "[::1]"
   ]
  },
  {
   "cell_type": "code",
   "execution_count": 46,
   "id": "d6743125",
   "metadata": {},
   "outputs": [
    {
     "data": {
      "text/plain": [
       "'hare krisha'"
      ]
     },
     "execution_count": 46,
     "metadata": {},
     "output_type": "execute_result"
    }
   ],
   "source": [
    "s[::1]"
   ]
  },
  {
   "cell_type": "code",
   "execution_count": 47,
   "id": "c6cb832f",
   "metadata": {},
   "outputs": [
    {
     "data": {
      "text/plain": [
       "'hr rsa'"
      ]
     },
     "execution_count": 47,
     "metadata": {},
     "output_type": "execute_result"
    }
   ],
   "source": [
    "s[::2]"
   ]
  },
  {
   "cell_type": "code",
   "execution_count": 48,
   "id": "4ddebf7e",
   "metadata": {},
   "outputs": [
    {
     "ename": "NameError",
     "evalue": "name 'S' is not defined",
     "output_type": "error",
     "traceback": [
      "\u001b[1;31m---------------------------------------------------------------------------\u001b[0m",
      "\u001b[1;31mNameError\u001b[0m                                 Traceback (most recent call last)",
      "Input \u001b[1;32mIn [48]\u001b[0m, in \u001b[0;36m<cell line: 1>\u001b[1;34m()\u001b[0m\n\u001b[1;32m----> 1\u001b[0m \u001b[43mS\u001b[49m\u001b[38;5;241m+\u001b[39m\u001b[38;5;241m1\u001b[39m\n",
      "\u001b[1;31mNameError\u001b[0m: name 'S' is not defined"
     ]
    }
   ],
   "source": [
    "S+1"
   ]
  },
  {
   "cell_type": "code",
   "execution_count": 49,
   "id": "710a34d3",
   "metadata": {},
   "outputs": [
    {
     "ename": "NameError",
     "evalue": "name 'S' is not defined",
     "output_type": "error",
     "traceback": [
      "\u001b[1;31m---------------------------------------------------------------------------\u001b[0m",
      "\u001b[1;31mNameError\u001b[0m                                 Traceback (most recent call last)",
      "Input \u001b[1;32mIn [49]\u001b[0m, in \u001b[0;36m<cell line: 1>\u001b[1;34m()\u001b[0m\n\u001b[1;32m----> 1\u001b[0m \u001b[43mS\u001b[49m\n",
      "\u001b[1;31mNameError\u001b[0m: name 'S' is not defined"
     ]
    }
   ],
   "source": [
    "S"
   ]
  },
  {
   "cell_type": "code",
   "execution_count": 50,
   "id": "47e75a10",
   "metadata": {},
   "outputs": [
    {
     "ename": "NameError",
     "evalue": "name 'S1' is not defined",
     "output_type": "error",
     "traceback": [
      "\u001b[1;31m---------------------------------------------------------------------------\u001b[0m",
      "\u001b[1;31mNameError\u001b[0m                                 Traceback (most recent call last)",
      "Input \u001b[1;32mIn [50]\u001b[0m, in \u001b[0;36m<cell line: 1>\u001b[1;34m()\u001b[0m\n\u001b[1;32m----> 1\u001b[0m \u001b[43mS1\u001b[49m\n",
      "\u001b[1;31mNameError\u001b[0m: name 'S1' is not defined"
     ]
    }
   ],
   "source": [
    "S1"
   ]
  },
  {
   "cell_type": "code",
   "execution_count": 51,
   "id": "14490a14",
   "metadata": {},
   "outputs": [],
   "source": [
    "S1 = \"HARE KRISHA\""
   ]
  },
  {
   "cell_type": "code",
   "execution_count": 52,
   "id": "94a5396b",
   "metadata": {},
   "outputs": [
    {
     "data": {
      "text/plain": [
       "'Hare krishna'"
      ]
     },
     "execution_count": 52,
     "metadata": {},
     "output_type": "execute_result"
    }
   ],
   "source": [
    "s1"
   ]
  },
  {
   "cell_type": "code",
   "execution_count": 53,
   "id": "db661128",
   "metadata": {},
   "outputs": [
    {
     "ename": "TypeError",
     "evalue": "can only concatenate str (not \"int\") to str",
     "output_type": "error",
     "traceback": [
      "\u001b[1;31m---------------------------------------------------------------------------\u001b[0m",
      "\u001b[1;31mTypeError\u001b[0m                                 Traceback (most recent call last)",
      "Input \u001b[1;32mIn [53]\u001b[0m, in \u001b[0;36m<cell line: 1>\u001b[1;34m()\u001b[0m\n\u001b[1;32m----> 1\u001b[0m \u001b[43ms1\u001b[49m\u001b[38;5;241;43m+\u001b[39;49m\u001b[38;5;241;43m1\u001b[39;49m\n",
      "\u001b[1;31mTypeError\u001b[0m: can only concatenate str (not \"int\") to str"
     ]
    }
   ],
   "source": [
    "s1+1"
   ]
  },
  {
   "cell_type": "code",
   "execution_count": 54,
   "id": "0a0de2b8",
   "metadata": {},
   "outputs": [
    {
     "ename": "SyntaxError",
     "evalue": "invalid syntax (1434885490.py, line 1)",
     "output_type": "error",
     "traceback": [
      "\u001b[1;36m  Input \u001b[1;32mIn [54]\u001b[1;36m\u001b[0m\n\u001b[1;33m    s+\u001b[0m\n\u001b[1;37m      ^\u001b[0m\n\u001b[1;31mSyntaxError\u001b[0m\u001b[1;31m:\u001b[0m invalid syntax\n"
     ]
    }
   ],
   "source": [
    "s+"
   ]
  },
  {
   "cell_type": "code",
   "execution_count": 55,
   "id": "79626c5e",
   "metadata": {},
   "outputs": [
    {
     "data": {
      "text/plain": [
       "'hare krisha1'"
      ]
     },
     "execution_count": 55,
     "metadata": {},
     "output_type": "execute_result"
    }
   ],
   "source": [
    "s + \"1\""
   ]
  },
  {
   "cell_type": "code",
   "execution_count": 56,
   "id": "5359467a",
   "metadata": {},
   "outputs": [
    {
     "data": {
      "text/plain": [
       "'hare krisha1'"
      ]
     },
     "execution_count": 56,
     "metadata": {},
     "output_type": "execute_result"
    }
   ],
   "source": [
    "s +str(1)"
   ]
  },
  {
   "cell_type": "code",
   "execution_count": 58,
   "id": "6c7d7795",
   "metadata": {},
   "outputs": [
    {
     "data": {
      "text/plain": [
       "'hare967r6r57'"
      ]
     },
     "execution_count": 58,
     "metadata": {},
     "output_type": "execute_result"
    }
   ],
   "source": [
    "\"hare\" + \"967r6r57\""
   ]
  },
  {
   "cell_type": "code",
   "execution_count": 59,
   "id": "68bdc153",
   "metadata": {},
   "outputs": [
    {
     "data": {
      "text/plain": [
       "11"
      ]
     },
     "execution_count": 59,
     "metadata": {},
     "output_type": "execute_result"
    }
   ],
   "source": [
    "len(s)"
   ]
  },
  {
   "cell_type": "code",
   "execution_count": 60,
   "id": "e2d502f5",
   "metadata": {},
   "outputs": [
    {
     "data": {
      "text/plain": [
       "12"
      ]
     },
     "execution_count": 60,
     "metadata": {},
     "output_type": "execute_result"
    }
   ],
   "source": [
    "len(s1)"
   ]
  },
  {
   "cell_type": "code",
   "execution_count": 61,
   "id": "03ce8f1a",
   "metadata": {},
   "outputs": [
    {
     "data": {
      "text/plain": [
       "'hare krishahare krishahare krisha'"
      ]
     },
     "execution_count": 61,
     "metadata": {},
     "output_type": "execute_result"
    }
   ],
   "source": [
    "s*3"
   ]
  },
  {
   "cell_type": "code",
   "execution_count": 62,
   "id": "56924330",
   "metadata": {},
   "outputs": [
    {
     "data": {
      "text/plain": [
       "1"
      ]
     },
     "execution_count": 62,
     "metadata": {},
     "output_type": "execute_result"
    }
   ],
   "source": [
    "s.count('s')"
   ]
  },
  {
   "cell_type": "code",
   "execution_count": 63,
   "id": "625c64f9",
   "metadata": {},
   "outputs": [
    {
     "ename": "NameError",
     "evalue": "name 'h' is not defined",
     "output_type": "error",
     "traceback": [
      "\u001b[1;31m---------------------------------------------------------------------------\u001b[0m",
      "\u001b[1;31mNameError\u001b[0m                                 Traceback (most recent call last)",
      "Input \u001b[1;32mIn [63]\u001b[0m, in \u001b[0;36m<cell line: 1>\u001b[1;34m()\u001b[0m\n\u001b[1;32m----> 1\u001b[0m s\u001b[38;5;241m.\u001b[39mcount(\u001b[43mh\u001b[49m)\n",
      "\u001b[1;31mNameError\u001b[0m: name 'h' is not defined"
     ]
    }
   ],
   "source": [
    "s.count(h)"
   ]
  },
  {
   "cell_type": "code",
   "execution_count": null,
   "id": "ebba1e4f",
   "metadata": {},
   "outputs": [],
   "source": []
  },
  {
   "cell_type": "code",
   "execution_count": 64,
   "id": "e3f5d60b",
   "metadata": {},
   "outputs": [
    {
     "data": {
      "text/plain": [
       "'hare krisha'"
      ]
     },
     "execution_count": 64,
     "metadata": {},
     "output_type": "execute_result"
    }
   ],
   "source": [
    "s"
   ]
  },
  {
   "cell_type": "code",
   "execution_count": 65,
   "id": "502fe2b1",
   "metadata": {},
   "outputs": [
    {
     "data": {
      "text/plain": [
       "2"
      ]
     },
     "execution_count": 65,
     "metadata": {},
     "output_type": "execute_result"
    }
   ],
   "source": [
    "s.count(\"h\")"
   ]
  },
  {
   "cell_type": "code",
   "execution_count": 66,
   "id": "4e3673ce",
   "metadata": {},
   "outputs": [
    {
     "data": {
      "text/plain": [
       "1"
      ]
     },
     "execution_count": 66,
     "metadata": {},
     "output_type": "execute_result"
    }
   ],
   "source": [
    "s.count(\"i\")"
   ]
  },
  {
   "cell_type": "code",
   "execution_count": 67,
   "id": "55917a06",
   "metadata": {},
   "outputs": [
    {
     "ename": "TypeError",
     "evalue": "'str' object cannot be interpreted as an integer",
     "output_type": "error",
     "traceback": [
      "\u001b[1;31m---------------------------------------------------------------------------\u001b[0m",
      "\u001b[1;31mTypeError\u001b[0m                                 Traceback (most recent call last)",
      "Input \u001b[1;32mIn [67]\u001b[0m, in \u001b[0;36m<cell line: 1>\u001b[1;34m()\u001b[0m\n\u001b[1;32m----> 1\u001b[0m \u001b[43ms\u001b[49m\u001b[38;5;241;43m.\u001b[39;49m\u001b[43mcenter\u001b[49m\u001b[43m(\u001b[49m\u001b[38;5;124;43m\"\u001b[39;49m\u001b[38;5;124;43me\u001b[39;49m\u001b[38;5;124;43m\"\u001b[39;49m\u001b[43m)\u001b[49m\n",
      "\u001b[1;31mTypeError\u001b[0m: 'str' object cannot be interpreted as an integer"
     ]
    }
   ],
   "source": [
    "s.center(\"e\")"
   ]
  },
  {
   "cell_type": "code",
   "execution_count": 69,
   "id": "01000225",
   "metadata": {},
   "outputs": [
    {
     "data": {
      "text/plain": [
       "list"
      ]
     },
     "execution_count": 69,
     "metadata": {},
     "output_type": "execute_result"
    }
   ],
   "source": [
    "type(s.split(\"a\"))"
   ]
  },
  {
   "cell_type": "markdown",
   "id": "7bb6f228",
   "metadata": {},
   "source": [
    "hr = \"Known with the project code Q501[5] during the development phase, this mid-size SUV was previewed as the Tata H5X concept car.[6] The reduction name 'Harrier' was announced by the parent company in the summer of 2018.[7] The car is a C-segment SUV based on the OmegaArc platform, an essentially re-engineered version of the Jaguar Land Rover D8 platform adopted by models such as Range Rover Evoque, Discovery Sport and Jaguar E-Pace.[8] The OmegaArc compared to the original D8 has been redesigned to lower production costs by adopting different alloys and rear suspension with twist-beam scheme and panhard rod with coil spring, cheaper than the multilink of the Jaguar Land Rover models, while the front axle maintains the same MacPherson strut with coil spring and anti roll bar. The body has smaller amounts of high-strength steel.\n",
    "\n",
    "Change also include engines and transmissions. The Harrier has front-wheel drive, four-wheel drive is not yet available, the braking system uses ventilated discs at the front, while the rear uses drums. The engine is the 2.0 ltrs. Multijet 16-valve four-cylinder turbo diesel with common rail direct injection, variable-geometry turbocharger, delivering 140 horsepower and 350 Nm of torque, produced by Fiat (FCA India[9]) in Pune.[10] The same power plant is also utilised by the Jeep Compass and MG Hector in the Indian market. In the Harrier, Tata Motors uses the commercial name Kryotec for the\""
   ]
  },
  {
   "cell_type": "code",
   "execution_count": 70,
   "id": "d586affb",
   "metadata": {},
   "outputs": [
    {
     "ename": "NameError",
     "evalue": "name 'hr' is not defined",
     "output_type": "error",
     "traceback": [
      "\u001b[1;31m---------------------------------------------------------------------------\u001b[0m",
      "\u001b[1;31mNameError\u001b[0m                                 Traceback (most recent call last)",
      "Input \u001b[1;32mIn [70]\u001b[0m, in \u001b[0;36m<cell line: 1>\u001b[1;34m()\u001b[0m\n\u001b[1;32m----> 1\u001b[0m \u001b[43mhr\u001b[49m\n",
      "\u001b[1;31mNameError\u001b[0m: name 'hr' is not defined"
     ]
    }
   ],
   "source": [
    "hr"
   ]
  },
  {
   "cell_type": "code",
   "execution_count": 80,
   "id": "8add22bd",
   "metadata": {},
   "outputs": [],
   "source": [
    "s9 =\"\"\"Known with the project code Q501[5] during the development phase, this mid-size SUV was previewed as the Tata H5X concept car.[6] The reduction name 'Harrier' was announced by the parent company in the summer of 2018.[7] The car is a C-segment SUV based on the OmegaArc platform, an essentially re-engineered version of the Jaguar Land Rover D8 platform adopted by models such as Range Rover Evoque, Discovery Sport and Jaguar E-Pace.[8] The OmegaArc compared to the original D8 has been redesigned to lower production costs by adopting different alloys and rear suspension with twist-beam scheme and panhard rod with coil spring, cheaper than the multilink of the Jaguar Land Rover models, while the front axle maintains the same MacPherson strut with coil spring and anti roll bar. The body has smaller amounts of high-strength steel.\n",
    "\n",
    "Change also include engines and transmissions. The Harrier has front-wheel drive, four-wheel drive is not yet available, the braking system uses ventilated discs at the front, while the rear uses drums. The engine is the 2.0 ltrs. Multijet 16-valve four-cylinder turbo diesel with common rail direct injection, variable-geometry turbocharger, delivering 140 horsepower and 350 Nm of torque, produced by Fiat (FCA India[9]) in Pune.[10] The same power plant is also utilised by the Jeep Compass and MG Hector in the Indian market. In the Harrier, Tata Motors uses the commercial name Kryotec for the\"\"\""
   ]
  },
  {
   "cell_type": "code",
   "execution_count": 83,
   "id": "f0228b0e",
   "metadata": {},
   "outputs": [],
   "source": [
    "h =\"\"\"Known with the project code Q501[5] during the development phase, this mid-size SUV was previewed as the Tata H5X concept car.[6] The reduction name 'Harrier' was announced by the parent company in the summer of 2018.[7] The car is a C-segment SUV based on the OmegaArc platform, an essentially re-engineered version of the Jaguar Land Rover D8 platform adopted by models such as Range Rover Evoque, Discovery Sport and Jaguar E-Pace.[8] The OmegaArc compared to the original D8 has been redesigned to lower production costs by adopting different alloys and rear suspension with twist-beam scheme and panhard rod with coil spring, cheaper than the multilink of the Jaguar Land Rover models, while the front axle maintains the same MacPherson strut with coil spring and anti roll bar. The body has smaller amounts of high-strength steel.\n",
    "\n",
    "Change also include engines and transmissions. The Harrier has front-wheel drive, four-wheel drive is not yet available, the braking system uses ventilated discs at the front, while the rear uses drums. The engine is the 2.0 ltrs. Multijet 16-valve four-cylinder turbo diesel with common rail direct injection, variable-geometry turbocharger, delivering 140 horsepower and 350 Nm of torque, produced by Fiat (FCA India[9]) in Pune.[10] The same power plant is also utilised by the Jeep Compass and MG Hector in the Indian market. In the Harrier, Tata Motors uses the commercial name Kryotec for the\"\"\""
   ]
  },
  {
   "cell_type": "code",
   "execution_count": 84,
   "id": "243b3a5d",
   "metadata": {},
   "outputs": [
    {
     "ename": "SyntaxError",
     "evalue": "invalid syntax (2698773334.py, line 1)",
     "output_type": "error",
     "traceback": [
      "\u001b[1;36m  Input \u001b[1;32mIn [84]\u001b[1;36m\u001b[0m\n\u001b[1;33m    h1 =\"s9 =\"Known with the project code Q501[5] during the development phase, this mid-size SUV was previewed as the Tata H5X concept car.[6] The reduction name 'Harrier' was announced by the parent company in the summer of 2018.\"\u001b[0m\n\u001b[1;37m              ^\u001b[0m\n\u001b[1;31mSyntaxError\u001b[0m\u001b[1;31m:\u001b[0m invalid syntax\n"
     ]
    }
   ],
   "source": [
    "h1 =\"s9 =\"Known with the project code Q501[5] during the development phase, this mid-size SUV was previewed as the Tata H5X concept car.[6] The reduction name 'Harrier' was announced by the parent company in the summer of 2018.\""
   ]
  },
  {
   "cell_type": "code",
   "execution_count": 85,
   "id": "7289b5c1",
   "metadata": {},
   "outputs": [],
   "source": [
    "h2=\"s9Known with ent company in the summer of 2018.\""
   ]
  },
  {
   "cell_type": "code",
   "execution_count": 76,
   "id": "e69d4259",
   "metadata": {},
   "outputs": [],
   "source": [
    "h3=\"s9Known with the project code Q501[5] during the development phase, this mid-size SUV was previewed as the Tata H5X concept car.[6] The reduction name 'Harrier' was announced by the parent company in the summer of 2018.\""
   ]
  },
  {
   "cell_type": "code",
   "execution_count": 77,
   "id": "ad555998",
   "metadata": {},
   "outputs": [
    {
     "data": {
      "text/plain": [
       "\"s9Known with the project code Q501[5] during the development phase, this mid-size SUV was previewed as the Tata H5X concept car.[6] The reduction name 'Harrier' was announced by the parent company in the summer of 2018.\""
      ]
     },
     "execution_count": 77,
     "metadata": {},
     "output_type": "execute_result"
    }
   ],
   "source": [
    "h3"
   ]
  },
  {
   "cell_type": "code",
   "execution_count": 78,
   "id": "754d9c1f",
   "metadata": {},
   "outputs": [
    {
     "ename": "AttributeError",
     "evalue": "'str' object has no attribute 'length'",
     "output_type": "error",
     "traceback": [
      "\u001b[1;31m---------------------------------------------------------------------------\u001b[0m",
      "\u001b[1;31mAttributeError\u001b[0m                            Traceback (most recent call last)",
      "Input \u001b[1;32mIn [78]\u001b[0m, in \u001b[0;36m<cell line: 1>\u001b[1;34m()\u001b[0m\n\u001b[1;32m----> 1\u001b[0m \u001b[43mh3\u001b[49m\u001b[38;5;241;43m.\u001b[39;49m\u001b[43mlength\u001b[49m()\n",
      "\u001b[1;31mAttributeError\u001b[0m: 'str' object has no attribute 'length'"
     ]
    }
   ],
   "source": [
    "h3.length()"
   ]
  },
  {
   "cell_type": "code",
   "execution_count": 79,
   "id": "834cc372",
   "metadata": {},
   "outputs": [
    {
     "data": {
      "text/plain": [
       "['s9Known',\n",
       " 'with',\n",
       " 'the',\n",
       " 'project',\n",
       " 'code',\n",
       " 'Q501[5]',\n",
       " 'during',\n",
       " 'the',\n",
       " 'development',\n",
       " 'phase,',\n",
       " 'this',\n",
       " 'mid-size',\n",
       " 'SUV',\n",
       " 'was',\n",
       " 'previewed',\n",
       " 'as',\n",
       " 'the',\n",
       " 'Tata',\n",
       " 'H5X',\n",
       " 'concept',\n",
       " 'car.[6]',\n",
       " 'The',\n",
       " 'reduction',\n",
       " 'name',\n",
       " \"'Harrier'\",\n",
       " 'was',\n",
       " 'announced',\n",
       " 'by',\n",
       " 'the',\n",
       " 'parent',\n",
       " 'company',\n",
       " 'in',\n",
       " 'the',\n",
       " 'summer',\n",
       " 'of',\n",
       " '2018.']"
      ]
     },
     "execution_count": 79,
     "metadata": {},
     "output_type": "execute_result"
    }
   ],
   "source": [
    "h3.split( )"
   ]
  },
  {
   "cell_type": "code",
   "execution_count": 88,
   "id": "26bd82ba",
   "metadata": {},
   "outputs": [],
   "source": [
    "h5 =\"\"\"Known with the project code Q501[5] during the development phase, this mid-size SUV was previewed as the Tata H5X concept car.[6] The reduction name 'Harrier' was announced by the parent company in the summer of 2018.[7] The car is a C-segment SUV based on the OmegaArc platform, an essentially re-engineered version of the Jaguar Land Rover D8 platform adopted by models such as Range Rover Evoque, Discovery Sport and Jaguar E-Pace.[8] The OmegaArc compared to the original D8 has been redesigned to lower production costs by adopting different alloys and rear suspension with twist-beam scheme and panhard rod with coil spring, cheaper than the multilink of the Jaguar Land Rover models, while the front axle maintains the same MacPherson strut with coil spring and anti roll bar. The body has smaller amounts of high-strength steel.\n",
    "\n",
    "Change also include engines and transmissions. The Harrier has front-wheel drive, four-wheel drive is not yet available, the braking system uses ventilated discs at the front, while the rear uses drums. The engine is the 2.0 ltrs. Multijet 16-valve four-cylinder turbo diesel with common rail direct injection, variable-geometry turbocharger, delivering 140 horsepower and 350 Nm of torque, produced by Fiat (FCA India[9]) in Pune.[10] The same power plant is also utilised by the Jeep Compass and MG Hector in the Indian market. In the Harrier, Tata Motors uses the commercial name Kryotec for the\"\"\""
   ]
  },
  {
   "cell_type": "code",
   "execution_count": 89,
   "id": "e97af1e2",
   "metadata": {},
   "outputs": [
    {
     "data": {
      "text/plain": [
       "\"Known with the project code Q501[5] during the development phase, this mid-size SUV was previewed as the Tata H5X concept car.[6] The reduction name 'Harrier' was announced by the parent company in the summer of 2018.[7] The car is a C-segment SUV based on the OmegaArc platform, an essentially re-engineered version of the Jaguar Land Rover D8 platform adopted by models such as Range Rover Evoque, Discovery Sport and Jaguar E-Pace.[8] The OmegaArc compared to the original D8 has been redesigned to lower production costs by adopting different alloys and rear suspension with twist-beam scheme and panhard rod with coil spring, cheaper than the multilink of the Jaguar Land Rover models, while the front axle maintains the same MacPherson strut with coil spring and anti roll bar. The body has smaller amounts of high-strength steel.\\n\\nChange also include engines and transmissions. The Harrier has front-wheel drive, four-wheel drive is not yet available, the braking system uses ventilated discs at the front, while the rear uses drums. The engine is the 2.0 ltrs. Multijet 16-valve four-cylinder turbo diesel with common rail direct injection, variable-geometry turbocharger, delivering 140 horsepower and 350 Nm of torque, produced by Fiat (FCA India[9]) in Pune.[10] The same power plant is also utilised by the Jeep Compass and MG Hector in the Indian market. In the Harrier, Tata Motors uses the commercial name Kryotec for the\""
      ]
     },
     "execution_count": 89,
     "metadata": {},
     "output_type": "execute_result"
    }
   ],
   "source": [
    "h5"
   ]
  },
  {
   "cell_type": "code",
   "execution_count": 90,
   "id": "c5407689",
   "metadata": {},
   "outputs": [
    {
     "data": {
      "text/plain": [
       "['Known',\n",
       " 'with',\n",
       " 'the',\n",
       " 'project',\n",
       " 'code',\n",
       " 'Q501[5]',\n",
       " 'during',\n",
       " 'the',\n",
       " 'development',\n",
       " 'phase,',\n",
       " 'this',\n",
       " 'mid-size',\n",
       " 'SUV',\n",
       " 'was',\n",
       " 'previewed',\n",
       " 'as',\n",
       " 'the',\n",
       " 'Tata',\n",
       " 'H5X',\n",
       " 'concept',\n",
       " 'car.[6]',\n",
       " 'The',\n",
       " 'reduction',\n",
       " 'name',\n",
       " \"'Harrier'\",\n",
       " 'was',\n",
       " 'announced',\n",
       " 'by',\n",
       " 'the',\n",
       " 'parent',\n",
       " 'company',\n",
       " 'in',\n",
       " 'the',\n",
       " 'summer',\n",
       " 'of',\n",
       " '2018.[7]',\n",
       " 'The',\n",
       " 'car',\n",
       " 'is',\n",
       " 'a',\n",
       " 'C-segment',\n",
       " 'SUV',\n",
       " 'based',\n",
       " 'on',\n",
       " 'the',\n",
       " 'OmegaArc',\n",
       " 'platform,',\n",
       " 'an',\n",
       " 'essentially',\n",
       " 're-engineered',\n",
       " 'version',\n",
       " 'of',\n",
       " 'the',\n",
       " 'Jaguar',\n",
       " 'Land',\n",
       " 'Rover',\n",
       " 'D8',\n",
       " 'platform',\n",
       " 'adopted',\n",
       " 'by',\n",
       " 'models',\n",
       " 'such',\n",
       " 'as',\n",
       " 'Range',\n",
       " 'Rover',\n",
       " 'Evoque,',\n",
       " 'Discovery',\n",
       " 'Sport',\n",
       " 'and',\n",
       " 'Jaguar',\n",
       " 'E-Pace.[8]',\n",
       " 'The',\n",
       " 'OmegaArc',\n",
       " 'compared',\n",
       " 'to',\n",
       " 'the',\n",
       " 'original',\n",
       " 'D8',\n",
       " 'has',\n",
       " 'been',\n",
       " 'redesigned',\n",
       " 'to',\n",
       " 'lower',\n",
       " 'production',\n",
       " 'costs',\n",
       " 'by',\n",
       " 'adopting',\n",
       " 'different',\n",
       " 'alloys',\n",
       " 'and',\n",
       " 'rear',\n",
       " 'suspension',\n",
       " 'with',\n",
       " 'twist-beam',\n",
       " 'scheme',\n",
       " 'and',\n",
       " 'panhard',\n",
       " 'rod',\n",
       " 'with',\n",
       " 'coil',\n",
       " 'spring,',\n",
       " 'cheaper',\n",
       " 'than',\n",
       " 'the',\n",
       " 'multilink',\n",
       " 'of',\n",
       " 'the',\n",
       " 'Jaguar',\n",
       " 'Land',\n",
       " 'Rover',\n",
       " 'models,',\n",
       " 'while',\n",
       " 'the',\n",
       " 'front',\n",
       " 'axle',\n",
       " 'maintains',\n",
       " 'the',\n",
       " 'same',\n",
       " 'MacPherson',\n",
       " 'strut',\n",
       " 'with',\n",
       " 'coil',\n",
       " 'spring',\n",
       " 'and',\n",
       " 'anti',\n",
       " 'roll',\n",
       " 'bar.',\n",
       " 'The',\n",
       " 'body',\n",
       " 'has',\n",
       " 'smaller',\n",
       " 'amounts',\n",
       " 'of',\n",
       " 'high-strength',\n",
       " 'steel.\\n\\nChange',\n",
       " 'also',\n",
       " 'include',\n",
       " 'engines',\n",
       " 'and',\n",
       " 'transmissions.',\n",
       " 'The',\n",
       " 'Harrier',\n",
       " 'has',\n",
       " 'front-wheel',\n",
       " 'drive,',\n",
       " 'four-wheel',\n",
       " 'drive',\n",
       " 'is',\n",
       " 'not',\n",
       " 'yet',\n",
       " 'available,',\n",
       " 'the',\n",
       " 'braking',\n",
       " 'system',\n",
       " 'uses',\n",
       " 'ventilated',\n",
       " 'discs',\n",
       " 'at',\n",
       " 'the',\n",
       " 'front,',\n",
       " 'while',\n",
       " 'the',\n",
       " 'rear',\n",
       " 'uses',\n",
       " 'drums.',\n",
       " 'The',\n",
       " 'engine',\n",
       " 'is',\n",
       " 'the',\n",
       " '2.0',\n",
       " 'ltrs.',\n",
       " 'Multijet',\n",
       " '16-valve',\n",
       " 'four-cylinder',\n",
       " 'turbo',\n",
       " 'diesel',\n",
       " 'with',\n",
       " 'common',\n",
       " 'rail',\n",
       " 'direct',\n",
       " 'injection,',\n",
       " 'variable-geometry',\n",
       " 'turbocharger,',\n",
       " 'delivering',\n",
       " '140',\n",
       " 'horsepower',\n",
       " 'and',\n",
       " '350',\n",
       " 'Nm',\n",
       " 'of',\n",
       " 'torque,',\n",
       " 'produced',\n",
       " 'by',\n",
       " 'Fiat',\n",
       " '(FCA',\n",
       " 'India[9])',\n",
       " 'in',\n",
       " 'Pune.[10]',\n",
       " 'The',\n",
       " 'same',\n",
       " 'power',\n",
       " 'plant',\n",
       " 'is',\n",
       " 'also',\n",
       " 'utilised',\n",
       " 'by',\n",
       " 'the',\n",
       " 'Jeep',\n",
       " 'Compass',\n",
       " 'and',\n",
       " 'MG',\n",
       " 'Hector',\n",
       " 'in',\n",
       " 'the',\n",
       " 'Indian',\n",
       " 'market.',\n",
       " 'In',\n",
       " 'the',\n",
       " 'Harrier,',\n",
       " 'Tata',\n",
       " 'Motors',\n",
       " 'uses',\n",
       " 'the',\n",
       " 'commercial',\n",
       " 'name',\n",
       " 'Kryotec',\n",
       " 'for',\n",
       " 'the']"
      ]
     },
     "execution_count": 90,
     "metadata": {},
     "output_type": "execute_result"
    }
   ],
   "source": [
    "h5.split(' ')"
   ]
  },
  {
   "cell_type": "code",
   "execution_count": 91,
   "id": "a5b444d6",
   "metadata": {},
   "outputs": [
    {
     "data": {
      "text/plain": [
       "\"Known with the project code Q501[5] during the development phase, this mid-size SUV was previewed as the Tata H5X concept car.[6] The reduction name 'Harrier' was announced by the parent company in the summer of 2018.[7] The car is a C-segment SUV based on the OmegaArc platform, an essentially re-engineered version of the Jaguar Land Rover D8 platform adopted by models such as Range Rover Evoque, Discovery Sport and Jaguar E-Pace.[8] The OmegaArc compared to the original D8 has been redesigned to lower production costs by adopting different alloys and rear suspension with twist-beam scheme and panhard rod with coil spring, cheaper than the multilink of the Jaguar Land Rover models, while the front axle maintains the same MacPherson strut with coil spring and anti roll bar. The body has smaller amounts of high-strength steel.\\n\\nChange also include engines and transmissions. The Harrier has front-wheel drive, four-wheel drive is not yet available, the braking system uses ventilated discs at the front, while the rear uses drums. The engine is the 2.0 ltrs. Multijet 16-valve four-cylinder turbo diesel with common rail direct injection, variable-geometry turbocharger, delivering 140 horsepower and 350 Nm of torque, produced by Fiat (FCA India[9]) in Pune.[10] The same power plant is also utilised by the Jeep Compass and MG Hector in the Indian market. In the Harrier, Tata Motors uses the commercial name Kryotec for the\""
      ]
     },
     "execution_count": 91,
     "metadata": {},
     "output_type": "execute_result"
    }
   ],
   "source": [
    "h5"
   ]
  },
  {
   "cell_type": "code",
   "execution_count": 92,
   "id": "2f1134e3",
   "metadata": {},
   "outputs": [
    {
     "ename": "TypeError",
     "evalue": "str.upper() takes no arguments (1 given)",
     "output_type": "error",
     "traceback": [
      "\u001b[1;31m---------------------------------------------------------------------------\u001b[0m",
      "\u001b[1;31mTypeError\u001b[0m                                 Traceback (most recent call last)",
      "Input \u001b[1;32mIn [92]\u001b[0m, in \u001b[0;36m<cell line: 1>\u001b[1;34m()\u001b[0m\n\u001b[1;32m----> 1\u001b[0m \u001b[43mh5\u001b[49m\u001b[38;5;241;43m.\u001b[39;49m\u001b[43mupper\u001b[49m\u001b[43m(\u001b[49m\u001b[38;5;124;43m\"\u001b[39;49m\u001b[38;5;124;43m\"\u001b[39;49m\u001b[43m)\u001b[49m\n",
      "\u001b[1;31mTypeError\u001b[0m: str.upper() takes no arguments (1 given)"
     ]
    }
   ],
   "source": [
    "h5.upper(\"\")"
   ]
  },
  {
   "cell_type": "code",
   "execution_count": 93,
   "id": "a064d105",
   "metadata": {},
   "outputs": [
    {
     "data": {
      "text/plain": [
       "\"KNOWN WITH THE PROJECT CODE Q501[5] DURING THE DEVELOPMENT PHASE, THIS MID-SIZE SUV WAS PREVIEWED AS THE TATA H5X CONCEPT CAR.[6] THE REDUCTION NAME 'HARRIER' WAS ANNOUNCED BY THE PARENT COMPANY IN THE SUMMER OF 2018.[7] THE CAR IS A C-SEGMENT SUV BASED ON THE OMEGAARC PLATFORM, AN ESSENTIALLY RE-ENGINEERED VERSION OF THE JAGUAR LAND ROVER D8 PLATFORM ADOPTED BY MODELS SUCH AS RANGE ROVER EVOQUE, DISCOVERY SPORT AND JAGUAR E-PACE.[8] THE OMEGAARC COMPARED TO THE ORIGINAL D8 HAS BEEN REDESIGNED TO LOWER PRODUCTION COSTS BY ADOPTING DIFFERENT ALLOYS AND REAR SUSPENSION WITH TWIST-BEAM SCHEME AND PANHARD ROD WITH COIL SPRING, CHEAPER THAN THE MULTILINK OF THE JAGUAR LAND ROVER MODELS, WHILE THE FRONT AXLE MAINTAINS THE SAME MACPHERSON STRUT WITH COIL SPRING AND ANTI ROLL BAR. THE BODY HAS SMALLER AMOUNTS OF HIGH-STRENGTH STEEL.\\n\\nCHANGE ALSO INCLUDE ENGINES AND TRANSMISSIONS. THE HARRIER HAS FRONT-WHEEL DRIVE, FOUR-WHEEL DRIVE IS NOT YET AVAILABLE, THE BRAKING SYSTEM USES VENTILATED DISCS AT THE FRONT, WHILE THE REAR USES DRUMS. THE ENGINE IS THE 2.0 LTRS. MULTIJET 16-VALVE FOUR-CYLINDER TURBO DIESEL WITH COMMON RAIL DIRECT INJECTION, VARIABLE-GEOMETRY TURBOCHARGER, DELIVERING 140 HORSEPOWER AND 350 NM OF TORQUE, PRODUCED BY FIAT (FCA INDIA[9]) IN PUNE.[10] THE SAME POWER PLANT IS ALSO UTILISED BY THE JEEP COMPASS AND MG HECTOR IN THE INDIAN MARKET. IN THE HARRIER, TATA MOTORS USES THE COMMERCIAL NAME KRYOTEC FOR THE\""
      ]
     },
     "execution_count": 93,
     "metadata": {},
     "output_type": "execute_result"
    }
   ],
   "source": [
    "h5.upper()"
   ]
  },
  {
   "cell_type": "code",
   "execution_count": 94,
   "id": "c6934bc5",
   "metadata": {},
   "outputs": [
    {
     "data": {
      "text/plain": [
       "\"known with the project code q501[5] during the development phase, this mid-size suv was previewed as the tata h5x concept car.[6] the reduction name 'harrier' was announced by the parent company in the summer of 2018.[7] the car is a c-segment suv based on the omegaarc platform, an essentially re-engineered version of the jaguar land rover d8 platform adopted by models such as range rover evoque, discovery sport and jaguar e-pace.[8] the omegaarc compared to the original d8 has been redesigned to lower production costs by adopting different alloys and rear suspension with twist-beam scheme and panhard rod with coil spring, cheaper than the multilink of the jaguar land rover models, while the front axle maintains the same macpherson strut with coil spring and anti roll bar. the body has smaller amounts of high-strength steel.\\n\\nchange also include engines and transmissions. the harrier has front-wheel drive, four-wheel drive is not yet available, the braking system uses ventilated discs at the front, while the rear uses drums. the engine is the 2.0 ltrs. multijet 16-valve four-cylinder turbo diesel with common rail direct injection, variable-geometry turbocharger, delivering 140 horsepower and 350 nm of torque, produced by fiat (fca india[9]) in pune.[10] the same power plant is also utilised by the jeep compass and mg hector in the indian market. in the harrier, tata motors uses the commercial name kryotec for the\""
      ]
     },
     "execution_count": 94,
     "metadata": {},
     "output_type": "execute_result"
    }
   ],
   "source": [
    "h5.lower()"
   ]
  },
  {
   "cell_type": "code",
   "execution_count": 95,
   "id": "6bef2b03",
   "metadata": {},
   "outputs": [
    {
     "data": {
      "text/plain": [
       "\"KNOWN WITH THE PROJECT CODE Q501[5] DURING THE DEVELOPMENT PHASE, THIS MID-SIZE SUV WAS PREVIEWED AS THE TATA H5X CONCEPT CAR.[6] THE REDUCTION NAME 'HARRIER' WAS ANNOUNCED BY THE PARENT COMPANY IN THE SUMMER OF 2018.[7] THE CAR IS A C-SEGMENT SUV BASED ON THE OMEGAARC PLATFORM, AN ESSENTIALLY RE-ENGINEERED VERSION OF THE JAGUAR LAND ROVER D8 PLATFORM ADOPTED BY MODELS SUCH AS RANGE ROVER EVOQUE, DISCOVERY SPORT AND JAGUAR E-PACE.[8] THE OMEGAARC COMPARED TO THE ORIGINAL D8 HAS BEEN REDESIGNED TO LOWER PRODUCTION COSTS BY ADOPTING DIFFERENT ALLOYS AND REAR SUSPENSION WITH TWIST-BEAM SCHEME AND PANHARD ROD WITH COIL SPRING, CHEAPER THAN THE MULTILINK OF THE JAGUAR LAND ROVER MODELS, WHILE THE FRONT AXLE MAINTAINS THE SAME MACPHERSON STRUT WITH COIL SPRING AND ANTI ROLL BAR. THE BODY HAS SMALLER AMOUNTS OF HIGH-STRENGTH STEEL.\\n\\nCHANGE ALSO INCLUDE ENGINES AND TRANSMISSIONS. THE HARRIER HAS FRONT-WHEEL DRIVE, FOUR-WHEEL DRIVE IS NOT YET AVAILABLE, THE BRAKING SYSTEM USES VENTILATED DISCS AT THE FRONT, WHILE THE REAR USES DRUMS. THE ENGINE IS THE 2.0 LTRS. MULTIJET 16-VALVE FOUR-CYLINDER TURBO DIESEL WITH COMMON RAIL DIRECT INJECTION, VARIABLE-GEOMETRY TURBOCHARGER, DELIVERING 140 HORSEPOWER AND 350 NM OF TORQUE, PRODUCED BY FIAT (FCA INDIA[9]) IN PUNE.[10] THE SAME POWER PLANT IS ALSO UTILISED BY THE JEEP COMPASS AND MG HECTOR IN THE INDIAN MARKET. IN THE HARRIER, TATA MOTORS USES THE COMMERCIAL NAME KRYOTEC FOR THE\""
      ]
     },
     "execution_count": 95,
     "metadata": {},
     "output_type": "execute_result"
    }
   ],
   "source": [
    "h5.upper()"
   ]
  },
  {
   "cell_type": "code",
   "execution_count": 96,
   "id": "ef3bca86",
   "metadata": {},
   "outputs": [
    {
     "data": {
      "text/plain": [
       "<function str.lower()>"
      ]
     },
     "execution_count": 96,
     "metadata": {},
     "output_type": "execute_result"
    }
   ],
   "source": [
    "h5.lower"
   ]
  },
  {
   "cell_type": "code",
   "execution_count": 97,
   "id": "40f970d7",
   "metadata": {},
   "outputs": [
    {
     "data": {
      "text/plain": [
       "\"known with the project code q501[5] during the development phase, this mid-size suv was previewed as the tata h5x concept car.[6] the reduction name 'harrier' was announced by the parent company in the summer of 2018.[7] the car is a c-segment suv based on the omegaarc platform, an essentially re-engineered version of the jaguar land rover d8 platform adopted by models such as range rover evoque, discovery sport and jaguar e-pace.[8] the omegaarc compared to the original d8 has been redesigned to lower production costs by adopting different alloys and rear suspension with twist-beam scheme and panhard rod with coil spring, cheaper than the multilink of the jaguar land rover models, while the front axle maintains the same macpherson strut with coil spring and anti roll bar. the body has smaller amounts of high-strength steel.\\n\\nchange also include engines and transmissions. the harrier has front-wheel drive, four-wheel drive is not yet available, the braking system uses ventilated discs at the front, while the rear uses drums. the engine is the 2.0 ltrs. multijet 16-valve four-cylinder turbo diesel with common rail direct injection, variable-geometry turbocharger, delivering 140 horsepower and 350 nm of torque, produced by fiat (fca india[9]) in pune.[10] the same power plant is also utilised by the jeep compass and mg hector in the indian market. in the harrier, tata motors uses the commercial name kryotec for the\""
      ]
     },
     "execution_count": 97,
     "metadata": {},
     "output_type": "execute_result"
    }
   ],
   "source": [
    "h5.lower()"
   ]
  },
  {
   "cell_type": "code",
   "execution_count": 98,
   "id": "205cc337",
   "metadata": {},
   "outputs": [
    {
     "data": {
      "text/plain": [
       "['Known',\n",
       " 'with',\n",
       " 'the',\n",
       " 'project',\n",
       " 'code',\n",
       " 'Q501[5]',\n",
       " 'during',\n",
       " 'the',\n",
       " 'development',\n",
       " 'phase,',\n",
       " 'this',\n",
       " 'mid-size',\n",
       " 'SUV',\n",
       " 'was',\n",
       " 'previewed',\n",
       " 'as',\n",
       " 'the',\n",
       " 'Tata',\n",
       " 'H5X',\n",
       " 'concept',\n",
       " 'car.[6]',\n",
       " 'The',\n",
       " 'reduction',\n",
       " 'name',\n",
       " \"'Harrier'\",\n",
       " 'was',\n",
       " 'announced',\n",
       " 'by',\n",
       " 'the',\n",
       " 'parent',\n",
       " 'company',\n",
       " 'in',\n",
       " 'the',\n",
       " 'summer',\n",
       " 'of',\n",
       " '2018.[7]',\n",
       " 'The',\n",
       " 'car',\n",
       " 'is',\n",
       " 'a',\n",
       " 'C-segment',\n",
       " 'SUV',\n",
       " 'based',\n",
       " 'on',\n",
       " 'the',\n",
       " 'OmegaArc',\n",
       " 'platform,',\n",
       " 'an',\n",
       " 'essentially',\n",
       " 're-engineered',\n",
       " 'version',\n",
       " 'of',\n",
       " 'the',\n",
       " 'Jaguar',\n",
       " 'Land',\n",
       " 'Rover',\n",
       " 'D8',\n",
       " 'platform',\n",
       " 'adopted',\n",
       " 'by',\n",
       " 'models',\n",
       " 'such',\n",
       " 'as',\n",
       " 'Range',\n",
       " 'Rover',\n",
       " 'Evoque,',\n",
       " 'Discovery',\n",
       " 'Sport',\n",
       " 'and',\n",
       " 'Jaguar',\n",
       " 'E-Pace.[8]',\n",
       " 'The',\n",
       " 'OmegaArc',\n",
       " 'compared',\n",
       " 'to',\n",
       " 'the',\n",
       " 'original',\n",
       " 'D8',\n",
       " 'has',\n",
       " 'been',\n",
       " 'redesigned',\n",
       " 'to',\n",
       " 'lower',\n",
       " 'production',\n",
       " 'costs',\n",
       " 'by',\n",
       " 'adopting',\n",
       " 'different',\n",
       " 'alloys',\n",
       " 'and',\n",
       " 'rear',\n",
       " 'suspension',\n",
       " 'with',\n",
       " 'twist-beam',\n",
       " 'scheme',\n",
       " 'and',\n",
       " 'panhard',\n",
       " 'rod',\n",
       " 'with',\n",
       " 'coil',\n",
       " 'spring,',\n",
       " 'cheaper',\n",
       " 'than',\n",
       " 'the',\n",
       " 'multilink',\n",
       " 'of',\n",
       " 'the',\n",
       " 'Jaguar',\n",
       " 'Land',\n",
       " 'Rover',\n",
       " 'models,',\n",
       " 'while',\n",
       " 'the',\n",
       " 'front',\n",
       " 'axle',\n",
       " 'maintains',\n",
       " 'the',\n",
       " 'same',\n",
       " 'MacPherson',\n",
       " 'strut',\n",
       " 'with',\n",
       " 'coil',\n",
       " 'spring',\n",
       " 'and',\n",
       " 'anti',\n",
       " 'roll',\n",
       " 'bar.',\n",
       " 'The',\n",
       " 'body',\n",
       " 'has',\n",
       " 'smaller',\n",
       " 'amounts',\n",
       " 'of',\n",
       " 'high-strength',\n",
       " 'steel.',\n",
       " 'Change',\n",
       " 'also',\n",
       " 'include',\n",
       " 'engines',\n",
       " 'and',\n",
       " 'transmissions.',\n",
       " 'The',\n",
       " 'Harrier',\n",
       " 'has',\n",
       " 'front-wheel',\n",
       " 'drive,',\n",
       " 'four-wheel',\n",
       " 'drive',\n",
       " 'is',\n",
       " 'not',\n",
       " 'yet',\n",
       " 'available,',\n",
       " 'the',\n",
       " 'braking',\n",
       " 'system',\n",
       " 'uses',\n",
       " 'ventilated',\n",
       " 'discs',\n",
       " 'at',\n",
       " 'the',\n",
       " 'front,',\n",
       " 'while',\n",
       " 'the',\n",
       " 'rear',\n",
       " 'uses',\n",
       " 'drums.',\n",
       " 'The',\n",
       " 'engine',\n",
       " 'is',\n",
       " 'the',\n",
       " '2.0',\n",
       " 'ltrs.',\n",
       " 'Multijet',\n",
       " '16-valve',\n",
       " 'four-cylinder',\n",
       " 'turbo',\n",
       " 'diesel',\n",
       " 'with',\n",
       " 'common',\n",
       " 'rail',\n",
       " 'direct',\n",
       " 'injection,',\n",
       " 'variable-geometry',\n",
       " 'turbocharger,',\n",
       " 'delivering',\n",
       " '140',\n",
       " 'horsepower',\n",
       " 'and',\n",
       " '350',\n",
       " 'Nm',\n",
       " 'of',\n",
       " 'torque,',\n",
       " 'produced',\n",
       " 'by',\n",
       " 'Fiat',\n",
       " '(FCA',\n",
       " 'India[9])',\n",
       " 'in',\n",
       " 'Pune.[10]',\n",
       " 'The',\n",
       " 'same',\n",
       " 'power',\n",
       " 'plant',\n",
       " 'is',\n",
       " 'also',\n",
       " 'utilised',\n",
       " 'by',\n",
       " 'the',\n",
       " 'Jeep',\n",
       " 'Compass',\n",
       " 'and',\n",
       " 'MG',\n",
       " 'Hector',\n",
       " 'in',\n",
       " 'the',\n",
       " 'Indian',\n",
       " 'market.',\n",
       " 'In',\n",
       " 'the',\n",
       " 'Harrier,',\n",
       " 'Tata',\n",
       " 'Motors',\n",
       " 'uses',\n",
       " 'the',\n",
       " 'commercial',\n",
       " 'name',\n",
       " 'Kryotec',\n",
       " 'for',\n",
       " 'the']"
      ]
     },
     "execution_count": 98,
     "metadata": {},
     "output_type": "execute_result"
    }
   ],
   "source": [
    "h5.split()"
   ]
  },
  {
   "cell_type": "code",
   "execution_count": 99,
   "id": "6c0ac68e",
   "metadata": {},
   "outputs": [
    {
     "data": {
      "text/plain": [
       "['Known',\n",
       " 'with',\n",
       " 'the',\n",
       " 'project',\n",
       " 'code',\n",
       " 'Q501[5]',\n",
       " 'during',\n",
       " 'the',\n",
       " 'development',\n",
       " 'phase,',\n",
       " 'this',\n",
       " 'mid-size',\n",
       " 'SUV',\n",
       " 'was',\n",
       " 'previewed',\n",
       " 'as',\n",
       " 'the',\n",
       " 'Tata',\n",
       " 'H5X',\n",
       " 'concept',\n",
       " 'car.[6]',\n",
       " 'The',\n",
       " 'reduction',\n",
       " 'name',\n",
       " \"'Harrier'\",\n",
       " 'was',\n",
       " 'announced',\n",
       " 'by',\n",
       " 'the',\n",
       " 'parent',\n",
       " 'company',\n",
       " 'in',\n",
       " 'the',\n",
       " 'summer',\n",
       " 'of',\n",
       " '2018.[7]',\n",
       " 'The',\n",
       " 'car',\n",
       " 'is',\n",
       " 'a',\n",
       " 'C-segment',\n",
       " 'SUV',\n",
       " 'based',\n",
       " 'on',\n",
       " 'the',\n",
       " 'OmegaArc',\n",
       " 'platform,',\n",
       " 'an',\n",
       " 'essentially',\n",
       " 're-engineered',\n",
       " 'version',\n",
       " 'of',\n",
       " 'the',\n",
       " 'Jaguar',\n",
       " 'Land',\n",
       " 'Rover',\n",
       " 'D8',\n",
       " 'platform',\n",
       " 'adopted',\n",
       " 'by',\n",
       " 'models',\n",
       " 'such',\n",
       " 'as',\n",
       " 'Range',\n",
       " 'Rover',\n",
       " 'Evoque,',\n",
       " 'Discovery',\n",
       " 'Sport',\n",
       " 'and',\n",
       " 'Jaguar',\n",
       " 'E-Pace.[8]',\n",
       " 'The',\n",
       " 'OmegaArc',\n",
       " 'compared',\n",
       " 'to',\n",
       " 'the',\n",
       " 'original',\n",
       " 'D8',\n",
       " 'has',\n",
       " 'been',\n",
       " 'redesigned',\n",
       " 'to',\n",
       " 'lower',\n",
       " 'production',\n",
       " 'costs',\n",
       " 'by',\n",
       " 'adopting',\n",
       " 'different',\n",
       " 'alloys',\n",
       " 'and',\n",
       " 'rear',\n",
       " 'suspension',\n",
       " 'with',\n",
       " 'twist-beam',\n",
       " 'scheme',\n",
       " 'and',\n",
       " 'panhard',\n",
       " 'rod',\n",
       " 'with',\n",
       " 'coil',\n",
       " 'spring,',\n",
       " 'cheaper',\n",
       " 'than',\n",
       " 'the',\n",
       " 'multilink',\n",
       " 'of',\n",
       " 'the',\n",
       " 'Jaguar',\n",
       " 'Land',\n",
       " 'Rover',\n",
       " 'models,',\n",
       " 'while',\n",
       " 'the',\n",
       " 'front',\n",
       " 'axle',\n",
       " 'maintains',\n",
       " 'the',\n",
       " 'same',\n",
       " 'MacPherson',\n",
       " 'strut',\n",
       " 'with',\n",
       " 'coil',\n",
       " 'spring',\n",
       " 'and',\n",
       " 'anti',\n",
       " 'roll',\n",
       " 'bar.',\n",
       " 'The',\n",
       " 'body',\n",
       " 'has',\n",
       " 'smaller',\n",
       " 'amounts',\n",
       " 'of',\n",
       " 'high-strength',\n",
       " 'steel.\\n\\nChange',\n",
       " 'also',\n",
       " 'include',\n",
       " 'engines',\n",
       " 'and',\n",
       " 'transmissions.',\n",
       " 'The',\n",
       " 'Harrier',\n",
       " 'has',\n",
       " 'front-wheel',\n",
       " 'drive,',\n",
       " 'four-wheel',\n",
       " 'drive',\n",
       " 'is',\n",
       " 'not',\n",
       " 'yet',\n",
       " 'available,',\n",
       " 'the',\n",
       " 'braking',\n",
       " 'system',\n",
       " 'uses',\n",
       " 'ventilated',\n",
       " 'discs',\n",
       " 'at',\n",
       " 'the',\n",
       " 'front,',\n",
       " 'while',\n",
       " 'the',\n",
       " 'rear',\n",
       " 'uses',\n",
       " 'drums.',\n",
       " 'The',\n",
       " 'engine',\n",
       " 'is',\n",
       " 'the',\n",
       " '2.0',\n",
       " 'ltrs.',\n",
       " 'Multijet',\n",
       " '16-valve',\n",
       " 'four-cylinder',\n",
       " 'turbo',\n",
       " 'diesel',\n",
       " 'with',\n",
       " 'common',\n",
       " 'rail',\n",
       " 'direct',\n",
       " 'injection,',\n",
       " 'variable-geometry',\n",
       " 'turbocharger,',\n",
       " 'delivering',\n",
       " '140',\n",
       " 'horsepower',\n",
       " 'and',\n",
       " '350',\n",
       " 'Nm',\n",
       " 'of',\n",
       " 'torque,',\n",
       " 'produced',\n",
       " 'by',\n",
       " 'Fiat',\n",
       " '(FCA',\n",
       " 'India[9])',\n",
       " 'in',\n",
       " 'Pune.[10]',\n",
       " 'The',\n",
       " 'same',\n",
       " 'power',\n",
       " 'plant',\n",
       " 'is',\n",
       " 'also',\n",
       " 'utilised',\n",
       " 'by',\n",
       " 'the',\n",
       " 'Jeep',\n",
       " 'Compass',\n",
       " 'and',\n",
       " 'MG',\n",
       " 'Hector',\n",
       " 'in',\n",
       " 'the',\n",
       " 'Indian',\n",
       " 'market.',\n",
       " 'In',\n",
       " 'the',\n",
       " 'Harrier,',\n",
       " 'Tata',\n",
       " 'Motors',\n",
       " 'uses',\n",
       " 'the',\n",
       " 'commercial',\n",
       " 'name',\n",
       " 'Kryotec',\n",
       " 'for',\n",
       " 'the']"
      ]
     },
     "execution_count": 99,
     "metadata": {},
     "output_type": "execute_result"
    }
   ],
   "source": [
    "h5.split(\" \")"
   ]
  },
  {
   "cell_type": "code",
   "execution_count": 100,
   "id": "cbd16324",
   "metadata": {},
   "outputs": [
    {
     "data": {
      "text/plain": [
       "\"Known with the project code Q501[5] during the development phase, this mid-size SUV was previewed as the Tata H5X concept car.[6] The reduction name 'Harrier' was announced by the parent company in the summer of 2018.[7] The car is a C-segment SUV based on the OmegaArc platform, an essentially re-engineered version of the Jaguar Land Rover D8 platform adopted by models such as Range Rover Evoque, Discovery Sport and Jaguar E-Pace.[8] The OmegaArc compared to the original D8 has been redesigned to lower production costs by adopting different alloys and rear suspension with twist-beam scheme and panhard rod with coil spring, cheaper than the multilink of the Jaguar Land Rover models, while the front axle maintains the same MacPherson strut with coil spring and anti roll bar. The body has smaller amounts of high-strength steel.\\n\\nChange also include engines and transmissions. The Harrier has front-wheel drive, four-wheel drive is not yet available, the braking system uses ventilated discs at the front, while the rear uses drums. The engine is the 2.0 ltrs. Multijet 16-valve four-cylinder turbo diesel with common rail direct injection, variable-geometry turbocharger, delivering 140 horsepower and 350 Nm of torque, produced by Fiat (FCA India[9]) in Pune.[10] The same power plant is also utilised by the Jeep Compass and MG Hector in the Indian market. In the Harrier, Tata Motors uses the commercial name Kryotec for the\""
      ]
     },
     "execution_count": 100,
     "metadata": {},
     "output_type": "execute_result"
    }
   ],
   "source": [
    "h5"
   ]
  },
  {
   "cell_type": "code",
   "execution_count": 101,
   "id": "82091fc8",
   "metadata": {},
   "outputs": [
    {
     "data": {
      "text/plain": [
       "'Hare krishna Hare Rama'"
      ]
     },
     "execution_count": 101,
     "metadata": {},
     "output_type": "execute_result"
    }
   ],
   "source": [
    "s3"
   ]
  },
  {
   "cell_type": "code",
   "execution_count": 102,
   "id": "6a7711fe",
   "metadata": {},
   "outputs": [
    {
     "data": {
      "text/plain": [
       "'Hare krishna Hare Rama'"
      ]
     },
     "execution_count": 102,
     "metadata": {},
     "output_type": "execute_result"
    }
   ],
   "source": [
    "s2"
   ]
  },
  {
   "cell_type": "code",
   "execution_count": 103,
   "id": "1656ff7c",
   "metadata": {},
   "outputs": [
    {
     "data": {
      "text/plain": [
       "'Hare krishna'"
      ]
     },
     "execution_count": 103,
     "metadata": {},
     "output_type": "execute_result"
    }
   ],
   "source": [
    "s1"
   ]
  },
  {
   "cell_type": "code",
   "execution_count": 104,
   "id": "1b4d1d4a",
   "metadata": {},
   "outputs": [
    {
     "ename": "NameError",
     "evalue": "name 'h4' is not defined",
     "output_type": "error",
     "traceback": [
      "\u001b[1;31m---------------------------------------------------------------------------\u001b[0m",
      "\u001b[1;31mNameError\u001b[0m                                 Traceback (most recent call last)",
      "Input \u001b[1;32mIn [104]\u001b[0m, in \u001b[0;36m<cell line: 1>\u001b[1;34m()\u001b[0m\n\u001b[1;32m----> 1\u001b[0m \u001b[43mh4\u001b[49m\n",
      "\u001b[1;31mNameError\u001b[0m: name 'h4' is not defined"
     ]
    }
   ],
   "source": [
    "h4"
   ]
  },
  {
   "cell_type": "code",
   "execution_count": null,
   "id": "2cea1bde",
   "metadata": {},
   "outputs": [],
   "source": []
  },
  {
   "cell_type": "code",
   "execution_count": 105,
   "id": "01e3fdf5",
   "metadata": {},
   "outputs": [
    {
     "data": {
      "text/plain": [
       "\"Known with the project code Q501[5] during the development phase, this mid-size SUV was previewed as the Tata H5X concept car.[6] The reduction name 'Harrier' was announced by the parent company in the summer of 2018.[7] The car is a C-segment SUV based on the OmegaArc platform, an essentially re-engineered version of the Jaguar Land Rover D8 platform adopted by models such as Range Rover Evoque, Discovery Sport and Jaguar E-Pace.[8] The OmegaArc compared to the original D8 has been redesigned to lower production costs by adopting different alloys and rear suspension with twist-beam scheme and panhard rod with coil spring, cheaper than the multilink of the Jaguar Land Rover models, while the front axle maintains the same MacPherson strut with coil spring and anti roll bar. The body has smaller amounts of high-strength steel.\\n\\nChange also include engines and transmissions. The Harrier has front-wheel drive, four-wheel drive is not yet available, the braking system uses ventilated discs at the front, while the rear uses drums. The engine is the 2.0 ltrs. Multijet 16-valve four-cylinder turbo diesel with common rail direct injection, variable-geometry turbocharger, delivering 140 horsepower and 350 Nm of torque, produced by Fiat (FCA India[9]) in Pune.[10] The same power plant is also utilised by the Jeep Compass and MG Hector in the Indian market. In the Harrier, Tata Motors uses the commercial name Kryotec for the\""
      ]
     },
     "execution_count": 105,
     "metadata": {},
     "output_type": "execute_result"
    }
   ],
   "source": [
    "h5"
   ]
  },
  {
   "cell_type": "code",
   "execution_count": null,
   "id": "0c730daa",
   "metadata": {},
   "outputs": [],
   "source": []
  },
  {
   "cell_type": "code",
   "execution_count": 106,
   "id": "02784ec2",
   "metadata": {},
   "outputs": [
    {
     "data": {
      "text/plain": [
       "['Known',\n",
       " 'with',\n",
       " 'the',\n",
       " 'project',\n",
       " 'code',\n",
       " 'Q501[5]',\n",
       " 'during',\n",
       " 'the',\n",
       " 'development',\n",
       " 'phase,',\n",
       " 'this',\n",
       " 'mid-size',\n",
       " 'SUV',\n",
       " 'was',\n",
       " 'previewed',\n",
       " 'as',\n",
       " 'the',\n",
       " 'Tata',\n",
       " 'H5X',\n",
       " 'concept',\n",
       " 'car.[6]',\n",
       " 'The',\n",
       " 'reduction',\n",
       " 'name',\n",
       " \"'Harrier'\",\n",
       " 'was',\n",
       " 'announced',\n",
       " 'by',\n",
       " 'the',\n",
       " 'parent',\n",
       " 'company',\n",
       " 'in',\n",
       " 'the',\n",
       " 'summer',\n",
       " 'of',\n",
       " '2018.[7]',\n",
       " 'The',\n",
       " 'car',\n",
       " 'is',\n",
       " 'a',\n",
       " 'C-segment',\n",
       " 'SUV',\n",
       " 'based',\n",
       " 'on',\n",
       " 'the',\n",
       " 'OmegaArc',\n",
       " 'platform,',\n",
       " 'an',\n",
       " 'essentially',\n",
       " 're-engineered',\n",
       " 'version',\n",
       " 'of',\n",
       " 'the',\n",
       " 'Jaguar',\n",
       " 'Land',\n",
       " 'Rover',\n",
       " 'D8',\n",
       " 'platform',\n",
       " 'adopted',\n",
       " 'by',\n",
       " 'models',\n",
       " 'such',\n",
       " 'as',\n",
       " 'Range',\n",
       " 'Rover',\n",
       " 'Evoque,',\n",
       " 'Discovery',\n",
       " 'Sport',\n",
       " 'and',\n",
       " 'Jaguar',\n",
       " 'E-Pace.[8]',\n",
       " 'The',\n",
       " 'OmegaArc',\n",
       " 'compared',\n",
       " 'to',\n",
       " 'the',\n",
       " 'original',\n",
       " 'D8',\n",
       " 'has',\n",
       " 'been',\n",
       " 'redesigned',\n",
       " 'to',\n",
       " 'lower',\n",
       " 'production',\n",
       " 'costs',\n",
       " 'by',\n",
       " 'adopting',\n",
       " 'different',\n",
       " 'alloys',\n",
       " 'and',\n",
       " 'rear',\n",
       " 'suspension',\n",
       " 'with',\n",
       " 'twist-beam',\n",
       " 'scheme',\n",
       " 'and',\n",
       " 'panhard',\n",
       " 'rod',\n",
       " 'with',\n",
       " 'coil',\n",
       " 'spring,',\n",
       " 'cheaper',\n",
       " 'than',\n",
       " 'the',\n",
       " 'multilink',\n",
       " 'of',\n",
       " 'the',\n",
       " 'Jaguar',\n",
       " 'Land',\n",
       " 'Rover',\n",
       " 'models,',\n",
       " 'while',\n",
       " 'the',\n",
       " 'front',\n",
       " 'axle',\n",
       " 'maintains',\n",
       " 'the',\n",
       " 'same',\n",
       " 'MacPherson',\n",
       " 'strut',\n",
       " 'with',\n",
       " 'coil',\n",
       " 'spring',\n",
       " 'and',\n",
       " 'anti',\n",
       " 'roll',\n",
       " 'bar.',\n",
       " 'The',\n",
       " 'body',\n",
       " 'has',\n",
       " 'smaller',\n",
       " 'amounts',\n",
       " 'of',\n",
       " 'high-strength',\n",
       " 'steel.',\n",
       " 'Change',\n",
       " 'also',\n",
       " 'include',\n",
       " 'engines',\n",
       " 'and',\n",
       " 'transmissions.',\n",
       " 'The',\n",
       " 'Harrier',\n",
       " 'has',\n",
       " 'front-wheel',\n",
       " 'drive,',\n",
       " 'four-wheel',\n",
       " 'drive',\n",
       " 'is',\n",
       " 'not',\n",
       " 'yet',\n",
       " 'available,',\n",
       " 'the',\n",
       " 'braking',\n",
       " 'system',\n",
       " 'uses',\n",
       " 'ventilated',\n",
       " 'discs',\n",
       " 'at',\n",
       " 'the',\n",
       " 'front,',\n",
       " 'while',\n",
       " 'the',\n",
       " 'rear',\n",
       " 'uses',\n",
       " 'drums.',\n",
       " 'The',\n",
       " 'engine',\n",
       " 'is',\n",
       " 'the',\n",
       " '2.0',\n",
       " 'ltrs.',\n",
       " 'Multijet',\n",
       " '16-valve',\n",
       " 'four-cylinder',\n",
       " 'turbo',\n",
       " 'diesel',\n",
       " 'with',\n",
       " 'common',\n",
       " 'rail',\n",
       " 'direct',\n",
       " 'injection,',\n",
       " 'variable-geometry',\n",
       " 'turbocharger,',\n",
       " 'delivering',\n",
       " '140',\n",
       " 'horsepower',\n",
       " 'and',\n",
       " '350',\n",
       " 'Nm',\n",
       " 'of',\n",
       " 'torque,',\n",
       " 'produced',\n",
       " 'by',\n",
       " 'Fiat',\n",
       " '(FCA',\n",
       " 'India[9])',\n",
       " 'in',\n",
       " 'Pune.[10]',\n",
       " 'The',\n",
       " 'same',\n",
       " 'power',\n",
       " 'plant',\n",
       " 'is',\n",
       " 'also',\n",
       " 'utilised',\n",
       " 'by',\n",
       " 'the',\n",
       " 'Jeep',\n",
       " 'Compass',\n",
       " 'and',\n",
       " 'MG',\n",
       " 'Hector',\n",
       " 'in',\n",
       " 'the',\n",
       " 'Indian',\n",
       " 'market.',\n",
       " 'In',\n",
       " 'the',\n",
       " 'Harrier,',\n",
       " 'Tata',\n",
       " 'Motors',\n",
       " 'uses',\n",
       " 'the',\n",
       " 'commercial',\n",
       " 'name',\n",
       " 'Kryotec',\n",
       " 'for',\n",
       " 'the']"
      ]
     },
     "execution_count": 106,
     "metadata": {},
     "output_type": "execute_result"
    }
   ],
   "source": [
    "h5.split()"
   ]
  },
  {
   "cell_type": "code",
   "execution_count": null,
   "id": "84a604ef",
   "metadata": {},
   "outputs": [],
   "source": []
  },
  {
   "cell_type": "code",
   "execution_count": 107,
   "id": "1427efb5",
   "metadata": {},
   "outputs": [
    {
     "data": {
      "text/plain": [
       "\"KNOWN WITH THE PROJECT CODE Q501[5] DURING THE DEVELOPMENT PHASE, THIS MID-SIZE SUV WAS PREVIEWED AS THE TATA H5X CONCEPT CAR.[6] THE REDUCTION NAME 'HARRIER' WAS ANNOUNCED BY THE PARENT COMPANY IN THE SUMMER OF 2018.[7] THE CAR IS A C-SEGMENT SUV BASED ON THE OMEGAARC PLATFORM, AN ESSENTIALLY RE-ENGINEERED VERSION OF THE JAGUAR LAND ROVER D8 PLATFORM ADOPTED BY MODELS SUCH AS RANGE ROVER EVOQUE, DISCOVERY SPORT AND JAGUAR E-PACE.[8] THE OMEGAARC COMPARED TO THE ORIGINAL D8 HAS BEEN REDESIGNED TO LOWER PRODUCTION COSTS BY ADOPTING DIFFERENT ALLOYS AND REAR SUSPENSION WITH TWIST-BEAM SCHEME AND PANHARD ROD WITH COIL SPRING, CHEAPER THAN THE MULTILINK OF THE JAGUAR LAND ROVER MODELS, WHILE THE FRONT AXLE MAINTAINS THE SAME MACPHERSON STRUT WITH COIL SPRING AND ANTI ROLL BAR. THE BODY HAS SMALLER AMOUNTS OF HIGH-STRENGTH STEEL.\\n\\nCHANGE ALSO INCLUDE ENGINES AND TRANSMISSIONS. THE HARRIER HAS FRONT-WHEEL DRIVE, FOUR-WHEEL DRIVE IS NOT YET AVAILABLE, THE BRAKING SYSTEM USES VENTILATED DISCS AT THE FRONT, WHILE THE REAR USES DRUMS. THE ENGINE IS THE 2.0 LTRS. MULTIJET 16-VALVE FOUR-CYLINDER TURBO DIESEL WITH COMMON RAIL DIRECT INJECTION, VARIABLE-GEOMETRY TURBOCHARGER, DELIVERING 140 HORSEPOWER AND 350 NM OF TORQUE, PRODUCED BY FIAT (FCA INDIA[9]) IN PUNE.[10] THE SAME POWER PLANT IS ALSO UTILISED BY THE JEEP COMPASS AND MG HECTOR IN THE INDIAN MARKET. IN THE HARRIER, TATA MOTORS USES THE COMMERCIAL NAME KRYOTEC FOR THE\""
      ]
     },
     "execution_count": 107,
     "metadata": {},
     "output_type": "execute_result"
    }
   ],
   "source": [
    "h5.upper()"
   ]
  },
  {
   "cell_type": "code",
   "execution_count": null,
   "id": "f5e1ddbb",
   "metadata": {},
   "outputs": [],
   "source": []
  },
  {
   "cell_type": "code",
   "execution_count": 108,
   "id": "eca28934",
   "metadata": {},
   "outputs": [
    {
     "data": {
      "text/plain": [
       "\"known with the project code q501[5] during the development phase, this mid-size suv was previewed as the tata h5x concept car.[6] the reduction name 'harrier' was announced by the parent company in the summer of 2018.[7] the car is a c-segment suv based on the omegaarc platform, an essentially re-engineered version of the jaguar land rover d8 platform adopted by models such as range rover evoque, discovery sport and jaguar e-pace.[8] the omegaarc compared to the original d8 has been redesigned to lower production costs by adopting different alloys and rear suspension with twist-beam scheme and panhard rod with coil spring, cheaper than the multilink of the jaguar land rover models, while the front axle maintains the same macpherson strut with coil spring and anti roll bar. the body has smaller amounts of high-strength steel.\\n\\nchange also include engines and transmissions. the harrier has front-wheel drive, four-wheel drive is not yet available, the braking system uses ventilated discs at the front, while the rear uses drums. the engine is the 2.0 ltrs. multijet 16-valve four-cylinder turbo diesel with common rail direct injection, variable-geometry turbocharger, delivering 140 horsepower and 350 nm of torque, produced by fiat (fca india[9]) in pune.[10] the same power plant is also utilised by the jeep compass and mg hector in the indian market. in the harrier, tata motors uses the commercial name kryotec for the\""
      ]
     },
     "execution_count": 108,
     "metadata": {},
     "output_type": "execute_result"
    }
   ],
   "source": [
    "h5.lower()"
   ]
  },
  {
   "cell_type": "code",
   "execution_count": null,
   "id": "b9e389c2",
   "metadata": {},
   "outputs": [],
   "source": []
  },
  {
   "cell_type": "code",
   "execution_count": 109,
   "id": "5dc4f87c",
   "metadata": {},
   "outputs": [
    {
     "ename": "NameError",
     "evalue": "name 'h4' is not defined",
     "output_type": "error",
     "traceback": [
      "\u001b[1;31m---------------------------------------------------------------------------\u001b[0m",
      "\u001b[1;31mNameError\u001b[0m                                 Traceback (most recent call last)",
      "Input \u001b[1;32mIn [109]\u001b[0m, in \u001b[0;36m<cell line: 1>\u001b[1;34m()\u001b[0m\n\u001b[1;32m----> 1\u001b[0m \u001b[43mh4\u001b[49m[\u001b[38;5;241m3\u001b[39m:\u001b[38;5;241m5\u001b[39m:\u001b[38;5;241m8\u001b[39m]\n",
      "\u001b[1;31mNameError\u001b[0m: name 'h4' is not defined"
     ]
    }
   ],
   "source": [
    "h4[3:5:8]"
   ]
  },
  {
   "cell_type": "code",
   "execution_count": 110,
   "id": "68e633a7",
   "metadata": {},
   "outputs": [
    {
     "data": {
      "text/plain": [
       "' '"
      ]
     },
     "execution_count": 110,
     "metadata": {},
     "output_type": "execute_result"
    }
   ],
   "source": [
    "h5[5:6:7]"
   ]
  },
  {
   "cell_type": "code",
   "execution_count": 111,
   "id": "9f67b114",
   "metadata": {},
   "outputs": [
    {
     "data": {
      "text/plain": [
       "'Ki tQ  vne zwvaTXp[ ieisn rmnuf[  gUdeAtan i nerR8op  s E erJE[ ra iDbddwd btf  aewimearhs rttoJLvei ai mhsilgnlTyma hgeasuidmsH oee-dseltkseidtrheuueeetl1ecr  oaee lerglgoe3oudy(d eTe i eh sGrenthitr mlK e'"
      ]
     },
     "execution_count": 111,
     "metadata": {},
     "output_type": "execute_result"
    }
   ],
   "source": [
    "h5[0::7]"
   ]
  },
  {
   "cell_type": "code",
   "execution_count": 112,
   "id": "0c0c1606",
   "metadata": {},
   "outputs": [],
   "source": [
    "h5=h5.upper()"
   ]
  },
  {
   "cell_type": "code",
   "execution_count": 113,
   "id": "08d6014e",
   "metadata": {},
   "outputs": [
    {
     "data": {
      "text/plain": [
       "\"KNOWN WITH THE PROJECT CODE Q501[5] DURING THE DEVELOPMENT PHASE, THIS MID-SIZE SUV WAS PREVIEWED AS THE TATA H5X CONCEPT CAR.[6] THE REDUCTION NAME 'HARRIER' WAS ANNOUNCED BY THE PARENT COMPANY IN THE SUMMER OF 2018.[7] THE CAR IS A C-SEGMENT SUV BASED ON THE OMEGAARC PLATFORM, AN ESSENTIALLY RE-ENGINEERED VERSION OF THE JAGUAR LAND ROVER D8 PLATFORM ADOPTED BY MODELS SUCH AS RANGE ROVER EVOQUE, DISCOVERY SPORT AND JAGUAR E-PACE.[8] THE OMEGAARC COMPARED TO THE ORIGINAL D8 HAS BEEN REDESIGNED TO LOWER PRODUCTION COSTS BY ADOPTING DIFFERENT ALLOYS AND REAR SUSPENSION WITH TWIST-BEAM SCHEME AND PANHARD ROD WITH COIL SPRING, CHEAPER THAN THE MULTILINK OF THE JAGUAR LAND ROVER MODELS, WHILE THE FRONT AXLE MAINTAINS THE SAME MACPHERSON STRUT WITH COIL SPRING AND ANTI ROLL BAR. THE BODY HAS SMALLER AMOUNTS OF HIGH-STRENGTH STEEL.\\n\\nCHANGE ALSO INCLUDE ENGINES AND TRANSMISSIONS. THE HARRIER HAS FRONT-WHEEL DRIVE, FOUR-WHEEL DRIVE IS NOT YET AVAILABLE, THE BRAKING SYSTEM USES VENTILATED DISCS AT THE FRONT, WHILE THE REAR USES DRUMS. THE ENGINE IS THE 2.0 LTRS. MULTIJET 16-VALVE FOUR-CYLINDER TURBO DIESEL WITH COMMON RAIL DIRECT INJECTION, VARIABLE-GEOMETRY TURBOCHARGER, DELIVERING 140 HORSEPOWER AND 350 NM OF TORQUE, PRODUCED BY FIAT (FCA INDIA[9]) IN PUNE.[10] THE SAME POWER PLANT IS ALSO UTILISED BY THE JEEP COMPASS AND MG HECTOR IN THE INDIAN MARKET. IN THE HARRIER, TATA MOTORS USES THE COMMERCIAL NAME KRYOTEC FOR THE\""
      ]
     },
     "execution_count": 113,
     "metadata": {},
     "output_type": "execute_result"
    }
   ],
   "source": [
    "h5"
   ]
  },
  {
   "cell_type": "code",
   "execution_count": 114,
   "id": "38c8d02c",
   "metadata": {},
   "outputs": [
    {
     "data": {
      "text/plain": [
       "<function str.title()>"
      ]
     },
     "execution_count": 114,
     "metadata": {},
     "output_type": "execute_result"
    }
   ],
   "source": [
    "h5.title"
   ]
  },
  {
   "cell_type": "code",
   "execution_count": 115,
   "id": "b489610d",
   "metadata": {},
   "outputs": [
    {
     "data": {
      "text/plain": [
       "\"Known With The Project Code Q501[5] During The Development Phase, This Mid-Size Suv Was Previewed As The Tata H5X Concept Car.[6] The Reduction Name 'Harrier' Was Announced By The Parent Company In The Summer Of 2018.[7] The Car Is A C-Segment Suv Based On The Omegaarc Platform, An Essentially Re-Engineered Version Of The Jaguar Land Rover D8 Platform Adopted By Models Such As Range Rover Evoque, Discovery Sport And Jaguar E-Pace.[8] The Omegaarc Compared To The Original D8 Has Been Redesigned To Lower Production Costs By Adopting Different Alloys And Rear Suspension With Twist-Beam Scheme And Panhard Rod With Coil Spring, Cheaper Than The Multilink Of The Jaguar Land Rover Models, While The Front Axle Maintains The Same Macpherson Strut With Coil Spring And Anti Roll Bar. The Body Has Smaller Amounts Of High-Strength Steel.\\n\\nChange Also Include Engines And Transmissions. The Harrier Has Front-Wheel Drive, Four-Wheel Drive Is Not Yet Available, The Braking System Uses Ventilated Discs At The Front, While The Rear Uses Drums. The Engine Is The 2.0 Ltrs. Multijet 16-Valve Four-Cylinder Turbo Diesel With Common Rail Direct Injection, Variable-Geometry Turbocharger, Delivering 140 Horsepower And 350 Nm Of Torque, Produced By Fiat (Fca India[9]) In Pune.[10] The Same Power Plant Is Also Utilised By The Jeep Compass And Mg Hector In The Indian Market. In The Harrier, Tata Motors Uses The Commercial Name Kryotec For The\""
      ]
     },
     "execution_count": 115,
     "metadata": {},
     "output_type": "execute_result"
    }
   ],
   "source": [
    "h5.title()"
   ]
  },
  {
   "cell_type": "code",
   "execution_count": 116,
   "id": "c9f2d6ce",
   "metadata": {},
   "outputs": [
    {
     "ename": "AttributeError",
     "evalue": "'str' object has no attribute 'chapitalize'",
     "output_type": "error",
     "traceback": [
      "\u001b[1;31m---------------------------------------------------------------------------\u001b[0m",
      "\u001b[1;31mAttributeError\u001b[0m                            Traceback (most recent call last)",
      "Input \u001b[1;32mIn [116]\u001b[0m, in \u001b[0;36m<cell line: 1>\u001b[1;34m()\u001b[0m\n\u001b[1;32m----> 1\u001b[0m \u001b[43mh5\u001b[49m\u001b[38;5;241;43m.\u001b[39;49m\u001b[43mchapitalize\u001b[49m()\n",
      "\u001b[1;31mAttributeError\u001b[0m: 'str' object has no attribute 'chapitalize'"
     ]
    }
   ],
   "source": [
    "h5.chapitalize()"
   ]
  },
  {
   "cell_type": "code",
   "execution_count": 117,
   "id": "4c2b2f2e",
   "metadata": {},
   "outputs": [
    {
     "data": {
      "text/plain": [
       "\"Known with the project code q501[5] during the development phase, this mid-size suv was previewed as the tata h5x concept car.[6] the reduction name 'harrier' was announced by the parent company in the summer of 2018.[7] the car is a c-segment suv based on the omegaarc platform, an essentially re-engineered version of the jaguar land rover d8 platform adopted by models such as range rover evoque, discovery sport and jaguar e-pace.[8] the omegaarc compared to the original d8 has been redesigned to lower production costs by adopting different alloys and rear suspension with twist-beam scheme and panhard rod with coil spring, cheaper than the multilink of the jaguar land rover models, while the front axle maintains the same macpherson strut with coil spring and anti roll bar. the body has smaller amounts of high-strength steel.\\n\\nchange also include engines and transmissions. the harrier has front-wheel drive, four-wheel drive is not yet available, the braking system uses ventilated discs at the front, while the rear uses drums. the engine is the 2.0 ltrs. multijet 16-valve four-cylinder turbo diesel with common rail direct injection, variable-geometry turbocharger, delivering 140 horsepower and 350 nm of torque, produced by fiat (fca india[9]) in pune.[10] the same power plant is also utilised by the jeep compass and mg hector in the indian market. in the harrier, tata motors uses the commercial name kryotec for the\""
      ]
     },
     "execution_count": 117,
     "metadata": {},
     "output_type": "execute_result"
    }
   ],
   "source": [
    "h5.capitalize()"
   ]
  },
  {
   "cell_type": "code",
   "execution_count": 118,
   "id": "6e4e8cb2",
   "metadata": {},
   "outputs": [
    {
     "data": {
      "text/plain": [
       "\"known with the project code q501[5] during the development phase, this mid-size suv was previewed as the tata h5x concept car.[6] the reduction name 'harrier' was announced by the parent company in the summer of 2018.[7] the car is a c-segment suv based on the omegaarc platform, an essentially re-engineered version of the jaguar land rover d8 platform adopted by models such as range rover evoque, discovery sport and jaguar e-pace.[8] the omegaarc compared to the original d8 has been redesigned to lower production costs by adopting different alloys and rear suspension with twist-beam scheme and panhard rod with coil spring, cheaper than the multilink of the jaguar land rover models, while the front axle maintains the same macpherson strut with coil spring and anti roll bar. the body has smaller amounts of high-strength steel.\\n\\nchange also include engines and transmissions. the harrier has front-wheel drive, four-wheel drive is not yet available, the braking system uses ventilated discs at the front, while the rear uses drums. the engine is the 2.0 ltrs. multijet 16-valve four-cylinder turbo diesel with common rail direct injection, variable-geometry turbocharger, delivering 140 horsepower and 350 nm of torque, produced by fiat (fca india[9]) in pune.[10] the same power plant is also utilised by the jeep compass and mg hector in the indian market. in the harrier, tata motors uses the commercial name kryotec for the\""
      ]
     },
     "execution_count": 118,
     "metadata": {},
     "output_type": "execute_result"
    }
   ],
   "source": [
    "h5.swapcase()"
   ]
  },
  {
   "cell_type": "code",
   "execution_count": 119,
   "id": "745d79c7",
   "metadata": {},
   "outputs": [
    {
     "ename": "AttributeError",
     "evalue": "'str' object has no attribute 'reversed'",
     "output_type": "error",
     "traceback": [
      "\u001b[1;31m---------------------------------------------------------------------------\u001b[0m",
      "\u001b[1;31mAttributeError\u001b[0m                            Traceback (most recent call last)",
      "Input \u001b[1;32mIn [119]\u001b[0m, in \u001b[0;36m<cell line: 1>\u001b[1;34m()\u001b[0m\n\u001b[1;32m----> 1\u001b[0m \u001b[43mh5\u001b[49m\u001b[38;5;241;43m.\u001b[39;49m\u001b[43mreversed\u001b[49m()\n",
      "\u001b[1;31mAttributeError\u001b[0m: 'str' object has no attribute 'reversed'"
     ]
    }
   ],
   "source": [
    "h5.reversed()"
   ]
  },
  {
   "cell_type": "code",
   "execution_count": 120,
   "id": "93e3b179",
   "metadata": {},
   "outputs": [
    {
     "data": {
      "text/plain": [
       "'ahsirk erah'"
      ]
     },
     "execution_count": 120,
     "metadata": {},
     "output_type": "execute_result"
    }
   ],
   "source": [
    "''.join(reversed(s))"
   ]
  },
  {
   "cell_type": "code",
   "execution_count": 121,
   "id": "c4f4d781",
   "metadata": {},
   "outputs": [
    {
     "data": {
      "text/plain": [
       "\"EHT ROF CETOYRK EMAN LAICREMMOC EHT SESU SROTOM ATAT ,REIRRAH EHT NI .TEKRAM NAIDNI EHT NI ROTCEH GM DNA SSAPMOC PEEJ EHT YB DESILITU OSLA SI TNALP REWOP EMAS EHT ]01[.ENUP NI )]9[AIDNI ACF( TAIF YB DECUDORP ,EUQROT FO MN 053 DNA REWOPESROH 041 GNIREVILED ,REGRAHCOBRUT YRTEMOEG-ELBAIRAV ,NOITCEJNI TCERID LIAR NOMMOC HTIW LESEID OBRUT REDNILYC-RUOF EVLAV-61 TEJITLUM .SRTL 0.2 EHT SI ENIGNE EHT .SMURD SESU RAER EHT ELIHW ,TNORF EHT TA SCSID DETALITNEV SESU METSYS GNIKARB EHT ,ELBALIAVA TEY TON SI EVIRD LEEHW-RUOF ,EVIRD LEEHW-TNORF SAH REIRRAH EHT .SNOISSIMSNART DNA SENIGNE EDULCNI OSLA EGNAHC\\n\\n.LEETS HTGNERTS-HGIH FO STNUOMA RELLAMS SAH YDOB EHT .RAB LLOR ITNA DNA GNIRPS LIOC HTIW TURTS NOSREHPCAM EMAS EHT SNIATNIAM ELXA TNORF EHT ELIHW ,SLEDOM REVOR DNAL RAUGAJ EHT FO KNILITLUM EHT NAHT REPAEHC ,GNIRPS LIOC HTIW DOR DRAHNAP DNA EMEHCS MAEB-TSIWT HTIW NOISNEPSUS RAER DNA SYOLLA TNEREFFID GNITPODA YB STSOC NOITCUDORP REWOL OT DENGISEDER NEEB SAH 8D LANIGIRO EHT OT DERAPMOC CRAAGEMO EHT ]8[.ECAP-E RAUGAJ DNA TROPS YREVOCSID ,EUQOVE REVOR EGNAR SA HCUS SLEDOM YB DETPODA MROFTALP 8D REVOR DNAL RAUGAJ EHT FO NOISREV DEREENIGNE-ER YLLAITNESSE NA ,MROFTALP CRAAGEMO EHT NO DESAB VUS TNEMGES-C A SI RAC EHT ]7[.8102 FO REMMUS EHT NI YNAPMOC TNERAP EHT YB DECNUONNA SAW 'REIRRAH' EMAN NOITCUDER EHT ]6[.RAC TPECNOC X5H ATAT EHT SA DEWEIVERP SAW VUS EZIS-DIM SIHT ,ESAHP TNEMPOLEVED EHT GNIRUD ]5[105Q EDOC TCEJORP EHT HTIW NWONK\""
      ]
     },
     "execution_count": 121,
     "metadata": {},
     "output_type": "execute_result"
    }
   ],
   "source": [
    "''.join(reversed(h5))"
   ]
  },
  {
   "cell_type": "code",
   "execution_count": 122,
   "id": "11e1a479",
   "metadata": {},
   "outputs": [
    {
     "data": {
      "text/plain": [
       "\"KNOWN WITH THE PROJECT CODE Q501[5] DURING THE DEVELOPMENT PHASE, THIS MID-SIZE SUV WAS PREVIEWED AS THE TATA H5X CONCEPT CAR.[6] THE REDUCTION NAME 'HARRIER' WAS ANNOUNCED BY THE PARENT COMPANY IN THE SUMMER OF 2018.[7] THE CAR IS A C-SEGMENT SUV BASED ON THE OMEGAARC PLATFORM, AN ESSENTIALLY RE-ENGINEERED VERSION OF THE JAGUAR LAND ROVER D8 PLATFORM ADOPTED BY MODELS SUCH AS RANGE ROVER EVOQUE, DISCOVERY SPORT AND JAGUAR E-PACE.[8] THE OMEGAARC COMPARED TO THE ORIGINAL D8 HAS BEEN REDESIGNED TO LOWER PRODUCTION COSTS BY ADOPTING DIFFERENT ALLOYS AND REAR SUSPENSION WITH TWIST-BEAM SCHEME AND PANHARD ROD WITH COIL SPRING, CHEAPER THAN THE MULTILINK OF THE JAGUAR LAND ROVER MODELS, WHILE THE FRONT AXLE MAINTAINS THE SAME MACPHERSON STRUT WITH COIL SPRING AND ANTI ROLL BAR. THE BODY HAS SMALLER AMOUNTS OF HIGH-STRENGTH STEEL.\\n\\nCHANGE ALSO INCLUDE ENGINES AND TRANSMISSIONS. THE HARRIER HAS FRONT-WHEEL DRIVE, FOUR-WHEEL DRIVE IS NOT YET AVAILABLE, THE BRAKING SYSTEM USES VENTILATED DISCS AT THE FRONT, WHILE THE REAR USES DRUMS. THE ENGINE IS THE 2.0 LTRS. MULTIJET 16-VALVE FOUR-CYLINDER TURBO DIESEL WITH COMMON RAIL DIRECT INJECTION, VARIABLE-GEOMETRY TURBOCHARGER, DELIVERING 140 HORSEPOWER AND 350 NM OF TORQUE, PRODUCED BY FIAT (FCA INDIA[9]) IN PUNE.[10] THE SAME POWER PLANT IS ALSO UTILISED BY THE JEEP COMPASS AND MG HECTOR IN THE INDIAN MARKET. IN THE HARRIER, TATA MOTORS USES THE COMMERCIAL NAME KRYOTEC FOR THE\""
      ]
     },
     "execution_count": 122,
     "metadata": {},
     "output_type": "execute_result"
    }
   ],
   "source": [
    "h5.strip()"
   ]
  },
  {
   "cell_type": "code",
   "execution_count": 123,
   "id": "349c562a",
   "metadata": {},
   "outputs": [
    {
     "data": {
      "text/plain": [
       "\"KNOWN WITH THE PROJECT CODE Q501[5] DURING THE DEVELOPMENT PHASE, THIS MID-SIZE SUV WAS PREVIEWED AS THE TATA H5X CONCEPT CAR.[6] THE REDUCTION NAME 'HARRIER' WAS ANNOUNCED BY THE PARENT COMPANY IN THE SUMMER OF 2018.[7] THE CAR IS A C-SEGMENT SUV BASED ON THE OMEGAARC PLATFORM, AN ESSENTIALLY RE-ENGINEERED VERSION OF THE JAGUAR LAND ROVER D8 PLATFORM ADOPTED BY MODELS SUCH AS RANGE ROVER EVOQUE, DISCOVERY SPORT AND JAGUAR E-PACE.[8] THE OMEGAARC COMPARED TO THE ORIGINAL D8 HAS BEEN REDESIGNED TO LOWER PRODUCTION COSTS BY ADOPTING DIFFERENT ALLOYS AND REAR SUSPENSION WITH TWIST-BEAM SCHEME AND PANHARD ROD WITH COIL SPRING, CHEAPER THAN THE MULTILINK OF THE JAGUAR LAND ROVER MODELS, WHILE THE FRONT AXLE MAINTAINS THE SAME MACPHERSON STRUT WITH COIL SPRING AND ANTI ROLL BAR. THE BODY HAS SMALLER AMOUNTS OF HIGH-STRENGTH STEEL.\\n\\nCHANGE ALSO INCLUDE ENGINES AND TRANSMISSIONS. THE HARRIER HAS FRONT-WHEEL DRIVE, FOUR-WHEEL DRIVE IS NOT YET AVAILABLE, THE BRAKING SYSTEM USES VENTILATED DISCS AT THE FRONT, WHILE THE REAR USES DRUMS. THE ENGINE IS THE 2.0 LTRS. MULTIJET 16-VALVE FOUR-CYLINDER TURBO DIESEL WITH COMMON RAIL DIRECT INJECTION, VARIABLE-GEOMETRY TURBOCHARGER, DELIVERING 140 HORSEPOWER AND 350 NM OF TORQUE, PRODUCED BY FIAT (FCA INDIA[9]) IN PUNE.[10] THE SAME POWER PLANT IS ALSO UTILISED BY THE JEEP COMPASS AND MG HECTOR IN THE INDIAN MARKET. IN THE HARRIER, TATA MOTORS USES THE COMMERCIAL NAME KRYOTEC FOR THE\""
      ]
     },
     "execution_count": 123,
     "metadata": {},
     "output_type": "execute_result"
    }
   ],
   "source": [
    "h5.ip()"
   ]
  },
  {
   "cell_type": "code",
   "execution_count": 124,
   "id": "c516c725",
   "metadata": {},
   "outputs": [
    {
     "data": {
      "text/plain": [
       "\"known with the project code q501[5] during the development phase, this mid-size suv was previewed as the tata h5x concept car.[6] the reduction name 'harrier' was announced by the parent company in the summer of 2018.[7] the car is a c-segment suv based on the omegaarc platform, an essentially re-engineered version of the jaguar land rover d8 platform adopted by models such as range rover evoque, discovery sport and jaguar e-pace.[8] the omegaarc compared to the original d8 has been redesigned to lower production costs by adopting different alloys and rear suspension with twist-beam scheme and panhard rod with coil spring, cheaper than the multilink of the jaguar land rover models, while the front axle maintains the same macpherson strut with coil spring and anti roll bar. the body has smaller amounts of high-strength steel.\\n\\nchange also include engines and transmissions. the harrier has front-wheel drive, four-wheel drive is not yet available, the braking system uses ventilated discs at the front, while the rear uses drums. the engine is the 2.0 ltrs. multijet 16-valve four-cylinder turbo diesel with common rail direct injection, variable-geometry turbocharger, delivering 140 horsepower and 350 nm of torque, produced by fiat (fca india[9]) in pune.[10] the same power plant is also utilised by the jeep compass and mg hector in the indian market. in the harrier, tata motors uses the commercial name kryotec for the\""
      ]
     },
     "execution_count": 124,
     "metadata": {},
     "output_type": "execute_result"
    }
   ],
   "source": [
    "h5.lower()"
   ]
  },
  {
   "cell_type": "code",
   "execution_count": 125,
   "id": "b3587fae",
   "metadata": {},
   "outputs": [
    {
     "data": {
      "text/plain": [
       "\"KNOWN WITH THE PROJECT CODE Q501[5] DURING THE DEVELOPMENT PHASE, THIS MID-SIZE SUV WAS PREVIEWED AS THE TATA H5X CONCEPT CAR.[6] THE REDUCTION NAME 'HARRIER' WAS ANNOUNCED BY THE PARENT COMPANY IN THE SUMMER OF 2018.[7] THE CAR IS A C-SEGMENT SUV BASED ON THE OMEGAARC PLATFORM, AN ESSENTIALLY RE-ENGINEERED VERSION OF THE JAGUAR LAND ROVER D8 PLATFORM ADOPTED BY MODELS SUCH AS RANGE ROVER EVOQUE, DISCOVERY SPORT AND JAGUAR E-PACE.[8] THE OMEGAARC COMPARED TO THE ORIGINAL D8 HAS BEEN REDESIGNED TO LOWER PRODUCTION COSTS BY ADOPTING DIFFERENT ALLOYS AND REAR SUSPENSION WITH TWIST-BEAM SCHEME AND PANHARD ROD WITH COIL SPRING, CHEAPER THAN THE MULTILINK OF THE JAGUAR LAND ROVER MODELS, WHILE THE FRONT AXLE MAINTAINS THE SAME MACPHERSON STRUT WITH COIL SPRING AND ANTI ROLL BAR. THE BODY HAS SMALLER AMOUNTS OF HIGH-STRENGTH STEEL.\\n\\nCHANGE ALSO INCLUDE ENGINES AND TRANSMISSIONS. THE HARRIER HAS FRONT-WHEEL DRIVE, FOUR-WHEEL DRIVE IS NOT YET AVAILABLE, THE BRAKING SYSTEM USES VENTILATED DISCS AT THE FRONT, WHILE THE REAR USES DRUMS. THE ENGINE IS THE 2.0 LTRS. MULTIJET 16-VALVE FOUR-CYLINDER TURBO DIESEL WITH COMMON RAIL DIRECT INJECTION, VARIABLE-GEOMETRY TURBOCHARGER, DELIVERING 140 HORSEPOWER AND 350 NM OF TORQUE, PRODUCED BY FIAT (FCA INDIA[9]) IN PUNE.[10] THE SAME POWER PLANT IS ALSO UTILISED BY THE JEEP COMPASS AND MG HECTOR IN THE INDIAN MARKET. IN THE HARRIER, TATA MOTORS USES THE COMMERCIAL NAME KRYOTEC FOR THE\""
      ]
     },
     "execution_count": 125,
     "metadata": {},
     "output_type": "execute_result"
    }
   ],
   "source": [
    "h5.rstrip()"
   ]
  },
  {
   "cell_type": "code",
   "execution_count": 126,
   "id": "2f79d557",
   "metadata": {},
   "outputs": [
    {
     "data": {
      "text/plain": [
       "\"KNOWN WITH THE PROJECT CODE Q501[5] DURING THE DEVELOPMENT PHASE, THIS MID-SIZE SUV WAS PREVIEWED AS THE TATA H5X CONCEPT CAR.[6] THE REDUCTION NAME 'HARRIER' WAS ANNOUNCED BY THE PARENT COMPANY IN THE SUMMER OF 2018.[7] THE CAR IS A C-SEGMENT SUV BASED ON THE OMEGAARC PLATFORM, AN ESSENTIALLY RE-ENGINEERED VERSION OF THE JAGUAR LAND ROVER D8 PLATFORM ADOPTED BY MODELS SUCH AS RANGE ROVER EVOQUE, DISCOVERY SPORT AND JAGUAR E-PACE.[8] THE OMEGAARC COMPARED TO THE ORIGINAL D8 HAS BEEN REDESIGNED TO LOWER PRODUCTION COSTS BY ADOPTING DIFFERENT ALLOYS AND REAR SUSPENSION WITH TWIST-BEAM SCHEME AND PANHARD ROD WITH COIL SPRING, CHEAPER THAN THE MULTILINK OF THE JAGUAR LAND ROVER MODELS, WHILE THE FRONT AXLE MAINTAINS THE SAME MACPHERSON STRUT WITH COIL SPRING AND ANTI ROLL BAR. THE BODY HAS SMALLER AMOUNTS OF HIGH-STRENGTH STEEL.\\n\\nCHANGE ALSO INCLUDE ENGINES AND TRANSMISSIONS. THE HARRIER HAS FRONT-WHEEL DRIVE, FOUR-WHEEL DRIVE IS NOT YET AVAILABLE, THE BRAKING SYSTEM USES VENTILATED DISCS AT THE FRONT, WHILE THE REAR USES DRUMS. THE ENGINE IS THE 2.0 LTRS. MULTIJET 16-VALVE FOUR-CYLINDER TURBO DIESEL WITH COMMON RAIL DIRECT INJECTION, VARIABLE-GEOMETRY TURBOCHARGER, DELIVERING 140 HORSEPOWER AND 350 NM OF TORQUE, PRODUCED BY FIAT (FCA INDIA[9]) IN PUNE.[10] THE SAME POWER PLANT IS ALSO UTILISED BY THE JEEP COMPASS AND MG HECTOR IN THE INDIAN MARKET. IN THE HARRIER, TATA MOTORS USES THE COMMERCIAL NAME KRYOTEC FOR THE\""
      ]
     },
     "execution_count": 126,
     "metadata": {},
     "output_type": "execute_result"
    }
   ],
   "source": [
    "h5"
   ]
  },
  {
   "cell_type": "code",
   "execution_count": 127,
   "id": "f52fc23d",
   "metadata": {},
   "outputs": [
    {
     "data": {
      "text/plain": [
       "\"known with the project code q501[5] during the development phase, this mid-size suv was previewed as the tata h5x concept car.[6] the reduction name 'harrier' was announced by the parent company in the summer of 2018.[7] the car is a c-segment suv based on the omegaarc platform, an essentially re-engineered version of the jaguar land rover d8 platform adopted by models such as range rover evoque, discovery sport and jaguar e-pace.[8] the omegaarc compared to the original d8 has been redesigned to lower production costs by adopting different alloys and rear suspension with twist-beam scheme and panhard rod with coil spring, cheaper than the multilink of the jaguar land rover models, while the front axle maintains the same macpherson strut with coil spring and anti roll bar. the body has smaller amounts of high-strength steel.\\n\\nchange also include engines and transmissions. the harrier has front-wheel drive, four-wheel drive is not yet available, the braking system uses ventilated discs at the front, while the rear uses drums. the engine is the 2.0 ltrs. multijet 16-valve four-cylinder turbo diesel with common rail direct injection, variable-geometry turbocharger, delivering 140 horsepower and 350 nm of torque, produced by fiat (fca india[9]) in pune.[10] the same power plant is also utilised by the jeep compass and mg hector in the indian market. in the harrier, tata motors uses the commercial name kryotec for the\""
      ]
     },
     "execution_count": 127,
     "metadata": {},
     "output_type": "execute_result"
    }
   ],
   "source": [
    "h5.lower()"
   ]
  },
  {
   "cell_type": "code",
   "execution_count": null,
   "id": "63d532f4",
   "metadata": {},
   "outputs": [],
   "source": []
  },
  {
   "cell_type": "code",
   "execution_count": 128,
   "id": "35531de0",
   "metadata": {},
   "outputs": [
    {
     "data": {
      "text/plain": [
       "\"KNOWN WITH THE PROJECT CODE Q501[5] DURING THE DEVELOPMENT PHASE, THIS MID-SIZE SUV WAS PREVIEWED AS THE TATA H5X CONCEPT CAR.[6] THE REDUCTION NAME 'HARRIER' WAS ANNOUNCED BY THE PARENT COMPANY IN THE SUMMER OF 2018.[7] THE CAR IS A C-SEGMENT SUV BASED ON THE OMEGAARC PLATFORM, AN ESSENTIALLY RE-ENGINEERED VERSION OF THE JAGUAR LAND ROVER D8 PLATFORM ADOPTED BY MODELS SUCH AS RANGE ROVER EVOQUE, DISCOVERY SPORT AND JAGUAR E-PACE.[8] THE OMEGAARC COMPARED TO THE ORIGINAL D8 HAS BEEN REDESIGNED TO LOWER PRODUCTION COSTS BY ADOPTING DIFFERENT ALLOYS AND REAR SUSPENSION WITH TWIST-BEAM SCHEME AND PANHARD ROD WITH COIL SPRING, CHEAPER THAN THE MULTILINK OF THE JAGUAR LAND ROVER MODELS, WHILE THE FRONT AXLE MAINTAINS THE SAME MACPHERSON STRUT WITH COIL SPRING AND ANTI ROLL BAR. THE BODY HAS SMALLER AMOUNTS OF HIGH-STRENGTH STEEL.\\n\\nCHANGE ALSO INCLUDE ENGINES AND TRANSMISSIONS. THE HARRIER HAS FRONT-WHEEL DRIVE, FOUR-WHEEL DRIVE IS NOT YET AVAILABLE, THE BRAKING SYSTEM USES VENTILATED DISCS AT THE FRONT, WHILE THE REAR USES DRUMS. THE ENGINE IS THE 2.0 LTRS. MULTIJET 16-VALVE FOUR-CYLINDER TURBO DIESEL WITH COMMON RAIL DIRECT INJECTION, VARIABLE-GEOMETRY TURBOCHARGER, DELIVERING 140 HORSEPOWER AND 350 NM OF TORQUE, PRODUCED BY FIAT (FCA INDIA[9]) IN PUNE.[10] THE SAME POWER PLANT IS ALSO UTILISED BY THE JEEP COMPASS AND MG HECTOR IN THE INDIAN MARKET. IN THE HARRIER, TATA MOTORS USES THE COMMERCIAL NAME KRYOTEC FOR THE\""
      ]
     },
     "execution_count": 128,
     "metadata": {},
     "output_type": "execute_result"
    }
   ],
   "source": [
    "h5"
   ]
  },
  {
   "cell_type": "code",
   "execution_count": 129,
   "id": "0c975322",
   "metadata": {},
   "outputs": [],
   "source": [
    "h5=h5.lower()"
   ]
  },
  {
   "cell_type": "code",
   "execution_count": 130,
   "id": "cc97b3b9",
   "metadata": {},
   "outputs": [
    {
     "data": {
      "text/plain": [
       "\"known with the project code q501[5] during the development phase, this mid-size suv was previewed as the tata h5x concept car.[6] the reduction name 'harrier' was announced by the parent company in the summer of 2018.[7] the car is a c-segment suv based on the omegaarc platform, an essentially re-engineered version of the jaguar land rover d8 platform adopted by models such as range rover evoque, discovery sport and jaguar e-pace.[8] the omegaarc compared to the original d8 has been redesigned to lower production costs by adopting different alloys and rear suspension with twist-beam scheme and panhard rod with coil spring, cheaper than the multilink of the jaguar land rover models, while the front axle maintains the same macpherson strut with coil spring and anti roll bar. the body has smaller amounts of high-strength steel.\\n\\nchange also include engines and transmissions. the harrier has front-wheel drive, four-wheel drive is not yet available, the braking system uses ventilated discs at the front, while the rear uses drums. the engine is the 2.0 ltrs. multijet 16-valve four-cylinder turbo diesel with common rail direct injection, variable-geometry turbocharger, delivering 140 horsepower and 350 nm of torque, produced by fiat (fca india[9]) in pune.[10] the same power plant is also utilised by the jeep compass and mg hector in the indian market. in the harrier, tata motors uses the commercial name kryotec for the\""
      ]
     },
     "execution_count": 130,
     "metadata": {},
     "output_type": "execute_result"
    }
   ],
   "source": [
    "h5"
   ]
  },
  {
   "cell_type": "code",
   "execution_count": 131,
   "id": "3573089b",
   "metadata": {},
   "outputs": [
    {
     "ename": "TypeError",
     "evalue": "The fill character must be exactly one character long",
     "output_type": "error",
     "traceback": [
      "\u001b[1;31m---------------------------------------------------------------------------\u001b[0m",
      "\u001b[1;31mTypeError\u001b[0m                                 Traceback (most recent call last)",
      "Input \u001b[1;32mIn [131]\u001b[0m, in \u001b[0;36m<cell line: 1>\u001b[1;34m()\u001b[0m\n\u001b[1;32m----> 1\u001b[0m \u001b[43mh5\u001b[49m\u001b[38;5;241;43m.\u001b[39;49m\u001b[43mcenter\u001b[49m\u001b[43m(\u001b[49m\u001b[38;5;241;43m40\u001b[39;49m\u001b[43m,\u001b[49m\u001b[38;5;124;43m\"\u001b[39;49m\u001b[38;5;124;43mhare krishna\u001b[39;49m\u001b[38;5;124;43m\"\u001b[39;49m\u001b[43m)\u001b[49m\n",
      "\u001b[1;31mTypeError\u001b[0m: The fill character must be exactly one character long"
     ]
    }
   ],
   "source": [
    "h5.center(40,\"hare krishna\")"
   ]
  },
  {
   "cell_type": "code",
   "execution_count": 132,
   "id": "dea220c7",
   "metadata": {},
   "outputs": [
    {
     "ename": "TypeError",
     "evalue": "The fill character must be exactly one character long",
     "output_type": "error",
     "traceback": [
      "\u001b[1;31m---------------------------------------------------------------------------\u001b[0m",
      "\u001b[1;31mTypeError\u001b[0m                                 Traceback (most recent call last)",
      "Input \u001b[1;32mIn [132]\u001b[0m, in \u001b[0;36m<cell line: 1>\u001b[1;34m()\u001b[0m\n\u001b[1;32m----> 1\u001b[0m \u001b[43mh5\u001b[49m\u001b[38;5;241;43m.\u001b[39;49m\u001b[43mcenter\u001b[49m\u001b[43m(\u001b[49m\u001b[38;5;241;43m20\u001b[39;49m\u001b[43m \u001b[49m\u001b[43m,\u001b[49m\u001b[43m \u001b[49m\u001b[38;5;124;43m'\u001b[39;49m\u001b[38;5;124;43mhareKrishna\u001b[39;49m\u001b[38;5;124;43m'\u001b[39;49m\u001b[43m)\u001b[49m\n",
      "\u001b[1;31mTypeError\u001b[0m: The fill character must be exactly one character long"
     ]
    }
   ],
   "source": [
    "h5.center(20 , 'hareKrishna')"
   ]
  },
  {
   "cell_type": "code",
   "execution_count": 133,
   "id": "88c0a535",
   "metadata": {},
   "outputs": [],
   "source": [
    "h6= \"Hare krishna\""
   ]
  },
  {
   "cell_type": "code",
   "execution_count": 134,
   "id": "13a7c02e",
   "metadata": {},
   "outputs": [
    {
     "data": {
      "text/plain": [
       "'Hare krishna'"
      ]
     },
     "execution_count": 134,
     "metadata": {},
     "output_type": "execute_result"
    }
   ],
   "source": [
    "h6"
   ]
  },
  {
   "cell_type": "code",
   "execution_count": 135,
   "id": "187b54e6",
   "metadata": {},
   "outputs": [
    {
     "ename": "TypeError",
     "evalue": "The fill character must be exactly one character long",
     "output_type": "error",
     "traceback": [
      "\u001b[1;31m---------------------------------------------------------------------------\u001b[0m",
      "\u001b[1;31mTypeError\u001b[0m                                 Traceback (most recent call last)",
      "Input \u001b[1;32mIn [135]\u001b[0m, in \u001b[0;36m<cell line: 1>\u001b[1;34m()\u001b[0m\n\u001b[1;32m----> 1\u001b[0m \u001b[43mh6\u001b[49m\u001b[38;5;241;43m.\u001b[39;49m\u001b[43mcenter\u001b[49m\u001b[43m(\u001b[49m\u001b[38;5;241;43m20\u001b[39;49m\u001b[43m,\u001b[49m\u001b[38;5;124;43m\"\u001b[39;49m\u001b[38;5;124;43mHare Rama\u001b[39;49m\u001b[38;5;124;43m\"\u001b[39;49m\u001b[43m)\u001b[49m\n",
      "\u001b[1;31mTypeError\u001b[0m: The fill character must be exactly one character long"
     ]
    }
   ],
   "source": [
    "h6.center(20,\"Hare Rama\")"
   ]
  },
  {
   "cell_type": "code",
   "execution_count": 136,
   "id": "4bb04c54",
   "metadata": {},
   "outputs": [
    {
     "data": {
      "text/plain": [
       "'Hare krishna'"
      ]
     },
     "execution_count": 136,
     "metadata": {},
     "output_type": "execute_result"
    }
   ],
   "source": [
    "h6"
   ]
  },
  {
   "cell_type": "code",
   "execution_count": 137,
   "id": "c0ed7b5e",
   "metadata": {},
   "outputs": [
    {
     "data": {
      "text/plain": [
       "'####Hare krishna####'"
      ]
     },
     "execution_count": 137,
     "metadata": {},
     "output_type": "execute_result"
    }
   ],
   "source": [
    "h6.center(20,'#')"
   ]
  },
  {
   "cell_type": "code",
   "execution_count": 138,
   "id": "d01096ce",
   "metadata": {},
   "outputs": [
    {
     "data": {
      "text/plain": [
       "'###################Hare krishna###################'"
      ]
     },
     "execution_count": 138,
     "metadata": {},
     "output_type": "execute_result"
    }
   ],
   "source": [
    "h6.center(50,'#')"
   ]
  },
  {
   "cell_type": "code",
   "execution_count": 139,
   "id": "813e2590",
   "metadata": {},
   "outputs": [
    {
     "data": {
      "text/plain": [
       "False"
      ]
     },
     "execution_count": 139,
     "metadata": {},
     "output_type": "execute_result"
    }
   ],
   "source": [
    "h6.isupper()"
   ]
  },
  {
   "cell_type": "code",
   "execution_count": 140,
   "id": "f2965eed",
   "metadata": {},
   "outputs": [
    {
     "data": {
      "text/plain": [
       "False"
      ]
     },
     "execution_count": 140,
     "metadata": {},
     "output_type": "execute_result"
    }
   ],
   "source": [
    "h6.islower()"
   ]
  },
  {
   "cell_type": "code",
   "execution_count": 141,
   "id": "078df289",
   "metadata": {},
   "outputs": [],
   "source": [
    "h7=\"hare krishna\""
   ]
  },
  {
   "cell_type": "code",
   "execution_count": 142,
   "id": "fbebae50",
   "metadata": {},
   "outputs": [
    {
     "data": {
      "text/plain": [
       "'hare krishna'"
      ]
     },
     "execution_count": 142,
     "metadata": {},
     "output_type": "execute_result"
    }
   ],
   "source": [
    "h7"
   ]
  },
  {
   "cell_type": "code",
   "execution_count": 143,
   "id": "5c73e1b5",
   "metadata": {},
   "outputs": [
    {
     "data": {
      "text/plain": [
       "True"
      ]
     },
     "execution_count": 143,
     "metadata": {},
     "output_type": "execute_result"
    }
   ],
   "source": [
    "h7.islower()"
   ]
  },
  {
   "cell_type": "code",
   "execution_count": 144,
   "id": "ce4c8115",
   "metadata": {},
   "outputs": [
    {
     "data": {
      "text/plain": [
       "False"
      ]
     },
     "execution_count": 144,
     "metadata": {},
     "output_type": "execute_result"
    }
   ],
   "source": [
    "h7.isspace()"
   ]
  },
  {
   "cell_type": "code",
   "execution_count": 145,
   "id": "679cb762",
   "metadata": {},
   "outputs": [
    {
     "ename": "SyntaxError",
     "evalue": "invalid syntax (4051545526.py, line 1)",
     "output_type": "error",
     "traceback": [
      "\u001b[1;36m  Input \u001b[1;32mIn [145]\u001b[1;36m\u001b[0m\n\u001b[1;33m    h8.\" \"\u001b[0m\n\u001b[1;37m       ^\u001b[0m\n\u001b[1;31mSyntaxError\u001b[0m\u001b[1;31m:\u001b[0m invalid syntax\n"
     ]
    }
   ],
   "source": [
    "h8.\" \""
   ]
  },
  {
   "cell_type": "code",
   "execution_count": 146,
   "id": "73321883",
   "metadata": {},
   "outputs": [],
   "source": [
    "h8=\"    \""
   ]
  },
  {
   "cell_type": "code",
   "execution_count": 147,
   "id": "63e0cd10",
   "metadata": {},
   "outputs": [
    {
     "ename": "AttributeError",
     "evalue": "'str' object has no attribute 'space'",
     "output_type": "error",
     "traceback": [
      "\u001b[1;31m---------------------------------------------------------------------------\u001b[0m",
      "\u001b[1;31mAttributeError\u001b[0m                            Traceback (most recent call last)",
      "Input \u001b[1;32mIn [147]\u001b[0m, in \u001b[0;36m<cell line: 1>\u001b[1;34m()\u001b[0m\n\u001b[1;32m----> 1\u001b[0m \u001b[43mh8\u001b[49m\u001b[38;5;241;43m.\u001b[39;49m\u001b[43mspace\u001b[49m()\n",
      "\u001b[1;31mAttributeError\u001b[0m: 'str' object has no attribute 'space'"
     ]
    }
   ],
   "source": [
    "h8.space()"
   ]
  },
  {
   "cell_type": "code",
   "execution_count": 148,
   "id": "5e9eba70",
   "metadata": {},
   "outputs": [
    {
     "ename": "AttributeError",
     "evalue": "'str' object has no attribute 'space'",
     "output_type": "error",
     "traceback": [
      "\u001b[1;31m---------------------------------------------------------------------------\u001b[0m",
      "\u001b[1;31mAttributeError\u001b[0m                            Traceback (most recent call last)",
      "Input \u001b[1;32mIn [148]\u001b[0m, in \u001b[0;36m<cell line: 1>\u001b[1;34m()\u001b[0m\n\u001b[1;32m----> 1\u001b[0m \u001b[43mh8\u001b[49m\u001b[38;5;241;43m.\u001b[39;49m\u001b[43mspace\u001b[49m()\n",
      "\u001b[1;31mAttributeError\u001b[0m: 'str' object has no attribute 'space'"
     ]
    }
   ],
   "source": [
    "h8.space()"
   ]
  },
  {
   "cell_type": "code",
   "execution_count": 149,
   "id": "a780935e",
   "metadata": {},
   "outputs": [
    {
     "data": {
      "text/plain": [
       "True"
      ]
     },
     "execution_count": 149,
     "metadata": {},
     "output_type": "execute_result"
    }
   ],
   "source": [
    "h8.isspace()"
   ]
  },
  {
   "cell_type": "code",
   "execution_count": 150,
   "id": "685ba99b",
   "metadata": {},
   "outputs": [
    {
     "data": {
      "text/plain": [
       "False"
      ]
     },
     "execution_count": 150,
     "metadata": {},
     "output_type": "execute_result"
    }
   ],
   "source": [
    "h7.isspace()"
   ]
  },
  {
   "cell_type": "code",
   "execution_count": 151,
   "id": "496fd5d4",
   "metadata": {},
   "outputs": [],
   "source": [
    "h9= 123456"
   ]
  },
  {
   "cell_type": "code",
   "execution_count": 152,
   "id": "19548bb6",
   "metadata": {},
   "outputs": [
    {
     "ename": "AttributeError",
     "evalue": "'int' object has no attribute 'isdigit'",
     "output_type": "error",
     "traceback": [
      "\u001b[1;31m---------------------------------------------------------------------------\u001b[0m",
      "\u001b[1;31mAttributeError\u001b[0m                            Traceback (most recent call last)",
      "Input \u001b[1;32mIn [152]\u001b[0m, in \u001b[0;36m<cell line: 1>\u001b[1;34m()\u001b[0m\n\u001b[1;32m----> 1\u001b[0m \u001b[43mh9\u001b[49m\u001b[38;5;241;43m.\u001b[39;49m\u001b[43misdigit\u001b[49m()\n",
      "\u001b[1;31mAttributeError\u001b[0m: 'int' object has no attribute 'isdigit'"
     ]
    }
   ],
   "source": [
    "h9.isdigit()"
   ]
  },
  {
   "cell_type": "code",
   "execution_count": 153,
   "id": "064123db",
   "metadata": {},
   "outputs": [],
   "source": [
    "h9=\"123456\""
   ]
  },
  {
   "cell_type": "code",
   "execution_count": 154,
   "id": "8c6e3636",
   "metadata": {},
   "outputs": [
    {
     "data": {
      "text/plain": [
       "True"
      ]
     },
     "execution_count": 154,
     "metadata": {},
     "output_type": "execute_result"
    }
   ],
   "source": [
    "h9.isdigit()"
   ]
  },
  {
   "cell_type": "code",
   "execution_count": 155,
   "id": "59295e92",
   "metadata": {},
   "outputs": [],
   "source": [
    "h10=\"uhus7e7r9540957\""
   ]
  },
  {
   "cell_type": "code",
   "execution_count": 156,
   "id": "52cac92c",
   "metadata": {},
   "outputs": [
    {
     "data": {
      "text/plain": [
       "False"
      ]
     },
     "execution_count": 156,
     "metadata": {},
     "output_type": "execute_result"
    }
   ],
   "source": [
    "h10.isdigit()"
   ]
  },
  {
   "cell_type": "code",
   "execution_count": 157,
   "id": "5820c52e",
   "metadata": {},
   "outputs": [
    {
     "data": {
      "text/plain": [
       "True"
      ]
     },
     "execution_count": 157,
     "metadata": {},
     "output_type": "execute_result"
    }
   ],
   "source": [
    "h10.isalnum()"
   ]
  },
  {
   "cell_type": "code",
   "execution_count": 158,
   "id": "9596e078",
   "metadata": {},
   "outputs": [
    {
     "data": {
      "text/plain": [
       "False"
      ]
     },
     "execution_count": 158,
     "metadata": {},
     "output_type": "execute_result"
    }
   ],
   "source": [
    "h10.isalpha()"
   ]
  },
  {
   "cell_type": "code",
   "execution_count": 159,
   "id": "5ec7fd94",
   "metadata": {},
   "outputs": [
    {
     "data": {
      "text/plain": [
       "False"
      ]
     },
     "execution_count": 159,
     "metadata": {},
     "output_type": "execute_result"
    }
   ],
   "source": [
    "h10.isalpha()"
   ]
  },
  {
   "cell_type": "code",
   "execution_count": 160,
   "id": "2d607717",
   "metadata": {},
   "outputs": [
    {
     "ename": "AttributeError",
     "evalue": "'str' object has no attribute 'isstartwith'",
     "output_type": "error",
     "traceback": [
      "\u001b[1;31m---------------------------------------------------------------------------\u001b[0m",
      "\u001b[1;31mAttributeError\u001b[0m                            Traceback (most recent call last)",
      "Input \u001b[1;32mIn [160]\u001b[0m, in \u001b[0;36m<cell line: 1>\u001b[1;34m()\u001b[0m\n\u001b[1;32m----> 1\u001b[0m \u001b[43mh10\u001b[49m\u001b[38;5;241;43m.\u001b[39;49m\u001b[43misstartwith\u001b[49m(\u001b[38;5;124m'\u001b[39m\u001b[38;5;124mi\u001b[39m\u001b[38;5;124m'\u001b[39m)\n",
      "\u001b[1;31mAttributeError\u001b[0m: 'str' object has no attribute 'isstartwith'"
     ]
    }
   ],
   "source": [
    "h10.isstartwith('i')"
   ]
  },
  {
   "cell_type": "code",
   "execution_count": 161,
   "id": "33700423",
   "metadata": {},
   "outputs": [
    {
     "data": {
      "text/plain": [
       "False"
      ]
     },
     "execution_count": 161,
     "metadata": {},
     "output_type": "execute_result"
    }
   ],
   "source": [
    "h10.startswith('i')"
   ]
  },
  {
   "cell_type": "code",
   "execution_count": 162,
   "id": "c8d068a2",
   "metadata": {},
   "outputs": [
    {
     "ename": "AttributeError",
     "evalue": "'str' object has no attribute 'startwith'",
     "output_type": "error",
     "traceback": [
      "\u001b[1;31m---------------------------------------------------------------------------\u001b[0m",
      "\u001b[1;31mAttributeError\u001b[0m                            Traceback (most recent call last)",
      "Input \u001b[1;32mIn [162]\u001b[0m, in \u001b[0;36m<cell line: 1>\u001b[1;34m()\u001b[0m\n\u001b[1;32m----> 1\u001b[0m \u001b[43mh10\u001b[49m\u001b[38;5;241;43m.\u001b[39;49m\u001b[43mstartwith\u001b[49m(\u001b[38;5;124m'\u001b[39m\u001b[38;5;124mu\u001b[39m\u001b[38;5;124m'\u001b[39m)\n",
      "\u001b[1;31mAttributeError\u001b[0m: 'str' object has no attribute 'startwith'"
     ]
    }
   ],
   "source": [
    "h10.startwith('u')"
   ]
  },
  {
   "cell_type": "code",
   "execution_count": 163,
   "id": "a68b64c8",
   "metadata": {},
   "outputs": [
    {
     "data": {
      "text/plain": [
       "True"
      ]
     },
     "execution_count": 163,
     "metadata": {},
     "output_type": "execute_result"
    }
   ],
   "source": [
    "h10.startswith('u')"
   ]
  },
  {
   "cell_type": "code",
   "execution_count": 164,
   "id": "2b61cec8",
   "metadata": {},
   "outputs": [
    {
     "data": {
      "text/plain": [
       "'uhus7e7r9540957'"
      ]
     },
     "execution_count": 164,
     "metadata": {},
     "output_type": "execute_result"
    }
   ],
   "source": [
    "h10"
   ]
  },
  {
   "cell_type": "code",
   "execution_count": 165,
   "id": "87b88138",
   "metadata": {},
   "outputs": [
    {
     "data": {
      "text/plain": [
       "<function str.isnumeric()>"
      ]
     },
     "execution_count": 165,
     "metadata": {},
     "output_type": "execute_result"
    }
   ],
   "source": [
    "h10.isnumeric"
   ]
  },
  {
   "cell_type": "code",
   "execution_count": 166,
   "id": "50633376",
   "metadata": {},
   "outputs": [
    {
     "data": {
      "text/plain": [
       "False"
      ]
     },
     "execution_count": 166,
     "metadata": {},
     "output_type": "execute_result"
    }
   ],
   "source": [
    "h10.isnumeric()"
   ]
  },
  {
   "cell_type": "code",
   "execution_count": 167,
   "id": "ac0099c7",
   "metadata": {},
   "outputs": [
    {
     "data": {
      "text/plain": [
       "True"
      ]
     },
     "execution_count": 167,
     "metadata": {},
     "output_type": "execute_result"
    }
   ],
   "source": [
    "h10.isascii()"
   ]
  },
  {
   "cell_type": "code",
   "execution_count": 168,
   "id": "33aa9922",
   "metadata": {},
   "outputs": [],
   "source": [
    "s=\"ilovecoding\""
   ]
  },
  {
   "cell_type": "code",
   "execution_count": 169,
   "id": "cbfd9372",
   "metadata": {},
   "outputs": [
    {
     "ename": "TypeError",
     "evalue": "The fill character must be exactly one character long",
     "output_type": "error",
     "traceback": [
      "\u001b[1;31m---------------------------------------------------------------------------\u001b[0m",
      "\u001b[1;31mTypeError\u001b[0m                                 Traceback (most recent call last)",
      "Input \u001b[1;32mIn [169]\u001b[0m, in \u001b[0;36m<cell line: 1>\u001b[1;34m()\u001b[0m\n\u001b[1;32m----> 1\u001b[0m \u001b[43ms\u001b[49m\u001b[38;5;241;43m.\u001b[39;49m\u001b[43mcenter\u001b[49m\u001b[43m(\u001b[49m\u001b[38;5;241;43m20\u001b[39;49m\u001b[43m,\u001b[49m\u001b[38;5;124;43m'\u001b[39;49m\u001b[38;5;124;43myes\u001b[39;49m\u001b[38;5;124;43m'\u001b[39;49m\u001b[43m)\u001b[49m\n",
      "\u001b[1;31mTypeError\u001b[0m: The fill character must be exactly one character long"
     ]
    }
   ],
   "source": [
    "s.center(20,'yes')"
   ]
  },
  {
   "cell_type": "code",
   "execution_count": 170,
   "id": "8f1a475f",
   "metadata": {},
   "outputs": [
    {
     "data": {
      "text/plain": [
       "'@@@@ilovecoding@@@@@'"
      ]
     },
     "execution_count": 170,
     "metadata": {},
     "output_type": "execute_result"
    }
   ],
   "source": [
    "s.center(20,'@')"
   ]
  },
  {
   "cell_type": "code",
   "execution_count": 171,
   "id": "9459cf5e",
   "metadata": {},
   "outputs": [
    {
     "data": {
      "text/plain": [
       "'h5'"
      ]
     },
     "execution_count": 171,
     "metadata": {},
     "output_type": "execute_result"
    }
   ],
   "source": [
    " \"\".join(\"h5\")"
   ]
  },
  {
   "cell_type": "code",
   "execution_count": 172,
   "id": "bf358c40",
   "metadata": {},
   "outputs": [
    {
     "data": {
      "text/plain": [
       "'ilovecoding'"
      ]
     },
     "execution_count": 172,
     "metadata": {},
     "output_type": "execute_result"
    }
   ],
   "source": [
    "\"\".join(s)"
   ]
  },
  {
   "cell_type": "code",
   "execution_count": 174,
   "id": "7dbbbaaf",
   "metadata": {},
   "outputs": [
    {
     "data": {
      "text/plain": [
       "\"known with the project code q501[5] during the development phase, this mid-size suv was previewed as the tata h5x concept car.[6] the reduction name 'harrier' was announced by the parent company in the summer of 2018.[7] the car is a c-segment suv based on the omegaarc platform, an essentially re-engineered version of the jaguar land rover d8 platform adopted by models such as range rover evoque, discovery sport and jaguar e-pace.[8] the omegaarc compared to the original d8 has been redesigned to lower production costs by adopting different alloys and rear suspension with twist-beam scheme and panhard rod with coil spring, cheaper than the multilink of the jaguar land rover models, while the front axle maintains the same macpherson strut with coil spring and anti roll bar. the body has smaller amounts of high-strength steel.\\n\\nchange also include engines and transmissions. the harrier has front-wheel drive, four-wheel drive is not yet available, the braking system uses ventilated discs at the front, while the rear uses drums. the engine is the 2.0 ltrs. multijet 16-valve four-cylinder turbo diesel with common rail direct injection, variable-geometry turbocharger, delivering 140 horsepower and 350 nm of torque, produced by fiat (fca india[9]) in pune.[10] the same power plant is also utilised by the jeep compass and mg hector in the indian market. in the harrier, tata motors uses the commercial name kryotec for the\""
      ]
     },
     "execution_count": 174,
     "metadata": {},
     "output_type": "execute_result"
    }
   ],
   "source": [
    "\"\".join(h5)"
   ]
  },
  {
   "cell_type": "code",
   "execution_count": 178,
   "id": "49ba28eb",
   "metadata": {},
   "outputs": [],
   "source": [
    "s=\"hare\\tkrishna\\thare\\trama\""
   ]
  },
  {
   "cell_type": "code",
   "execution_count": 179,
   "id": "05bc0708",
   "metadata": {},
   "outputs": [
    {
     "data": {
      "text/plain": [
       "'hare    krishna hare    rama'"
      ]
     },
     "execution_count": 179,
     "metadata": {},
     "output_type": "execute_result"
    }
   ],
   "source": [
    "s.expandtabs()"
   ]
  },
  {
   "cell_type": "code",
   "execution_count": 180,
   "id": "69567902",
   "metadata": {},
   "outputs": [],
   "source": [
    "s = \" this is My First python Programming class and i am learNING python string and its function\"\n"
   ]
  },
  {
   "cell_type": "code",
   "execution_count": 182,
   "id": "e9c70574",
   "metadata": {},
   "outputs": [],
   "source": [
    "w=\"\"\"Known with the project code Q501[5] during the development phase, this mid-size SUV was previewed as the Tata H5X concept car.[6] The reduction name 'Harrier' was announced by the parent company in the summer of 2018.[7] The car is a C-segment SUV based on the OmegaArc platform, an essentially re-engineered version of the Jaguar Land Rover D8 platform adopted by models such as Range Rover Evoque, Discovery Sport and Jaguar E-Pace.[8] The OmegaArc compared to the original D8 has been redesigned to lower production costs by adopting different alloys and rear suspension with twist-beam scheme and panhard rod with coil spring, cheaper than the multilink of the Jaguar Land Rover models, while the front axle maintains the same MacPherson strut with coil spring and anti roll bar. The body has smaller amounts of high-strength steel.\n",
    "\n",
    "Change also include engines and transmissions. The Harrier has front-wheel drive, four-wheel drive is not yet available, the braking system uses ventilated discs at the front, while the rear uses drums. The engine is the 2.0 ltrs. Multijet 16-valve four-cylinder turbo diesel with common rail direct injection, variable-geometry turbocharger, delivering 140 horsepower and 350 Nm of torque, produced by Fiat (FCA India[9]) in Pune.[10] The same power plant is also utilised by the Jeep Compass and MG Hector in the Indian market. In the Harrier, Tata Motors uses the commercial name Kryotec for the\"\"\""
   ]
  },
  {
   "cell_type": "code",
   "execution_count": 183,
   "id": "417a5384",
   "metadata": {},
   "outputs": [
    {
     "data": {
      "text/plain": [
       "\"Known with the project code Q501[5] during the development phase, this mid-size SUV was previewed as the Tata H5X concept car.[6] The reduction name 'Harrier' was announced by the parent company in the summer of 2018.[7] The car is a C-segment SUV based on the OmegaArc platform, an essentially re-engineered version of the Jaguar Land Rover D8 platform adopted by models such as Range Rover Evoque, Discovery Sport and Jaguar E-Pace.[8] The OmegaArc compared to the original D8 has been redesigned to lower production costs by adopting different alloys and rear suspension with twist-beam scheme and panhard rod with coil spring, cheaper than the multilink of the Jaguar Land Rover models, while the front axle maintains the same MacPherson strut with coil spring and anti roll bar. The body has smaller amounts of high-strength steel.\\n\\nChange also include engines and transmissions. The Harrier has front-wheel drive, four-wheel drive is not yet available, the braking system uses ventilated discs at the front, while the rear uses drums. The engine is the 2.0 ltrs. Multijet 16-valve four-cylinder turbo diesel with common rail direct injection, variable-geometry turbocharger, delivering 140 horsepower and 350 Nm of torque, produced by Fiat (FCA India[9]) in Pune.[10] The same power plant is also utilised by the Jeep Compass and MG Hector in the Indian market. In the Harrier, Tata Motors uses the commercial name Kryotec for the\""
      ]
     },
     "execution_count": 183,
     "metadata": {},
     "output_type": "execute_result"
    }
   ],
   "source": [
    "w"
   ]
  },
  {
   "cell_type": "code",
   "execution_count": 184,
   "id": "114acc94",
   "metadata": {},
   "outputs": [
    {
     "data": {
      "text/plain": [
       "\"Known With The Project Code Q501[5] During The Development Phase, This Mid-Size Suv Was Previewed As The Tata H5X Concept Car.[6] The Reduction Name 'Harrier' Was Announced By The Parent Company In The Summer Of 2018.[7] The Car Is A C-Segment Suv Based On The Omegaarc Platform, An Essentially Re-Engineered Version Of The Jaguar Land Rover D8 Platform Adopted By Models Such As Range Rover Evoque, Discovery Sport And Jaguar E-Pace.[8] The Omegaarc Compared To The Original D8 Has Been Redesigned To Lower Production Costs By Adopting Different Alloys And Rear Suspension With Twist-Beam Scheme And Panhard Rod With Coil Spring, Cheaper Than The Multilink Of The Jaguar Land Rover Models, While The Front Axle Maintains The Same Macpherson Strut With Coil Spring And Anti Roll Bar. The Body Has Smaller Amounts Of High-Strength Steel.\\n\\nChange Also Include Engines And Transmissions. The Harrier Has Front-Wheel Drive, Four-Wheel Drive Is Not Yet Available, The Braking System Uses Ventilated Discs At The Front, While The Rear Uses Drums. The Engine Is The 2.0 Ltrs. Multijet 16-Valve Four-Cylinder Turbo Diesel With Common Rail Direct Injection, Variable-Geometry Turbocharger, Delivering 140 Horsepower And 350 Nm Of Torque, Produced By Fiat (Fca India[9]) In Pune.[10] The Same Power Plant Is Also Utilised By The Jeep Compass And Mg Hector In The Indian Market. In The Harrier, Tata Motors Uses The Commercial Name Kryotec For The\""
      ]
     },
     "execution_count": 184,
     "metadata": {},
     "output_type": "execute_result"
    }
   ],
   "source": [
    "w.title()"
   ]
  },
  {
   "cell_type": "code",
   "execution_count": 185,
   "id": "e204a947",
   "metadata": {},
   "outputs": [
    {
     "data": {
      "text/plain": [
       "[\"Known with the project code Q501[5] during the development phase, this mid-size SUV was previewed as the Tata H5X concept car.[6] The reduction name 'Harrier' was announced by the parent company in the summer of 2018.[7] The car is a C-segment SUV based on the OmegaArc platform, an essentially re-engineered version of the Jaguar Land Rover D8 platform adopted by models such as Range Rover Evoque, Discovery Sport and Jaguar E-Pace.[8] The OmegaArc compared to the original D8 has been redesigned to lower production costs by adopting different alloys and rear suspension with twist-beam scheme and panhard rod with coil spring, cheaper than the multilink of the Jaguar Land Rover models, while the front axle maintains the same MacPherson strut with coil spring and anti roll bar. The body has smaller amounts of high-strength steel.\",\n",
       " '',\n",
       " 'Change also include engines and transmissions. The Harrier has front-wheel drive, four-wheel drive is not yet available, the braking system uses ventilated discs at the front, while the rear uses drums. The engine is the 2.0 ltrs. Multijet 16-valve four-cylinder turbo diesel with common rail direct injection, variable-geometry turbocharger, delivering 140 horsepower and 350 Nm of torque, produced by Fiat (FCA India[9]) in Pune.[10] The same power plant is also utilised by the Jeep Compass and MG Hector in the Indian market. In the Harrier, Tata Motors uses the commercial name Kryotec for the']"
      ]
     },
     "execution_count": 185,
     "metadata": {},
     "output_type": "execute_result"
    }
   ],
   "source": [
    "w.splitlines()"
   ]
  },
  {
   "cell_type": "code",
   "execution_count": null,
   "id": "4ee0e0e0",
   "metadata": {},
   "outputs": [],
   "source": []
  }
 ],
 "metadata": {
  "kernelspec": {
   "display_name": "Python 3 (ipykernel)",
   "language": "python",
   "name": "python3"
  },
  "language_info": {
   "codemirror_mode": {
    "name": "ipython",
    "version": 3
   },
   "file_extension": ".py",
   "mimetype": "text/x-python",
   "name": "python",
   "nbconvert_exporter": "python",
   "pygments_lexer": "ipython3",
   "version": "3.9.12"
  }
 },
 "nbformat": 4,
 "nbformat_minor": 5
}
