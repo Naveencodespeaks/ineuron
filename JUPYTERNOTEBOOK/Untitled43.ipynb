{
 "cells": [
  {
   "cell_type": "markdown",
   "id": "eae1bbc0",
   "metadata": {},
   "source": [
    "# Statistics"
   ]
  },
  {
   "cell_type": "code",
   "execution_count": null,
   "id": "8130c94e",
   "metadata": {},
   "outputs": [],
   "source": [
    "1.histogram\n",
    "2.measure of central tendency\n",
    "3.Measure of dispursion\n",
    "4.percentiles and quartiles\n",
    "5.5-number summarny(Box-plot)"
   ]
  },
  {
   "cell_type": "code",
   "execution_count": null,
   "id": "8d004fff",
   "metadata": {},
   "outputs": [],
   "source": [
    "Histogram:\n",
    "    histogram provide a information \n",
    "    \n",
    "ags = {10,12,13,14,24,26,30,36,37,40,42,43,50,51,65,68,78,90,95,100}"
   ]
  },
  {
   "cell_type": "code",
   "execution_count": null,
   "id": "bcff28a1",
   "metadata": {},
   "outputs": [],
   "source": [
    "first we have to sort the numbers\n",
    "                                                   [10,20,25,30,35,40]  min = 10\n",
    "2. Bins --> no.of Groups                                                max = 40\n",
    "                                           bins = 10\n",
    "3. Bin size --> size of bin       |--|--|\n",
    "                                  0  3  6"
   ]
  }
 ],
 "metadata": {
  "kernelspec": {
   "display_name": "Python 3 (ipykernel)",
   "language": "python",
   "name": "python3"
  },
  "language_info": {
   "codemirror_mode": {
    "name": "ipython",
    "version": 3
   },
   "file_extension": ".py",
   "mimetype": "text/x-python",
   "name": "python",
   "nbconvert_exporter": "python",
   "pygments_lexer": "ipython3",
   "version": "3.9.12"
  }
 },
 "nbformat": 4,
 "nbformat_minor": 5
}
