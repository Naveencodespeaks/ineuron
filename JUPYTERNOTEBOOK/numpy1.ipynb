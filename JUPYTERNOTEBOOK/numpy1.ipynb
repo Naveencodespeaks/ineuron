{
 "cells": [
  {
   "cell_type": "code",
   "execution_count": 3,
   "id": "2a590faf",
   "metadata": {},
   "outputs": [],
   "source": [
    "import numpy as np"
   ]
  },
  {
   "cell_type": "code",
   "execution_count": 4,
   "id": "927d58b5",
   "metadata": {},
   "outputs": [
    {
     "data": {
      "text/plain": [
       "array([ 2,  3, 42,  1,  3,  3,  4])"
      ]
     },
     "execution_count": 4,
     "metadata": {},
     "output_type": "execute_result"
    }
   ],
   "source": [
    "np.array([2,3,42,1,3,3,4])"
   ]
  },
  {
   "cell_type": "code",
   "execution_count": 5,
   "id": "e28f8a68",
   "metadata": {},
   "outputs": [
    {
     "data": {
      "text/plain": [
       "numpy.ndarray"
      ]
     },
     "execution_count": 5,
     "metadata": {},
     "output_type": "execute_result"
    }
   ],
   "source": [
    "type(np.array([2,3,4,2,4,2,4,2,4]))"
   ]
  },
  {
   "cell_type": "code",
   "execution_count": 10,
   "id": "54f55248",
   "metadata": {},
   "outputs": [
    {
     "data": {
      "text/plain": [
       "array([[ 1,  3,  4],\n",
       "       [ 4, 56,  3]])"
      ]
     },
     "execution_count": 10,
     "metadata": {},
     "output_type": "execute_result"
    }
   ],
   "source": [
    "np.array([[1,3,4],[4,56,3]])"
   ]
  },
  {
   "cell_type": "code",
   "execution_count": 11,
   "id": "3a87ae88",
   "metadata": {},
   "outputs": [
    {
     "data": {
      "text/plain": [
       "array([[1, 2, 3, 4],\n",
       "       [5, 4, 6, 7]])"
      ]
     },
     "execution_count": 11,
     "metadata": {},
     "output_type": "execute_result"
    }
   ],
   "source": [
    "np.array([[1,2,3,4,],[5,4,6,7]])"
   ]
  },
  {
   "cell_type": "code",
   "execution_count": 12,
   "id": "c18f69d9",
   "metadata": {},
   "outputs": [],
   "source": [
    "l = [[1,2,3,4,],[5,4,6,7]]"
   ]
  },
  {
   "cell_type": "code",
   "execution_count": 13,
   "id": "978a9e96",
   "metadata": {},
   "outputs": [
    {
     "data": {
      "text/plain": [
       "[1, 2, 3, 4]"
      ]
     },
     "execution_count": 13,
     "metadata": {},
     "output_type": "execute_result"
    }
   ],
   "source": [
    "l[0]"
   ]
  },
  {
   "cell_type": "code",
   "execution_count": 14,
   "id": "2592e23f",
   "metadata": {},
   "outputs": [
    {
     "data": {
      "text/plain": [
       "1"
      ]
     },
     "execution_count": 14,
     "metadata": {},
     "output_type": "execute_result"
    }
   ],
   "source": [
    "l[0][0]"
   ]
  },
  {
   "cell_type": "code",
   "execution_count": 15,
   "id": "146a11f2",
   "metadata": {},
   "outputs": [],
   "source": [
    "a = np.array([3,4,5,6],ndmin= 5)"
   ]
  },
  {
   "cell_type": "code",
   "execution_count": 16,
   "id": "94067dfd",
   "metadata": {},
   "outputs": [
    {
     "data": {
      "text/plain": [
       "array([[[[[3, 4, 5, 6]]]]])"
      ]
     },
     "execution_count": 16,
     "metadata": {},
     "output_type": "execute_result"
    }
   ],
   "source": [
    "a"
   ]
  },
  {
   "cell_type": "code",
   "execution_count": 19,
   "id": "d6389fc2",
   "metadata": {},
   "outputs": [],
   "source": [
    "a1 = np.array([3,4,5,6],ndmin= 3)"
   ]
  },
  {
   "cell_type": "code",
   "execution_count": 20,
   "id": "4bb57f45",
   "metadata": {},
   "outputs": [
    {
     "data": {
      "text/plain": [
       "array([[[3, 4, 5, 6]]])"
      ]
     },
     "execution_count": 20,
     "metadata": {},
     "output_type": "execute_result"
    }
   ],
   "source": [
    "a1"
   ]
  },
  {
   "cell_type": "code",
   "execution_count": 21,
   "id": "8619614e",
   "metadata": {},
   "outputs": [],
   "source": [
    "arr = np.array([[1,2,4], [2,3,4], [4,6,5]])"
   ]
  },
  {
   "cell_type": "code",
   "execution_count": 22,
   "id": "2643ea48",
   "metadata": {},
   "outputs": [
    {
     "data": {
      "text/plain": [
       "array([[1, 2, 4],\n",
       "       [2, 3, 4],\n",
       "       [4, 6, 5]])"
      ]
     },
     "execution_count": 22,
     "metadata": {},
     "output_type": "execute_result"
    }
   ],
   "source": [
    "arr"
   ]
  },
  {
   "cell_type": "code",
   "execution_count": 23,
   "id": "6abe5304",
   "metadata": {},
   "outputs": [
    {
     "data": {
      "text/plain": [
       "2"
      ]
     },
     "execution_count": 23,
     "metadata": {},
     "output_type": "execute_result"
    }
   ],
   "source": [
    "arr.ndim"
   ]
  },
  {
   "cell_type": "code",
   "execution_count": 24,
   "id": "59f3b113",
   "metadata": {},
   "outputs": [
    {
     "data": {
      "text/plain": [
       "array([[6, 2, 9, 3],\n",
       "       [3, 6, 5, 2],\n",
       "       [4, 5, 4, 8],\n",
       "       [5, 5, 8, 5]])"
      ]
     },
     "execution_count": 24,
     "metadata": {},
     "output_type": "execute_result"
    }
   ],
   "source": [
    "# randint is it genetate random integer\n",
    "np.random.randint(1,10,(4,4))"
   ]
  },
  {
   "cell_type": "code",
   "execution_count": 29,
   "id": "ca01907d",
   "metadata": {},
   "outputs": [
    {
     "data": {
      "text/plain": [
       "array([[[6, 5],\n",
       "        [5, 2],\n",
       "        [2, 5],\n",
       "        [9, 9]],\n",
       "\n",
       "       [[2, 9],\n",
       "        [1, 6],\n",
       "        [4, 8],\n",
       "        [8, 5]],\n",
       "\n",
       "       [[8, 1],\n",
       "        [2, 2],\n",
       "        [4, 6],\n",
       "        [7, 5]],\n",
       "\n",
       "       [[2, 2],\n",
       "        [8, 3],\n",
       "        [2, 9],\n",
       "        [6, 1]]])"
      ]
     },
     "execution_count": 29,
     "metadata": {},
     "output_type": "execute_result"
    }
   ],
   "source": [
    "np.random.randint(1,10,(4,4,2))\n"
   ]
  },
  {
   "cell_type": "code",
   "execution_count": null,
   "id": "4e8635a8",
   "metadata": {},
   "outputs": [],
   "source": []
  },
  {
   "cell_type": "code",
   "execution_count": null,
   "id": "618a5724",
   "metadata": {},
   "outputs": [],
   "source": []
  }
 ],
 "metadata": {
  "kernelspec": {
   "display_name": "Python 3 (ipykernel)",
   "language": "python",
   "name": "python3"
  },
  "language_info": {
   "codemirror_mode": {
    "name": "ipython",
    "version": 3
   },
   "file_extension": ".py",
   "mimetype": "text/x-python",
   "name": "python",
   "nbconvert_exporter": "python",
   "pygments_lexer": "ipython3",
   "version": "3.9.13"
  }
 },
 "nbformat": 4,
 "nbformat_minor": 5
}
