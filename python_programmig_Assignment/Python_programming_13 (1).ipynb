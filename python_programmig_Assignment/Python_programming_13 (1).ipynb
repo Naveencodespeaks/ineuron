{
 "cells": [
  {
   "cell_type": "markdown",
   "id": "81ab35d3",
   "metadata": {},
   "source": [
    "# 1.Write a program that calculates and prints the value according to the given formula:\n",
    "### Q = Square root of [(2 * C * D)/H]\n",
    "### Following are the fixed values of C and H:\n",
    "### C is 50. H is 30.\n",
    "### D is the variable whose values should be input to your program in a comma-separated sequence.\n",
    "### Example: Let us assume the following comma separated input sequence is given to the program:100,150,180\n",
    "### The output of the program should be: 18,22,24"
   ]
  },
  {
   "cell_type": "code",
   "execution_count": 1,
   "id": "065fd258",
   "metadata": {},
   "outputs": [
    {
     "name": "stdout",
     "output_type": "stream",
     "text": [
      "Enter the Input: 100,150,180\n",
      "Output: 18,22,24\n"
     ]
    }
   ],
   "source": [
    "from math import sqrt\n",
    "def calculateProgram():\n",
    "    in_num = eval(input(\"Enter the Input: \"))\n",
    "    out_num = []\n",
    "    C = 50 # Declaring and initializing constant C\n",
    "    H = 30 # Declaring and initializing constant H\n",
    "    for ele in in_num:\n",
    "        Q = str(int(sqrt((2*C*ele)/H)))\n",
    "        out_num.append(Q)\n",
    "    print(\"Output: {}\".format(','.join(out_num)))\n",
    "    \n",
    "calculateProgram()"
   ]
  },
  {
   "cell_type": "markdown",
   "id": "da1767a7",
   "metadata": {},
   "source": [
    "# 2:Write a program which takes 2 digits, X,Y as input and generates a 2-dimensional array.\n",
    "### The element value in the i-th row and j-th column of the array should be i*j.\n",
    "### Note: i=0,1.., X-1; j=0,1,¡Y-1.\n",
    "### Example\n",
    "### Suppose the following inputs are given to the program:\n",
    "### 3,5\n",
    "### Then, the output of the program should be:\n",
    "### [[0, 0, 0, 0, 0], [0, 1, 2, 3, 4], [0, 2, 4, 6, 8]]"
   ]
  },
  {
   "cell_type": "code",
   "execution_count": 3,
   "id": "b0e7ef7d",
   "metadata": {},
   "outputs": [
    {
     "name": "stdout",
     "output_type": "stream",
     "text": [
      "Enter the No of Rows:3\n",
      "Enter the No of Columns:5\n",
      "[[0, 0, 0, 0, 0], [0, 1, 2, 3, 4], [0, 2, 4, 6, 8]]\n"
     ]
    }
   ],
   "source": [
    "import array as arr\n",
    "def generateArray():\n",
    "    in_x = int(input('Enter the No of Rows:'))\n",
    "    in_y = int(input('Enter the No of Columns:')) \n",
    "    out_array = []\n",
    "    for i in range(in_x):\n",
    "        out_array.insert(in_x,[])\n",
    "        for sub_ele in range(in_y):\n",
    "            out_array[i].append(i*sub_ele)\n",
    "    print(out_array)\n",
    "    \n",
    "generateArray()"
   ]
  },
  {
   "cell_type": "markdown",
   "id": "c3b29881",
   "metadata": {},
   "source": [
    "# 3. Write a program that accepts a comma separated sequence of words as input and prints the\n",
    "### words in a comma-separated sequence after sorting them alphabetically.\n",
    "### Suppose the following input is supplied to the program:\n",
    "### without,hello,bag,world\n",
    "### Then, the output should be:\n",
    "### bag,hello,without,world"
   ]
  },
  {
   "cell_type": "code",
   "execution_count": 4,
   "id": "1de49c7a",
   "metadata": {},
   "outputs": [
    {
     "name": "stdout",
     "output_type": "stream",
     "text": [
      "Enter the Input String: zebra,ineuron, actor,aeroplane, orange, computer, water \n",
      "Output:  actor, computer, orange, water ,aeroplane,ineuron,zebra\n"
     ]
    }
   ],
   "source": [
    "def sortString():\n",
    "    in_string = input(\"Enter the Input String: \")\n",
    "    out_string = ','.join(sorted(in_string.split(',')))\n",
    "    print(f'Output: {out_string}')\n",
    "    \n",
    "sortString()"
   ]
  },
  {
   "cell_type": "markdown",
   "id": "598b4a6f",
   "metadata": {},
   "source": [
    "# 4. Write a program that accepts a sequence of whitespace separated words as input and prints\n",
    "### the words after removing all duplicate words and sorting them alphanumerically.\n",
    "### Suppose the following input is supplied to the program:\n",
    "### hello world and practice makes perfect and hello world again\n",
    "### Then, the output should be:\n",
    "### again and hello makes perfect practice world"
   ]
  },
  {
   "cell_type": "code",
   "execution_count": 6,
   "id": "80197283",
   "metadata": {},
   "outputs": [
    {
     "name": "stdout",
     "output_type": "stream",
     "text": [
      "Enter the Input String: hello world and practice makes perfect and hello world again\n",
      "Output: again and hello makes perfect practice world\n"
     ]
    }
   ],
   "source": [
    "def sortAlphaNumerically():\n",
    "    in_string = input(\"Enter the Input String: \")\n",
    "    out_string = ' '.join(sorted(sorted(list(set(in_string.split(\" \"))))))\n",
    "    print(f'Output: {out_string}')\n",
    "    \n",
    "sortAlphaNumerically()"
   ]
  },
  {
   "cell_type": "markdown",
   "id": "04248b23",
   "metadata": {},
   "source": [
    "# 5. Write a program that accepts a sentence and calculate the number of letters and digits.\n",
    "### Suppose the following input is supplied to the program:\n",
    "### hello world! 123\n",
    "### Then, the output should be:\n",
    "### LETTERS 10\n",
    "### DIGITS 3"
   ]
  },
  {
   "cell_type": "code",
   "execution_count": 10,
   "id": "bec6688c",
   "metadata": {},
   "outputs": [
    {
     "name": "stdout",
     "output_type": "stream",
     "text": [
      "Enter the Input String: ABd1234@1,a F1#,2w3E*,2We3345\n",
      "LETTERS 9 \n",
      "DIGITS 13\n"
     ]
    }
   ],
   "source": [
    "def countLetterAndDigits():\n",
    "    in_string = input(\"Enter the Input String: \")\n",
    "    lettersList = 'ABCDEFGHIJKLMNOPQRSTUVWXYZabcdefghijklmnopqrstuvwxyz'\n",
    "    digitsList = '0123456789'\n",
    "    letters = 0\n",
    "    digits = 0\n",
    "    for i in in_string:\n",
    "        if i in lettersList:\n",
    "            letters += 1\n",
    "        if i in digitsList:\n",
    "            digits += 1\n",
    "    print(f'LETTERS {letters} \\nDIGITS {digits}')\n",
    "        \n",
    "countLetterAndDigits()"
   ]
  },
  {
   "cell_type": "markdown",
   "id": "be50bc91",
   "metadata": {},
   "source": [
    "# 6. A website requires the users to input username and password to register. Write a program to\n",
    "### check the validity of password input by users.\n",
    "### Following are the criteria for checking the password:\n",
    "### 1. At least 1 letter between [a-z]\n",
    "### 2. At least 1 number between [0-9]\n",
    "### 1. At least 1 letter between [A-Z]\n",
    "### 3. At least 1 character from [$#@]\n",
    "### 4. Minimum length of transaction password: 6\n",
    "### 5. Maximum length of transaction password: 12\n",
    "### Your program should accept a sequence of comma separated passwords and will check them\n",
    "### according to the above criteria. Passwords that match the criteria are to be printed, each\n",
    "### separated by a comma.\n",
    "### Example\n",
    "### If the following passwords are given as input to the program:\n",
    "### ABd1234@1,a F1#,2w3E*,2We3345\n",
    "### Then, the output of the program should be:\n",
    "### ABd1234@1"
   ]
  },
  {
   "cell_type": "code",
   "execution_count": 16,
   "id": "bf4e9119",
   "metadata": {},
   "outputs": [
    {
     "name": "stdout",
     "output_type": "stream",
     "text": [
      "Enter the Input String: ABd1234@1,a F1#,2w3E*,2We3345\n",
      "ABd1234@1\n"
     ]
    }
   ],
   "source": [
    "def web_req():\n",
    "    string = input(\"Enter the Input String: \")\n",
    "    small_Alpha = \"abcdefghijklmnopqrstuvwxyz\"\n",
    "    captal_Alpha = \"ABCDEFGHIJKLMNOPQRSTUVWXYZ\"\n",
    "    num_list = \"0123456789\"\n",
    "    special_char = \"$#@\"\n",
    "    for i in string.split(\",\"):\n",
    "        if len(i) <= 12 and len(i) >=6 :\n",
    "            if any(j.isupper() for j in i):\n",
    "                if any(j.islower() for j in i):\n",
    "                    if any(j for j in i if j in special_char):\n",
    "                        print(i)\n",
    "                               \n",
    "web_req() \n",
    "    \n",
    "        \n",
    "       "
   ]
  },
  {
   "cell_type": "code",
   "execution_count": null,
   "id": "a315801b",
   "metadata": {},
   "outputs": [],
   "source": []
  }
 ],
 "metadata": {
  "kernelspec": {
   "display_name": "Python 3 (ipykernel)",
   "language": "python",
   "name": "python3"
  },
  "language_info": {
   "codemirror_mode": {
    "name": "ipython",
    "version": 3
   },
   "file_extension": ".py",
   "mimetype": "text/x-python",
   "name": "python",
   "nbconvert_exporter": "python",
   "pygments_lexer": "ipython3",
   "version": "3.9.13"
  }
 },
 "nbformat": 4,
 "nbformat_minor": 5
}
