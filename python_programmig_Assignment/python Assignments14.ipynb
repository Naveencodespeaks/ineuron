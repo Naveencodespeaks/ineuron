{
 "cells": [
  {
   "cell_type": "markdown",
   "id": "2bafb5ec",
   "metadata": {},
   "source": [
    "# python Assignments14"
   ]
  },
  {
   "cell_type": "markdown",
   "id": "b5578611",
   "metadata": {},
   "source": [
    "<!-- # Question 1:\n",
    "# Define a class with a generator which can iterate the numbers, which are divisible by\n",
    "# 7, between a given range 0 and n. -->"
   ]
  },
  {
   "cell_type": "markdown",
   "id": "2ad2295a",
   "metadata": {},
   "source": [
    "### Question 1:\n",
    "### Define a class with a generator which can iterate the numbers, which are divisible by\n",
    "### 7, between a given range 0 and n."
   ]
  },
  {
   "cell_type": "code",
   "execution_count": 1,
   "id": "cb712d71",
   "metadata": {},
   "outputs": [
    {
     "name": "stdout",
     "output_type": "stream",
     "text": [
      "0\n",
      "7\n",
      "14\n",
      "21\n",
      "28\n",
      "35\n",
      "42\n",
      "49\n"
     ]
    }
   ],
   "source": [
    "class DivisibleBySevenGenerator:\n",
    "    def __init__(self, n):\n",
    "        self.n = n\n",
    "\n",
    "    def divisible_by_seven(self):\n",
    "        for num in range(self.n + 1):\n",
    "            if num % 7 == 0:\n",
    "                yield num\n",
    "\n",
    "# Example usage\n",
    "n = 50\n",
    "generator = DivisibleBySevenGenerator(n)\n",
    "for num in generator.divisible_by_seven():\n",
    "    print(num)"
   ]
  },
  {
   "cell_type": "markdown",
   "id": "3e17ebcd",
   "metadata": {},
   "source": [
    "<!-- Question 2:\n",
    "Write a program to compute the frequency of the words from the input. The output\n",
    "should output after sorting the key alphanumerically. -->"
   ]
  },
  {
   "cell_type": "markdown",
   "id": "490dc242",
   "metadata": {},
   "source": [
    "### Question 2. Write a program to compute the frequency of the words from the input. The output\n",
    "### should output after sorting the key alphanumerically."
   ]
  },
  {
   "cell_type": "code",
   "execution_count": 6,
   "id": "1f1259f1",
   "metadata": {},
   "outputs": [
    {
     "name": "stdout",
     "output_type": "stream",
     "text": [
      "Enter the text: New to Python or choosing between Python 2 and Python 3? Read Python 2 or Python 3.\n",
      "2: 2\n",
      "3: 2\n",
      "and: 1\n",
      "between: 1\n",
      "choosing: 1\n",
      "new: 1\n",
      "or: 2\n",
      "python: 5\n",
      "read: 1\n",
      "to: 1\n"
     ]
    }
   ],
   "source": [
    "import re\n",
    "from collections import Counter\n",
    "\n",
    "def compute_word_frequency(text):\n",
    "    # Remove punctuation and convert to lowercase\n",
    "    text = re.sub(r'[^\\w\\s]', '', text.lower())\n",
    "    \n",
    "    # Split the text into words\n",
    "    words = text.split()\n",
    "    \n",
    "    # Compute word frequency using Counter\n",
    "    word_frequency = Counter(words)\n",
    "    \n",
    "    return word_frequency\n",
    "\n",
    "def main():\n",
    "    input_text = input(\"Enter the text: \")\n",
    "    word_frequency = compute_word_frequency(input_text)\n",
    "    \n",
    "    # Sort and print the frequency counts\n",
    "    sorted_frequency = sorted(word_frequency.items(), key=lambda x: x[0])\n",
    "    \n",
    "    for word, count in sorted_frequency:\n",
    "        print(f\"{word}: {count}\")\n",
    "\n",
    "if __name__ == \"__main__\":\n",
    "    main()"
   ]
  },
  {
   "cell_type": "markdown",
   "id": "28bb1012",
   "metadata": {},
   "source": [
    "### Question 3: Define a class Person and its two child classes: Male and Female. All classes have a\n",
    "### method &quot;getGender&quot; which can print &quot;Male&quot; for Male class and &quot;Female&quot; for Female\n",
    "### class. "
   ]
  },
  {
   "cell_type": "code",
   "execution_count": 8,
   "id": "a8acfeca",
   "metadata": {},
   "outputs": [
    {
     "name": "stdout",
     "output_type": "stream",
     "text": [
      "male\n",
      "Female\n"
     ]
    }
   ],
   "source": [
    "class person:\n",
    "    def getGender(self):\n",
    "        pass\n",
    "class male(person):\n",
    "    def getGender(self):\n",
    "        print(\"male\")\n",
    "class Female(person):\n",
    "    def getGender(self):\n",
    "        print(\"Female\")\n",
    "male_person = male()\n",
    "female_person = Female()\n",
    "\n",
    "male_person.getGender()\n",
    "female_person.getGender()\n",
    "    \n",
    "\n",
    "    "
   ]
  },
  {
   "cell_type": "markdown",
   "id": "9dea343b",
   "metadata": {},
   "source": [
    "### Question 4:  Please write a program to generate all sentences where subject is in [&quot;I&quot;, &quot;You&quot;] and\n",
    "### verb is in [&quot;Play&quot;, &quot;Love&quot;] and the object is in [&quot;Hockey&quot;,&quot;Football&quot;]."
   ]
  },
  {
   "cell_type": "code",
   "execution_count": 9,
   "id": "86787b36",
   "metadata": {},
   "outputs": [
    {
     "name": "stdout",
     "output_type": "stream",
     "text": [
      "I Play Hockey.\n",
      "I Play Football.\n",
      "I Love Hockey.\n",
      "I Love Football.\n",
      "You Play Hockey.\n",
      "You Play Football.\n",
      "You Love Hockey.\n",
      "You Love Football.\n"
     ]
    }
   ],
   "source": [
    "subjects = [\"I\", \"You\"]\n",
    "verbs = [\"Play\", \"Love\"]\n",
    "objects = [\"Hockey\", \"Football\"]\n",
    "\n",
    "sentences = []\n",
    "\n",
    "for subject in subjects:\n",
    "    for verb in verbs:\n",
    "        for obj in objects:\n",
    "            sentence = f\"{subject} {verb} {obj}.\"\n",
    "            sentences.append(sentence)\n",
    "\n",
    "for sentence in sentences:\n",
    "    print(sentence)"
   ]
  },
  {
   "cell_type": "markdown",
   "id": "158f0ad8",
   "metadata": {},
   "source": [
    "### Question 5: Please write a program to compress and decompress the string &quot;hello world!hello\n",
    "### world!hello world!hello world!&quot;."
   ]
  },
  {
   "cell_type": "code",
   "execution_count": 10,
   "id": "cfe685de",
   "metadata": {},
   "outputs": [
    {
     "name": "stdout",
     "output_type": "stream",
     "text": [
      "Compressed Data: h1e1l2o1 1w1o1r1l1d1!1h1e1l2o1 1w1o1r1l1d1!1h1e1l2o1 1w1o1r1l1d1!1h1e1l2o1 1w1o1r1l1d1!1\n",
      "Decompressed String: hello world!hello world!hello world!hello world!\n"
     ]
    }
   ],
   "source": [
    "def compress_string(input_string):\n",
    "    compressed = []\n",
    "    count = 1\n",
    "    prev_char = input_string[0]\n",
    "\n",
    "    for char in input_string[1:]:\n",
    "        if char == prev_char:\n",
    "            count += 1\n",
    "        else:\n",
    "            compressed.append(prev_char + str(count))\n",
    "            count = 1\n",
    "            prev_char = char\n",
    "\n",
    "    compressed.append(prev_char + str(count))\n",
    "    return ''.join(compressed)\n",
    "\n",
    "def decompress_string(compressed_data):\n",
    "    decompressed = []\n",
    "    i = 0\n",
    "\n",
    "    while i < len(compressed_data):\n",
    "        char = compressed_data[i]\n",
    "        count = int(compressed_data[i + 1])\n",
    "        decompressed.append(char * count)\n",
    "        i += 2\n",
    "\n",
    "    return ''.join(decompressed)\n",
    "\n",
    "input_string = \"hello world!hello world!hello world!hello world!\"\n",
    "compressed_data = compress_string(input_string)\n",
    "print(\"Compressed Data:\", compressed_data)\n",
    "\n",
    "decompressed_string = decompress_string(compressed_data)\n",
    "print(\"Decompressed String:\", decompressed_string)\n"
   ]
  },
  {
   "cell_type": "markdown",
   "id": "360f1c86",
   "metadata": {},
   "source": [
    "###  Question 6: Please write a binary search function which searches an item in a sorted list. The\n",
    "### function should return the index of element to be searched in the list."
   ]
  },
  {
   "cell_type": "code",
   "execution_count": 11,
   "id": "2fc8c211",
   "metadata": {},
   "outputs": [
    {
     "name": "stdout",
     "output_type": "stream",
     "text": [
      "Element 9 found at index 4\n"
     ]
    }
   ],
   "source": [
    "def binary_search(sorted_list, target):\n",
    "    left = 0\n",
    "    right = len(sorted_list) - 1\n",
    "    \n",
    "    while left <= right:\n",
    "        mid = left + (right - left) // 2\n",
    "        \n",
    "        if sorted_list[mid] == target:\n",
    "            return mid\n",
    "        elif sorted_list[mid] < target:\n",
    "            left = mid + 1\n",
    "        else:\n",
    "            right = mid - 1\n",
    "    \n",
    "    return -1  # Element not found\n",
    "\n",
    "# Example usage\n",
    "sorted_list = [1, 3, 5, 7, 9, 11, 13, 15, 17, 19]\n",
    "target = 9\n",
    "\n",
    "index = binary_search(sorted_list, target)\n",
    "\n",
    "if index != -1:\n",
    "    print(f\"Element {target} found at index {index}\")\n",
    "else:\n",
    "    print(f\"Element {target} not found in the list\")\n"
   ]
  },
  {
   "cell_type": "code",
   "execution_count": null,
   "id": "0261305c",
   "metadata": {},
   "outputs": [],
   "source": []
  }
 ],
 "metadata": {
  "kernelspec": {
   "display_name": "Python 3 (ipykernel)",
   "language": "python",
   "name": "python3"
  },
  "language_info": {
   "codemirror_mode": {
    "name": "ipython",
    "version": 3
   },
   "file_extension": ".py",
   "mimetype": "text/x-python",
   "name": "python",
   "nbconvert_exporter": "python",
   "pygments_lexer": "ipython3",
   "version": "3.11.3"
  }
 },
 "nbformat": 4,
 "nbformat_minor": 5
}
