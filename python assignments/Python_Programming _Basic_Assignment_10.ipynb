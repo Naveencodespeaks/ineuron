{
 "cells": [
  {
   "cell_type": "markdown",
   "id": "cba91ea5",
   "metadata": {},
   "source": [
    "1. Write a Python program to find sum of elements in list?"
   ]
  },
  {
   "cell_type": "code",
   "execution_count": null,
   "id": "868e714b",
   "metadata": {},
   "outputs": [],
   "source": [
    "n = int(input(\"Enter the length of the list: \"))\n",
    "list = []\n",
    "\n",
    "for i in range (n):\n",
    "    list.append(int(input()))\n",
    "print(\"The List is \",list)\n",
    "print(\"Sum of elements in List\",sum(lst))"
   ]
  },
  {
   "cell_type": "code",
   "execution_count": null,
   "id": "3b355e6c",
   "metadata": {},
   "outputs": [],
   "source": []
  }
 ],
 "metadata": {
  "kernelspec": {
   "display_name": "Python 3 (ipykernel)",
   "language": "python",
   "name": "python3"
  },
  "language_info": {
   "codemirror_mode": {
    "name": "ipython",
    "version": 3
   },
   "file_extension": ".py",
   "mimetype": "text/x-python",
   "name": "python",
   "nbconvert_exporter": "python",
   "pygments_lexer": "ipython3",
   "version": "3.9.12"
  }
 },
 "nbformat": 4,
 "nbformat_minor": 5
}
